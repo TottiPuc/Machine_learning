{
  "nbformat": 4,
  "nbformat_minor": 0,
  "metadata": {
    "colab": {
      "name": "Perceptron_con_Numpy_Tensorflow2.0.ipynb",
      "provenance": [],
      "toc_visible": true,
      "authorship_tag": "ABX9TyOUX0UgMgVfLZmGu3Q0Ztwm"
    },
    "kernelspec": {
      "name": "python3",
      "display_name": "Python 3"
    }
  },
  "cells": [
    {
      "cell_type": "markdown",
      "metadata": {
        "id": "MyTKCrmmOEHg",
        "colab_type": "text"
      },
      "source": [
        "#Perceptron con Numpy y Tensorflow2.0"
      ]
    },
    {
      "cell_type": "code",
      "metadata": {
        "id": "2uTH6I1BNWS7",
        "colab_type": "code",
        "colab": {}
      },
      "source": [
        "!pip install watermark"
      ],
      "execution_count": 0,
      "outputs": []
    },
    {
      "cell_type": "code",
      "metadata": {
        "id": "fj5tK8GPOTsn",
        "colab_type": "code",
        "colab": {}
      },
      "source": [
        "import tensorflow as tf\n",
        "import numpy as np\n",
        "import os\n",
        "import matplotlib.pyplot as plt\n",
        "%matplotlib inline"
      ],
      "execution_count": 0,
      "outputs": []
    },
    {
      "cell_type": "code",
      "metadata": {
        "id": "HXm0Zu5oOhyE",
        "colab_type": "code",
        "colab": {
          "base_uri": "https://localhost:8080/",
          "height": 68
        },
        "outputId": "873e5d6e-6a7f-4400-fea1-52c2b54cdae2"
      },
      "source": [
        "%reload_ext watermark\n",
        "%watermark -a \"Christian Dayan Arcos Gordillo\" --iversion"
      ],
      "execution_count": 4,
      "outputs": [
        {
          "output_type": "stream",
          "text": [
            "numpy      1.18.2\n",
            "tensorflow 2.2.0-rc3\n",
            "Christian Dayan Arcos Gordillo\n"
          ],
          "name": "stdout"
        }
      ]
    },
    {
      "cell_type": "markdown",
      "metadata": {
        "id": "5k2-Wh87PI9P",
        "colab_type": "text"
      },
      "source": [
        "##Preparando el dataset\n",
        "\n",
        "* archivo separado por tab\n",
        "* contiene 3 columnas: 2 caracteristicas y una clase\n",
        "* contiene 100 registros ordenados por clases 50 de cada calse"
      ]
    },
    {
      "cell_type": "code",
      "metadata": {
        "id": "_AAoW-00OqVf",
        "colab_type": "code",
        "colab": {}
      },
      "source": [
        "from google.colab import files\n",
        "files.upload()\n"
      ],
      "execution_count": 0,
      "outputs": []
    },
    {
      "cell_type": "code",
      "metadata": {
        "id": "JM7xQ557Tscr",
        "colab_type": "code",
        "colab": {
          "base_uri": "https://localhost:8080/",
          "height": 68
        },
        "outputId": "59c17cc1-79e9-4007-8f71-522ff9818206"
      },
      "source": [
        "data = np.genfromtxt('dataset.txt',delimiter='\\t')\n",
        "X,y = data[:,:2], data[:,2]\n",
        "y = y.astype(np.int)\n",
        "print('conteo de cada clase de etiuqeta: ', np.bincount(y))\n",
        "print('X.shaoe', X.shape)\n",
        "print('y.shape', y.shape)"
      ],
      "execution_count": 145,
      "outputs": [
        {
          "output_type": "stream",
          "text": [
            "conteo de cada clase de etiuqeta:  [50 50]\n",
            "X.shaoe (100, 2)\n",
            "y.shape (100,)\n"
          ],
          "name": "stdout"
        }
      ]
    },
    {
      "cell_type": "code",
      "metadata": {
        "id": "usXXIkzTVKpH",
        "colab_type": "code",
        "colab": {
          "base_uri": "https://localhost:8080/",
          "height": 279
        },
        "outputId": "f17ecfd6-e4ef-4926-f674-e38252a05203"
      },
      "source": [
        "plt.scatter(X[y==0,0],X[y==0,1], label = 'clase 0', marker='o')\n",
        "plt.scatter(X[y==1,0],X[y==1,1], label = 'clase 1', marker='s')\n",
        "plt.xlabel('caracteristica 1')\n",
        "plt.ylabel('caracteristica 2')\n",
        "plt.legend()\n",
        "plt.show()"
      ],
      "execution_count": 41,
      "outputs": [
        {
          "output_type": "display_data",
          "data": {
            "image/png": "[encoded data removed]",
            "text/plain": [
              "<Figure size 432x288 with 1 Axes>"
            ]
          },
          "metadata": {
            "tags": [],
            "needs_background": "light"
          }
        }
      ]
    },
    {
      "cell_type": "markdown",
      "metadata": {
        "id": "9Plrx8TOXBQn",
        "colab_type": "text"
      },
      "source": [
        "##Pre-procesar el dataset\n",
        "\n",
        "* organizarlo de forma aleatoria\n",
        "* dividirlo en 70% entrenamiento 30% teste\n",
        "* seed random para garantizar la reproducción"
      ]
    },
    {
      "cell_type": "code",
      "metadata": {
        "id": "b6XHKn1XVt38",
        "colab_type": "code",
        "colab": {}
      },
      "source": [
        "shuffle_idx = np.arange(y.shape[0])\n",
        "shuffle_rng = np.random.RandomState(123)\n",
        "shuffle_rng.shuffle(shuffle_idx)\n",
        "X, y =X[shuffle_idx], y[shuffle_idx]"
      ],
      "execution_count": 0,
      "outputs": []
    },
    {
      "cell_type": "code",
      "metadata": {
        "id": "IRHLsCP1Uwkl",
        "colab_type": "code",
        "colab": {}
      },
      "source": [
        "X_train, X_test = X[shuffle_idx[:70]],X[shuffle_idx[70:]]\n",
        "y_train, y_test = y[shuffle_idx[:70]],y[shuffle_idx[70:]] \n"
      ],
      "execution_count": 0,
      "outputs": []
    },
    {
      "cell_type": "code",
      "metadata": {
        "id": "-1KhRPjMU0ax",
        "colab_type": "code",
        "colab": {}
      },
      "source": [
        "#normalizar el dataset con media cero y desvio estandar\n",
        "mu, sigma = X_train.mean(axis=0), X_train.std(axis=0)\n",
        "X_train = (X_train - mu)/sigma\n",
        "X_test = (X_test - mu) /sigma\n"
      ],
      "execution_count": 0,
      "outputs": []
    },
    {
      "cell_type": "code",
      "metadata": {
        "id": "bLW2dNXMZqOi",
        "colab_type": "code",
        "colab": {
          "base_uri": "https://localhost:8080/",
          "height": 279
        },
        "outputId": "a68bab5d-fc6f-4c1c-8b7b-35d4998e9344"
      },
      "source": [
        "# verificando el dataset despues del pre-procesado\n",
        "plt.scatter(X_train[y_train==0,0],X_train[y_train==0,1], label='clase 0', marker='o')\n",
        "plt.scatter(X_train[y_train==1,0],X_train[y_train==1,1], label='clase 1', marker='s')\n",
        "plt.xlabel('caracterisitica 1')\n",
        "plt.ylabel('caraacteristica 2')\n",
        "plt.legend()\n",
        "plt.show()"
      ],
      "execution_count": 45,
      "outputs": [
        {
          "output_type": "display_data",
          "data": {
            "image/png": "[encoded data removed]",
            "text/plain": [
              "<Figure size 432x288 with 1 Axes>"
            ]
          },
          "metadata": {
            "tags": [],
            "needs_background": "light"
          }
        }
      ]
    },
    {
      "cell_type": "markdown",
      "metadata": {
        "id": "oJVBdZarbN24",
        "colab_type": "text"
      },
      "source": [
        "##implementación del perceptrón con numpy"
      ]
    },
    {
      "cell_type": "code",
      "metadata": {
        "id": "EiQcB7VjaMJD",
        "colab_type": "code",
        "colab": {}
      },
      "source": [
        "def perceptron_train(features,targets,mparams=None,zero_weights=True, learning_rate=1.,seed=None):\n",
        "  \"\"\"Función de entrenamiento Perceptron para etiquetas de clse binaria\"\"\"\n",
        "\n",
        "  #inicializa los parametros del modelo\n",
        "  if mparams is None:\n",
        "    mparams = {'bias':np.zeros(1)}\n",
        "    if zero_weights:\n",
        "      mparams['weights'] = np.zeros(features.shape[1])\n",
        "    else:\n",
        "      rng = np.random.RandomState(seed)\n",
        "      mparams['weights'] = rng.normal(loc=0.0,scale=0.1,size=(features.shape[1]))\n",
        "\n",
        "  #entrenamiento de una epoca\n",
        "  for training_example, true_label in zip(features,targets):\n",
        "    linear = np.dot(training_example,mparams['weights']) + mparams['bias']\n",
        "\n",
        "    # si la clase 1 es predicha pero la etiqueta verdadera es 0\n",
        "    if linear > 0 and not true_label:\n",
        "      mparams['weights'] -= learning_rate * training_example\n",
        "      mparams['bias'] -= learning_rate * 1\n",
        "\n",
        "    # si la calse 0 es predicha pero la etiqueta verdadera es 1\n",
        "    elif linear <=0 and true_label:\n",
        "      mparams['weights'] += learning_rate * training_example\n",
        "      mparams['bias'] += learning_rate * 1\n",
        "\n",
        "  return mparams\n",
        "\n"
      ],
      "execution_count": 0,
      "outputs": []
    },
    {
      "cell_type": "code",
      "metadata": {
        "id": "Be1p3UVafjYA",
        "colab_type": "code",
        "colab": {}
      },
      "source": [
        "#entrenamiento del modelo perceptron con 2 epocas\n",
        "model_params = perceptron_train(X_train,y_train,mparams=None,zero_weights=True)\n",
        "\n",
        "for _ in range(2):\n",
        "  _ = perceptron_train(X_train,y_train,mparams=model_params)"
      ],
      "execution_count": 0,
      "outputs": []
    },
    {
      "cell_type": "markdown",
      "metadata": {
        "id": "5cqJXGJHgQIV",
        "colab_type": "text"
      },
      "source": [
        "##Función para predicciones en el modelo perceptron con numpy"
      ]
    },
    {
      "cell_type": "code",
      "metadata": {
        "id": "hejOL7axcUxS",
        "colab_type": "code",
        "colab": {}
      },
      "source": [
        "def perceptron_predict(features,mparams):\n",
        "  linear = np.dot(features,mparams['weights']) + mparams['bias']\n",
        "  predict_labels = np.where(linear.reshape(-1) > 0.,1,0)\n",
        "  return predict_labels"
      ],
      "execution_count": 0,
      "outputs": []
    },
    {
      "cell_type": "markdown",
      "metadata": {
        "id": "P06eGLBKg9Ud",
        "colab_type": "text"
      },
      "source": [
        "##Calculo del error de entrenamiento y teste"
      ]
    },
    {
      "cell_type": "code",
      "metadata": {
        "id": "snLU3Oricda3",
        "colab_type": "code",
        "colab": {
          "base_uri": "https://localhost:8080/",
          "height": 51
        },
        "outputId": "1bc6e362-ec6a-4041-a89d-7971c6a4eb05"
      },
      "source": [
        "train_errors = np.sum(perceptron_predict(X_train,model_params) != y_train)\n",
        "test_errors = np.sum(perceptron_predict(X_test,model_params) != y_test)\n",
        "\n",
        "print('Numero de errores en entrenamiento', train_errors)\n",
        "print('Numero de errores en test', test_errors)"
      ],
      "execution_count": 49,
      "outputs": [
        {
          "output_type": "stream",
          "text": [
            "Numero de errores en entrenamiento 0\n",
            "Numero de errores en test 2\n"
          ],
          "name": "stdout"
        }
      ]
    },
    {
      "cell_type": "markdown",
      "metadata": {
        "id": "13LEwlVhibfV",
        "colab_type": "text"
      },
      "source": [
        "##Visualizando el limite de decisión\n",
        "\n",
        "Perceptron es una función lineal con umbral (threshold)\n",
        "\n",
        "$$𝑤1𝑥1+𝑤2𝑥2+𝑏≥0.$$\n",
        " \n",
        "Podemos reorganizar esta equación de la siguiente forma:\n",
        "\n",
        "$$𝑤1𝑥1+𝑏≥0−𝑤2𝑥2$$\n",
        " \n",
        "$$- \\frac{w_{1}x_{1}}{{w_2}} - \\frac{b}{w_2} \\leq x_{2}$$\n",
        " \n"
      ]
    },
    {
      "cell_type": "code",
      "metadata": {
        "id": "1hdhvA9Tcd2Y",
        "colab_type": "code",
        "colab": {
          "base_uri": "https://localhost:8080/",
          "height": 211
        },
        "outputId": "9fb9b36e-1de3-45c7-c731-71bac2f2ab8a"
      },
      "source": [
        "# Limite de Decisión (Hiperplano)\n",
        "x_min = -2\n",
        "y_min = ( -(model_params['weights'][0] * x_min) / model_params['weights'][1]\n",
        "          -(model_params['bias'] / model_params['weights'][1]) )\n",
        "\n",
        "x_max = 2\n",
        "y_max = ( -(model_params['weights'][0] * x_max) / model_params['weights'][1]\n",
        "          -(model_params['bias'] / model_params['weights'][1]) )\n",
        "\n",
        "\n",
        "fig, ax = plt.subplots(1, 2, sharex=True, figsize=(7, 3))\n",
        "\n",
        "ax[0].plot([x_min, x_max], [y_min, y_max])\n",
        "ax[1].plot([x_min, x_max], [y_min, y_max])\n",
        "\n",
        "ax[0].scatter(X_train[y_train==0, 0], X_train[y_train==0, 1], label='classe 0', marker='o')\n",
        "ax[0].scatter(X_train[y_train==1, 0], X_train[y_train==1, 1], label='classe 1', marker='s')\n",
        "\n",
        "ax[1].scatter(X_test[y_test==0, 0], X_test[y_test==0, 1], label='classe 0', marker='o')\n",
        "ax[1].scatter(X_test[y_test==1, 0], X_test[y_test==1, 1], label='classe 1', marker='s')\n",
        "\n",
        "ax[1].legend(loc='upper left')\n",
        "plt.show()"
      ],
      "execution_count": 50,
      "outputs": [
        {
          "output_type": "display_data",
          "data": {
            "image/png": "[encoded data removed]",
            "text/plain": [
              "<Figure size 504x216 with 2 Axes>"
            ]
          },
          "metadata": {
            "tags": [],
            "needs_background": "light"
          }
        }
      ]
    },
    {
      "cell_type": "code",
      "metadata": {
        "id": "UgMcEFoGchXZ",
        "colab_type": "code",
        "colab": {
          "base_uri": "https://localhost:8080/",
          "height": 249
        },
        "outputId": "98ff8e7d-9997-4a7d-adc1-4d7d4f0ae83b"
      },
      "source": [
        "#  Entrenamiento de perceptron de peso cero con diferentes tasas de aprendizaje \n",
        "\n",
        "small_lr_params = perceptron_train(X_train, y_train, learning_rate=0.01, mparams=None, zero_weights=True)\n",
        "\n",
        "for _ in range(2):\n",
        "    _ = perceptron_train(X_train, y_train, mparams=small_lr_params)\n",
        "\n",
        "x_min_small = -2\n",
        "y_min_small = (-(small_lr_params['weights'][0] * x_min) /\n",
        "               small_lr_params['weights'][1] -\n",
        "               (small_lr_params['bias'] / small_lr_params['weights'][1]))\n",
        "\n",
        "x_max_small = 2\n",
        "y_max_small = (-(small_lr_params['weights'][0] * x_max) /\n",
        "               small_lr_params['weights'][1] -\n",
        "               (small_lr_params['bias'] / small_lr_params['weights'][1]))\n",
        "\n",
        "\n",
        "fig, ax = plt.subplots(1, 2, sharex=True, figsize=(7, 3))\n",
        "\n",
        "ax[0].plot([x_min, x_max], [y_min, y_max])\n",
        "ax[1].plot([x_min_small, x_max_small], [y_min_small, y_max_small])\n",
        "\n",
        "ax[0].scatter(X_train[y_train == 0, 0], X_train[y_train == 0, 1], label='classe 0', marker='o')\n",
        "ax[0].scatter(X_train[y_train == 1, 0], X_train[y_train == 1, 1], label='classe 1', marker='s')\n",
        "\n",
        "ax[1].scatter(X_train[y_train == 0, 0], X_train[y_train == 0, 1], label='classe 0', marker='o')\n",
        "ax[1].scatter(X_train[y_train == 1, 0], X_train[y_train == 1, 1], label='classe 1', marker='s')\n",
        "\n",
        "ax[1].legend(loc='lower right')\n",
        "\n",
        "plt.ylim([-3, 3])\n",
        "plt.xlim([-3, 3])\n",
        "plt.show()\n",
        "\n",
        "\n",
        "print('Learning=1. rate params:', model_params)\n",
        "print('Learning=0.01 rate params:', small_lr_params)"
      ],
      "execution_count": 52,
      "outputs": [
        {
          "output_type": "display_data",
          "data": {
            "image/png": "[encoded data removed]",
            "text/plain": [
              "<Figure size 504x216 with 2 Axes>"
            ]
          },
          "metadata": {
            "tags": [],
            "needs_background": "light"
          }
        },
        {
          "output_type": "stream",
          "text": [
            "Learning=1. rate params: {'bias': array([-1.]), 'weights': array([1.27340847, 1.34642288])}\n",
            "Learning=0.01 rate params: {'bias': array([-0.01]), 'weights': array([0.01273408, 0.01346423])}\n"
          ],
          "name": "stdout"
        }
      ]
    },
    {
      "cell_type": "code",
      "metadata": {
        "id": "KXS2ZzE2ch0N",
        "colab_type": "code",
        "colab": {
          "base_uri": "https://localhost:8080/",
          "height": 215
        },
        "outputId": "31cca69f-08b9-4923-8724-9f58e7d7b102"
      },
      "source": [
        "# Ejercício anterior con pesos inicializados aleatoriamente.\n",
        "\n",
        "randw_params_1 = perceptron_train(X_train, y_train, learning_rate=1.0,\n",
        "                                  mparams=None, zero_weights=False)\n",
        "\n",
        "for _ in range(2):\n",
        "    _ = perceptron_train(X_train, y_train, mparams=randw_params_1)\n",
        "\n",
        "x_min_1 = -2\n",
        "y_min_1 = (-(randw_params_1['weights'][0] * x_min) /\n",
        "           randw_params_1['weights'][1] -\n",
        "           (randw_params_1['bias'] / randw_params_1['weights'][1]))\n",
        "\n",
        "x_max_1 = 2\n",
        "y_max_1 = (-(randw_params_1['weights'][0] * x_max) /\n",
        "           randw_params_1['weights'][1] -\n",
        "           (randw_params_1['bias'] / randw_params_1['weights'][1]))\n",
        "\n",
        "\n",
        "randw_params_2 = perceptron_train(X_train, y_train, learning_rate=0.01, mparams=None, zero_weights=False)\n",
        "\n",
        "for _ in range(2):\n",
        "    _ = perceptron_train(X_train, y_train, mparams=randw_params_2)\n",
        "\n",
        "x_min_2 = -2\n",
        "y_min_2 = (-(randw_params_2['weights'][0] * x_min) /\n",
        "           randw_params_2['weights'][1] -\n",
        "            (randw_params_2['bias'] / randw_params_2['weights'][1]))\n",
        "\n",
        "x_max_2 = 2\n",
        "y_max_2 = (-(randw_params_2['weights'][0] * x_max) /\n",
        "           randw_params_2['weights'][1] -\n",
        "            (randw_params_2['bias'] / randw_params_2['weights'][1]))\n",
        "\n",
        "\n",
        "fig, ax = plt.subplots(1, 2, sharex=True, figsize=(7, 3))\n",
        "\n",
        "ax[0].plot([x_min_1, x_max_1], [y_min_1, y_max_1])\n",
        "ax[1].plot([x_min_2, x_max_2], [y_min_2, y_max_2])\n",
        "\n",
        "ax[0].scatter(X_train[y_train == 0, 0], X_train[y_train == 0, 1], label='classe 0', marker='o')\n",
        "ax[0].scatter(X_train[y_train == 1, 0], X_train[y_train == 1, 1], label='classe 1', marker='s')\n",
        "\n",
        "ax[1].scatter(X_train[y_train == 0, 0], X_train[y_train == 0, 1], label='classe 0', marker='o')\n",
        "ax[1].scatter(X_train[y_train == 1, 0], X_train[y_train == 1, 1], label='classe 1', marker='s')\n",
        "\n",
        "ax[1].legend(loc='lower right')\n",
        "\n",
        "plt.ylim([-3, 3])\n",
        "plt.xlim([-3, 3])\n",
        "plt.show()"
      ],
      "execution_count": 53,
      "outputs": [
        {
          "output_type": "display_data",
          "data": {
            "image/png": "[encoded data removed]",
            "text/plain": [
              "<Figure size 504x216 with 2 Axes>"
            ]
          },
          "metadata": {
            "tags": [],
            "needs_background": "light"
          }
        }
      ]
    },
    {
      "cell_type": "markdown",
      "metadata": {
        "id": "Su8hdplDk79q",
        "colab_type": "text"
      },
      "source": [
        "##Implementacion del perceptron con tensorflow"
      ]
    },
    {
      "cell_type": "code",
      "metadata": {
        "id": "16vclwzsmoEb",
        "colab_type": "code",
        "colab": {
          "base_uri": "https://localhost:8080/",
          "height": 34
        },
        "outputId": "7b356a97-d229-43b7-b361-e207d23d7822"
      },
      "source": [
        "type(X_train)"
      ],
      "execution_count": 55,
      "outputs": [
        {
          "output_type": "execute_result",
          "data": {
            "text/plain": [
              "numpy.ndarray"
            ]
          },
          "metadata": {
            "tags": []
          },
          "execution_count": 55
        }
      ]
    },
    {
      "cell_type": "code",
      "metadata": {
        "id": "n3gH-TbYk0KA",
        "colab_type": "code",
        "colab": {}
      },
      "source": [
        "#Convirtiendo los datos de entrenamiento y teste en tensores\n",
        "\n",
        "x_train = tf.constant(X_train,dtype=tf.float32)\n",
        "X_test = tf.constant(X_test,dtype=tf.float32)\n",
        "\n",
        "y_train = tf.constant(y_train,dtype=tf.float32)\n",
        "y_test = tf.constant(y_test,dtype=tf.float32)\n"
      ],
      "execution_count": 0,
      "outputs": []
    },
    {
      "cell_type": "code",
      "metadata": {
        "id": "LVGB_Ht5nUR6",
        "colab_type": "code",
        "colab": {
          "base_uri": "https://localhost:8080/",
          "height": 34
        },
        "outputId": "af878f89-43c2-4e50-8374-2a6e9837ef41"
      },
      "source": [
        "type(x_train)"
      ],
      "execution_count": 150,
      "outputs": [
        {
          "output_type": "execute_result",
          "data": {
            "text/plain": [
              "tensorflow.python.framework.ops.EagerTensor"
            ]
          },
          "metadata": {
            "tags": []
          },
          "execution_count": 150
        }
      ]
    },
    {
      "cell_type": "code",
      "metadata": {
        "id": "94DHT44mnXMH",
        "colab_type": "code",
        "colab": {}
      },
      "source": [
        "n_features = x_train.shape[1]"
      ],
      "execution_count": 0,
      "outputs": []
    },
    {
      "cell_type": "markdown",
      "metadata": {
        "id": "vwudAr_2IsNS",
        "colab_type": "text"
      },
      "source": [
        "Entrenando el perceptron com 5 registros del dataset, a manera de ejemplo"
      ]
    },
    {
      "cell_type": "code",
      "metadata": {
        "id": "0SATJ0M5oPBG",
        "colab_type": "code",
        "colab": {
          "base_uri": "https://localhost:8080/",
          "height": 85
        },
        "outputId": "f1977474-2d2c-42c5-8d75-dfb69c731ea3"
      },
      "source": [
        "i=0\n",
        "params = {'weights':tf.Variable(tf.zeros(shape=[n_features,1],dtype=tf.float32),name='weights'),\n",
        "            'bias': tf.Variable([[0.]],dtype=tf.float32,name='bias')}\n",
        "predictions =[]\n",
        "\n",
        "for features, targets in zip(x_train,y_train):\n",
        "\n",
        "  features = tf.reshape(features,shape=(-1,n_features))\n",
        "\n",
        "  targets = tf.reshape(targets,shape=(-1,1))\n",
        "  #forward pass\n",
        "  linear = tf.matmul(features,params['weights']) + params['bias']\n",
        "\n",
        "  ones = tf.ones(shape=tf.shape(input=linear))\n",
        "  zeros = tf.zeros(shape=(tf.shape(input=linear)))\n",
        "  prediction = tf.where(tf.less(linear,0),zeros,ones, name='prediction')\n",
        "  if prediction == targets:\n",
        "    predictions.append(prediction.numpy())\n",
        "  #Actualización de pesos\n",
        "  diff = targets - prediction\n",
        "  weight_update = params['weights'].assign_add(tf.reshape(diff*features,(n_features,1)))\n",
        "  bias_update = params['bias'].assign_add(diff)\n",
        "  i+=1\n",
        "  if i>=5:\n",
        "    break\n",
        "\n",
        "print ('parametros del modelo', params)\n",
        " \n",
        "print('Numero de errores de entrenamiento', np.sum(predictions))"
      ],
      "execution_count": 186,
      "outputs": [
        {
          "output_type": "stream",
          "text": [
            "parametros del modelo {'weights': <tf.Variable 'weights:0' shape=(2, 1) dtype=float32, numpy=\n",
            "array([[1.4725705 ],\n",
            "       [0.30436274]], dtype=float32)>, 'bias': <tf.Variable 'bias:0' shape=(1, 1) dtype=float32, numpy=array([[-1.]], dtype=float32)>}\n",
            "Numero de errores de entrenamiento 3.0\n"
          ],
          "name": "stdout"
        }
      ]
    },
    {
      "cell_type": "markdown",
      "metadata": {
        "id": "KgjO9N_tPe6i",
        "colab_type": "text"
      },
      "source": [
        "###Entrenando el modelo para una epoca completa"
      ]
    },
    {
      "cell_type": "code",
      "metadata": {
        "colab_type": "code",
        "id": "0USONbKB8uOq",
        "colab": {}
      },
      "source": [
        "def perceptron_tensor(features, targets, epochs):\n",
        "\n",
        "  \n",
        "  params = {'weights':tf.Variable(tf.zeros(shape=[n_features,1],dtype=tf.float32),name='weights'),\n",
        "            'bias': tf.Variable([[0.]],dtype=tf.float32,name='bias')}\n",
        "  for epoch in range(epochs):\n",
        "    predictions =[]\n",
        "    for feature, target in zip(features,targets):\n",
        "      feature = tf.reshape(feature,shape=(-1,n_features))\n",
        "\n",
        "      target = tf.reshape(target,shape=(-1,1))\n",
        "      #forward pass\n",
        "      linear = tf.matmul(feature,params['weights']) + params['bias']\n",
        "      ones = tf.ones(shape=tf.shape(input=linear))\n",
        "      zeros = tf.zeros(shape=(tf.shape(input=linear)))\n",
        "      prediction = tf.where(tf.less(linear,0),zeros,ones, name='prediction')\n",
        "      if prediction != target:\n",
        "        predictions.append(prediction.numpy())\n",
        "      #Actualización de pesos\n",
        "      diff = target - prediction\n",
        "      params['weights'].assign_add(tf.reshape(diff*feature,(n_features,1)))\n",
        "      params['bias'].assign_add(diff)\n",
        "    print('Numero de errores de entrenamiento {}, en la epoca {}'.format(np.sum(predictions),epoch))\n",
        "\n",
        "  print ('parametros del modelo', params) \n",
        "  print('Numero de errores de entrenamiento final', np.sum(predictions))"
      ],
      "execution_count": 0,
      "outputs": []
    },
    {
      "cell_type": "code",
      "metadata": {
        "id": "Kq4LE4rdK9kw",
        "colab_type": "code",
        "colab": {
          "base_uri": "https://localhost:8080/",
          "height": 119
        },
        "outputId": "1ba10a0f-9143-42ab-e458-480b77dcf69d"
      },
      "source": [
        "perceptron_tensor(x_train,y_train,2)"
      ],
      "execution_count": 213,
      "outputs": [
        {
          "output_type": "stream",
          "text": [
            "Numero de errores de entrenamiento 2.0, en la epoca 0\n",
            "Numero de errores de entrenamiento 0.0, en la epoca 1\n",
            "parametros del modelo {'weights': <tf.Variable 'weights:0' shape=(2, 1) dtype=float32, numpy=\n",
            "array([[2.0293188],\n",
            "       [0.5932976]], dtype=float32)>, 'bias': <tf.Variable 'bias:0' shape=(1, 1) dtype=float32, numpy=array([[-1.]], dtype=float32)>}\n",
            "Numero de errores de entrenamiento final 0.0\n"
          ],
          "name": "stdout"
        }
      ]
    }
  ]
}