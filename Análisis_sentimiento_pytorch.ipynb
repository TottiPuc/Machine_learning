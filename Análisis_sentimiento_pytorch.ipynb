{
  "nbformat": 4,
  "nbformat_minor": 0,
  "metadata": {
    "colab": {
      "name": "Análisis_sentimiento_pytorch.ipynb",
      "provenance": [],
      "authorship_tag": "ABX9TyMIHlT5y+ltHF9Ku6eZImCh",
      "include_colab_link": true
    },
    "kernelspec": {
      "name": "python3",
      "display_name": "Python 3"
    },
    "accelerator": "GPU"
  },
  "cells": [
    {
      "cell_type": "markdown",
      "metadata": {
        "id": "view-in-github",
        "colab_type": "text"
      },
      "source": [
        "<a href=\"https://colab.research.google.com/github/TottiPuc/Machine_learning/blob/master/An%C3%A1lisis_sentimiento_pytorch.ipynb\" target=\"_parent\"><img src=\"https://colab.research.google.com/assets/colab-badge.svg\" alt=\"Open In Colab\"/></a>"
      ]
    },
    {
      "cell_type": "markdown",
      "metadata": {
        "id": "z_q6gG20OQP-",
        "colab_type": "text"
      },
      "source": [
        "#Análisis de sentimientos en reseñas de peliculas usando Pytorch\n",
        "En este notebook usaremos pytorch para realizar tareas de PLN y crear una red neuronal que pueda extraer las caracteristicas de un texto y predecir si es un comentario bueno o malo sobre una pelicula.\n",
        "Usaremos el dataset publico de imdb disponible en [dataset_peliculas](https://www.imdb.com/interfaces/) "
      ]
    },
    {
      "cell_type": "code",
      "metadata": {
        "id": "wP2yiXYVOQCp",
        "colab_type": "code",
        "colab": {}
      },
      "source": [
        "!pip install watermark"
      ],
      "execution_count": 0,
      "outputs": []
    },
    {
      "cell_type": "code",
      "metadata": {
        "id": "uxDu9IKGOKPq",
        "colab_type": "code",
        "colab": {}
      },
      "source": [
        "import torch\n",
        "import pandas as pd\n",
        "import torch.nn as nn\n",
        "import torch.optim as optim\n",
        "import torch.nn.functional as F\n",
        "import sklearn\n",
        "from torch.utils.data import DataLoader, Dataset\n",
        "from sklearn.feature_extraction.text import CountVectorizer\n",
        "from tqdm.notebook import tqdm, tqdm_notebook"
      ],
      "execution_count": 0,
      "outputs": []
    },
    {
      "cell_type": "code",
      "metadata": {
        "id": "VVUgyMbaPrTa",
        "colab_type": "code",
        "colab": {
          "base_uri": "https://localhost:8080/",
          "height": 85
        },
        "outputId": "edb7dbf2-27e7-45fe-c8da-011eb7f5fc79"
      },
      "source": [
        "%reload_ext watermark\n",
        "%watermark -a \"Christian Dayan Arcos Gordillo\" --iversion"
      ],
      "execution_count": 4,
      "outputs": [
        {
          "output_type": "stream",
          "text": [
            "pandas  1.0.3\n",
            "sklearn 0.22.2.post1\n",
            "torch   1.4.0\n",
            "Christian Dayan Arcos Gordillo\n"
          ],
          "name": "stdout"
        }
      ]
    },
    {
      "cell_type": "code",
      "metadata": {
        "id": "fbacYS48P2TE",
        "colab_type": "code",
        "colab": {}
      },
      "source": [
        "#definiendo el trabajo con GPU\n",
        "device = torch.device('cuda' if torch.cuda.is_available() else 'cpu')"
      ],
      "execution_count": 0,
      "outputs": []
    },
    {
      "cell_type": "code",
      "metadata": {
        "id": "7WEq__EEQLay",
        "colab_type": "code",
        "colab": {}
      },
      "source": [
        ""
      ],
      "execution_count": 0,
      "outputs": []
    }
  ]
}