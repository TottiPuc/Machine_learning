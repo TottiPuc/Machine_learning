{
  "nbformat": 4,
  "nbformat_minor": 0,
  "metadata": {
    "colab": {
      "name": "Clasificacion_MNIST.ipynb",
      "provenance": [],
      "authorship_tag": "ABX9TyOd98V2BCrGlQ9SnBr6jEj0"
    },
    "kernelspec": {
      "name": "python3",
      "display_name": "Python 3"
    }
  },
  "cells": [
    {
      "cell_type": "code",
      "metadata": {
        "id": "U3X46YTls2Lp",
        "colab_type": "code",
        "colab": {
          "base_uri": "https://localhost:8080/",
          "height": 34
        },
        "outputId": "7b8c6704-b75d-458c-d080-1145e5b42111"
      },
      "source": [
        "#version de pytho usada\n",
        "from platform  import python_version\n",
        "print('version de python usada ', python_version())"
      ],
      "execution_count": 1,
      "outputs": [
        {
          "output_type": "stream",
          "text": [
            "version de python usada  3.6.9\n"
          ],
          "name": "stdout"
        }
      ]
    },
    {
      "cell_type": "code",
      "metadata": {
        "id": "RprjmaJQtMqU",
        "colab_type": "code",
        "colab": {}
      },
      "source": [
        "!pip install watermark"
      ],
      "execution_count": 0,
      "outputs": []
    },
    {
      "cell_type": "code",
      "metadata": {
        "id": "wKQai1UHtllw",
        "colab_type": "code",
        "colab": {
          "base_uri": "https://localhost:8080/",
          "height": 34
        },
        "outputId": "c575232e-0fba-46f8-facc-86170a5f2425"
      },
      "source": [
        "#importando librerias\n",
        "import tensorflow as tf\n",
        "import matplotlib.pyplot as plt\n",
        "import matplotlib.cm as cm\n",
        "import numpy as np\n",
        "import keras\n",
        "import matplotlib\n",
        "%matplotlib inline"
      ],
      "execution_count": 1,
      "outputs": [
        {
          "output_type": "stream",
          "text": [
            "Using TensorFlow backend.\n"
          ],
          "name": "stderr"
        }
      ]
    },
    {
      "cell_type": "code",
      "metadata": {
        "id": "Ngs0ybUet-c_",
        "colab_type": "code",
        "colab": {
          "base_uri": "https://localhost:8080/",
          "height": 102
        },
        "outputId": "378f11fd-d848-4bfd-8a9a-1b0cb3e257ec"
      },
      "source": [
        "%reload_ext watermark\n",
        "%watermark -a \"Christian Dayan Arcos Gordillo\" --iversions"
      ],
      "execution_count": 2,
      "outputs": [
        {
          "output_type": "stream",
          "text": [
            "keras      2.3.1\n",
            "matplotlib 3.2.1\n",
            "numpy      1.18.3\n",
            "tensorflow 2.2.0-rc4\n",
            "Christian Dayan Arcos Gordillo\n"
          ],
          "name": "stdout"
        }
      ]
    },
    {
      "cell_type": "code",
      "metadata": {
        "id": "h5VeSgCyuH8d",
        "colab_type": "code",
        "colab": {
          "base_uri": "https://localhost:8080/",
          "height": 51
        },
        "outputId": "5e383db6-27b8-4447-c4a0-8e1c9e7ce412"
      },
      "source": [
        "#cargando el datast MNIST\n",
        "from keras.datasets import mnist\n",
        "\n",
        "(X_train, y_train), (X_test,y_test) = mnist.load_data()\n",
        "print('Total de ejemplos de entrenamiento ', X_train.shape[0])\n",
        "print('total de ejemplos de teste ', X_test.shape[0])"
      ],
      "execution_count": 3,
      "outputs": [
        {
          "output_type": "stream",
          "text": [
            "Total de ejemplos de entrenamiento  60000\n",
            "total de ejemplos de teste  10000\n"
          ],
          "name": "stdout"
        }
      ]
    },
    {
      "cell_type": "code",
      "metadata": {
        "id": "YRe0CC6pu3Cc",
        "colab_type": "code",
        "colab": {
          "base_uri": "https://localhost:8080/",
          "height": 243
        },
        "outputId": "d77b2596-3f2a-4911-f836-611b215e1add"
      },
      "source": [
        "fig =plt.figure(figsize=(20,20))\n",
        "for i in range(5):\n",
        "  ax = fig.add_subplot(1,5, i+1, xticks=[], yticks=[])\n",
        "  ax.imshow(X_train[i],cmap='gray')\n",
        "  ax.set_title(str(y_train[i]))"
      ],
      "execution_count": 4,
      "outputs": [
        {
          "output_type": "display_data",
          "data": {
            "image/png": "[encoded data removed]",
            "text/plain": [
              "<Figure size 1440x1440 with 5 Axes>"
            ]
          },
          "metadata": {
            "tags": []
          }
        }
      ]
    },
    {
      "cell_type": "code",
      "metadata": {
        "id": "aVfFhNyPvywX",
        "colab_type": "code",
        "colab": {}
      },
      "source": [
        "#Visualizando una imágen en detalles\n",
        "def visualizar(ima,ax):\n",
        "  ax.imshow(ima,cmap='gray')\n",
        "  width, height = ima.shape\n",
        "  thres = ima.max()/2.5\n",
        "  for x in range(width):\n",
        "    for y in range(height):\n",
        "      ax.annotate(str(round(ima[x][y],2)),xy=(y,x),\n",
        "                  horizontalalignment = 'center',\n",
        "                  verticalalignment = 'center',\n",
        "                  color = 'white' if ima[x][y]<thres else 'black')"
      ],
      "execution_count": 0,
      "outputs": []
    },
    {
      "cell_type": "code",
      "metadata": {
        "id": "Ep1jiGhqxl5s",
        "colab_type": "code",
        "colab": {
          "base_uri": "https://localhost:8080/",
          "height": 863
        },
        "outputId": "62c0062c-763a-4972-8c45-2c73d7886389"
      },
      "source": [
        "fig = plt.figure(figsize=(15,15))\n",
        "ax = fig.add_subplot(111)\n",
        "visualizar(X_train[0],ax)"
      ],
      "execution_count": 6,
      "outputs": [
        {
          "output_type": "display_data",
          "data": {
            "image/png": "[encoded data removed]",
            "text/plain": [
              "<Figure size 1080x1080 with 1 Axes>"
            ]
          },
          "metadata": {
            "tags": [],
            "needs_background": "light"
          }
        }
      ]
    },
    {
      "cell_type": "code",
      "metadata": {
        "id": "diuGJvHbx4-I",
        "colab_type": "code",
        "colab": {}
      },
      "source": [
        "#normalizar los pixel para que queden entre 0 y 1\n",
        "X_train = X_train.astype('float32')/255\n",
        "X_test = X_test.astype('float32')/255"
      ],
      "execution_count": 0,
      "outputs": []
    },
    {
      "cell_type": "code",
      "metadata": {
        "id": "-4yr1sl60kxJ",
        "colab_type": "code",
        "colab": {
          "base_uri": "https://localhost:8080/",
          "height": 34
        },
        "outputId": "a2641dc4-f5c1-4a46-91f0-8659960801af"
      },
      "source": [
        "#realizar codificacion one-hot-encodig para las etiquetas\n",
        "from keras.utils import np_utils\n",
        "print('etiquetas con valores enteros ', y_train[:10])"
      ],
      "execution_count": 8,
      "outputs": [
        {
          "output_type": "stream",
          "text": [
            "etiquetas con valores enteros  [5 0 4 1 9 2 1 3 1 4]\n"
          ],
          "name": "stdout"
        }
      ]
    },
    {
      "cell_type": "code",
      "metadata": {
        "id": "ZoXmbASO06F7",
        "colab_type": "code",
        "colab": {
          "base_uri": "https://localhost:8080/",
          "height": 204
        },
        "outputId": "f841c65e-acd6-4be2-ee3a-1193a54ae96f"
      },
      "source": [
        "y_train = np_utils.to_categorical(y_train,10)\n",
        "y_test = np_utils.to_categorical(y_test,10)\n",
        "\n",
        "print('etiquetas codificadas')\n",
        "print(y_train[:10])"
      ],
      "execution_count": 9,
      "outputs": [
        {
          "output_type": "stream",
          "text": [
            "etiquetas codificadas\n",
            "[[0. 0. 0. 0. 0. 1. 0. 0. 0. 0.]\n",
            " [1. 0. 0. 0. 0. 0. 0. 0. 0. 0.]\n",
            " [0. 0. 0. 0. 1. 0. 0. 0. 0. 0.]\n",
            " [0. 1. 0. 0. 0. 0. 0. 0. 0. 0.]\n",
            " [0. 0. 0. 0. 0. 0. 0. 0. 0. 1.]\n",
            " [0. 0. 1. 0. 0. 0. 0. 0. 0. 0.]\n",
            " [0. 1. 0. 0. 0. 0. 0. 0. 0. 0.]\n",
            " [0. 0. 0. 1. 0. 0. 0. 0. 0. 0.]\n",
            " [0. 1. 0. 0. 0. 0. 0. 0. 0. 0.]\n",
            " [0. 0. 0. 0. 1. 0. 0. 0. 0. 0.]]\n"
          ],
          "name": "stdout"
        }
      ]
    },
    {
      "cell_type": "code",
      "metadata": {
        "id": "uIR2HEyx2IU9",
        "colab_type": "code",
        "colab": {
          "base_uri": "https://localhost:8080/",
          "height": 357
        },
        "outputId": "584abe06-fba6-480b-8c3f-53c52351e63a"
      },
      "source": [
        "#definiendo la arquitectura del modelo\n",
        "from keras.models import Sequential\n",
        "from keras.layers import Dense,Dropout,Flatten\n",
        "\n",
        "model = Sequential()\n",
        "model.add(Flatten(input_shape=X_train.shape[1:]))\n",
        "model.add(Dense(512,activation='relu'))\n",
        "model.add(Dropout(0.2))\n",
        "model.add(Dense(512,activation='relu'))\n",
        "model.add(Dropout(0.2))\n",
        "model.add(Dense(10,activation='softmax'))\n",
        "model.summary()"
      ],
      "execution_count": 10,
      "outputs": [
        {
          "output_type": "stream",
          "text": [
            "Model: \"sequential_1\"\n",
            "_________________________________________________________________\n",
            "Layer (type)                 Output Shape              Param #   \n",
            "=================================================================\n",
            "flatten_1 (Flatten)          (None, 784)               0         \n",
            "_________________________________________________________________\n",
            "dense_1 (Dense)              (None, 512)               401920    \n",
            "_________________________________________________________________\n",
            "dropout_1 (Dropout)          (None, 512)               0         \n",
            "_________________________________________________________________\n",
            "dense_2 (Dense)              (None, 512)               262656    \n",
            "_________________________________________________________________\n",
            "dropout_2 (Dropout)          (None, 512)               0         \n",
            "_________________________________________________________________\n",
            "dense_3 (Dense)              (None, 10)                5130      \n",
            "=================================================================\n",
            "Total params: 669,706\n",
            "Trainable params: 669,706\n",
            "Non-trainable params: 0\n",
            "_________________________________________________________________\n"
          ],
          "name": "stdout"
        }
      ]
    },
    {
      "cell_type": "code",
      "metadata": {
        "id": "5JhCHICf3Rcm",
        "colab_type": "code",
        "colab": {}
      },
      "source": [
        "model.compile(loss='categorical_crossentropy', optimizer='rmsprop', metrics=['accuracy'])"
      ],
      "execution_count": 0,
      "outputs": []
    },
    {
      "cell_type": "code",
      "metadata": {
        "id": "JON4X6yO3R9O",
        "colab_type": "code",
        "colab": {
          "base_uri": "https://localhost:8080/",
          "height": 34
        },
        "outputId": "27a44e4f-0146-453e-f703-d0495ead3e1e"
      },
      "source": [
        "#verificando como no generaliza nada si no se entrena el modelo\n",
        "score = model.evaluate(X_test,y_test, verbose=0)\n",
        "accuracy = 100*score[1] \n",
        "print('Precisión en Test sin entrenamiento %.4f%% ' %accuracy)"
      ],
      "execution_count": 18,
      "outputs": [
        {
          "output_type": "stream",
          "text": [
            "Precisión en Test sin entrenamiento 97.9300% \n"
          ],
          "name": "stdout"
        }
      ]
    },
    {
      "cell_type": "code",
      "metadata": {
        "id": "6zyX0Hgn4bBJ",
        "colab_type": "code",
        "colab": {}
      },
      "source": [
        "# creando puntos de recuperación\n",
        "from keras.callbacks import ModelCheckpoint\n",
        "\n",
        "#checkpoint\n",
        "checkpointer = ModelCheckpoint(filepath='mnist.model.thebest.hdf5', verbose=1, save_best_only=True)"
      ],
      "execution_count": 0,
      "outputs": []
    },
    {
      "cell_type": "code",
      "metadata": {
        "id": "2TSf5PIO5RsK",
        "colab_type": "code",
        "colab": {
          "base_uri": "https://localhost:8080/",
          "height": 714
        },
        "outputId": "4a786f40-a2a9-4f29-99ff-770d9667c5ae"
      },
      "source": [
        "#Entrenamiento\n",
        "hist = model.fit(X_train,y_train,batch_size=128,epochs=10,validation_split=0.2,callbacks=[checkpointer], verbose=1,shuffle=True)"
      ],
      "execution_count": 14,
      "outputs": [
        {
          "output_type": "stream",
          "text": [
            "Train on 48000 samples, validate on 12000 samples\n",
            "Epoch 1/10\n",
            "48000/48000 [==============================] - 7s 147us/step - loss: 0.2766 - accuracy: 0.9139 - val_loss: 0.1304 - val_accuracy: 0.9585\n",
            "\n",
            "Epoch 00001: val_loss improved from inf to 0.13040, saving model to mnist.model.thebest.hdf5\n",
            "Epoch 2/10\n",
            "48000/48000 [==============================] - 7s 147us/step - loss: 0.1116 - accuracy: 0.9653 - val_loss: 0.0936 - val_accuracy: 0.9718\n",
            "\n",
            "Epoch 00002: val_loss improved from 0.13040 to 0.09362, saving model to mnist.model.thebest.hdf5\n",
            "Epoch 3/10\n",
            "48000/48000 [==============================] - 7s 147us/step - loss: 0.0784 - accuracy: 0.9768 - val_loss: 0.0835 - val_accuracy: 0.9772\n",
            "\n",
            "Epoch 00003: val_loss improved from 0.09362 to 0.08349, saving model to mnist.model.thebest.hdf5\n",
            "Epoch 4/10\n",
            "48000/48000 [==============================] - 7s 147us/step - loss: 0.0610 - accuracy: 0.9814 - val_loss: 0.0900 - val_accuracy: 0.9769\n",
            "\n",
            "Epoch 00004: val_loss did not improve from 0.08349\n",
            "Epoch 5/10\n",
            "48000/48000 [==============================] - 7s 148us/step - loss: 0.0492 - accuracy: 0.9850 - val_loss: 0.0817 - val_accuracy: 0.9774\n",
            "\n",
            "Epoch 00005: val_loss improved from 0.08349 to 0.08169, saving model to mnist.model.thebest.hdf5\n",
            "Epoch 6/10\n",
            "48000/48000 [==============================] - 7s 146us/step - loss: 0.0435 - accuracy: 0.9869 - val_loss: 0.0953 - val_accuracy: 0.9785\n",
            "\n",
            "Epoch 00006: val_loss did not improve from 0.08169\n",
            "Epoch 7/10\n",
            "48000/48000 [==============================] - 7s 145us/step - loss: 0.0363 - accuracy: 0.9890 - val_loss: 0.0933 - val_accuracy: 0.9791\n",
            "\n",
            "Epoch 00007: val_loss did not improve from 0.08169\n",
            "Epoch 8/10\n",
            "48000/48000 [==============================] - 7s 145us/step - loss: 0.0329 - accuracy: 0.9901 - val_loss: 0.0940 - val_accuracy: 0.9816\n",
            "\n",
            "Epoch 00008: val_loss did not improve from 0.08169\n",
            "Epoch 9/10\n",
            "48000/48000 [==============================] - 7s 144us/step - loss: 0.0286 - accuracy: 0.9914 - val_loss: 0.1014 - val_accuracy: 0.9807\n",
            "\n",
            "Epoch 00009: val_loss did not improve from 0.08169\n",
            "Epoch 10/10\n",
            "48000/48000 [==============================] - 7s 145us/step - loss: 0.0257 - accuracy: 0.9920 - val_loss: 0.1199 - val_accuracy: 0.9808\n",
            "\n",
            "Epoch 00010: val_loss did not improve from 0.08169\n"
          ],
          "name": "stdout"
        }
      ]
    },
    {
      "cell_type": "code",
      "metadata": {
        "id": "tk9ko-_J5lyt",
        "colab_type": "code",
        "colab": {}
      },
      "source": [
        "#cargando el modelo con los mejores pesos\n",
        "model.load_weights('mnist.model.thebest.hdf5')"
      ],
      "execution_count": 0,
      "outputs": []
    },
    {
      "cell_type": "code",
      "metadata": {
        "id": "xRjyX9HdG8No",
        "colab_type": "code",
        "colab": {
          "base_uri": "https://localhost:8080/",
          "height": 34
        },
        "outputId": "764ea069-fc92-4cf7-f313-bfa5db15296c"
      },
      "source": [
        "#claculando la clasificacion en test\n",
        "score = model.evaluate(X_test,y_test, verbose=0)\n",
        "accucary = 100*score[1]\n",
        "print('Precisión en Test con entrenamiento %.4f%% ' %accuracy)\n"
      ],
      "execution_count": 19,
      "outputs": [
        {
          "output_type": "stream",
          "text": [
            "Precisión en Test con entrenamiento 97.9300% \n"
          ],
          "name": "stdout"
        }
      ]
    },
    {
      "cell_type": "code",
      "metadata": {
        "id": "76K9KYdnHL_N",
        "colab_type": "code",
        "colab": {}
      },
      "source": [
        ""
      ],
      "execution_count": 0,
      "outputs": []
    }
  ]
}