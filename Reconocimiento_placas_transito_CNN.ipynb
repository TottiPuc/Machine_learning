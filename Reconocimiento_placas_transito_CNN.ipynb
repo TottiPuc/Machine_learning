{
  "nbformat": 4,
  "nbformat_minor": 0,
  "metadata": {
    "kernelspec": {
      "display_name": "Python 3",
      "language": "python",
      "name": "python3"
    },
    "language_info": {
      "codemirror_mode": {
        "name": "ipython",
        "version": 3
      },
      "file_extension": ".py",
      "mimetype": "text/x-python",
      "name": "python",
      "nbconvert_exporter": "python",
      "pygments_lexer": "ipython3",
      "version": "3.7.6"
    },
    "colab": {
      "name": "Reconocimiento_placas_transito_CNN.ipynb",
      "provenance": []
    }
  },
  "cells": [
    {
      "cell_type": "code",
      "metadata": {
        "id": "ku6t0cEWr0iT",
        "colab_type": "code",
        "colab": {},
        "outputId": "fa134656-a861-4626-d8cd-4a4749bffbb2"
      },
      "source": [
        "from platform import python_version\n",
        "print('Version de python usada en este proyecto', python_version())"
      ],
      "execution_count": 0,
      "outputs": [
        {
          "output_type": "stream",
          "text": [
            "Version de python usada en este proyecto 3.7.6\n"
          ],
          "name": "stdout"
        }
      ]
    },
    {
      "cell_type": "code",
      "metadata": {
        "id": "WlIQQQtdr0iZ",
        "colab_type": "code",
        "colab": {},
        "outputId": "e7a6f594-d783-4d05-86a2-dfb0e3655db6"
      },
      "source": [
        "import os\n",
        "import random\n",
        "\n",
        "#tensorflow y keras\n",
        "import tensorflow as tf\n",
        "from tensorflow import keras\n",
        "from keras.utils import to_categorical\n",
        "from keras.models import Sequential\n",
        "from keras.layers import Dense, Conv2D, MaxPool2D, Flatten, Dropout\n",
        "\n",
        "#división de datos en entrenamiento y teste\n",
        "from sklearn.model_selection import train_test_split\n",
        "import sklearn\n",
        "\n",
        "#Metricas de precisión\n",
        "from sklearn.metrics import accuracy_score\n",
        "\n",
        "\n",
        "#manipulación de datos\n",
        "import numpy as np\n",
        "import pandas as pd\n",
        "\n",
        "#manipulación de imagenes\n",
        "from skimage import io, segmentation as seg\n",
        "from PIL import Image\n",
        "\n",
        "#visualización de imagenes\n",
        "import matplotlib.pyplot as plt\n",
        "import seaborn as sns\n",
        "import matplotlib\n",
        "\n",
        "#formatos de graficos\n",
        "plt.style.use('fivethirtyeight')\n",
        "\n"
      ],
      "execution_count": 0,
      "outputs": [
        {
          "output_type": "stream",
          "text": [
            "Using TensorFlow backend.\n"
          ],
          "name": "stderr"
        }
      ]
    },
    {
      "cell_type": "code",
      "metadata": {
        "id": "cfwZYbhVr0ib",
        "colab_type": "code",
        "colab": {},
        "outputId": "ef4fdbf6-bbd0-4c4c-c486-a3fd8acd7b61"
      },
      "source": [
        "%reload_ext watermark\n",
        "%watermark -a \"Christian Dayan Arcos Gordillo\" --iversion"
      ],
      "execution_count": 0,
      "outputs": [
        {
          "output_type": "stream",
          "text": [
            "sklearn                                    0.22.1\n",
            "numpy                                      1.17.4\n",
            "seaborn                                    0.9.0\n",
            "tensorflow_core.python.keras.api._v2.keras 2.2.4-tf\n",
            "pandas                                     0.25.3\n",
            "tensorflow                                 2.1.0\n",
            "PIL.Image                                  7.0.0\n",
            "matplotlib                                 3.1.1\n",
            "Christian Dayan Arcos Gordillo\n"
          ],
          "name": "stdout"
        }
      ]
    },
    {
      "cell_type": "markdown",
      "metadata": {
        "id": "ecD7WzT5r0if",
        "colab_type": "text"
      },
      "source": [
        "### Exploración de datos \n",
        "\n",
        "Dataset German Traffic Sign \n",
        "El conjunto de datos consiste em 39.209 imágenes a color usadas para entrenamiento y 12.630 imágenes para teste. Cada imágem es una foto de una placa de transito pertenciente a una de las 43 clases.\n",
        "\n",
        "informacion sobre el dataset puede ser encontrada en \n",
        "http://benchmark.ini.rub.de/\n",
        "\n",
        "\n",
        "Descripción de las Columnas del Dataset de entrenamiento y teste\n",
        "\n",
        "\n",
        "- Width - Ancho de la imagen\n",
        "\n",
        "- Height - Altura de la imagen\n",
        "\n",
        "- Roi.X1 - Coordenada de la Region de Interes X1\n",
        "\n",
        "- Roi.Y1 - Coordenada de la Region de Interes Y1\n",
        "\n",
        "- Roi.X2 - Coordenada de la Region de Interes X2\n",
        "\n",
        "- Roi.Y2 - Coordenada de la Region de Interes Y1\n",
        "\n",
        "- ClassId - Clase de la Imagen, por ejemplo: \"20 km speed limit\"\n",
        "\n",
        "- Path - Camino de la Imagem en el Sistema Operacional\n",
        "\n",
        "Descripción de las Columnas del Dataset Meta\n",
        "\n",
        "- Path - Camino para la imágem\n",
        "- ClassId - ID de la clase de imágem\n",
        "- ShapeId - Forma de la señal de transito (triangulo 0, 1 círculo, 2 diamantes, 3 hexagonos y 4 inversos)\n",
        "- ColorId - Color de la señal (0-rojo, 1-azul, 2-amarillo, 3-blanco)\n",
        "- SignId - ID de la sseñal "
      ]
    },
    {
      "cell_type": "code",
      "metadata": {
        "id": "EsYySjFKr0ih",
        "colab_type": "code",
        "colab": {},
        "outputId": "c4ca249e-7e02-451a-d12f-432ab278d939"
      },
      "source": [
        "!nvidia-smi"
      ],
      "execution_count": 0,
      "outputs": [
        {
          "output_type": "stream",
          "text": [
            "Thu May  7 16:40:42 2020       \r\n",
            "+-----------------------------------------------------------------------------+\r\n",
            "| NVIDIA-SMI 440.64.00    Driver Version: 440.64.00    CUDA Version: 10.2     |\r\n",
            "|-------------------------------+----------------------+----------------------+\r\n",
            "| GPU  Name        Persistence-M| Bus-Id        Disp.A | Volatile Uncorr. ECC |\r\n",
            "| Fan  Temp  Perf  Pwr:Usage/Cap|         Memory-Usage | GPU-Util  Compute M. |\r\n",
            "|===============================+======================+======================|\r\n",
            "|   0  TITAN X (Pascal)    On   | 00000000:05:00.0 Off |                  N/A |\r\n",
            "| 23%   41C    P8     9W / 250W |    332MiB / 12194MiB |      0%      Default |\r\n",
            "+-------------------------------+----------------------+----------------------+\r\n",
            "|   1  GeForce GTX 108...  On   | 00000000:09:00.0 Off |                  N/A |\r\n",
            "| 23%   37C    P8     9W / 250W |    227MiB / 11178MiB |      0%      Default |\r\n",
            "+-------------------------------+----------------------+----------------------+\r\n",
            "|   2  TITAN RTX           On   | 00000000:0B:00.0 Off |                  N/A |\r\n",
            "| 41%   40C    P8    14W / 280W |   1333MiB / 24220MiB |      0%      Default |\r\n",
            "+-------------------------------+----------------------+----------------------+\r\n",
            "                                                                               \r\n",
            "+-----------------------------------------------------------------------------+\r\n",
            "| Processes:                                                       GPU Memory |\r\n",
            "|  GPU       PID   Type   Process name                             Usage      |\r\n",
            "|=============================================================================|\r\n",
            "|    0      1465      G   /usr/lib/xorg/Xorg                            39MiB |\r\n",
            "|    0      1502      G   /usr/bin/gnome-shell                          72MiB |\r\n",
            "|    0      4216      C   /home/cdayan/anaconda3/bin/python            215MiB |\r\n",
            "|    1      4216      C   /home/cdayan/anaconda3/bin/python            215MiB |\r\n",
            "|    2      4216      C   /home/cdayan/anaconda3/bin/python           1321MiB |\r\n",
            "+-----------------------------------------------------------------------------+\r\n"
          ],
          "name": "stdout"
        }
      ]
    },
    {
      "cell_type": "code",
      "metadata": {
        "id": "6HlOp_Qvr0ik",
        "colab_type": "code",
        "colab": {}
      },
      "source": [
        "path = \"/media/datasets/DeepLearningI/Cap07/gtsrb-german-traffic-sign\""
      ],
      "execution_count": 0,
      "outputs": []
    },
    {
      "cell_type": "code",
      "metadata": {
        "id": "iWFsdCi4r0im",
        "colab_type": "code",
        "colab": {}
      },
      "source": [
        "df_train = pd.read_csv(path +'/Train.csv')\n",
        "df_test = pd.read_csv(path + '/Test.csv')\n",
        "df_meta = pd.read_csv(path + '/Meta.csv')"
      ],
      "execution_count": 0,
      "outputs": []
    },
    {
      "cell_type": "code",
      "metadata": {
        "id": "3fde0zA_r0ir",
        "colab_type": "code",
        "colab": {},
        "outputId": "2b107682-f046-43a3-a92f-ac770ca7824c"
      },
      "source": [
        "df_train.head()"
      ],
      "execution_count": 0,
      "outputs": [
        {
          "output_type": "execute_result",
          "data": {
            "text/html": [
              "<div>\n",
              "<style scoped>\n",
              "    .dataframe tbody tr th:only-of-type {\n",
              "        vertical-align: middle;\n",
              "    }\n",
              "\n",
              "    .dataframe tbody tr th {\n",
              "        vertical-align: top;\n",
              "    }\n",
              "\n",
              "    .dataframe thead th {\n",
              "        text-align: right;\n",
              "    }\n",
              "</style>\n",
              "<table border=\"1\" class=\"dataframe\">\n",
              "  <thead>\n",
              "    <tr style=\"text-align: right;\">\n",
              "      <th></th>\n",
              "      <th>Width</th>\n",
              "      <th>Height</th>\n",
              "      <th>Roi.X1</th>\n",
              "      <th>Roi.Y1</th>\n",
              "      <th>Roi.X2</th>\n",
              "      <th>Roi.Y2</th>\n",
              "      <th>ClassId</th>\n",
              "      <th>Path</th>\n",
              "    </tr>\n",
              "  </thead>\n",
              "  <tbody>\n",
              "    <tr>\n",
              "      <th>0</th>\n",
              "      <td>27</td>\n",
              "      <td>26</td>\n",
              "      <td>5</td>\n",
              "      <td>5</td>\n",
              "      <td>22</td>\n",
              "      <td>20</td>\n",
              "      <td>20</td>\n",
              "      <td>Train/20/00020_00000_00000.png</td>\n",
              "    </tr>\n",
              "    <tr>\n",
              "      <th>1</th>\n",
              "      <td>28</td>\n",
              "      <td>27</td>\n",
              "      <td>5</td>\n",
              "      <td>6</td>\n",
              "      <td>23</td>\n",
              "      <td>22</td>\n",
              "      <td>20</td>\n",
              "      <td>Train/20/00020_00000_00001.png</td>\n",
              "    </tr>\n",
              "    <tr>\n",
              "      <th>2</th>\n",
              "      <td>29</td>\n",
              "      <td>26</td>\n",
              "      <td>6</td>\n",
              "      <td>5</td>\n",
              "      <td>24</td>\n",
              "      <td>21</td>\n",
              "      <td>20</td>\n",
              "      <td>Train/20/00020_00000_00002.png</td>\n",
              "    </tr>\n",
              "    <tr>\n",
              "      <th>3</th>\n",
              "      <td>28</td>\n",
              "      <td>27</td>\n",
              "      <td>5</td>\n",
              "      <td>6</td>\n",
              "      <td>23</td>\n",
              "      <td>22</td>\n",
              "      <td>20</td>\n",
              "      <td>Train/20/00020_00000_00003.png</td>\n",
              "    </tr>\n",
              "    <tr>\n",
              "      <th>4</th>\n",
              "      <td>28</td>\n",
              "      <td>26</td>\n",
              "      <td>5</td>\n",
              "      <td>5</td>\n",
              "      <td>23</td>\n",
              "      <td>21</td>\n",
              "      <td>20</td>\n",
              "      <td>Train/20/00020_00000_00004.png</td>\n",
              "    </tr>\n",
              "  </tbody>\n",
              "</table>\n",
              "</div>"
            ],
            "text/plain": [
              "   Width  Height  Roi.X1  Roi.Y1  Roi.X2  Roi.Y2  ClassId  \\\n",
              "0     27      26       5       5      22      20       20   \n",
              "1     28      27       5       6      23      22       20   \n",
              "2     29      26       6       5      24      21       20   \n",
              "3     28      27       5       6      23      22       20   \n",
              "4     28      26       5       5      23      21       20   \n",
              "\n",
              "                             Path  \n",
              "0  Train/20/00020_00000_00000.png  \n",
              "1  Train/20/00020_00000_00001.png  \n",
              "2  Train/20/00020_00000_00002.png  \n",
              "3  Train/20/00020_00000_00003.png  \n",
              "4  Train/20/00020_00000_00004.png  "
            ]
          },
          "metadata": {
            "tags": []
          },
          "execution_count": 7
        }
      ]
    },
    {
      "cell_type": "code",
      "metadata": {
        "id": "mLpUJcZXr0iv",
        "colab_type": "code",
        "colab": {},
        "outputId": "d1153320-1420-4228-cc0c-a885173e6985"
      },
      "source": [
        "df_meta.head()"
      ],
      "execution_count": 0,
      "outputs": [
        {
          "output_type": "execute_result",
          "data": {
            "text/html": [
              "<div>\n",
              "<style scoped>\n",
              "    .dataframe tbody tr th:only-of-type {\n",
              "        vertical-align: middle;\n",
              "    }\n",
              "\n",
              "    .dataframe tbody tr th {\n",
              "        vertical-align: top;\n",
              "    }\n",
              "\n",
              "    .dataframe thead th {\n",
              "        text-align: right;\n",
              "    }\n",
              "</style>\n",
              "<table border=\"1\" class=\"dataframe\">\n",
              "  <thead>\n",
              "    <tr style=\"text-align: right;\">\n",
              "      <th></th>\n",
              "      <th>Path</th>\n",
              "      <th>ClassId</th>\n",
              "      <th>ShapeId</th>\n",
              "      <th>ColorId</th>\n",
              "      <th>SignId</th>\n",
              "    </tr>\n",
              "  </thead>\n",
              "  <tbody>\n",
              "    <tr>\n",
              "      <th>0</th>\n",
              "      <td>Meta/27.png</td>\n",
              "      <td>27</td>\n",
              "      <td>0</td>\n",
              "      <td>0</td>\n",
              "      <td>1.32</td>\n",
              "    </tr>\n",
              "    <tr>\n",
              "      <th>1</th>\n",
              "      <td>Meta/0.png</td>\n",
              "      <td>0</td>\n",
              "      <td>1</td>\n",
              "      <td>0</td>\n",
              "      <td>3.29</td>\n",
              "    </tr>\n",
              "    <tr>\n",
              "      <th>2</th>\n",
              "      <td>Meta/1.png</td>\n",
              "      <td>1</td>\n",
              "      <td>1</td>\n",
              "      <td>0</td>\n",
              "      <td>3.29</td>\n",
              "    </tr>\n",
              "    <tr>\n",
              "      <th>3</th>\n",
              "      <td>Meta/10.png</td>\n",
              "      <td>10</td>\n",
              "      <td>1</td>\n",
              "      <td>0</td>\n",
              "      <td>3.27</td>\n",
              "    </tr>\n",
              "    <tr>\n",
              "      <th>4</th>\n",
              "      <td>Meta/11.png</td>\n",
              "      <td>11</td>\n",
              "      <td>0</td>\n",
              "      <td>0</td>\n",
              "      <td>1.22</td>\n",
              "    </tr>\n",
              "  </tbody>\n",
              "</table>\n",
              "</div>"
            ],
            "text/plain": [
              "          Path  ClassId  ShapeId  ColorId SignId\n",
              "0  Meta/27.png       27        0        0   1.32\n",
              "1   Meta/0.png        0        1        0   3.29\n",
              "2   Meta/1.png        1        1        0   3.29\n",
              "3  Meta/10.png       10        1        0   3.27\n",
              "4  Meta/11.png       11        0        0   1.22"
            ]
          },
          "metadata": {
            "tags": []
          },
          "execution_count": 8
        }
      ]
    },
    {
      "cell_type": "code",
      "metadata": {
        "id": "TlSlm6Kvr0ix",
        "colab_type": "code",
        "colab": {},
        "outputId": "bcbca595-9ab5-4b13-c319-c9c281c455f4"
      },
      "source": [
        "print('shape del conjunto de entrenamiento ', df_train.shape)\n",
        "print('shape del conjunto de test ', df_test.shape)\n",
        "print('shape del conjunto Meta ', df_meta.shape)"
      ],
      "execution_count": 0,
      "outputs": [
        {
          "output_type": "stream",
          "text": [
            "shape del conjunto de entrenamiento  (39209, 8)\n",
            "shape del conjunto de test  (12630, 8)\n",
            "shape del conjunto Meta  (43, 5)\n"
          ],
          "name": "stdout"
        }
      ]
    },
    {
      "cell_type": "code",
      "metadata": {
        "id": "iFhSlszar0i0",
        "colab_type": "code",
        "colab": {},
        "outputId": "b980fade-12e9-4d3f-b29e-6b247fd66611"
      },
      "source": [
        "#tipos de datos\n",
        "df_train.info()"
      ],
      "execution_count": 0,
      "outputs": [
        {
          "output_type": "stream",
          "text": [
            "<class 'pandas.core.frame.DataFrame'>\n",
            "RangeIndex: 39209 entries, 0 to 39208\n",
            "Data columns (total 8 columns):\n",
            "Width      39209 non-null int64\n",
            "Height     39209 non-null int64\n",
            "Roi.X1     39209 non-null int64\n",
            "Roi.Y1     39209 non-null int64\n",
            "Roi.X2     39209 non-null int64\n",
            "Roi.Y2     39209 non-null int64\n",
            "ClassId    39209 non-null int64\n",
            "Path       39209 non-null object\n",
            "dtypes: int64(7), object(1)\n",
            "memory usage: 2.4+ MB\n"
          ],
          "name": "stdout"
        }
      ]
    },
    {
      "cell_type": "code",
      "metadata": {
        "id": "kouPm3P7r0i3",
        "colab_type": "code",
        "colab": {},
        "outputId": "bbe9b54c-ed9e-494b-d37a-3438b58ca033"
      },
      "source": [
        "df_test.info()"
      ],
      "execution_count": 0,
      "outputs": [
        {
          "output_type": "stream",
          "text": [
            "<class 'pandas.core.frame.DataFrame'>\n",
            "RangeIndex: 12630 entries, 0 to 12629\n",
            "Data columns (total 8 columns):\n",
            "Width      12630 non-null int64\n",
            "Height     12630 non-null int64\n",
            "Roi.X1     12630 non-null int64\n",
            "Roi.Y1     12630 non-null int64\n",
            "Roi.X2     12630 non-null int64\n",
            "Roi.Y2     12630 non-null int64\n",
            "ClassId    12630 non-null int64\n",
            "Path       12630 non-null object\n",
            "dtypes: int64(7), object(1)\n",
            "memory usage: 789.5+ KB\n"
          ],
          "name": "stdout"
        }
      ]
    },
    {
      "cell_type": "code",
      "metadata": {
        "id": "aDjRC7pKr0i6",
        "colab_type": "code",
        "colab": {},
        "outputId": "73297638-6b98-40c2-aa3d-a58d33404858"
      },
      "source": [
        "df_meta.info()"
      ],
      "execution_count": 0,
      "outputs": [
        {
          "output_type": "stream",
          "text": [
            "<class 'pandas.core.frame.DataFrame'>\n",
            "RangeIndex: 43 entries, 0 to 42\n",
            "Data columns (total 5 columns):\n",
            "Path       43 non-null object\n",
            "ClassId    43 non-null int64\n",
            "ShapeId    43 non-null int64\n",
            "ColorId    43 non-null int64\n",
            "SignId     43 non-null object\n",
            "dtypes: int64(3), object(2)\n",
            "memory usage: 1.8+ KB\n"
          ],
          "name": "stdout"
        }
      ]
    },
    {
      "cell_type": "markdown",
      "metadata": {
        "id": "rZX4LHl_r0i9",
        "colab_type": "text"
      },
      "source": [
        "Resumen estadistico de cada dataset"
      ]
    },
    {
      "cell_type": "code",
      "metadata": {
        "id": "XRdP5gFNr0i9",
        "colab_type": "code",
        "colab": {},
        "outputId": "0a24e3f0-e720-4f0a-df18-99b79afea3be"
      },
      "source": [
        "print('dataset de entrenamiento')\n",
        "df_train.describe()"
      ],
      "execution_count": 0,
      "outputs": [
        {
          "output_type": "stream",
          "text": [
            "dataset de entrenamiento\n"
          ],
          "name": "stdout"
        },
        {
          "output_type": "execute_result",
          "data": {
            "text/html": [
              "<div>\n",
              "<style scoped>\n",
              "    .dataframe tbody tr th:only-of-type {\n",
              "        vertical-align: middle;\n",
              "    }\n",
              "\n",
              "    .dataframe tbody tr th {\n",
              "        vertical-align: top;\n",
              "    }\n",
              "\n",
              "    .dataframe thead th {\n",
              "        text-align: right;\n",
              "    }\n",
              "</style>\n",
              "<table border=\"1\" class=\"dataframe\">\n",
              "  <thead>\n",
              "    <tr style=\"text-align: right;\">\n",
              "      <th></th>\n",
              "      <th>Width</th>\n",
              "      <th>Height</th>\n",
              "      <th>Roi.X1</th>\n",
              "      <th>Roi.Y1</th>\n",
              "      <th>Roi.X2</th>\n",
              "      <th>Roi.Y2</th>\n",
              "      <th>ClassId</th>\n",
              "    </tr>\n",
              "  </thead>\n",
              "  <tbody>\n",
              "    <tr>\n",
              "      <th>count</th>\n",
              "      <td>39209.000000</td>\n",
              "      <td>39209.000000</td>\n",
              "      <td>39209.000000</td>\n",
              "      <td>39209.000000</td>\n",
              "      <td>39209.000000</td>\n",
              "      <td>39209.000000</td>\n",
              "      <td>39209.000000</td>\n",
              "    </tr>\n",
              "    <tr>\n",
              "      <th>mean</th>\n",
              "      <td>50.835880</td>\n",
              "      <td>50.328930</td>\n",
              "      <td>5.999515</td>\n",
              "      <td>5.962381</td>\n",
              "      <td>45.197302</td>\n",
              "      <td>44.728379</td>\n",
              "      <td>15.788390</td>\n",
              "    </tr>\n",
              "    <tr>\n",
              "      <th>std</th>\n",
              "      <td>24.306933</td>\n",
              "      <td>23.115423</td>\n",
              "      <td>1.475493</td>\n",
              "      <td>1.385440</td>\n",
              "      <td>23.060157</td>\n",
              "      <td>21.971145</td>\n",
              "      <td>12.013238</td>\n",
              "    </tr>\n",
              "    <tr>\n",
              "      <th>min</th>\n",
              "      <td>25.000000</td>\n",
              "      <td>25.000000</td>\n",
              "      <td>0.000000</td>\n",
              "      <td>5.000000</td>\n",
              "      <td>20.000000</td>\n",
              "      <td>20.000000</td>\n",
              "      <td>0.000000</td>\n",
              "    </tr>\n",
              "    <tr>\n",
              "      <th>25%</th>\n",
              "      <td>35.000000</td>\n",
              "      <td>35.000000</td>\n",
              "      <td>5.000000</td>\n",
              "      <td>5.000000</td>\n",
              "      <td>29.000000</td>\n",
              "      <td>30.000000</td>\n",
              "      <td>5.000000</td>\n",
              "    </tr>\n",
              "    <tr>\n",
              "      <th>50%</th>\n",
              "      <td>43.000000</td>\n",
              "      <td>43.000000</td>\n",
              "      <td>6.000000</td>\n",
              "      <td>6.000000</td>\n",
              "      <td>38.000000</td>\n",
              "      <td>38.000000</td>\n",
              "      <td>12.000000</td>\n",
              "    </tr>\n",
              "    <tr>\n",
              "      <th>75%</th>\n",
              "      <td>58.000000</td>\n",
              "      <td>58.000000</td>\n",
              "      <td>6.000000</td>\n",
              "      <td>6.000000</td>\n",
              "      <td>53.000000</td>\n",
              "      <td>52.000000</td>\n",
              "      <td>25.000000</td>\n",
              "    </tr>\n",
              "    <tr>\n",
              "      <th>max</th>\n",
              "      <td>243.000000</td>\n",
              "      <td>225.000000</td>\n",
              "      <td>20.000000</td>\n",
              "      <td>20.000000</td>\n",
              "      <td>223.000000</td>\n",
              "      <td>205.000000</td>\n",
              "      <td>42.000000</td>\n",
              "    </tr>\n",
              "  </tbody>\n",
              "</table>\n",
              "</div>"
            ],
            "text/plain": [
              "              Width        Height        Roi.X1        Roi.Y1        Roi.X2  \\\n",
              "count  39209.000000  39209.000000  39209.000000  39209.000000  39209.000000   \n",
              "mean      50.835880     50.328930      5.999515      5.962381     45.197302   \n",
              "std       24.306933     23.115423      1.475493      1.385440     23.060157   \n",
              "min       25.000000     25.000000      0.000000      5.000000     20.000000   \n",
              "25%       35.000000     35.000000      5.000000      5.000000     29.000000   \n",
              "50%       43.000000     43.000000      6.000000      6.000000     38.000000   \n",
              "75%       58.000000     58.000000      6.000000      6.000000     53.000000   \n",
              "max      243.000000    225.000000     20.000000     20.000000    223.000000   \n",
              "\n",
              "             Roi.Y2       ClassId  \n",
              "count  39209.000000  39209.000000  \n",
              "mean      44.728379     15.788390  \n",
              "std       21.971145     12.013238  \n",
              "min       20.000000      0.000000  \n",
              "25%       30.000000      5.000000  \n",
              "50%       38.000000     12.000000  \n",
              "75%       52.000000     25.000000  \n",
              "max      205.000000     42.000000  "
            ]
          },
          "metadata": {
            "tags": []
          },
          "execution_count": 13
        }
      ]
    },
    {
      "cell_type": "code",
      "metadata": {
        "id": "GR_1Ze80r0jA",
        "colab_type": "code",
        "colab": {},
        "outputId": "b1542349-25ac-47ce-bbb6-663f53b6cc86"
      },
      "source": [
        "print('dataset de teste')\n",
        "df_test.describe()"
      ],
      "execution_count": 0,
      "outputs": [
        {
          "output_type": "stream",
          "text": [
            "dataset de teste\n"
          ],
          "name": "stdout"
        },
        {
          "output_type": "execute_result",
          "data": {
            "text/html": [
              "<div>\n",
              "<style scoped>\n",
              "    .dataframe tbody tr th:only-of-type {\n",
              "        vertical-align: middle;\n",
              "    }\n",
              "\n",
              "    .dataframe tbody tr th {\n",
              "        vertical-align: top;\n",
              "    }\n",
              "\n",
              "    .dataframe thead th {\n",
              "        text-align: right;\n",
              "    }\n",
              "</style>\n",
              "<table border=\"1\" class=\"dataframe\">\n",
              "  <thead>\n",
              "    <tr style=\"text-align: right;\">\n",
              "      <th></th>\n",
              "      <th>Width</th>\n",
              "      <th>Height</th>\n",
              "      <th>Roi.X1</th>\n",
              "      <th>Roi.Y1</th>\n",
              "      <th>Roi.X2</th>\n",
              "      <th>Roi.Y2</th>\n",
              "      <th>ClassId</th>\n",
              "    </tr>\n",
              "  </thead>\n",
              "  <tbody>\n",
              "    <tr>\n",
              "      <th>count</th>\n",
              "      <td>12630.000000</td>\n",
              "      <td>12630.000000</td>\n",
              "      <td>12630.000000</td>\n",
              "      <td>12630.000000</td>\n",
              "      <td>12630.000000</td>\n",
              "      <td>12630.000000</td>\n",
              "      <td>12630.000000</td>\n",
              "    </tr>\n",
              "    <tr>\n",
              "      <th>mean</th>\n",
              "      <td>50.507759</td>\n",
              "      <td>50.364450</td>\n",
              "      <td>5.998021</td>\n",
              "      <td>5.982423</td>\n",
              "      <td>44.864450</td>\n",
              "      <td>44.758116</td>\n",
              "      <td>15.551069</td>\n",
              "    </tr>\n",
              "    <tr>\n",
              "      <th>std</th>\n",
              "      <td>25.088483</td>\n",
              "      <td>23.698908</td>\n",
              "      <td>1.543954</td>\n",
              "      <td>1.427424</td>\n",
              "      <td>23.776102</td>\n",
              "      <td>22.494697</td>\n",
              "      <td>11.947123</td>\n",
              "    </tr>\n",
              "    <tr>\n",
              "      <th>min</th>\n",
              "      <td>25.000000</td>\n",
              "      <td>25.000000</td>\n",
              "      <td>1.000000</td>\n",
              "      <td>5.000000</td>\n",
              "      <td>20.000000</td>\n",
              "      <td>20.000000</td>\n",
              "      <td>0.000000</td>\n",
              "    </tr>\n",
              "    <tr>\n",
              "      <th>25%</th>\n",
              "      <td>34.000000</td>\n",
              "      <td>35.000000</td>\n",
              "      <td>5.000000</td>\n",
              "      <td>5.000000</td>\n",
              "      <td>29.000000</td>\n",
              "      <td>29.000000</td>\n",
              "      <td>5.000000</td>\n",
              "    </tr>\n",
              "    <tr>\n",
              "      <th>50%</th>\n",
              "      <td>43.000000</td>\n",
              "      <td>43.000000</td>\n",
              "      <td>6.000000</td>\n",
              "      <td>6.000000</td>\n",
              "      <td>38.000000</td>\n",
              "      <td>38.000000</td>\n",
              "      <td>12.000000</td>\n",
              "    </tr>\n",
              "    <tr>\n",
              "      <th>75%</th>\n",
              "      <td>58.000000</td>\n",
              "      <td>57.000000</td>\n",
              "      <td>6.000000</td>\n",
              "      <td>6.000000</td>\n",
              "      <td>53.000000</td>\n",
              "      <td>52.000000</td>\n",
              "      <td>25.000000</td>\n",
              "    </tr>\n",
              "    <tr>\n",
              "      <th>max</th>\n",
              "      <td>266.000000</td>\n",
              "      <td>232.000000</td>\n",
              "      <td>23.000000</td>\n",
              "      <td>19.000000</td>\n",
              "      <td>244.000000</td>\n",
              "      <td>212.000000</td>\n",
              "      <td>42.000000</td>\n",
              "    </tr>\n",
              "  </tbody>\n",
              "</table>\n",
              "</div>"
            ],
            "text/plain": [
              "              Width        Height        Roi.X1        Roi.Y1        Roi.X2  \\\n",
              "count  12630.000000  12630.000000  12630.000000  12630.000000  12630.000000   \n",
              "mean      50.507759     50.364450      5.998021      5.982423     44.864450   \n",
              "std       25.088483     23.698908      1.543954      1.427424     23.776102   \n",
              "min       25.000000     25.000000      1.000000      5.000000     20.000000   \n",
              "25%       34.000000     35.000000      5.000000      5.000000     29.000000   \n",
              "50%       43.000000     43.000000      6.000000      6.000000     38.000000   \n",
              "75%       58.000000     57.000000      6.000000      6.000000     53.000000   \n",
              "max      266.000000    232.000000     23.000000     19.000000    244.000000   \n",
              "\n",
              "             Roi.Y2       ClassId  \n",
              "count  12630.000000  12630.000000  \n",
              "mean      44.758116     15.551069  \n",
              "std       22.494697     11.947123  \n",
              "min       20.000000      0.000000  \n",
              "25%       29.000000      5.000000  \n",
              "50%       38.000000     12.000000  \n",
              "75%       52.000000     25.000000  \n",
              "max      212.000000     42.000000  "
            ]
          },
          "metadata": {
            "tags": []
          },
          "execution_count": 14
        }
      ]
    },
    {
      "cell_type": "code",
      "metadata": {
        "id": "bxmU-8F3r0jC",
        "colab_type": "code",
        "colab": {},
        "outputId": "2c8b12a8-5d2e-4c0e-cbf4-607d88c35cd2"
      },
      "source": [
        "print('dataset Meta')\n",
        "df_meta.describe()"
      ],
      "execution_count": 0,
      "outputs": [
        {
          "output_type": "stream",
          "text": [
            "dataset Meta\n"
          ],
          "name": "stdout"
        },
        {
          "output_type": "execute_result",
          "data": {
            "text/html": [
              "<div>\n",
              "<style scoped>\n",
              "    .dataframe tbody tr th:only-of-type {\n",
              "        vertical-align: middle;\n",
              "    }\n",
              "\n",
              "    .dataframe tbody tr th {\n",
              "        vertical-align: top;\n",
              "    }\n",
              "\n",
              "    .dataframe thead th {\n",
              "        text-align: right;\n",
              "    }\n",
              "</style>\n",
              "<table border=\"1\" class=\"dataframe\">\n",
              "  <thead>\n",
              "    <tr style=\"text-align: right;\">\n",
              "      <th></th>\n",
              "      <th>ClassId</th>\n",
              "      <th>ShapeId</th>\n",
              "      <th>ColorId</th>\n",
              "    </tr>\n",
              "  </thead>\n",
              "  <tbody>\n",
              "    <tr>\n",
              "      <th>count</th>\n",
              "      <td>43.000000</td>\n",
              "      <td>43.000000</td>\n",
              "      <td>43.000000</td>\n",
              "    </tr>\n",
              "    <tr>\n",
              "      <th>mean</th>\n",
              "      <td>21.000000</td>\n",
              "      <td>0.790698</td>\n",
              "      <td>0.511628</td>\n",
              "    </tr>\n",
              "    <tr>\n",
              "      <th>std</th>\n",
              "      <td>12.556539</td>\n",
              "      <td>0.803508</td>\n",
              "      <td>0.935340</td>\n",
              "    </tr>\n",
              "    <tr>\n",
              "      <th>min</th>\n",
              "      <td>0.000000</td>\n",
              "      <td>0.000000</td>\n",
              "      <td>0.000000</td>\n",
              "    </tr>\n",
              "    <tr>\n",
              "      <th>25%</th>\n",
              "      <td>10.500000</td>\n",
              "      <td>0.000000</td>\n",
              "      <td>0.000000</td>\n",
              "    </tr>\n",
              "    <tr>\n",
              "      <th>50%</th>\n",
              "      <td>21.000000</td>\n",
              "      <td>1.000000</td>\n",
              "      <td>0.000000</td>\n",
              "    </tr>\n",
              "    <tr>\n",
              "      <th>75%</th>\n",
              "      <td>31.500000</td>\n",
              "      <td>1.000000</td>\n",
              "      <td>1.000000</td>\n",
              "    </tr>\n",
              "    <tr>\n",
              "      <th>max</th>\n",
              "      <td>42.000000</td>\n",
              "      <td>4.000000</td>\n",
              "      <td>3.000000</td>\n",
              "    </tr>\n",
              "  </tbody>\n",
              "</table>\n",
              "</div>"
            ],
            "text/plain": [
              "         ClassId    ShapeId    ColorId\n",
              "count  43.000000  43.000000  43.000000\n",
              "mean   21.000000   0.790698   0.511628\n",
              "std    12.556539   0.803508   0.935340\n",
              "min     0.000000   0.000000   0.000000\n",
              "25%    10.500000   0.000000   0.000000\n",
              "50%    21.000000   1.000000   0.000000\n",
              "75%    31.500000   1.000000   1.000000\n",
              "max    42.000000   4.000000   3.000000"
            ]
          },
          "metadata": {
            "tags": []
          },
          "execution_count": 15
        }
      ]
    },
    {
      "cell_type": "markdown",
      "metadata": {
        "id": "h_QAc5-Er0jE",
        "colab_type": "text"
      },
      "source": [
        "Existen en total 42 etiquetas diferentes"
      ]
    },
    {
      "cell_type": "markdown",
      "metadata": {
        "id": "6Qy-6HtBr0jF",
        "colab_type": "text"
      },
      "source": [
        "Verificando datos duplicados"
      ]
    },
    {
      "cell_type": "code",
      "metadata": {
        "id": "ISm0-7cPr0jF",
        "colab_type": "code",
        "colab": {},
        "outputId": "9adb9106-cc6a-4b60-ff2e-bbbf7e04f7ea"
      },
      "source": [
        "print('cantidad de datos duplicados en entrenamiento ', df_train.duplicated().sum())\n",
        "print('cantidad de datos duplicados en test ', df_test.duplicated().sum())\n",
        "print('cantidad de datos duplicados en Meta ', df_meta.duplicated().sum())"
      ],
      "execution_count": 0,
      "outputs": [
        {
          "output_type": "stream",
          "text": [
            "cantidad de datos duplicados en entrenamiento  0\n",
            "cantidad de datos duplicados en test  0\n",
            "cantidad de datos duplicados en Meta  0\n"
          ],
          "name": "stdout"
        }
      ]
    },
    {
      "cell_type": "markdown",
      "metadata": {
        "id": "NlXA8v1Nr0jJ",
        "colab_type": "text"
      },
      "source": [
        "Distribución de imágenes por clase"
      ]
    },
    {
      "cell_type": "code",
      "metadata": {
        "id": "5kq8VCTHr0jK",
        "colab_type": "code",
        "colab": {},
        "outputId": "da092b91-2841-4aaf-9b51-4e1633d28f2e"
      },
      "source": [
        "fig, ax = plt.subplots(1,2,figsize = (28,8))\n",
        "\n",
        "#graficas de histogramas\n",
        "sns.countplot(df_train.ClassId, ax = ax[0])\n",
        "sns.countplot(df_test.ClassId, ax = ax[1])\n",
        "\n",
        "#labels de los graficos\n",
        "\n",
        "ax[0].set_title ('imágenes de entrenamiento por clases')\n",
        "ax[0].set_xlabel ('Clases')\n",
        "ax[0].set_ylabel ('Cantidad')\n",
        "\n",
        "ax[1].set_title ('imágenes de test por clases')\n",
        "ax[1].set_xlabel ('Clases')\n",
        "ax[1].set_ylabel ('Cantidad')\n"
      ],
      "execution_count": 0,
      "outputs": [
        {
          "output_type": "execute_result",
          "data": {
            "text/plain": [
              "Text(0, 0.5, 'Cantidad')"
            ]
          },
          "metadata": {
            "tags": []
          },
          "execution_count": 17
        },
        {
          "output_type": "display_data",
          "data": {
            "image/png": "[encoded data removed]",
            "text/plain": [
              "<Figure size 2016x576 with 2 Axes>"
            ]
          },
          "metadata": {
            "tags": []
          }
        }
      ]
    },
    {
      "cell_type": "markdown",
      "metadata": {
        "id": "8lI_sko7r0jM",
        "colab_type": "text"
      },
      "source": [
        "Función para cargar las imágenes de entrenamiento"
      ]
    },
    {
      "cell_type": "code",
      "metadata": {
        "id": "Yse5ujXcr0jN",
        "colab_type": "code",
        "colab": {}
      },
      "source": [
        "def imagTrain(path,classes_in,height, width):\n",
        "    \n",
        "    #Listas para imágenes y etiquetas\n",
        "    images = []\n",
        "    labels = []\n",
        "    \n",
        "    classes = [i for i in range(classes_in)]\n",
        "    \n",
        "    for classe in classes:\n",
        "        #anexo del camino de la imágen mas el valor de la respectiva clase que es de0 a 42\n",
        "        new_path = path + str(classe) +'/'\n",
        "        \n",
        "        file_names = [os.path.join(new_path,f) for f in os.listdir(new_path)]\n",
        "        \n",
        "        for file in file_names:\n",
        "            #cargar las imágenes\n",
        "            image = io.imread(file)\n",
        "            \n",
        "            #creamos el array de la imágen\n",
        "            image_from_array = Image.fromarray(image,'RGB')\n",
        "            \n",
        "            #Redimensionando la imágen\n",
        "            size_image = image_from_array.resize((height,width))\n",
        "            \n",
        "            #se adiciona la imágen a la lista de imágenes\n",
        "            images.append(np.array(size_image))\n",
        "            \n",
        "            #Retorna la etiqueta de la imágen\n",
        "            labels.append(classe)\n",
        "            \n",
        "    return images, labels\n",
        "            "
      ],
      "execution_count": 0,
      "outputs": []
    },
    {
      "cell_type": "code",
      "metadata": {
        "id": "Sp-tRvlAr0jO",
        "colab_type": "code",
        "colab": {}
      },
      "source": [
        "#ejecutar la carga de imágenes\n",
        "#path\n",
        "path_train = \"/media/datasets/DeepLearningI/Cap07/gtsrb-german-traffic-sign/Train/\"\n",
        "\n",
        "#largo y ancho de la imágen\n",
        "height = 30\n",
        "width = 30\n",
        "\n",
        "# numero de clases\n",
        "cantidad_clases_train = df_train['ClassId'].nunique()\n",
        "\n",
        "#ejecutar la función\n",
        "images_train, labels_train = imagTrain(path_train, cantidad_clases_train,height, width)"
      ],
      "execution_count": 0,
      "outputs": []
    },
    {
      "cell_type": "code",
      "metadata": {
        "id": "QRVe0OJ0r0jQ",
        "colab_type": "code",
        "colab": {},
        "outputId": "2548f50d-7e85-4b92-e0ed-87ead5e47c95"
      },
      "source": [
        "#visualizando imágenes de entrenamiento\n",
        "plt.imshow(images_train[0])\n",
        "labels_train[0]"
      ],
      "execution_count": 0,
      "outputs": [
        {
          "output_type": "execute_result",
          "data": {
            "text/plain": [
              "0"
            ]
          },
          "metadata": {
            "tags": []
          },
          "execution_count": 20
        },
        {
          "output_type": "display_data",
          "data": {
            "image/png": "[encoded data removed]",
            "text/plain": [
              "<Figure size 432x288 with 1 Axes>"
            ]
          },
          "metadata": {
            "tags": []
          }
        }
      ]
    },
    {
      "cell_type": "code",
      "metadata": {
        "id": "2Ow1imwtr0jS",
        "colab_type": "code",
        "colab": {}
      },
      "source": [
        "#Cargando imágenes de test\n",
        "def imagTest(path, lista, height, width):\n",
        "    \n",
        "    #lista para cargar imágenes\n",
        "    images=[]\n",
        "    \n",
        "    for image in lista:\n",
        "        \n",
        "        #cargar la imágen\n",
        "        image = io.imread(path + image)\n",
        "        \n",
        "        #convertir en un array\n",
        "        image_from_array = Image.fromarray(image, 'RGB')\n",
        "        \n",
        "        #redimensionando la imágen \n",
        "        size_image = image_from_array.resize((height,width))\n",
        "        \n",
        "        #Adicionar la imágen a la lista de imágenes\n",
        "        images.append(np.array(size_image))\n",
        "        \n",
        "    return images"
      ],
      "execution_count": 0,
      "outputs": []
    },
    {
      "cell_type": "code",
      "metadata": {
        "id": "DmnmnTBEr0jV",
        "colab_type": "code",
        "colab": {}
      },
      "source": [
        "#ejecutar la carga de imágenes\n",
        "#path\n",
        "path = \"/media/datasets/DeepLearningI/Cap07/gtsrb-german-traffic-sign/\"\n",
        "lista_imagenes = df_test['Path'].values\n",
        "\n",
        "#largo y ancho de la imágen\n",
        "height = 30\n",
        "width = 30\n",
        "\n",
        "#ejecutar la función\n",
        "images_test = imagTest(path, lista_imagenes,height, width)"
      ],
      "execution_count": 0,
      "outputs": []
    },
    {
      "cell_type": "code",
      "metadata": {
        "id": "HfH7ciasr0jW",
        "colab_type": "code",
        "colab": {},
        "outputId": "e099aaa0-5f3c-4b24-e5bf-b93bd5127ebc"
      },
      "source": [
        "#verificando shape de imagenes de entrenamiento y de test\n",
        "images_train = np.array(images_train)\n",
        "images_test = np.array(images_test)\n",
        "labels_train = np.array(labels_train)\n",
        "labels_test = df_test['ClassId'].values\n",
        "\n",
        "print('El shape de las imágenes de entrenamiento es', images_train.shape)\n",
        "print('El shape de las imágenes de test es', images_test.shape)\n",
        "print('El shape de las labels de entrenamiento es', labels_train.shape)\n",
        "print('El shape de las labels de teste es', labels_test.shape)"
      ],
      "execution_count": 0,
      "outputs": [
        {
          "output_type": "stream",
          "text": [
            "El shape de las imágenes de entrenamiento es (39209, 30, 30, 3)\n",
            "El shape de las imágenes de test es (12630, 30, 30, 3)\n",
            "El shape de las labels de entrenamiento es (39209,)\n",
            "El shape de las labels de teste es (12630,)\n"
          ],
          "name": "stdout"
        }
      ]
    },
    {
      "cell_type": "code",
      "metadata": {
        "id": "1Om3sCwWr0jY",
        "colab_type": "code",
        "colab": {}
      },
      "source": [
        "#visualizando imágenes de test\n",
        "def VerImag ( imag, labels, images_count):\n",
        "    for i in range(images_count):\n",
        "        index = int(random.random()*len(imag))\n",
        "        plt.axis('off')\n",
        "        plt.imshow(imag[index])\n",
        "        plt.show()\n",
        "        \n",
        "        print ( 'el tamaño de la imágen es ', imag[index].shape)\n",
        "        print ( 'la clase de la imágen es ', labels[index])\n",
        "        "
      ],
      "execution_count": 0,
      "outputs": []
    },
    {
      "cell_type": "code",
      "metadata": {
        "id": "gG8yZCRnr0jc",
        "colab_type": "code",
        "colab": {},
        "outputId": "96226497-0a97-4d82-94a0-87f8d26b7b25"
      },
      "source": [
        "VerImag(images_test, labels_test, 5)"
      ],
      "execution_count": 0,
      "outputs": [
        {
          "output_type": "display_data",
          "data": {
            "image/png": "[encoded data removed]",
            "text/plain": [
              "<Figure size 432x288 with 1 Axes>"
            ]
          },
          "metadata": {
            "tags": []
          }
        },
        {
          "output_type": "stream",
          "text": [
            "el tamaño de la imágen es  (30, 30, 3)\n",
            "la clase de la imágen es  14\n"
          ],
          "name": "stdout"
        },
        {
          "output_type": "display_data",
          "data": {
            "image/png": "[encoded data removed]",
            "text/plain": [
              "<Figure size 432x288 with 1 Axes>"
            ]
          },
          "metadata": {
            "tags": []
          }
        },
        {
          "output_type": "stream",
          "text": [
            "el tamaño de la imágen es  (30, 30, 3)\n",
            "la clase de la imágen es  1\n"
          ],
          "name": "stdout"
        },
        {
          "output_type": "display_data",
          "data": {
            "image/png": "[encoded data removed]",
            "text/plain": [
              "<Figure size 432x288 with 1 Axes>"
            ]
          },
          "metadata": {
            "tags": []
          }
        },
        {
          "output_type": "stream",
          "text": [
            "el tamaño de la imágen es  (30, 30, 3)\n",
            "la clase de la imágen es  13\n"
          ],
          "name": "stdout"
        },
        {
          "output_type": "display_data",
          "data": {
            "image/png": "[encoded data removed]",
            "text/plain": [
              "<Figure size 432x288 with 1 Axes>"
            ]
          },
          "metadata": {
            "tags": []
          }
        },
        {
          "output_type": "stream",
          "text": [
            "el tamaño de la imágen es  (30, 30, 3)\n",
            "la clase de la imágen es  10\n"
          ],
          "name": "stdout"
        },
        {
          "output_type": "display_data",
          "data": {
            "image/png": "[encoded data removed]",
            "text/plain": [
              "<Figure size 432x288 with 1 Axes>"
            ]
          },
          "metadata": {
            "tags": []
          }
        },
        {
          "output_type": "stream",
          "text": [
            "el tamaño de la imágen es  (30, 30, 3)\n",
            "la clase de la imágen es  9\n"
          ],
          "name": "stdout"
        }
      ]
    },
    {
      "cell_type": "markdown",
      "metadata": {
        "id": "Ths9ayH-r0jg",
        "colab_type": "text"
      },
      "source": [
        "Dividiendo el dataset en entrenamiento teste y 20% de validación"
      ]
    },
    {
      "cell_type": "code",
      "metadata": {
        "id": "nmr7Cip6r0jg",
        "colab_type": "code",
        "colab": {}
      },
      "source": [
        "(X_train, X_valid, label_X, label_valid)=train_test_split(images_train,labels_train, test_size=0.2, random_state=42)"
      ],
      "execution_count": 0,
      "outputs": []
    },
    {
      "cell_type": "code",
      "metadata": {
        "id": "yCveut8yr0ji",
        "colab_type": "code",
        "colab": {}
      },
      "source": [
        "#normalizando los datos de entrenamiento\n",
        "X_train = X_train.astype('float32')/255\n",
        "X_valid = X_valid.astype('float32')/255"
      ],
      "execution_count": 0,
      "outputs": []
    },
    {
      "cell_type": "code",
      "metadata": {
        "id": "yldt-w7Er0jk",
        "colab_type": "code",
        "colab": {}
      },
      "source": [
        "#convertir las labels en tipo categorica(one-hot)\n",
        "label_X = to_categorical(label_X,43)\n",
        "label_valid = to_categorical(label_valid,43)"
      ],
      "execution_count": 0,
      "outputs": []
    },
    {
      "cell_type": "code",
      "metadata": {
        "id": "0VikMyBEr0jm",
        "colab_type": "code",
        "colab": {}
      },
      "source": [
        "#modelo convolucional\n",
        "\n",
        "model = Sequential()\n",
        "model.add(Conv2D(filters=32, kernel_size=(5,5), activation='relu', input_shape=X_train.shape[1:]))\n",
        "model.add(Conv2D(filters=64, kernel_size=(3,3), activation='relu'))\n",
        "model.add(MaxPool2D(pool_size =(2,2)))\n",
        "model.add(Dropout(rate=0.25))\n",
        "model.add(Conv2D(filters =64, kernel_size=(3,3), activation='relu'))\n",
        "model.add(MaxPool2D(pool_size= (2,2)))\n",
        "model.add(Dropout(rate=0.25))\n",
        "model.add(Flatten())\n",
        "model.add(Dense(256, activation ='relu'))\n",
        "model.add(Dropout(rate =0.5))\n",
        "model.add(Dense(43,activation ='softmax'))"
      ],
      "execution_count": 0,
      "outputs": []
    },
    {
      "cell_type": "code",
      "metadata": {
        "id": "AqWuYpvUr0jp",
        "colab_type": "code",
        "colab": {},
        "outputId": "8bd0c176-7adf-431e-99eb-e7d89902e55c"
      },
      "source": [
        "model.summary()"
      ],
      "execution_count": 0,
      "outputs": [
        {
          "output_type": "stream",
          "text": [
            "Model: \"sequential_1\"\n",
            "_________________________________________________________________\n",
            "Layer (type)                 Output Shape              Param #   \n",
            "=================================================================\n",
            "conv2d_1 (Conv2D)            (None, 26, 26, 32)        2432      \n",
            "_________________________________________________________________\n",
            "conv2d_2 (Conv2D)            (None, 24, 24, 64)        18496     \n",
            "_________________________________________________________________\n",
            "max_pooling2d_1 (MaxPooling2 (None, 12, 12, 64)        0         \n",
            "_________________________________________________________________\n",
            "dropout_1 (Dropout)          (None, 12, 12, 64)        0         \n",
            "_________________________________________________________________\n",
            "conv2d_3 (Conv2D)            (None, 10, 10, 64)        36928     \n",
            "_________________________________________________________________\n",
            "max_pooling2d_2 (MaxPooling2 (None, 5, 5, 64)          0         \n",
            "_________________________________________________________________\n",
            "dropout_2 (Dropout)          (None, 5, 5, 64)          0         \n",
            "_________________________________________________________________\n",
            "flatten_1 (Flatten)          (None, 1600)              0         \n",
            "_________________________________________________________________\n",
            "dense_1 (Dense)              (None, 256)               409856    \n",
            "_________________________________________________________________\n",
            "dropout_3 (Dropout)          (None, 256)               0         \n",
            "_________________________________________________________________\n",
            "dense_2 (Dense)              (None, 43)                11051     \n",
            "=================================================================\n",
            "Total params: 478,763\n",
            "Trainable params: 478,763\n",
            "Non-trainable params: 0\n",
            "_________________________________________________________________\n"
          ],
          "name": "stdout"
        }
      ]
    },
    {
      "cell_type": "code",
      "metadata": {
        "id": "ZyYuZW1Br0jr",
        "colab_type": "code",
        "colab": {}
      },
      "source": [
        "model.compile(loss='categorical_crossentropy', optimizer='Adam', metrics =['accuracy'])"
      ],
      "execution_count": 0,
      "outputs": []
    },
    {
      "cell_type": "code",
      "metadata": {
        "id": "l_Nn9huUr0jt",
        "colab_type": "code",
        "colab": {}
      },
      "source": [
        "X_test = images_test.astype('float32')/255"
      ],
      "execution_count": 0,
      "outputs": []
    },
    {
      "cell_type": "code",
      "metadata": {
        "id": "OA7POYXHr0jv",
        "colab_type": "code",
        "colab": {},
        "outputId": "952036e8-dab2-429d-866d-d1acf5e7b51c"
      },
      "source": [
        "score = model.evaluate(X_test, labels_test, verbose=0)\n",
        "accuracy = 100*score[1]\n",
        "print('Precisión sin entrenamiento', accuracy)"
      ],
      "execution_count": 0,
      "outputs": [
        {
          "output_type": "stream",
          "text": [
            "Precisión sin entrenamiento 4.600158333778381\n"
          ],
          "name": "stdout"
        }
      ]
    },
    {
      "cell_type": "code",
      "metadata": {
        "id": "JVJwpl4Yr0jx",
        "colab_type": "code",
        "colab": {}
      },
      "source": [
        "from keras.callbacks import ModelCheckpoint, EarlyStopping\n",
        "checkpointer = ModelCheckpoint(filepath='signals.hdf5', verbose=1, save_best_only=True)"
      ],
      "execution_count": 0,
      "outputs": []
    },
    {
      "cell_type": "code",
      "metadata": {
        "id": "RSA9jrx9r0j0",
        "colab_type": "code",
        "colab": {}
      },
      "source": [
        "monitor=EarlyStopping(monitor='val_loss',min_delta=1e-3,patience=5,verbose=1,mode='auto')"
      ],
      "execution_count": 0,
      "outputs": []
    },
    {
      "cell_type": "code",
      "metadata": {
        "id": "H2_KWBwqr0j2",
        "colab_type": "code",
        "colab": {},
        "outputId": "b810544a-69d2-4d24-d261-71143128a902"
      },
      "source": [
        "epochs = 20\n",
        "\n",
        "historico_train = model.fit(X_train, label_X, \n",
        "                              batch_size = 32,  \n",
        "                              epochs = epochs,\n",
        "                              validation_data = (X_valid, label_valid), callbacks = [checkpointer, monitor])"
      ],
      "execution_count": 0,
      "outputs": [
        {
          "output_type": "stream",
          "text": [
            "Train on 31367 samples, validate on 7842 samples\n",
            "Epoch 1/20\n",
            "31367/31367 [==============================] - 6s 207us/step - loss: 0.1512 - accuracy: 0.9740 - val_loss: 0.0446 - val_accuracy: 0.9959\n",
            "\n",
            "Epoch 00001: val_loss did not improve from 0.03966\n",
            "Epoch 2/20\n",
            "31367/31367 [==============================] - 6s 197us/step - loss: 0.1070 - accuracy: 0.9800 - val_loss: 0.0456 - val_accuracy: 0.9953\n",
            "\n",
            "Epoch 00002: val_loss did not improve from 0.03966\n",
            "Epoch 3/20\n",
            "31367/31367 [==============================] - 6s 191us/step - loss: 0.0920 - accuracy: 0.9819 - val_loss: 0.0680 - val_accuracy: 0.9893\n",
            "\n",
            "Epoch 00003: val_loss did not improve from 0.03966\n",
            "Epoch 4/20\n",
            "31367/31367 [==============================] - 6s 193us/step - loss: 0.0871 - accuracy: 0.9832 - val_loss: 0.0404 - val_accuracy: 0.9967\n",
            "\n",
            "Epoch 00004: val_loss did not improve from 0.03966\n",
            "Epoch 5/20\n",
            "31367/31367 [==============================] - 6s 194us/step - loss: 0.0739 - accuracy: 0.9850 - val_loss: 0.0528 - val_accuracy: 0.9918\n",
            "\n",
            "Epoch 00005: val_loss did not improve from 0.03966\n",
            "Epoch 6/20\n",
            "31367/31367 [==============================] - 6s 195us/step - loss: 0.0854 - accuracy: 0.9828 - val_loss: 0.0390 - val_accuracy: 0.9953\n",
            "\n",
            "Epoch 00006: val_loss improved from 0.03966 to 0.03901, saving model to signals.hdf5\n",
            "Epoch 7/20\n",
            "31367/31367 [==============================] - 6s 193us/step - loss: 0.0828 - accuracy: 0.9852 - val_loss: 0.0526 - val_accuracy: 0.9918\n",
            "\n",
            "Epoch 00007: val_loss did not improve from 0.03901\n",
            "Epoch 8/20\n",
            "31367/31367 [==============================] - 6s 192us/step - loss: 0.0593 - accuracy: 0.9884 - val_loss: 0.0411 - val_accuracy: 0.9955\n",
            "\n",
            "Epoch 00008: val_loss did not improve from 0.03901\n",
            "Epoch 9/20\n",
            "31367/31367 [==============================] - 6s 195us/step - loss: 0.0567 - accuracy: 0.9878 - val_loss: 0.0387 - val_accuracy: 0.9962\n",
            "\n",
            "Epoch 00009: val_loss improved from 0.03901 to 0.03870, saving model to signals.hdf5\n",
            "Epoch 10/20\n",
            "31367/31367 [==============================] - 6s 199us/step - loss: 0.0715 - accuracy: 0.9855 - val_loss: 0.0418 - val_accuracy: 0.9943\n",
            "\n",
            "Epoch 00010: val_loss did not improve from 0.03870\n",
            "Epoch 11/20\n",
            "31367/31367 [==============================] - 6s 195us/step - loss: 0.0592 - accuracy: 0.9885 - val_loss: 0.0294 - val_accuracy: 0.9958\n",
            "\n",
            "Epoch 00011: val_loss improved from 0.03870 to 0.02943, saving model to signals.hdf5\n",
            "Epoch 12/20\n",
            "31367/31367 [==============================] - 6s 190us/step - loss: 0.0630 - accuracy: 0.9870 - val_loss: 0.0405 - val_accuracy: 0.9932\n",
            "\n",
            "Epoch 00012: val_loss did not improve from 0.02943\n",
            "Epoch 13/20\n",
            "31367/31367 [==============================] - 6s 194us/step - loss: 0.0501 - accuracy: 0.9889 - val_loss: 0.0421 - val_accuracy: 0.9957\n",
            "\n",
            "Epoch 00013: val_loss did not improve from 0.02943\n",
            "Epoch 14/20\n",
            "31367/31367 [==============================] - 6s 190us/step - loss: 0.0575 - accuracy: 0.9875 - val_loss: 0.0411 - val_accuracy: 0.9967\n",
            "\n",
            "Epoch 00014: val_loss did not improve from 0.02943\n",
            "Epoch 15/20\n",
            "31367/31367 [==============================] - 6s 194us/step - loss: 0.0509 - accuracy: 0.9894 - val_loss: 0.0442 - val_accuracy: 0.9964\n",
            "\n",
            "Epoch 00015: val_loss did not improve from 0.02943\n",
            "Epoch 16/20\n",
            "31367/31367 [==============================] - 6s 194us/step - loss: 0.0792 - accuracy: 0.9829 - val_loss: 0.0383 - val_accuracy: 0.9953\n",
            "\n",
            "Epoch 00016: val_loss did not improve from 0.02943\n",
            "Epoch 00016: early stopping\n"
          ],
          "name": "stdout"
        }
      ]
    },
    {
      "cell_type": "code",
      "metadata": {
        "id": "InHwMph7r0j5",
        "colab_type": "code",
        "colab": {},
        "outputId": "729785b8-4727-407e-b944-117f1cc076e8"
      },
      "source": [
        "#precisión del modelo en cada epoca\n",
        "historico_train.history['accuracy']"
      ],
      "execution_count": 0,
      "outputs": [
        {
          "output_type": "execute_result",
          "data": {
            "text/plain": [
              "[0.97395355,\n",
              " 0.979979,\n",
              " 0.9818918,\n",
              " 0.98316705,\n",
              " 0.9849842,\n",
              " 0.98275256,\n",
              " 0.9852074,\n",
              " 0.98836356,\n",
              " 0.9877897,\n",
              " 0.9855262,\n",
              " 0.98852295,\n",
              " 0.9869927,\n",
              " 0.98893744,\n",
              " 0.98753464,\n",
              " 0.98944753,\n",
              " 0.98294383]"
            ]
          },
          "metadata": {
            "tags": []
          },
          "execution_count": 69
        }
      ]
    },
    {
      "cell_type": "code",
      "metadata": {
        "id": "00k_MfG2r0j7",
        "colab_type": "code",
        "colab": {},
        "outputId": "edcd4732-8910-45bb-e1e3-dbe71c12bc8e"
      },
      "source": [
        "labels_test_oh = to_categorical(labels_test,43)\n",
        "score = model.evaluate(X_test, labels_test_oh, verbose=0)\n",
        "accuracy = 100*score[1]\n",
        "print('Precisión con entrenamiento', accuracy)"
      ],
      "execution_count": 0,
      "outputs": [
        {
          "output_type": "stream",
          "text": [
            "Precisión con entrenamiento 97.3792552947998\n"
          ],
          "name": "stdout"
        }
      ]
    },
    {
      "cell_type": "code",
      "metadata": {
        "id": "c_UKVyRQr0j-",
        "colab_type": "code",
        "colab": {},
        "outputId": "226294f9-93f1-46ce-abb6-44ff50907040"
      },
      "source": [
        "# Plot de las metricas de precisión y perdida.\n",
        "plt.figure(0)\n",
        "plt.plot(historico_train.history['accuracy'], label = 'Precisión en entrenamiento')\n",
        "plt.plot(historico_train.history['val_accuracy'], label = 'Precisión em Validación')\n",
        "plt.title('Precisión de el Modelo')\n",
        "plt.xlabel('Epochs')\n",
        "plt.ylabel('Precisión')\n",
        "plt.legend()\n",
        "\n",
        "plt.figure(1)\n",
        "plt.plot(historico_train.history['loss'], label = 'Error en entrenamiento')\n",
        "plt.plot(historico_train.history['val_loss'], label = 'Error en Validación')\n",
        "plt.title('Error del Modelo')\n",
        "plt.xlabel('Epochs')\n",
        "plt.ylabel('Error (Loss)')\n",
        "plt.legend()\n",
        "plt.show()"
      ],
      "execution_count": 0,
      "outputs": [
        {
          "output_type": "display_data",
          "data": {
            "image/png": "[encoded data removed]",
            "text/plain": [
              "<Figure size 432x288 with 1 Axes>"
            ]
          },
          "metadata": {
            "tags": []
          }
        },
        {
          "output_type": "display_data",
          "data": {
            "image/png": "[encoded data removed]",
            "text/plain": [
              "<Figure size 432x288 with 1 Axes>"
            ]
          },
          "metadata": {
            "tags": []
          }
        }
      ]
    },
    {
      "cell_type": "code",
      "metadata": {
        "id": "VCN3IR7tr0kF",
        "colab_type": "code",
        "colab": {}
      },
      "source": [
        "predicciones = model.predict_classes(X_test)"
      ],
      "execution_count": 0,
      "outputs": []
    },
    {
      "cell_type": "code",
      "metadata": {
        "id": "I_T3WJztr0kI",
        "colab_type": "code",
        "colab": {},
        "outputId": "1a2e7c47-cb45-43f2-f3df-b7b89c6c057d"
      },
      "source": [
        "# Precisión en teste\n",
        "accuracy_score(labels_test, predicciones)"
      ],
      "execution_count": 0,
      "outputs": [
        {
          "output_type": "execute_result",
          "data": {
            "text/plain": [
              "0.9737925574030087"
            ]
          },
          "metadata": {
            "tags": []
          },
          "execution_count": 75
        }
      ]
    },
    {
      "cell_type": "code",
      "metadata": {
        "id": "3Ld9Bx9yr0kK",
        "colab_type": "code",
        "colab": {}
      },
      "source": [
        ""
      ],
      "execution_count": 0,
      "outputs": []
    }
  ]
}