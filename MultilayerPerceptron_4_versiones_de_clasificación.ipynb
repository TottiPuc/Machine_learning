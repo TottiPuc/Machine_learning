{
  "nbformat": 4,
  "nbformat_minor": 0,
  "metadata": {
    "colab": {
      "name": "MultilayerPerceptron_4_versiones_de_clasificación.ipynb",
      "provenance": [],
      "authorship_tag": "ABX9TyMamGWhAQeMkyZQBO7paH5F",
      "include_colab_link": true
    },
    "kernelspec": {
      "name": "python3",
      "display_name": "Python 3"
    }
  },
  "cells": [
    {
      "cell_type": "markdown",
      "metadata": {
        "id": "view-in-github",
        "colab_type": "text"
      },
      "source": [
        "<a href=\"https://colab.research.google.com/github/TottiPuc/Machine_learning/blob/master/MultilayerPerceptron_4_versiones_de_clasificaci%C3%B3n.ipynb\" target=\"_parent\"><img src=\"https://colab.research.google.com/assets/colab-badge.svg\" alt=\"Open In Colab\"/></a>"
      ]
    },
    {
      "cell_type": "markdown",
      "metadata": {
        "id": "N2kkIqYz7ySR",
        "colab_type": "text"
      },
      "source": [
        "#Multilayer peceptron version 1\n",
        "Este primer modelo sera construido apenas con una capa oculta \n"
      ]
    },
    {
      "cell_type": "code",
      "metadata": {
        "id": "f1YiB5nO7pWV",
        "colab_type": "code",
        "colab": {}
      },
      "source": [
        "import numpy as np\n",
        "import tensorflow as tf\n",
        "from keras.utils import np_utils\n",
        "import matplotlib.pyplot as plt"
      ],
      "execution_count": 0,
      "outputs": []
    },
    {
      "cell_type": "markdown",
      "metadata": {
        "id": "WXNpV0EY90vo",
        "colab_type": "text"
      },
      "source": [
        "imponiendo semilla para reproduzir resultados"
      ]
    },
    {
      "cell_type": "code",
      "metadata": {
        "id": "OuHyTdA-8MdI",
        "colab_type": "code",
        "colab": {}
      },
      "source": [
        "np.random.seed(1671)"
      ],
      "execution_count": 0,
      "outputs": []
    },
    {
      "cell_type": "markdown",
      "metadata": {
        "id": "AxQwYBsSAV_W",
        "colab_type": "text"
      },
      "source": [
        "Parametros de la red y de la etapa de entrenamiento"
      ]
    },
    {
      "cell_type": "code",
      "metadata": {
        "id": "PiVyutfyAU6d",
        "colab_type": "code",
        "colab": {}
      },
      "source": [
        "N_EPOCH = 200     # numero de iteraciones\n",
        "BATCH_SIZE=128    # tamaño de cada lote por iteración\n",
        "VERBOSE = 1       # se pone en uno para ver los resultados\n",
        "N_CLASSES= 10     # numero de etiquetas del conjunto de entrenamiento\n",
        "N_HIDDEN = 128    # número de neurones ocultos \n",
        "VALIDATION_SPLIT=0.2  # división del dataset en este caso 20% para teste\n"
      ],
      "execution_count": 0,
      "outputs": []
    },
    {
      "cell_type": "markdown",
      "metadata": {
        "id": "vMrOvR9TBDHX",
        "colab_type": "text"
      },
      "source": [
        "Generando dataset de entrenamiento y test"
      ]
    },
    {
      "cell_type": "code",
      "metadata": {
        "id": "Qc37rxX_BBus",
        "colab_type": "code",
        "colab": {}
      },
      "source": [
        "(x_train,y_train),(x_test,y_test) = tf.keras.datasets.mnist.load_data()"
      ],
      "execution_count": 0,
      "outputs": []
    },
    {
      "cell_type": "code",
      "metadata": {
        "id": "pZ9i6XC3BWO9",
        "colab_type": "code",
        "colab": {
          "base_uri": "https://localhost:8080/",
          "height": 34
        },
        "outputId": "897afb1e-17bf-47c2-f235-5df4e3c667bb"
      },
      "source": [
        "x_train.shape"
      ],
      "execution_count": 5,
      "outputs": [
        {
          "output_type": "execute_result",
          "data": {
            "text/plain": [
              "(60000, 28, 28)"
            ]
          },
          "metadata": {
            "tags": []
          },
          "execution_count": 5
        }
      ]
    },
    {
      "cell_type": "markdown",
      "metadata": {
        "id": "-sjPl7R9Bpb0",
        "colab_type": "text"
      },
      "source": [
        "Como tenemos 60000 imagenes de 28x28 la entrada de la red debe ser en un unico vector por eso lo convertimos en un array de 60000x784, (28x28=784)"
      ]
    },
    {
      "cell_type": "code",
      "metadata": {
        "id": "A0NU9VOXBn-D",
        "colab_type": "code",
        "colab": {}
      },
      "source": [
        "RESHAPE=784\n",
        "x_train = x_train.reshape(60000,RESHAPE)\n",
        "x_test = x_test.reshape(10000, RESHAPE)\n",
        "x_train = x_train.astype('float32')\n",
        "x_test = x_test.astype('float32')"
      ],
      "execution_count": 0,
      "outputs": []
    },
    {
      "cell_type": "code",
      "metadata": {
        "id": "cu98kgNCCfla",
        "colab_type": "code",
        "colab": {
          "base_uri": "https://localhost:8080/",
          "height": 51
        },
        "outputId": "a8502afc-bb2e-4af3-d09b-d286993ee252"
      },
      "source": [
        "#normalizando los datos\n",
        "x_train /= 255\n",
        "x_test /= 255\n",
        "print(x_train.shape[0], 'ejemplos de datos de entrenamiento')\n",
        "print(x_test.shape[0],'ejemplos de datos de test')"
      ],
      "execution_count": 7,
      "outputs": [
        {
          "output_type": "stream",
          "text": [
            "60000 ejemplos de datos de entrenamiento\n",
            "10000 ejemplos de datos de test\n"
          ],
          "name": "stdout"
        }
      ]
    },
    {
      "cell_type": "markdown",
      "metadata": {
        "id": "2iXowwWtD8IZ",
        "colab_type": "text"
      },
      "source": [
        "Aplicamos la tecnica de one-hot encoding para convertir las clases en matrices que serán entregadas al conjunto de entrenamiento y de teste"
      ]
    },
    {
      "cell_type": "code",
      "metadata": {
        "id": "FNJHlPIrCtYd",
        "colab_type": "code",
        "colab": {}
      },
      "source": [
        "y_train = np_utils.to_categorical(y_train,N_CLASSES)\n",
        "y_test = np_utils.to_categorical(y_test,N_CLASSES)"
      ],
      "execution_count": 0,
      "outputs": []
    },
    {
      "cell_type": "markdown",
      "metadata": {
        "id": "Q-sLbl3zEZxU",
        "colab_type": "text"
      },
      "source": [
        "Creamos nuestro modelo de una unica capa oculta"
      ]
    },
    {
      "cell_type": "code",
      "metadata": {
        "id": "A18VLZwwEXl8",
        "colab_type": "code",
        "colab": {}
      },
      "source": [
        "model = tf.keras.models.Sequential()\n",
        "model.add(tf.keras.layers.Dense(N_CLASSES, input_shape=(RESHAPE,)))\n",
        "model.add(tf.keras.layers.Activation('softmax'))"
      ],
      "execution_count": 0,
      "outputs": []
    },
    {
      "cell_type": "code",
      "metadata": {
        "id": "xcfvFLFVErmZ",
        "colab_type": "code",
        "colab": {
          "base_uri": "https://localhost:8080/",
          "height": 221
        },
        "outputId": "ae96c39e-d89d-41cb-899d-ed1fc05e8876"
      },
      "source": [
        "model.summary()"
      ],
      "execution_count": 10,
      "outputs": [
        {
          "output_type": "stream",
          "text": [
            "Model: \"sequential\"\n",
            "_________________________________________________________________\n",
            "Layer (type)                 Output Shape              Param #   \n",
            "=================================================================\n",
            "dense (Dense)                (None, 10)                7850      \n",
            "_________________________________________________________________\n",
            "activation (Activation)      (None, 10)                0         \n",
            "=================================================================\n",
            "Total params: 7,850\n",
            "Trainable params: 7,850\n",
            "Non-trainable params: 0\n",
            "_________________________________________________________________\n"
          ],
          "name": "stdout"
        }
      ]
    },
    {
      "cell_type": "markdown",
      "metadata": {
        "id": "5g68Kc7GFa8b",
        "colab_type": "text"
      },
      "source": [
        "Creamos el compilador"
      ]
    },
    {
      "cell_type": "code",
      "metadata": {
        "id": "R823Won9FGXd",
        "colab_type": "code",
        "colab": {}
      },
      "source": [
        "model.compile(optimizer=tf.keras.optimizers.SGD(), loss='categorical_crossentropy',metrics=['accuracy'])"
      ],
      "execution_count": 0,
      "outputs": []
    },
    {
      "cell_type": "markdown",
      "metadata": {
        "id": "JHjjKfllF6T5",
        "colab_type": "text"
      },
      "source": [
        "Entrenamos nuestro modelo con la funcion fit()"
      ]
    },
    {
      "cell_type": "code",
      "metadata": {
        "id": "9pL5vozTFzLp",
        "colab_type": "code",
        "colab": {}
      },
      "source": [
        "modelo_v1=model.fit(x_train,y_train,batch_size=BATCH_SIZE,epochs=N_EPOCH,verbose=VERBOSE,validation_split=VALIDATION_SPLIT)"
      ],
      "execution_count": 0,
      "outputs": []
    },
    {
      "cell_type": "markdown",
      "metadata": {
        "id": "LuJUkOUxG8V-",
        "colab_type": "text"
      },
      "source": [
        "Analisamos el rendimiento del modelo con los datos de teste"
      ]
    },
    {
      "cell_type": "code",
      "metadata": {
        "id": "y10BSnkcGUDZ",
        "colab_type": "code",
        "colab": {
          "base_uri": "https://localhost:8080/",
          "height": 102
        },
        "outputId": "699653c8-f8d0-4e67-9d2d-ec7d8e6af823"
      },
      "source": [
        "score = model.evaluate(x_test,y_test,verbose=VERBOSE)\n",
        "#imprimimos la perdida y la tasa de acierto\n",
        "print(\"\\nTeste score:\" ,score[0])\n",
        "print(\"\\nTeste tasa de acierto: \", score[1])"
      ],
      "execution_count": 13,
      "outputs": [
        {
          "output_type": "stream",
          "text": [
            "313/313 [==============================] - 0s 1ms/step - loss: 0.2770 - accuracy: 0.9225\n",
            "\n",
            "Teste score: 0.276999831199646\n",
            "\n",
            "Teste tasa de acierto:  0.9225000143051147\n"
          ],
          "name": "stdout"
        }
      ]
    },
    {
      "cell_type": "markdown",
      "metadata": {
        "id": "loCNaouoKNGW",
        "colab_type": "text"
      },
      "source": [
        "# Multilayer perceptron version 2"
      ]
    },
    {
      "cell_type": "markdown",
      "metadata": {
        "id": "reIdeQeAKS0H",
        "colab_type": "text"
      },
      "source": [
        "En esta nueva versión vamos a mejorar la red anterior de una sola capa oculta, adicionando 2 capas ocultas y la funcion de activación ReLu"
      ]
    },
    {
      "cell_type": "code",
      "metadata": {
        "id": "zxhxmQ7HKHRW",
        "colab_type": "code",
        "colab": {}
      },
      "source": [
        "#Usando las variables e hiperparametros arriba configurados crearemos una nueva red para mejorar la precisión del modelo de la versión 1\n",
        "\n",
        "#Creamos la arquitectura de la nueva red\n",
        "\n",
        "model_2 = tf.keras.Sequential()\n",
        "model_2.add(tf.keras.layers.Dense(N_HIDDEN,input_shape=(RESHAPE,)))\n",
        "model_2.add(tf.keras.layers.Activation('relu'))\n",
        "model_2.add(tf.keras.layers.Dense(N_HIDDEN))\n",
        "model_2.add(tf.keras.layers.Activation('relu'))\n",
        "model_2.add(tf.keras.layers.Dense(N_CLASSES))\n",
        "model_2.add(tf.keras.layers.Activation('softmax'))\n"
      ],
      "execution_count": 0,
      "outputs": []
    },
    {
      "cell_type": "code",
      "metadata": {
        "id": "DqrxriOIMfNK",
        "colab_type": "code",
        "colab": {
          "base_uri": "https://localhost:8080/",
          "height": 357
        },
        "outputId": "fe6b9431-b87c-42b4-c629-7ff553555b60"
      },
      "source": [
        "model_2.summary()"
      ],
      "execution_count": 15,
      "outputs": [
        {
          "output_type": "stream",
          "text": [
            "Model: \"sequential_1\"\n",
            "_________________________________________________________________\n",
            "Layer (type)                 Output Shape              Param #   \n",
            "=================================================================\n",
            "dense_1 (Dense)              (None, 128)               100480    \n",
            "_________________________________________________________________\n",
            "activation_1 (Activation)    (None, 128)               0         \n",
            "_________________________________________________________________\n",
            "dense_2 (Dense)              (None, 128)               16512     \n",
            "_________________________________________________________________\n",
            "activation_2 (Activation)    (None, 128)               0         \n",
            "_________________________________________________________________\n",
            "dense_3 (Dense)              (None, 10)                1290      \n",
            "_________________________________________________________________\n",
            "activation_3 (Activation)    (None, 10)                0         \n",
            "=================================================================\n",
            "Total params: 118,282\n",
            "Trainable params: 118,282\n",
            "Non-trainable params: 0\n",
            "_________________________________________________________________\n"
          ],
          "name": "stdout"
        }
      ]
    },
    {
      "cell_type": "code",
      "metadata": {
        "id": "JphBxFK6Mhk1",
        "colab_type": "code",
        "colab": {}
      },
      "source": [
        "model_2.compile(optimizer=tf.keras.optimizers.SGD(),loss='categorical_crossentropy',metrics=['accuracy'])"
      ],
      "execution_count": 0,
      "outputs": []
    },
    {
      "cell_type": "code",
      "metadata": {
        "id": "lCoFSk8sM8BB",
        "colab_type": "code",
        "colab": {}
      },
      "source": [
        "model_v2 = model_2.fit(x_train,y_train,batch_size=BATCH_SIZE,epochs=N_EPOCH,verbose=VERBOSE,validation_split=VALIDATION_SPLIT)"
      ],
      "execution_count": 0,
      "outputs": []
    },
    {
      "cell_type": "code",
      "metadata": {
        "id": "XD2voI3aNdJV",
        "colab_type": "code",
        "colab": {
          "base_uri": "https://localhost:8080/",
          "height": 102
        },
        "outputId": "29d711e3-3b60-41c4-e6f6-e9a5a35ce4e2"
      },
      "source": [
        "score = model_2.evaluate(x_test,y_test, verbose=VERBOSE)\n",
        "#imprimimos la perdida y la tasa de acierto\n",
        "print(\"\\nTeste score:\" ,score[0])\n",
        "print(\"\\nTeste tasa de acierto: \", score[1])"
      ],
      "execution_count": 21,
      "outputs": [
        {
          "output_type": "stream",
          "text": [
            "313/313 [==============================] - 0s 1ms/step - loss: 0.0781 - accuracy: 0.9757\n",
            "\n",
            "Teste score: 0.07806980609893799\n",
            "\n",
            "Teste tasa de acierto:  0.9757000207901001\n"
          ],
          "name": "stdout"
        }
      ]
    },
    {
      "cell_type": "markdown",
      "metadata": {
        "id": "Jc6nuN2yOxi-",
        "colab_type": "text"
      },
      "source": [
        "#Multilayer perceptron versión 3\n",
        "\n",
        "como se observa aumentando el número de capas ocultas de la red la precisión de esta mejora considerablemente en esta nueva versión mejoraremos aun mas con una nueva red que adiciona una capa de dropuot en las capas ocultas y aumenta el numero de epocas, esto con el fin de regularizar el entrenamiento y evitar el overfiting "
      ]
    },
    {
      "cell_type": "code",
      "metadata": {
        "id": "KyQTR-V_Oq5l",
        "colab_type": "code",
        "colab": {}
      },
      "source": [
        "#Usando las variables e hiperparametros arriba configurados solo modificamos el numero de epocas y crearemos una nueva red para mejorar la precisión del modelo de la versión 2\n",
        "\n",
        "#Creamos la arquitectura de la nueva red\n",
        "\n",
        "N_EPOCH = 250\n",
        "DROPOUT = 0.3\n",
        "\n",
        "model_3 = tf.keras.Sequential()\n",
        "model_3.add(tf.keras.layers.Dense(N_HIDDEN,input_shape=(RESHAPE,)))\n",
        "model_3.add(tf.keras.layers.Activation('relu'))\n",
        "model_3.add(tf.keras.layers.Dropout(DROPOUT))\n",
        "model_3.add(tf.keras.layers.Dense(N_HIDDEN))\n",
        "model_3.add(tf.keras.layers.Activation('relu'))\n",
        "model_3.add(tf.keras.layers.Dropout(DROPOUT))\n",
        "model_3.add(tf.keras.layers.Dense(N_CLASSES))\n",
        "model_3.add(tf.keras.layers.Activation('softmax'))"
      ],
      "execution_count": 0,
      "outputs": []
    },
    {
      "cell_type": "code",
      "metadata": {
        "id": "W9TdqK_6R-gm",
        "colab_type": "code",
        "colab": {
          "base_uri": "https://localhost:8080/",
          "height": 425
        },
        "outputId": "9584ec80-c63d-471a-b9ab-bacadd2b6964"
      },
      "source": [
        "model_3.summary()"
      ],
      "execution_count": 23,
      "outputs": [
        {
          "output_type": "stream",
          "text": [
            "Model: \"sequential_2\"\n",
            "_________________________________________________________________\n",
            "Layer (type)                 Output Shape              Param #   \n",
            "=================================================================\n",
            "dense_4 (Dense)              (None, 128)               100480    \n",
            "_________________________________________________________________\n",
            "activation_4 (Activation)    (None, 128)               0         \n",
            "_________________________________________________________________\n",
            "dropout (Dropout)            (None, 128)               0         \n",
            "_________________________________________________________________\n",
            "dense_5 (Dense)              (None, 128)               16512     \n",
            "_________________________________________________________________\n",
            "activation_5 (Activation)    (None, 128)               0         \n",
            "_________________________________________________________________\n",
            "dropout_1 (Dropout)          (None, 128)               0         \n",
            "_________________________________________________________________\n",
            "dense_6 (Dense)              (None, 10)                1290      \n",
            "_________________________________________________________________\n",
            "activation_6 (Activation)    (None, 10)                0         \n",
            "=================================================================\n",
            "Total params: 118,282\n",
            "Trainable params: 118,282\n",
            "Non-trainable params: 0\n",
            "_________________________________________________________________\n"
          ],
          "name": "stdout"
        }
      ]
    },
    {
      "cell_type": "code",
      "metadata": {
        "id": "BTuejeXISA3f",
        "colab_type": "code",
        "colab": {}
      },
      "source": [
        "model_3.compile(optimizer=tf.keras.optimizers.SGD(),loss='categorical_crossentropy',metrics=['accuracy'])"
      ],
      "execution_count": 0,
      "outputs": []
    },
    {
      "cell_type": "code",
      "metadata": {
        "id": "U1yLXslPSJS6",
        "colab_type": "code",
        "colab": {}
      },
      "source": [
        "model_v3 = model_3.fit(x_train,y_train,batch_size=BATCH_SIZE,epochs=N_EPOCH,verbose=VERBOSE,validation_split=VALIDATION_SPLIT)"
      ],
      "execution_count": 0,
      "outputs": []
    },
    {
      "cell_type": "code",
      "metadata": {
        "id": "lbF3hx4NSOnp",
        "colab_type": "code",
        "colab": {
          "base_uri": "https://localhost:8080/",
          "height": 102
        },
        "outputId": "34ec9b0f-c6df-4ba4-ebff-ffcc057888e3"
      },
      "source": [
        "score = model_2.evaluate(x_test,y_test, verbose=VERBOSE)\n",
        "#imprimimos la perdida y la tasa de acierto\n",
        "print(\"\\nTeste score:\" ,score[0])\n",
        "print(\"\\nTeste tasa de acierto: \", score[1])"
      ],
      "execution_count": 26,
      "outputs": [
        {
          "output_type": "stream",
          "text": [
            "313/313 [==============================] - 0s 1ms/step - loss: 0.0781 - accuracy: 0.9757\n",
            "\n",
            "Teste score: 0.07806980609893799\n",
            "\n",
            "Teste tasa de acierto:  0.9757000207901001\n"
          ],
          "name": "stdout"
        }
      ]
    },
    {
      "cell_type": "markdown",
      "metadata": {
        "id": "WL9GaWqDTdhO",
        "colab_type": "text"
      },
      "source": [
        "Graficamos como el error del modelo se va estabilizando a medida que la epocas avanzan "
      ]
    },
    {
      "cell_type": "code",
      "metadata": {
        "id": "lz7O_V7TTaQK",
        "colab_type": "code",
        "colab": {
          "base_uri": "https://localhost:8080/",
          "height": 295
        },
        "outputId": "1fcf2335-36ce-488a-9d55-e849070fed09"
      },
      "source": [
        "plt.plot(model_v3.history['loss'])\n",
        "plt.plot(model_v3.history['val_loss'])\n",
        "plt.title('Perdidas del modelo')\n",
        "plt.ylabel('Perdidas')\n",
        "plt.xlabel('Epocas')\n",
        "plt.legend(['entrenamiento','teste'], loc='upper left')\n",
        "plt.show()"
      ],
      "execution_count": 30,
      "outputs": [
        {
          "output_type": "display_data",
          "data": {
            "image/png": "[encoded data removed]",
            "text/plain": [
              "<Figure size 432x288 with 1 Axes>"
            ]
          },
          "metadata": {
            "tags": []
          }
        }
      ]
    },
    {
      "cell_type": "markdown",
      "metadata": {
        "id": "UopGNUwPU-Tf",
        "colab_type": "text"
      },
      "source": [
        "#Multilayer perceptron versión 4\n",
        "En esta nueva versión de la red vamos a alterar el optimizador, las tres anteriores usaron el SGD, en esta ocasión vamos a usar los optimizadores RMSprop y ADAM que son una version mejorada del optimizador SGD"
      ]
    },
    {
      "cell_type": "code",
      "metadata": {
        "id": "ohbuUw1dURw8",
        "colab_type": "code",
        "colab": {}
      },
      "source": [
        "#Usando las variables e hiperparametros arriba configurados solo modificamos los optimizadores y crearemos una nueva red para mejorar la precisión del modelo de la versión 3\n",
        "\n",
        "#Creamos la arquitectura de la nueva red\n",
        "\n",
        "N_EPOCH = 250\n",
        "DROPOUT = 0.3\n",
        "\n",
        "model_4 = tf.keras.Sequential()\n",
        "model_4.add(tf.keras.layers.Dense(N_HIDDEN,input_shape=(RESHAPE,)))\n",
        "model_4.add(tf.keras.layers.Activation('relu'))\n",
        "model_4.add(tf.keras.layers.Dropout(DROPOUT))\n",
        "model_4.add(tf.keras.layers.Dense(N_HIDDEN))\n",
        "model_4.add(tf.keras.layers.Activation('relu'))\n",
        "model_4.add(tf.keras.layers.Dropout(DROPOUT))\n",
        "model_4.add(tf.keras.layers.Dense(N_CLASSES))\n",
        "model_4.add(tf.keras.layers.Activation('softmax'))"
      ],
      "execution_count": 0,
      "outputs": []
    },
    {
      "cell_type": "code",
      "metadata": {
        "id": "fyl2EjvyVt2R",
        "colab_type": "code",
        "colab": {
          "base_uri": "https://localhost:8080/",
          "height": 425
        },
        "outputId": "85715b4e-a8e3-48dc-8815-ed1b5c7794c2"
      },
      "source": [
        "model_4.summary()"
      ],
      "execution_count": 33,
      "outputs": [
        {
          "output_type": "stream",
          "text": [
            "Model: \"sequential_4\"\n",
            "_________________________________________________________________\n",
            "Layer (type)                 Output Shape              Param #   \n",
            "=================================================================\n",
            "dense_10 (Dense)             (None, 128)               100480    \n",
            "_________________________________________________________________\n",
            "activation_10 (Activation)   (None, 128)               0         \n",
            "_________________________________________________________________\n",
            "dropout_4 (Dropout)          (None, 128)               0         \n",
            "_________________________________________________________________\n",
            "dense_11 (Dense)             (None, 128)               16512     \n",
            "_________________________________________________________________\n",
            "activation_11 (Activation)   (None, 128)               0         \n",
            "_________________________________________________________________\n",
            "dropout_5 (Dropout)          (None, 128)               0         \n",
            "_________________________________________________________________\n",
            "dense_12 (Dense)             (None, 10)                1290      \n",
            "_________________________________________________________________\n",
            "activation_12 (Activation)   (None, 10)                0         \n",
            "=================================================================\n",
            "Total params: 118,282\n",
            "Trainable params: 118,282\n",
            "Non-trainable params: 0\n",
            "_________________________________________________________________\n"
          ],
          "name": "stdout"
        }
      ]
    },
    {
      "cell_type": "markdown",
      "metadata": {
        "id": "IQ09M5Z5V_fU",
        "colab_type": "text"
      },
      "source": [
        "Es en la compilación donde vamos a intentar mejorar el modelo esta vez cambiando para un optimizador RMSprop o Adam"
      ]
    },
    {
      "cell_type": "code",
      "metadata": {
        "id": "p1-IAhpBV35Y",
        "colab_type": "code",
        "colab": {}
      },
      "source": [
        "#model_4.compile(optimizer=tf.keras.optimizers.RMSprop(),loss='categorical_crossentropy',metrics=['accuracy'])\n",
        "model_4.compile(optimizer=tf.keras.optimizers.Adam(),loss='categorical_crossentropy',metrics=['accuracy'])"
      ],
      "execution_count": 0,
      "outputs": []
    },
    {
      "cell_type": "code",
      "metadata": {
        "id": "LjkxxT3xV-xX",
        "colab_type": "code",
        "colab": {}
      },
      "source": [
        "model_v4 = model_4.fit(x_train,y_train,batch_size=BATCH_SIZE,epochs=N_EPOCH,verbose=VERBOSE,validation_split=VALIDATION_SPLIT)"
      ],
      "execution_count": 0,
      "outputs": []
    },
    {
      "cell_type": "code",
      "metadata": {
        "id": "X4En0NYPWT1J",
        "colab_type": "code",
        "colab": {
          "base_uri": "https://localhost:8080/",
          "height": 102
        },
        "outputId": "69501bde-7f98-4c24-c4ef-d34c7e997a6a"
      },
      "source": [
        "score = model_2.evaluate(x_test,y_test, verbose=VERBOSE)\n",
        "#imprimimos la perdida y la tasa de acierto\n",
        "print(\"\\nTeste score:\" ,score[0])\n",
        "print(\"\\nTeste tasa de acierto: \", score[1])"
      ],
      "execution_count": 41,
      "outputs": [
        {
          "output_type": "stream",
          "text": [
            "313/313 [==============================] - 0s 1ms/step - loss: 0.0781 - accuracy: 0.9757\n",
            "\n",
            "Teste score: 0.07806980609893799\n",
            "\n",
            "Teste tasa de acierto:  0.9757000207901001\n"
          ],
          "name": "stdout"
        }
      ]
    },
    {
      "cell_type": "markdown",
      "metadata": {
        "id": "Ofe3J3wyYJ4M",
        "colab_type": "text"
      },
      "source": [
        "Con esta nueva configuracion cambiando el optimizador para RMSprop no se obtuvieron mejoras con respecto al modelo 3. \n",
        "Por otro lado con el optimizador Adam se obtuvo un rendimiento ligeramente mayor de casi 1% en la etapa de entrenamiento que en grandes conjuntos de datos resulta ser bastante prometedor pero en la etapa de test se conservo el mismo del modelo3"
      ]
    },
    {
      "cell_type": "code",
      "metadata": {
        "id": "-Aq1T3HCYGPy",
        "colab_type": "code",
        "colab": {
          "base_uri": "https://localhost:8080/",
          "height": 295
        },
        "outputId": "b7cc504c-3d9d-4be4-f70d-95a7f22b5555"
      },
      "source": [
        "plt.plot(model_v4.history['loss'])\n",
        "plt.plot(model_v4.history['val_loss'])\n",
        "plt.title('Perdidas del modelo')\n",
        "plt.ylabel('Perdidas')\n",
        "plt.xlabel('Epocas')\n",
        "plt.legend(['entrenamiento','teste'], loc='upper left')\n",
        "plt.show()"
      ],
      "execution_count": 43,
      "outputs": [
        {
          "output_type": "display_data",
          "data": {
            "image/png": "[encoded data removed]",
            "text/plain": [
              "<Figure size 432x288 with 1 Axes>"
            ]
          },
          "metadata": {
            "tags": []
          }
        }
      ]
    },
    {
      "cell_type": "code",
      "metadata": {
        "id": "9C-ixsFma092",
        "colab_type": "code",
        "colab": {}
      },
      "source": [
        ""
      ],
      "execution_count": 0,
      "outputs": []
    }
  ]
}