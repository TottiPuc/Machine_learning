{
  "nbformat": 4,
  "nbformat_minor": 0,
  "metadata": {
    "colab": {
      "name": "Neuronas Lineales Adpatativas (AdaLiNe) con Gradiente Estocastico.ipynb",
      "provenance": [],
      "authorship_tag": "ABX9TyOFsfTY6isSMrfwyMGFkpT8",
      "include_colab_link": true
    },
    "kernelspec": {
      "name": "python3",
      "display_name": "Python 3"
    }
  },
  "cells": [
    {
      "cell_type": "markdown",
      "metadata": {
        "id": "view-in-github",
        "colab_type": "text"
      },
      "source": [
        "<a href=\"https://colab.research.google.com/github/TottiPuc/Machine_learning/blob/master/Neuronas_Lineales_Adpatativas_(AdaLiNe)_con_Gradiente_Estocastico.ipynb\" target=\"_parent\"><img src=\"https://colab.research.google.com/assets/colab-badge.svg\" alt=\"Open In Colab\"/></a>"
      ]
    },
    {
      "cell_type": "markdown",
      "metadata": {
        "id": "_2iqDMl6Rcbl",
        "colab_type": "text"
      },
      "source": [
        "#Gradiente Descendiente Estocastico SGD\n",
        "A diferencia del gradiente descendiente por lotes presentado en [gradiente por lotes](https://colab.research.google.com/github/TottiPuc/Machine_learning/blob/master/Neuron_Artificial_Adaline.ipynb) el cual actualiza los pesos con base en la suma de los errores de todas las muestras ade entrenamiento creando la desventaja de que si se obtienen nuevos datos de entrenamiento el modelo tendra que ajustar los pesos con todo el conjunto de datos lo que lo hace computacionalmente muy costoso , el gradeinte descendiente estocastico actualiza los pesos de manera incremental para cada muestra de entrenamiento.\n",
        "\n",
        "$\\Delta W = \\eta (y^{i}-\\phi(z^{i}))X_{j}^{i}$\n",
        "\n",
        "##Ventajas del gradeinte descendiente estocastico\n",
        "\n",
        "\n",
        "\n",
        "1.   Rapida convergencia debido a actualizaciones de peso mas frequentes\n",
        "2.   Puede ser utilizado en aprendizaje online, debido a que en el aprendizaje online el modelo se  ajusta al mismo tiempo que van llegando datos nuevos de entrenamiento, lo que garantiza espacio en memoria, ya que a medida que actualiza el modelo estos datos se pueden ir descartando. \n",
        "\n",
        "\n",
        "**Nota**: para evitar ciclos es recomendable presentar a la red el conjunto de entrenamiento de forma aleatoria y en cada iteración mezclar los datos de entrenamiento\n"
      ]
    },
    {
      "cell_type": "markdown",
      "metadata": {
        "id": "UfbOz0UqUylZ",
        "colab_type": "text"
      },
      "source": [
        "# Implementación del GDS en la estructura AdaLiNe"
      ]
    },
    {
      "cell_type": "code",
      "metadata": {
        "id": "GU_UKXRjRTid",
        "colab_type": "code",
        "colab": {}
      },
      "source": [
        "import numpy as np\n",
        "class AdalineSGD(object):\n",
        "  def __init__(self,tasa_aprendizaje=0.01,numero_iteraciones=50,mezcla=True,semilla=1):\n",
        "    self.tasa_aprendizaje=tasa_aprendizaje\n",
        "    self.numero_iteraciones=numero_iteraciones\n",
        "    self.mezcla=mezcla\n",
        "    self.semilla=semilla\n",
        "    self.pesos_iniciados=False\n",
        "\n",
        "  def alg_aprendizaje(self,X,y):\n",
        "    self._inicializar_pesos(X.shape[1])\n",
        "    self.coste=[]\n",
        "    for i in range(self.numero_iteraciones):\n",
        "      if self.mezcla:\n",
        "        X,y = self._mezclar(X,y)\n",
        "      cost=[]\n",
        "      for xi, target in zip(X,y):\n",
        "        cost.append(self._actualizar_pesos(xi,target))\n",
        "      media_cost=sum(cost)/len(y)\n",
        "      self.coste.append(media_cost)\n",
        "    return self\n",
        "\n",
        "  def alg_aprendizaje_parcial(self,X,y):\n",
        "    #aprendizaje de datos de entrnamiento si reinicializacion de pesos para modo online\n",
        "    if not pesos_inicializados:\n",
        "      self._inicializar_pesos(X.shape[1])\n",
        "    if y.reval().shape[0]>1:\n",
        "      for xi,target in zip(X,y):\n",
        "        self._actualizar_pesos(xi,target)\n",
        "    else:\n",
        "      self.actualizar_pesos(X,y)\n",
        "    return self\n",
        "\n",
        "  def _inicializar_pesos(self,dim):\n",
        "    self.aleatorio = np.random.RandomState(self.semilla)\n",
        "    self.pesos= self.aleatorio.normal(loc=0.0,scale=0.01,size=dim+1)\n",
        "    self.pesos_iniciados = True\n",
        "    \n",
        "  def _mezclar(self,X,y):\n",
        "    # funcion que mezcla los datos de entrenamiento para evitar ciclos\n",
        "    indice_mezclados = self.aleatorio.permutation(len(y))\n",
        "    return X[indice_mezclados], y[indice_mezclados]\n",
        "\n",
        "  def _actualizar_pesos(self,xi,target):\n",
        "    # se aplica la regla de aprendizaje Adaline para actualizacion de pesos\n",
        "    entrada = self._entrada_red(xi)\n",
        "    salida = self._activacion(entrada)\n",
        "    error = (target-salida)\n",
        "    self.pesos[1:]+=self.tasa_aprendizaje*xi.dot(error)\n",
        "    self.pesos[0]+=self.tasa_aprendizaje*error # sin la sumatoria \n",
        "    cost=0.5*error**2\n",
        "    return cost\n",
        "\n",
        "  def _entrada_red(self,xi):\n",
        "    #calcular la entrada de la red\n",
        "    return np.dot(xi,self.pesos[1:])+self.pesos[0]\n",
        "\n",
        "  def _activacion(self,X):\n",
        "    # como es una funcion identidad retorna el mismo valor\n",
        "    return X\n",
        "\n",
        "  def prediccion(self,X):\n",
        "    return np.where(self._activacion(self._entrada_red(X))>=0.0,1,-1)"
      ],
      "execution_count": 0,
      "outputs": []
    },
    {
      "cell_type": "markdown",
      "metadata": {
        "id": "bybd3gBswDmK",
        "colab_type": "text"
      },
      "source": [
        "#Cargando y normalizando datos de entrenamiento IRIS"
      ]
    },
    {
      "cell_type": "code",
      "metadata": {
        "id": "M_5itO4bwIPv",
        "colab_type": "code",
        "colab": {}
      },
      "source": [
        "import matplotlib.pyplot as plt\n",
        "import numpy as np\n",
        "import pandas as pd\n",
        "from sklearn import datasets \n",
        "\n",
        "iris = datasets.load_iris() #imortamos el dataset Iris\n",
        "iris_df=pd.DataFrame(iris.data)  # lo convertimos a un dataframe con pandas\n",
        "iris_df['class']=iris['target'] # creamos la columna que define las clases de cada flor\n",
        "iris_df['class']=iris_df['class'].apply(lambda x: iris['target_names'][x])\n",
        "iris_df.tail()  # mostramos los ultimos registros para ver si todo esta correcto\n",
        "\n",
        "#se seleccionan dos clases de flores del conjunto Iris las setosas y las versicolor y las clasificaremos como -1 y 1 respectivamente\n",
        "y=iris_df.iloc[0:100,4]\n",
        "y=np.where( y == 'setosa',-1,1)\n",
        "\n",
        "# seleccionamos las caracteristicas de longitud de sepalo y longitud de petalo correspondientes a las columnas 0 y 2 del dataframes Iris\n",
        "X = iris_df.iloc[0:100,[0,2]].values     # se usa values para retornar un array\n",
        "\n",
        "#normalización del dataset\n",
        "x_nor =np.copy(X)\n",
        "x_nor[:,0] = (x_nor[:,0] - x_nor[:,0].mean()) /x_nor[:,0].std()\n",
        "x_nor[:,1] = (x_nor[:,1] - x_nor[:,1].mean()) /x_nor[:,1].std()"
      ],
      "execution_count": 0,
      "outputs": []
    },
    {
      "cell_type": "markdown",
      "metadata": {
        "id": "jfJVNARrvKRA",
        "colab_type": "text"
      },
      "source": [
        "Entrenamiento del modelo Adaline con gradiente estocastico"
      ]
    },
    {
      "cell_type": "code",
      "metadata": {
        "id": "pa2Qb2JEvIZV",
        "colab_type": "code",
        "colab": {
          "base_uri": "https://localhost:8080/",
          "height": 272
        },
        "outputId": "89857040-b36b-416e-b6c6-132b0fc6bea0"
      },
      "source": [
        "adaSGD = AdalineSGD(tasa_aprendizaje=0.01,numero_iteraciones=15)\n",
        "adaSGD.alg_aprendizaje(x_nor,y)\n",
        "for i in adaSGD.coste:\n",
        "  print(\"la suma de errores cuadraticos o funcion de coste es {}\".format(i))"
      ],
      "execution_count": 16,
      "outputs": [
        {
          "output_type": "stream",
          "text": [
            "la suma de errores cuadraticos o funcion de coste es 0.2039184422695396\n",
            "la suma de errores cuadraticos o funcion de coste es 0.07359149111267219\n",
            "la suma de errores cuadraticos o funcion de coste es 0.055929738151085144\n",
            "la suma de errores cuadraticos o funcion de coste es 0.04612810956754943\n",
            "la suma de errores cuadraticos o funcion de coste es 0.03934742569854211\n",
            "la suma de errores cuadraticos o funcion de coste es 0.03474062343316374\n",
            "la suma de errores cuadraticos o funcion de coste es 0.03161702168841462\n",
            "la suma de errores cuadraticos o funcion de coste es 0.029568192579289002\n",
            "la suma de errores cuadraticos o funcion de coste es 0.028072765598128525\n",
            "la suma de errores cuadraticos o funcion de coste es 0.02702343103668937\n",
            "la suma de errores cuadraticos o funcion de coste es 0.02629291748109251\n",
            "la suma de errores cuadraticos o funcion de coste es 0.02586126622169623\n",
            "la suma de errores cuadraticos o funcion de coste es 0.02563839791027128\n",
            "la suma de errores cuadraticos o funcion de coste es 0.025335346418159183\n",
            "la suma de errores cuadraticos o funcion de coste es 0.025218131140589413\n"
          ],
          "name": "stdout"
        }
      ]
    },
    {
      "cell_type": "markdown",
      "metadata": {
        "id": "CLuVxr3ZnvsB",
        "colab_type": "text"
      },
      "source": [
        "#Grafico de Disperción (Reginoes de decisión) y Función de coste"
      ]
    },
    {
      "cell_type": "code",
      "metadata": {
        "id": "1_NnJ3Mf7S4d",
        "colab_type": "code",
        "colab": {}
      },
      "source": [
        "import matplotlib.pyplot as plt\n",
        "import numpy as np\n",
        "from matplotlib.colors import ListedColormap\n",
        "\n",
        "def diagrama_Regiones(X,y, clasificador, resolucion=0.02):\n",
        "  #definicion de mapa de colores\n",
        "  marcadores=('s','x','o','^','v')\n",
        "  colores = ('red','blue','lightgreen','gray','cyan')\n",
        "  cmap= ListedColormap(colores[:len(np.unique(y))])\n",
        "\n",
        "  # superficie de decisión\n",
        "  x1_min, x1_max = X[:,0].min() -1, X[:,0].max() +1\n",
        "  x2_min, x2_max = X[:,0].min() -1, X[:,0].max() +1\n",
        "  xx1,xx2 = np.meshgrid(np.arange(x1_min,x1_max,resolucion),\n",
        "                        np.arange(x2_min,x2_max,resolucion))\n",
        "  Z = clasificador.prediccion(np.array([xx1.ravel(),xx2.ravel()]).T)\n",
        "  Z = Z.reshape(xx1.shape)\n",
        "  plt.contourf(xx1,xx2,Z,alpha=0.3,cmpa=cmap)\n",
        "  plt.xlim(xx1.min(),xx1.max())\n",
        "  plt.ylim(xx2.min(),xx2.max())\n",
        "\n",
        "  #representacion de las clases\n",
        "  for idx, cl in enumerate(np.unique(y)):\n",
        "    plt.scatter(x=X[y ==cl, 0],\n",
        "                y=X[y == cl,1],\n",
        "                alpha=0.8,\n",
        "                c=colores[idx],\n",
        "                marker = marcadores[idx],\n",
        "                label=cl,\n",
        "                edgecolor='black')"
      ],
      "execution_count": 0,
      "outputs": []
    },
    {
      "cell_type": "code",
      "metadata": {
        "id": "o07Gr2oVu7Do",
        "colab_type": "code",
        "colab": {
          "base_uri": "https://localhost:8080/",
          "height": 575
        },
        "outputId": "71edde44-d88a-49e4-ecec-5f51d7bfab3c"
      },
      "source": [
        "diagrama_Regiones(x_nor,y,clasificador=adaSGD)\n",
        "plt.title('Adaline con gradiente descendiente estocastico')\n",
        "plt.xlabel('longitud de sepalos (normalizados)')\n",
        "plt.ylabel('longitud de petalos (normalizados)')\n",
        "plt.legend(loc='upper left')\n",
        "plt.show()\n",
        "\n",
        "plt.plot(range(1,len(adaSGD.coste)+1),adaSGD.coste,marker='o')\n",
        "plt.xlabel('número de iteraciones o epocas')\n",
        "plt.ylabel('promedio de la función de coste')\n",
        "plt.show()\n"
      ],
      "execution_count": 21,
      "outputs": [
        {
          "output_type": "stream",
          "text": [
            "/usr/local/lib/python3.6/dist-packages/ipykernel_launcher.py:18: UserWarning: The following kwargs were not used by contour: 'cmpa'\n"
          ],
          "name": "stderr"
        },
        {
          "output_type": "display_data",
          "data": {
            "image/png": "[encoded data removed]",
            "text/plain": [
              "<Figure size 432x288 with 1 Axes>"
            ]
          },
          "metadata": {
            "tags": []
          }
        },
        {
          "output_type": "display_data",
          "data": {
            "image/png": "[encoded data removed]",
            "text/plain": [
              "<Figure size 432x288 with 1 Axes>"
            ]
          },
          "metadata": {
            "tags": []
          }
        }
      ]
    },
    {
      "cell_type": "markdown",
      "metadata": {
        "id": "ikSS_RIIz5gV",
        "colab_type": "text"
      },
      "source": [
        "como se puede observar el algoritmo converge mucho mas rapido que el gradiente por lotes, despues de 6 iteraciones ya se empieza a normalizar llegando al limite de decisión final.\n",
        "\n",
        "**Nota** para usar el algoritmo de aprendizaje en modo online es solo ingresar las nuevas muestras de ntrenamiento del algoritmo esto es:\n",
        "\n",
        "*adaSGD = alg_aprendizaje_parcial(x_norm[0,:],y[0]* "
      ]
    }
  ]
}