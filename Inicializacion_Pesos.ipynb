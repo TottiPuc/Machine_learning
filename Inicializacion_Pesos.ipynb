{
  "nbformat": 4,
  "nbformat_minor": 0,
  "metadata": {
    "colab": {
      "name": "Inicializacion_Pesos.ipynb",
      "provenance": [],
      "authorship_tag": "ABX9TyOf1jc82Xc2chh3r4KmKw7m",
      "include_colab_link": true
    },
    "kernelspec": {
      "name": "python3",
      "display_name": "Python 3"
    },
    "accelerator": "GPU"
  },
  "cells": [
    {
      "cell_type": "markdown",
      "metadata": {
        "id": "view-in-github",
        "colab_type": "text"
      },
      "source": [
        "<a href=\"https://colab.research.google.com/github/TottiPuc/Machine_learning/blob/master/Inicializacion_Pesos.ipynb\" target=\"_parent\"><img src=\"https://colab.research.google.com/assets/colab-badge.svg\" alt=\"Open In Colab\"/></a>"
      ]
    },
    {
      "cell_type": "markdown",
      "metadata": {
        "id": "jWUm7GYFGroq",
        "colab_type": "text"
      },
      "source": [
        "#instalacón de tensorflow 2.0 en google colab"
      ]
    },
    {
      "cell_type": "code",
      "metadata": {
        "id": "hyvaq0vADNDG",
        "colab_type": "code",
        "colab": {}
      },
      "source": [
        "!pip install tensorflow-gpu==2.0.0-alpha0"
      ],
      "execution_count": 0,
      "outputs": []
    },
    {
      "cell_type": "markdown",
      "metadata": {
        "id": "odAqbSQ3G6gI",
        "colab_type": "text"
      },
      "source": [
        "importar librerias correspondientes a matplot pyplot y tensorflow"
      ]
    },
    {
      "cell_type": "code",
      "metadata": {
        "id": "YTYdDIJmGo_6",
        "colab_type": "code",
        "colab": {}
      },
      "source": [
        "import matplotlib.pyplot as plt\n",
        "import tensorflow as tf\n",
        "import numpy as np"
      ],
      "execution_count": 0,
      "outputs": []
    },
    {
      "cell_type": "markdown",
      "metadata": {
        "id": "qLD0LRzFHOYT",
        "colab_type": "text"
      },
      "source": [
        "Primer paso importante en todo proceso de machine learning es la inicializacion de pesos, esto puede hacerse a través de numpy o del mismo tensorflow"
      ]
    },
    {
      "cell_type": "markdown",
      "metadata": {
        "id": "I8r8tq-5KtBH",
        "colab_type": "text"
      },
      "source": [
        "# Distribucion Normal con Numpy"
      ]
    },
    {
      "cell_type": "code",
      "metadata": {
        "id": "EJT7Qjd8HHef",
        "colab_type": "code",
        "colab": {}
      },
      "source": [
        "rgen = np.random.RandomState(1) #generando la semilla"
      ],
      "execution_count": 0,
      "outputs": []
    },
    {
      "cell_type": "code",
      "metadata": {
        "id": "4fhJS_bmHhda",
        "colab_type": "code",
        "colab": {}
      },
      "source": [
        "mean , sigma = 0, 1 # media y desviación estandar\n",
        "numeros_aleatorios = rgen.normal(loc=mean,scale=sigma, size=1000)\n",
        "print(numeros_aleatorios)"
      ],
      "execution_count": 0,
      "outputs": []
    },
    {
      "cell_type": "markdown",
      "metadata": {
        "id": "mVisIpPuH7f7",
        "colab_type": "text"
      },
      "source": [
        "graficar los numeros de la distribucion normal con la formula \n",
        "p(x) = \\frac{1}{\\sqrt{ 2 \\pi \\sigma^2 }}\n",
        "e^{ - \\frac{ (x - \\mu)^2 } {2 \\sigma^2} },"
      ]
    },
    {
      "cell_type": "code",
      "metadata": {
        "id": "mzzKbnUlHuXD",
        "colab_type": "code",
        "colab": {
          "base_uri": "https://localhost:8080/",
          "height": 265
        },
        "outputId": "88ab9ff2-b392-457a-8e2d-1ff4d33ce8fa"
      },
      "source": [
        "count , bins , ignored = plt.hist(numeros_aleatorios,30,density=True)\n",
        "plt.plot(bins, 1/(sigma*np.sqrt(2*np.pi)) *np.exp(-(bins-mean)**2/(2*sigma**2)),linewidth=2,color='r')\n",
        "plt.show()"
      ],
      "execution_count": 14,
      "outputs": [
        {
          "output_type": "display_data",
          "data": {
            "image/png": "[encoded data removed]",
            "text/plain": [
              "<Figure size 432x288 with 1 Axes>"
            ]
          },
          "metadata": {
            "tags": []
          }
        }
      ]
    },
    {
      "cell_type": "markdown",
      "metadata": {
        "id": "gb-X8L3dKga5",
        "colab_type": "text"
      },
      "source": [
        "# Distribución Uniforme con Numpy"
      ]
    },
    {
      "cell_type": "code",
      "metadata": {
        "id": "yq-LMCPTJrTz",
        "colab_type": "code",
        "colab": {
          "base_uri": "https://localhost:8080/",
          "height": 282
        },
        "outputId": "ae64d77b-8ebc-4fce-d19f-2775a86f2cbf"
      },
      "source": [
        "numeros_aleatorios2 = rgen.uniform(low=0.0,high=1.0,size=1000)\n",
        "count,bins , ignored = plt.hist(numeros_aleatorios2, 30 , density=True)\n",
        "plt.plot(bins,np.ones_like(bins),linewidth=2,color='r')"
      ],
      "execution_count": 18,
      "outputs": [
        {
          "output_type": "execute_result",
          "data": {
            "text/plain": [
              "[<matplotlib.lines.Line2D at 0x7ff26c6ffb38>]"
            ]
          },
          "metadata": {
            "tags": []
          },
          "execution_count": 18
        },
        {
          "output_type": "display_data",
          "data": {
            "image/png": "[encoded data removed]",
            "text/plain": [
              "<Figure size 432x288 with 1 Axes>"
            ]
          },
          "metadata": {
            "tags": []
          }
        }
      ]
    },
    {
      "cell_type": "code",
      "metadata": {
        "id": "zgqfCpEwMua0",
        "colab_type": "code",
        "colab": {}
      },
      "source": [
        ""
      ],
      "execution_count": 0,
      "outputs": []
    },
    {
      "cell_type": "markdown",
      "metadata": {
        "id": "KQGb0podNirP",
        "colab_type": "text"
      },
      "source": [
        "# Distribucion Normal con tensorflow"
      ]
    },
    {
      "cell_type": "code",
      "metadata": {
        "id": "URjQpq8kNmiF",
        "colab_type": "code",
        "colab": {
          "base_uri": "https://localhost:8080/",
          "height": 282
        },
        "outputId": "644ebfe9-97d4-46e3-a8af-b9ba0ae28a97"
      },
      "source": [
        "num_ale = tf.random.normal([1000],mean=mean, stddev=sigma)\n",
        "#print('tensor con datos aleatorios y distribución normal', num_ale)\n",
        "print('Shape',num_ale.shape)\n",
        "count, bins, ignored=plt.hist(num_ale,30,density=True)\n",
        "plt.plot(bins, 1/(sigma*np.sqrt(2*np.pi)) *np.exp(-(bins-mean)**2/(2*sigma**2)),linewidth=2,color='r')\n",
        "plt.show()"
      ],
      "execution_count": 23,
      "outputs": [
        {
          "output_type": "stream",
          "text": [
            "Shape (1000,)\n"
          ],
          "name": "stdout"
        },
        {
          "output_type": "display_data",
          "data": {
            "image/png": "[encoded data removed]",
            "text/plain": [
              "<Figure size 432x288 with 1 Axes>"
            ]
          },
          "metadata": {
            "tags": []
          }
        }
      ]
    },
    {
      "cell_type": "markdown",
      "metadata": {
        "id": "f5O3c-bmPdJO",
        "colab_type": "text"
      },
      "source": [
        "#Distribución Uniforme con tensorflow"
      ]
    },
    {
      "cell_type": "code",
      "metadata": {
        "id": "VUZQenq-OvXr",
        "colab_type": "code",
        "colab": {
          "base_uri": "https://localhost:8080/",
          "height": 282
        },
        "outputId": "4aa8aaab-eb8c-462b-f0d4-0a7af5f921a2"
      },
      "source": [
        "num_ale2 = tf.random.uniform([1000],minval=0,maxval=1)\n",
        "#print(\"tensor con datos aleatorios y distribución uniforme\",num_ale2)\n",
        "print(\"Shape\",num_ale2.shape)\n",
        "count,bins,ignored = plt.hist(num_ale2,30,density=True)\n",
        "plt.plot(bins,np.ones_like(bins), linewidth=2,color='r')\n",
        "plt.show()"
      ],
      "execution_count": 26,
      "outputs": [
        {
          "output_type": "stream",
          "text": [
            "Shape (1000,)\n"
          ],
          "name": "stdout"
        },
        {
          "output_type": "display_data",
          "data": {
            "image/png": "[encoded data removed]",
            "text/plain": [
              "<Figure size 432x288 with 1 Axes>"
            ]
          },
          "metadata": {
            "tags": []
          }
        }
      ]
    },
    {
      "cell_type": "code",
      "metadata": {
        "id": "WjWokUyqQ54M",
        "colab_type": "code",
        "colab": {}
      },
      "source": [
        ""
      ],
      "execution_count": 0,
      "outputs": []
    }
  ]
}