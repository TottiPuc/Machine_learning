{
  "nbformat": 4,
  "nbformat_minor": 0,
  "metadata": {
    "colab": {
      "name": "Multileyer_Perceptron-v2.ipynb",
      "provenance": [],
      "authorship_tag": "ABX9TyPTrNYCOHY9Ef+SUjKZyG+C",
      "include_colab_link": true
    },
    "kernelspec": {
      "name": "python3",
      "display_name": "Python 3"
    }
  },
  "cells": [
    {
      "cell_type": "markdown",
      "metadata": {
        "id": "view-in-github",
        "colab_type": "text"
      },
      "source": [
        "<a href=\"https://colab.research.google.com/github/TottiPuc/Machine_learning/blob/master/Multileyer_Perceptron_v2.ipynb\" target=\"_parent\"><img src=\"https://colab.research.google.com/assets/colab-badge.svg\" alt=\"Open In Colab\"/></a>"
      ]
    },
    {
      "cell_type": "markdown",
      "metadata": {
        "id": "JVOBQi0w4t9D",
        "colab_type": "text"
      },
      "source": [
        "#Multilayer-Perceptron con tensorflow y keras v2 (modularizando la creación de la red)\n",
        "En este nuevo notebook vamos a crear una calse que contendra la creación de la arquitectura de nua red neuronal con TF y keras es una version actual del algoritmo descrito en [multilayer v1](https://github.com/TottiPuc/Machine_learning/blob/master/Multileyer_Perceptron_v1.ipynb)."
      ]
    },
    {
      "cell_type": "code",
      "metadata": {
        "id": "2xRYgPC84ore",
        "colab_type": "code",
        "colab": {}
      },
      "source": [
        "%tensorflow_version 2.x"
      ],
      "execution_count": 0,
      "outputs": []
    },
    {
      "cell_type": "code",
      "metadata": {
        "id": "8G05cB4h5Uzj",
        "colab_type": "code",
        "colab": {}
      },
      "source": [
        "import numpy as np\n",
        "import tensorflow as tf"
      ],
      "execution_count": 0,
      "outputs": []
    },
    {
      "cell_type": "markdown",
      "metadata": {
        "id": "xsKMO0aV5aSi",
        "colab_type": "text"
      },
      "source": [
        "Creamos los hiperparametros de la red y los datos sinteticos a ser entrenados"
      ]
    },
    {
      "cell_type": "code",
      "metadata": {
        "id": "OPxyMGBt5XIG",
        "colab_type": "code",
        "colab": {}
      },
      "source": [
        "size = 200000\n",
        "num_empochs = 10\n",
        "learning_rate = 0.001\n",
        "#creamos 200000 datos aleatorios enteros entre 0 y 100\n",
        "x1 = np.random.randint(0,100, size)\n",
        "x2 = np.random.randint(0,100, size)\n",
        "x_train = np.dstack((x1,x2))[0] # concatenamos x1 y x2 y tomamos la primera capa de profundidad"
      ],
      "execution_count": 0,
      "outputs": []
    },
    {
      "cell_type": "markdown",
      "metadata": {
        "id": "j7RoOYdM5gjd",
        "colab_type": "text"
      },
      "source": [
        "Creamos una funcion Y que dependa de x para generas nuestros datos historicos"
      ]
    },
    {
      "cell_type": "code",
      "metadata": {
        "id": "eAMrZCt65dcF",
        "colab_type": "code",
        "outputId": "a3ac2589-fa72-4748-8526-51324c265184",
        "colab": {
          "base_uri": "https://localhost:8080/",
          "height": 187
        }
      },
      "source": [
        "y_train = 3*(x1**(1/2))+2*(x2**2)\n",
        "print( \"estos son los valores de entrenamiento para 'x' y 'y' y sus respectivas dimensiones \")\n",
        "print(\"valores de x {}, con dimension {}\".format(x_train,x_train.shape))\n",
        "print(\"valores de y {}, con dimension {}\".format(y_train,y_train.shape))"
      ],
      "execution_count": 0,
      "outputs": [
        {
          "output_type": "stream",
          "text": [
            "estos son los valores de entrenamiento para 'x' y 'y' y sus respectivas dimensiones \n",
            "valores de x [[39 92]\n",
            " [ 2 58]\n",
            " [47 99]\n",
            " ...\n",
            " [54 61]\n",
            " [73 76]\n",
            " [66 12]], con dimension (200000, 2)\n",
            "valores de y [16946.734994    6732.24264069 19622.5669638  ...  7464.04540769\n",
            " 11577.63201124   312.37211521], con dimension (200000,)\n"
          ],
          "name": "stdout"
        }
      ]
    },
    {
      "cell_type": "markdown",
      "metadata": {
        "id": "aiMojpK95mBj",
        "colab_type": "text"
      },
      "source": [
        "Creamos el modelo con la herramienta keras y su clase sequential que nos permite adicionar capa tras capa dependiendo de lo que queramos contruir.\n",
        "En esta ocadión modularizamos la arquitectura de la red a través de una clase llamada modelo."
      ]
    },
    {
      "cell_type": "code",
      "metadata": {
        "id": "zA0u-5UM5jPK",
        "colab_type": "code",
        "colab": {}
      },
      "source": [
        "class Modelo(tf.keras.Model):\n",
        "  #iniciamos el constructor\n",
        "  def __init__ (self):\n",
        "    super(Modelo,self).__init__() # iniciamos el constructor de la super clase en este caso la claase modelo de keras\n",
        "    #creamos nuestra arquitectura que se iniciara al arrancar una instancia\n",
        "    self.entrada = tf.keras.layers.Dense(64, input_shape=(2,), activation='sigmoid')\n",
        "    self.oculta = tf.keras.layers.Dense(128, activation='relu')\n",
        "    self.salida = tf.keras.layers.Dense(2)\n",
        "    self.compile(optimizer = tf.keras.optimizers.RMSprop(learning_rate), loss= tf.keras.losses.MSE) # en este caso hemos uasdo otra forma de optimizar con RMSprop\n",
        "\n",
        "  def call(self,inputs):\n",
        "    x = self.entrada(inputs)\n",
        "    x = self.oculta(x)\n",
        "    x = self.salida(x)\n",
        "    return x"
      ],
      "execution_count": 0,
      "outputs": []
    },
    {
      "cell_type": "markdown",
      "metadata": {
        "id": "gz5UYLKP-WAa",
        "colab_type": "text"
      },
      "source": [
        "Creamos una instancia de nuestra estructura ahora modularizada"
      ]
    },
    {
      "cell_type": "code",
      "metadata": {
        "id": "fmTI4ubN-TnY",
        "colab_type": "code",
        "colab": {}
      },
      "source": [
        "modelo = Modelo()"
      ],
      "execution_count": 0,
      "outputs": []
    },
    {
      "cell_type": "markdown",
      "metadata": {
        "id": "E5fcJPaB-lpF",
        "colab_type": "text"
      },
      "source": [
        "Entrenamos nuestro modelo ya instanciado"
      ]
    },
    {
      "cell_type": "code",
      "metadata": {
        "id": "STbXrekL-kXh",
        "colab_type": "code",
        "outputId": "46113c61-f970-4004-f04f-7d4ada68edd1",
        "colab": {
          "base_uri": "https://localhost:8080/",
          "height": 374
        }
      },
      "source": [
        "modelo.fit(x = x_train, y = y_train, epochs=num_empochs)"
      ],
      "execution_count": 0,
      "outputs": [
        {
          "output_type": "stream",
          "text": [
            "Epoch 1/10\n",
            "6250/6250 [==============================] - 7s 1ms/step - loss: 15952078.0000\n",
            "Epoch 2/10\n",
            "6250/6250 [==============================] - 7s 1ms/step - loss: 125017.1797\n",
            "Epoch 3/10\n",
            "6250/6250 [==============================] - 7s 1ms/step - loss: 112065.9375\n",
            "Epoch 4/10\n",
            "6250/6250 [==============================] - 7s 1ms/step - loss: 104763.5781\n",
            "Epoch 5/10\n",
            "6250/6250 [==============================] - 7s 1ms/step - loss: 100798.8125\n",
            "Epoch 6/10\n",
            "6250/6250 [==============================] - 7s 1ms/step - loss: 96513.5938\n",
            "Epoch 7/10\n",
            "6250/6250 [==============================] - 7s 1ms/step - loss: 92529.1016\n",
            "Epoch 8/10\n",
            "6250/6250 [==============================] - 7s 1ms/step - loss: 89657.2656\n",
            "Epoch 9/10\n",
            "6250/6250 [==============================] - 7s 1ms/step - loss: 86446.2109\n",
            "Epoch 10/10\n",
            "6250/6250 [==============================] - 7s 1ms/step - loss: 82228.9766\n"
          ],
          "name": "stdout"
        },
        {
          "output_type": "execute_result",
          "data": {
            "text/plain": [
              "<tensorflow.python.keras.callbacks.History at 0x7fd198974978>"
            ]
          },
          "metadata": {
            "tags": []
          },
          "execution_count": 7
        }
      ]
    },
    {
      "cell_type": "markdown",
      "metadata": {
        "id": "hweuqNJ--xmG",
        "colab_type": "text"
      },
      "source": [
        "Resumen de nuestra estructura"
      ]
    },
    {
      "cell_type": "code",
      "metadata": {
        "id": "FCPzVncQ-ur2",
        "colab_type": "code",
        "outputId": "c0624271-96d3-4ed0-f3ae-a65f34197090",
        "colab": {
          "base_uri": "https://localhost:8080/",
          "height": 272
        }
      },
      "source": [
        "print(\"Resumen del modelo \")\n",
        "modelo.summary()"
      ],
      "execution_count": 0,
      "outputs": [
        {
          "output_type": "stream",
          "text": [
            "Resumen del modelo \n",
            "Model: \"modelo\"\n",
            "_________________________________________________________________\n",
            "Layer (type)                 Output Shape              Param #   \n",
            "=================================================================\n",
            "dense (Dense)                multiple                  192       \n",
            "_________________________________________________________________\n",
            "dense_1 (Dense)              multiple                  8320      \n",
            "_________________________________________________________________\n",
            "dense_2 (Dense)              multiple                  258       \n",
            "=================================================================\n",
            "Total params: 8,770\n",
            "Trainable params: 8,770\n",
            "Non-trainable params: 0\n",
            "_________________________________________________________________\n"
          ],
          "name": "stdout"
        }
      ]
    },
    {
      "cell_type": "markdown",
      "metadata": {
        "id": "_k4T2X8M_PkN",
        "colab_type": "text"
      },
      "source": [
        "Evaluamos el rendimiento del entrenamiento"
      ]
    },
    {
      "cell_type": "code",
      "metadata": {
        "id": "9TG5gN_V_CEz",
        "colab_type": "code",
        "outputId": "6eeebe2f-e4a9-4cc4-df5f-f9e880616007",
        "colab": {
          "base_uri": "https://localhost:8080/",
          "height": 34
        }
      },
      "source": [
        "score_train = modelo.evaluate(x_train,y_train, verbose=0)\n",
        "print(\"error final del entrenamiento {:.0f}\".format(score_train))"
      ],
      "execution_count": 0,
      "outputs": [
        {
          "output_type": "stream",
          "text": [
            "error final del entrenamiento 7913\n"
          ],
          "name": "stdout"
        }
      ]
    },
    {
      "cell_type": "markdown",
      "metadata": {
        "id": "hU6ahr1L_cIx",
        "colab_type": "text"
      },
      "source": [
        "#Evaluando el modelo\n",
        "Generamos nuevos datos sinteticos para evaluar el modelo ( tienen que estar en el mismo rango entre 0 y 100 ya que el entrenamiento fue realizado con este rango de datos)"
      ]
    },
    {
      "cell_type": "code",
      "metadata": {
        "id": "lPWim8uE_W9U",
        "colab_type": "code",
        "colab": {}
      },
      "source": [
        "x3= np.array([100, 9, 62, 79, 94, 91, 71, 41])\n",
        "x4= np.array([65, 39, 40, 44, 77, 42, 36, 74])\n",
        "x_test = np.dstack((x3, x4))[0]\n",
        "\n",
        "y_test = 3*(x3**(1/2)) + 2*(x4**2)"
      ],
      "execution_count": 0,
      "outputs": []
    },
    {
      "cell_type": "markdown",
      "metadata": {
        "id": "DkQjFrAI_huS",
        "colab_type": "text"
      },
      "source": [
        "Realizamos predicciones y evaluamos el rendimiento del test"
      ]
    },
    {
      "cell_type": "code",
      "metadata": {
        "id": "ePXaRXVl_fBs",
        "colab_type": "code",
        "outputId": "12c9a077-1ea5-470e-db42-1d85335fdf43",
        "colab": {
          "base_uri": "https://localhost:8080/",
          "height": 34
        }
      },
      "source": [
        "y_pred = modelo.predict(x_test)\n",
        "score_test = modelo.evaluate(x_test,y_test, verbose=0)\n",
        "print(\"El error fina en test: {:.0f}\".format(score_test))"
      ],
      "execution_count": 0,
      "outputs": [
        {
          "output_type": "stream",
          "text": [
            "El error fina en test: 1116\n"
          ],
          "name": "stdout"
        }
      ]
    },
    {
      "cell_type": "markdown",
      "metadata": {
        "id": "Gi4jVUjR_pGy",
        "colab_type": "text"
      },
      "source": [
        "Realizamos una verificaión sobre el proceso realizado"
      ]
    },
    {
      "cell_type": "code",
      "metadata": {
        "id": "y3LXerZU_lQW",
        "colab_type": "code",
        "outputId": "2eac9fca-c482-4e81-c64d-94fe09e3425d",
        "colab": {
          "base_uri": "https://localhost:8080/",
          "height": 136
        }
      },
      "source": [
        "for i in range(5):\n",
        "\tprint ('''Entrada(x): ({}, {}), Saida(y): ({:.0f}), Previsión del Modelo(y_pred): ({:.0f})'''.format(x1[i], x2[i], y_test[i], y_pred[i][0]))\n",
        "\n",
        "print(\"\\n\")"
      ],
      "execution_count": 0,
      "outputs": [
        {
          "output_type": "stream",
          "text": [
            "Entrada(x): (39, 92), Saida(y): (8480), Previsión del Modelo(y_pred): (8421)\n",
            "Entrada(x): (2, 58), Saida(y): (3051), Previsión del Modelo(y_pred): (3099)\n",
            "Entrada(x): (47, 99), Saida(y): (3224), Previsión del Modelo(y_pred): (3247)\n",
            "Entrada(x): (6, 80), Saida(y): (3899), Previsión del Modelo(y_pred): (3934)\n",
            "Entrada(x): (0, 34), Saida(y): (11887), Previsión del Modelo(y_pred): (11888)\n",
            "\n",
            "\n"
          ],
          "name": "stdout"
        }
      ]
    }
  ]
}