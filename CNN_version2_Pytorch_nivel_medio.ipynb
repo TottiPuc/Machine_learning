{
  "nbformat": 4,
  "nbformat_minor": 0,
  "metadata": {
    "colab": {
      "name": "CNN_version2_Pytorch_nivel_medio.ipynb",
      "provenance": [],
      "authorship_tag": "ABX9TyPsXVfTBRXvSEoHOKDojx23",
      "include_colab_link": true
    },
    "kernelspec": {
      "name": "python3",
      "display_name": "Python 3"
    },
    "widgets": {
      "application/vnd.jupyter.widget-state+json": {
        "feac8e7ad8a64f89a452be20351ea6d0": {
          "model_module": "@jupyter-widgets/controls",
          "model_name": "HBoxModel",
          "state": {
            "_view_name": "HBoxView",
            "_dom_classes": [],
            "_model_name": "HBoxModel",
            "_view_module": "@jupyter-widgets/controls",
            "_model_module_version": "1.5.0",
            "_view_count": null,
            "_view_module_version": "1.5.0",
            "box_style": "",
            "layout": "IPY_MODEL_34babb961227434a84cec074a62c4eb8",
            "_model_module": "@jupyter-widgets/controls",
            "children": [
              "IPY_MODEL_c478216a803b42e691d430979b044c6d",
              "IPY_MODEL_6f885b4d2b9a422c9a250c1b0f645b81"
            ]
          }
        },
        "34babb961227434a84cec074a62c4eb8": {
          "model_module": "@jupyter-widgets/base",
          "model_name": "LayoutModel",
          "state": {
            "_view_name": "LayoutView",
            "grid_template_rows": null,
            "right": null,
            "justify_content": null,
            "_view_module": "@jupyter-widgets/base",
            "overflow": null,
            "_model_module_version": "1.2.0",
            "_view_count": null,
            "flex_flow": null,
            "width": null,
            "min_width": null,
            "border": null,
            "align_items": null,
            "bottom": null,
            "_model_module": "@jupyter-widgets/base",
            "top": null,
            "grid_column": null,
            "overflow_y": null,
            "overflow_x": null,
            "grid_auto_flow": null,
            "grid_area": null,
            "grid_template_columns": null,
            "flex": null,
            "_model_name": "LayoutModel",
            "justify_items": null,
            "grid_row": null,
            "max_height": null,
            "align_content": null,
            "visibility": null,
            "align_self": null,
            "height": null,
            "min_height": null,
            "padding": null,
            "grid_auto_rows": null,
            "grid_gap": null,
            "max_width": null,
            "order": null,
            "_view_module_version": "1.2.0",
            "grid_template_areas": null,
            "object_position": null,
            "object_fit": null,
            "grid_auto_columns": null,
            "margin": null,
            "display": null,
            "left": null
          }
        },
        "c478216a803b42e691d430979b044c6d": {
          "model_module": "@jupyter-widgets/controls",
          "model_name": "IntProgressModel",
          "state": {
            "_view_name": "ProgressView",
            "style": "IPY_MODEL_38e95d93607444c9bbe26d073f8271b7",
            "_dom_classes": [],
            "description": "",
            "_model_name": "IntProgressModel",
            "bar_style": "info",
            "max": 1,
            "_view_module": "@jupyter-widgets/controls",
            "_model_module_version": "1.5.0",
            "value": 1,
            "_view_count": null,
            "_view_module_version": "1.5.0",
            "orientation": "horizontal",
            "min": 0,
            "description_tooltip": null,
            "_model_module": "@jupyter-widgets/controls",
            "layout": "IPY_MODEL_dca70789f70f4536a41ae2cd24038e41"
          }
        },
        "6f885b4d2b9a422c9a250c1b0f645b81": {
          "model_module": "@jupyter-widgets/controls",
          "model_name": "HTMLModel",
          "state": {
            "_view_name": "HTMLView",
            "style": "IPY_MODEL_f7f194a43e84405dbb379e882fcd7e2a",
            "_dom_classes": [],
            "description": "",
            "_model_name": "HTMLModel",
            "placeholder": "​",
            "_view_module": "@jupyter-widgets/controls",
            "_model_module_version": "1.5.0",
            "value": " 9920512/? [00:20&lt;00:00, 11177002.83it/s]",
            "_view_count": null,
            "_view_module_version": "1.5.0",
            "description_tooltip": null,
            "_model_module": "@jupyter-widgets/controls",
            "layout": "IPY_MODEL_3fbc6ce618a64585bd46f21b1c18e198"
          }
        },
        "38e95d93607444c9bbe26d073f8271b7": {
          "model_module": "@jupyter-widgets/controls",
          "model_name": "ProgressStyleModel",
          "state": {
            "_view_name": "StyleView",
            "_model_name": "ProgressStyleModel",
            "description_width": "initial",
            "_view_module": "@jupyter-widgets/base",
            "_model_module_version": "1.5.0",
            "_view_count": null,
            "_view_module_version": "1.2.0",
            "bar_color": null,
            "_model_module": "@jupyter-widgets/controls"
          }
        },
        "dca70789f70f4536a41ae2cd24038e41": {
          "model_module": "@jupyter-widgets/base",
          "model_name": "LayoutModel",
          "state": {
            "_view_name": "LayoutView",
            "grid_template_rows": null,
            "right": null,
            "justify_content": null,
            "_view_module": "@jupyter-widgets/base",
            "overflow": null,
            "_model_module_version": "1.2.0",
            "_view_count": null,
            "flex_flow": null,
            "width": null,
            "min_width": null,
            "border": null,
            "align_items": null,
            "bottom": null,
            "_model_module": "@jupyter-widgets/base",
            "top": null,
            "grid_column": null,
            "overflow_y": null,
            "overflow_x": null,
            "grid_auto_flow": null,
            "grid_area": null,
            "grid_template_columns": null,
            "flex": null,
            "_model_name": "LayoutModel",
            "justify_items": null,
            "grid_row": null,
            "max_height": null,
            "align_content": null,
            "visibility": null,
            "align_self": null,
            "height": null,
            "min_height": null,
            "padding": null,
            "grid_auto_rows": null,
            "grid_gap": null,
            "max_width": null,
            "order": null,
            "_view_module_version": "1.2.0",
            "grid_template_areas": null,
            "object_position": null,
            "object_fit": null,
            "grid_auto_columns": null,
            "margin": null,
            "display": null,
            "left": null
          }
        },
        "f7f194a43e84405dbb379e882fcd7e2a": {
          "model_module": "@jupyter-widgets/controls",
          "model_name": "DescriptionStyleModel",
          "state": {
            "_view_name": "StyleView",
            "_model_name": "DescriptionStyleModel",
            "description_width": "",
            "_view_module": "@jupyter-widgets/base",
            "_model_module_version": "1.5.0",
            "_view_count": null,
            "_view_module_version": "1.2.0",
            "_model_module": "@jupyter-widgets/controls"
          }
        },
        "3fbc6ce618a64585bd46f21b1c18e198": {
          "model_module": "@jupyter-widgets/base",
          "model_name": "LayoutModel",
          "state": {
            "_view_name": "LayoutView",
            "grid_template_rows": null,
            "right": null,
            "justify_content": null,
            "_view_module": "@jupyter-widgets/base",
            "overflow": null,
            "_model_module_version": "1.2.0",
            "_view_count": null,
            "flex_flow": null,
            "width": null,
            "min_width": null,
            "border": null,
            "align_items": null,
            "bottom": null,
            "_model_module": "@jupyter-widgets/base",
            "top": null,
            "grid_column": null,
            "overflow_y": null,
            "overflow_x": null,
            "grid_auto_flow": null,
            "grid_area": null,
            "grid_template_columns": null,
            "flex": null,
            "_model_name": "LayoutModel",
            "justify_items": null,
            "grid_row": null,
            "max_height": null,
            "align_content": null,
            "visibility": null,
            "align_self": null,
            "height": null,
            "min_height": null,
            "padding": null,
            "grid_auto_rows": null,
            "grid_gap": null,
            "max_width": null,
            "order": null,
            "_view_module_version": "1.2.0",
            "grid_template_areas": null,
            "object_position": null,
            "object_fit": null,
            "grid_auto_columns": null,
            "margin": null,
            "display": null,
            "left": null
          }
        },
        "dfea0bd5875e4076886d385883aa383b": {
          "model_module": "@jupyter-widgets/controls",
          "model_name": "HBoxModel",
          "state": {
            "_view_name": "HBoxView",
            "_dom_classes": [],
            "_model_name": "HBoxModel",
            "_view_module": "@jupyter-widgets/controls",
            "_model_module_version": "1.5.0",
            "_view_count": null,
            "_view_module_version": "1.5.0",
            "box_style": "",
            "layout": "IPY_MODEL_9017935bbab44be798336cffce5cecc9",
            "_model_module": "@jupyter-widgets/controls",
            "children": [
              "IPY_MODEL_5b4b1eabc72c4189bd7aee91d85ed40d",
              "IPY_MODEL_d0c7626655f74b1299747ddc43db8aa5"
            ]
          }
        },
        "9017935bbab44be798336cffce5cecc9": {
          "model_module": "@jupyter-widgets/base",
          "model_name": "LayoutModel",
          "state": {
            "_view_name": "LayoutView",
            "grid_template_rows": null,
            "right": null,
            "justify_content": null,
            "_view_module": "@jupyter-widgets/base",
            "overflow": null,
            "_model_module_version": "1.2.0",
            "_view_count": null,
            "flex_flow": null,
            "width": null,
            "min_width": null,
            "border": null,
            "align_items": null,
            "bottom": null,
            "_model_module": "@jupyter-widgets/base",
            "top": null,
            "grid_column": null,
            "overflow_y": null,
            "overflow_x": null,
            "grid_auto_flow": null,
            "grid_area": null,
            "grid_template_columns": null,
            "flex": null,
            "_model_name": "LayoutModel",
            "justify_items": null,
            "grid_row": null,
            "max_height": null,
            "align_content": null,
            "visibility": null,
            "align_self": null,
            "height": null,
            "min_height": null,
            "padding": null,
            "grid_auto_rows": null,
            "grid_gap": null,
            "max_width": null,
            "order": null,
            "_view_module_version": "1.2.0",
            "grid_template_areas": null,
            "object_position": null,
            "object_fit": null,
            "grid_auto_columns": null,
            "margin": null,
            "display": null,
            "left": null
          }
        },
        "5b4b1eabc72c4189bd7aee91d85ed40d": {
          "model_module": "@jupyter-widgets/controls",
          "model_name": "IntProgressModel",
          "state": {
            "_view_name": "ProgressView",
            "style": "IPY_MODEL_3892f0a4bdfc4312877f236205250fd4",
            "_dom_classes": [],
            "description": "",
            "_model_name": "IntProgressModel",
            "bar_style": "info",
            "max": 1,
            "_view_module": "@jupyter-widgets/controls",
            "_model_module_version": "1.5.0",
            "value": 1,
            "_view_count": null,
            "_view_module_version": "1.5.0",
            "orientation": "horizontal",
            "min": 0,
            "description_tooltip": null,
            "_model_module": "@jupyter-widgets/controls",
            "layout": "IPY_MODEL_6d8c59f71e824aed8c0184fb0500b660"
          }
        },
        "d0c7626655f74b1299747ddc43db8aa5": {
          "model_module": "@jupyter-widgets/controls",
          "model_name": "HTMLModel",
          "state": {
            "_view_name": "HTMLView",
            "style": "IPY_MODEL_2ad8a1cdd33a465187ef7835f93bb8db",
            "_dom_classes": [],
            "description": "",
            "_model_name": "HTMLModel",
            "placeholder": "​",
            "_view_module": "@jupyter-widgets/controls",
            "_model_module_version": "1.5.0",
            "value": " 32768/? [00:19&lt;00:00, 158548.41it/s]",
            "_view_count": null,
            "_view_module_version": "1.5.0",
            "description_tooltip": null,
            "_model_module": "@jupyter-widgets/controls",
            "layout": "IPY_MODEL_8471c9628441455393494faa595eeda1"
          }
        },
        "3892f0a4bdfc4312877f236205250fd4": {
          "model_module": "@jupyter-widgets/controls",
          "model_name": "ProgressStyleModel",
          "state": {
            "_view_name": "StyleView",
            "_model_name": "ProgressStyleModel",
            "description_width": "initial",
            "_view_module": "@jupyter-widgets/base",
            "_model_module_version": "1.5.0",
            "_view_count": null,
            "_view_module_version": "1.2.0",
            "bar_color": null,
            "_model_module": "@jupyter-widgets/controls"
          }
        },
        "6d8c59f71e824aed8c0184fb0500b660": {
          "model_module": "@jupyter-widgets/base",
          "model_name": "LayoutModel",
          "state": {
            "_view_name": "LayoutView",
            "grid_template_rows": null,
            "right": null,
            "justify_content": null,
            "_view_module": "@jupyter-widgets/base",
            "overflow": null,
            "_model_module_version": "1.2.0",
            "_view_count": null,
            "flex_flow": null,
            "width": null,
            "min_width": null,
            "border": null,
            "align_items": null,
            "bottom": null,
            "_model_module": "@jupyter-widgets/base",
            "top": null,
            "grid_column": null,
            "overflow_y": null,
            "overflow_x": null,
            "grid_auto_flow": null,
            "grid_area": null,
            "grid_template_columns": null,
            "flex": null,
            "_model_name": "LayoutModel",
            "justify_items": null,
            "grid_row": null,
            "max_height": null,
            "align_content": null,
            "visibility": null,
            "align_self": null,
            "height": null,
            "min_height": null,
            "padding": null,
            "grid_auto_rows": null,
            "grid_gap": null,
            "max_width": null,
            "order": null,
            "_view_module_version": "1.2.0",
            "grid_template_areas": null,
            "object_position": null,
            "object_fit": null,
            "grid_auto_columns": null,
            "margin": null,
            "display": null,
            "left": null
          }
        },
        "2ad8a1cdd33a465187ef7835f93bb8db": {
          "model_module": "@jupyter-widgets/controls",
          "model_name": "DescriptionStyleModel",
          "state": {
            "_view_name": "StyleView",
            "_model_name": "DescriptionStyleModel",
            "description_width": "",
            "_view_module": "@jupyter-widgets/base",
            "_model_module_version": "1.5.0",
            "_view_count": null,
            "_view_module_version": "1.2.0",
            "_model_module": "@jupyter-widgets/controls"
          }
        },
        "8471c9628441455393494faa595eeda1": {
          "model_module": "@jupyter-widgets/base",
          "model_name": "LayoutModel",
          "state": {
            "_view_name": "LayoutView",
            "grid_template_rows": null,
            "right": null,
            "justify_content": null,
            "_view_module": "@jupyter-widgets/base",
            "overflow": null,
            "_model_module_version": "1.2.0",
            "_view_count": null,
            "flex_flow": null,
            "width": null,
            "min_width": null,
            "border": null,
            "align_items": null,
            "bottom": null,
            "_model_module": "@jupyter-widgets/base",
            "top": null,
            "grid_column": null,
            "overflow_y": null,
            "overflow_x": null,
            "grid_auto_flow": null,
            "grid_area": null,
            "grid_template_columns": null,
            "flex": null,
            "_model_name": "LayoutModel",
            "justify_items": null,
            "grid_row": null,
            "max_height": null,
            "align_content": null,
            "visibility": null,
            "align_self": null,
            "height": null,
            "min_height": null,
            "padding": null,
            "grid_auto_rows": null,
            "grid_gap": null,
            "max_width": null,
            "order": null,
            "_view_module_version": "1.2.0",
            "grid_template_areas": null,
            "object_position": null,
            "object_fit": null,
            "grid_auto_columns": null,
            "margin": null,
            "display": null,
            "left": null
          }
        },
        "032a6233281d46b7b5c8e77528f67bf2": {
          "model_module": "@jupyter-widgets/controls",
          "model_name": "HBoxModel",
          "state": {
            "_view_name": "HBoxView",
            "_dom_classes": [],
            "_model_name": "HBoxModel",
            "_view_module": "@jupyter-widgets/controls",
            "_model_module_version": "1.5.0",
            "_view_count": null,
            "_view_module_version": "1.5.0",
            "box_style": "",
            "layout": "IPY_MODEL_962d4600b6534d95aa699636da035e9d",
            "_model_module": "@jupyter-widgets/controls",
            "children": [
              "IPY_MODEL_eba2fd6838de435aae5d8e84a9dde6de",
              "IPY_MODEL_9c11698d944441c9a65deaab33dd4176"
            ]
          }
        },
        "962d4600b6534d95aa699636da035e9d": {
          "model_module": "@jupyter-widgets/base",
          "model_name": "LayoutModel",
          "state": {
            "_view_name": "LayoutView",
            "grid_template_rows": null,
            "right": null,
            "justify_content": null,
            "_view_module": "@jupyter-widgets/base",
            "overflow": null,
            "_model_module_version": "1.2.0",
            "_view_count": null,
            "flex_flow": null,
            "width": null,
            "min_width": null,
            "border": null,
            "align_items": null,
            "bottom": null,
            "_model_module": "@jupyter-widgets/base",
            "top": null,
            "grid_column": null,
            "overflow_y": null,
            "overflow_x": null,
            "grid_auto_flow": null,
            "grid_area": null,
            "grid_template_columns": null,
            "flex": null,
            "_model_name": "LayoutModel",
            "justify_items": null,
            "grid_row": null,
            "max_height": null,
            "align_content": null,
            "visibility": null,
            "align_self": null,
            "height": null,
            "min_height": null,
            "padding": null,
            "grid_auto_rows": null,
            "grid_gap": null,
            "max_width": null,
            "order": null,
            "_view_module_version": "1.2.0",
            "grid_template_areas": null,
            "object_position": null,
            "object_fit": null,
            "grid_auto_columns": null,
            "margin": null,
            "display": null,
            "left": null
          }
        },
        "eba2fd6838de435aae5d8e84a9dde6de": {
          "model_module": "@jupyter-widgets/controls",
          "model_name": "IntProgressModel",
          "state": {
            "_view_name": "ProgressView",
            "style": "IPY_MODEL_01d852ad1b1748f2a5240f8ec6235501",
            "_dom_classes": [],
            "description": "",
            "_model_name": "IntProgressModel",
            "bar_style": "info",
            "max": 1,
            "_view_module": "@jupyter-widgets/controls",
            "_model_module_version": "1.5.0",
            "value": 1,
            "_view_count": null,
            "_view_module_version": "1.5.0",
            "orientation": "horizontal",
            "min": 0,
            "description_tooltip": null,
            "_model_module": "@jupyter-widgets/controls",
            "layout": "IPY_MODEL_6791058bd9c34489b08bbb84c9f9803d"
          }
        },
        "9c11698d944441c9a65deaab33dd4176": {
          "model_module": "@jupyter-widgets/controls",
          "model_name": "HTMLModel",
          "state": {
            "_view_name": "HTMLView",
            "style": "IPY_MODEL_823b9eff29aa46aca0f339c0abe6b0bf",
            "_dom_classes": [],
            "description": "",
            "_model_name": "HTMLModel",
            "placeholder": "​",
            "_view_module": "@jupyter-widgets/controls",
            "_model_module_version": "1.5.0",
            "value": " 1654784/? [00:19&lt;00:00, 11474649.19it/s]",
            "_view_count": null,
            "_view_module_version": "1.5.0",
            "description_tooltip": null,
            "_model_module": "@jupyter-widgets/controls",
            "layout": "IPY_MODEL_38097a4c6b164153a508953550dd7d74"
          }
        },
        "01d852ad1b1748f2a5240f8ec6235501": {
          "model_module": "@jupyter-widgets/controls",
          "model_name": "ProgressStyleModel",
          "state": {
            "_view_name": "StyleView",
            "_model_name": "ProgressStyleModel",
            "description_width": "initial",
            "_view_module": "@jupyter-widgets/base",
            "_model_module_version": "1.5.0",
            "_view_count": null,
            "_view_module_version": "1.2.0",
            "bar_color": null,
            "_model_module": "@jupyter-widgets/controls"
          }
        },
        "6791058bd9c34489b08bbb84c9f9803d": {
          "model_module": "@jupyter-widgets/base",
          "model_name": "LayoutModel",
          "state": {
            "_view_name": "LayoutView",
            "grid_template_rows": null,
            "right": null,
            "justify_content": null,
            "_view_module": "@jupyter-widgets/base",
            "overflow": null,
            "_model_module_version": "1.2.0",
            "_view_count": null,
            "flex_flow": null,
            "width": null,
            "min_width": null,
            "border": null,
            "align_items": null,
            "bottom": null,
            "_model_module": "@jupyter-widgets/base",
            "top": null,
            "grid_column": null,
            "overflow_y": null,
            "overflow_x": null,
            "grid_auto_flow": null,
            "grid_area": null,
            "grid_template_columns": null,
            "flex": null,
            "_model_name": "LayoutModel",
            "justify_items": null,
            "grid_row": null,
            "max_height": null,
            "align_content": null,
            "visibility": null,
            "align_self": null,
            "height": null,
            "min_height": null,
            "padding": null,
            "grid_auto_rows": null,
            "grid_gap": null,
            "max_width": null,
            "order": null,
            "_view_module_version": "1.2.0",
            "grid_template_areas": null,
            "object_position": null,
            "object_fit": null,
            "grid_auto_columns": null,
            "margin": null,
            "display": null,
            "left": null
          }
        },
        "823b9eff29aa46aca0f339c0abe6b0bf": {
          "model_module": "@jupyter-widgets/controls",
          "model_name": "DescriptionStyleModel",
          "state": {
            "_view_name": "StyleView",
            "_model_name": "DescriptionStyleModel",
            "description_width": "",
            "_view_module": "@jupyter-widgets/base",
            "_model_module_version": "1.5.0",
            "_view_count": null,
            "_view_module_version": "1.2.0",
            "_model_module": "@jupyter-widgets/controls"
          }
        },
        "38097a4c6b164153a508953550dd7d74": {
          "model_module": "@jupyter-widgets/base",
          "model_name": "LayoutModel",
          "state": {
            "_view_name": "LayoutView",
            "grid_template_rows": null,
            "right": null,
            "justify_content": null,
            "_view_module": "@jupyter-widgets/base",
            "overflow": null,
            "_model_module_version": "1.2.0",
            "_view_count": null,
            "flex_flow": null,
            "width": null,
            "min_width": null,
            "border": null,
            "align_items": null,
            "bottom": null,
            "_model_module": "@jupyter-widgets/base",
            "top": null,
            "grid_column": null,
            "overflow_y": null,
            "overflow_x": null,
            "grid_auto_flow": null,
            "grid_area": null,
            "grid_template_columns": null,
            "flex": null,
            "_model_name": "LayoutModel",
            "justify_items": null,
            "grid_row": null,
            "max_height": null,
            "align_content": null,
            "visibility": null,
            "align_self": null,
            "height": null,
            "min_height": null,
            "padding": null,
            "grid_auto_rows": null,
            "grid_gap": null,
            "max_width": null,
            "order": null,
            "_view_module_version": "1.2.0",
            "grid_template_areas": null,
            "object_position": null,
            "object_fit": null,
            "grid_auto_columns": null,
            "margin": null,
            "display": null,
            "left": null
          }
        },
        "c608d16cae044843b21a979218f471d2": {
          "model_module": "@jupyter-widgets/controls",
          "model_name": "HBoxModel",
          "state": {
            "_view_name": "HBoxView",
            "_dom_classes": [],
            "_model_name": "HBoxModel",
            "_view_module": "@jupyter-widgets/controls",
            "_model_module_version": "1.5.0",
            "_view_count": null,
            "_view_module_version": "1.5.0",
            "box_style": "",
            "layout": "IPY_MODEL_00933bb6e2584d72ae526f4a51c9a644",
            "_model_module": "@jupyter-widgets/controls",
            "children": [
              "IPY_MODEL_3e76dbc8cbd444b5948a25c79a8ecd72",
              "IPY_MODEL_e98c7f92b1cc4827b94a6e8e41c8ce19"
            ]
          }
        },
        "00933bb6e2584d72ae526f4a51c9a644": {
          "model_module": "@jupyter-widgets/base",
          "model_name": "LayoutModel",
          "state": {
            "_view_name": "LayoutView",
            "grid_template_rows": null,
            "right": null,
            "justify_content": null,
            "_view_module": "@jupyter-widgets/base",
            "overflow": null,
            "_model_module_version": "1.2.0",
            "_view_count": null,
            "flex_flow": null,
            "width": null,
            "min_width": null,
            "border": null,
            "align_items": null,
            "bottom": null,
            "_model_module": "@jupyter-widgets/base",
            "top": null,
            "grid_column": null,
            "overflow_y": null,
            "overflow_x": null,
            "grid_auto_flow": null,
            "grid_area": null,
            "grid_template_columns": null,
            "flex": null,
            "_model_name": "LayoutModel",
            "justify_items": null,
            "grid_row": null,
            "max_height": null,
            "align_content": null,
            "visibility": null,
            "align_self": null,
            "height": null,
            "min_height": null,
            "padding": null,
            "grid_auto_rows": null,
            "grid_gap": null,
            "max_width": null,
            "order": null,
            "_view_module_version": "1.2.0",
            "grid_template_areas": null,
            "object_position": null,
            "object_fit": null,
            "grid_auto_columns": null,
            "margin": null,
            "display": null,
            "left": null
          }
        },
        "3e76dbc8cbd444b5948a25c79a8ecd72": {
          "model_module": "@jupyter-widgets/controls",
          "model_name": "IntProgressModel",
          "state": {
            "_view_name": "ProgressView",
            "style": "IPY_MODEL_627b8d183e914c109bf7037abc742a8d",
            "_dom_classes": [],
            "description": "",
            "_model_name": "IntProgressModel",
            "bar_style": "info",
            "max": 1,
            "_view_module": "@jupyter-widgets/controls",
            "_model_module_version": "1.5.0",
            "value": 0,
            "_view_count": null,
            "_view_module_version": "1.5.0",
            "orientation": "horizontal",
            "min": 0,
            "description_tooltip": null,
            "_model_module": "@jupyter-widgets/controls",
            "layout": "IPY_MODEL_5de9cbbef73243ffab3d383704bda0d0"
          }
        },
        "e98c7f92b1cc4827b94a6e8e41c8ce19": {
          "model_module": "@jupyter-widgets/controls",
          "model_name": "HTMLModel",
          "state": {
            "_view_name": "HTMLView",
            "style": "IPY_MODEL_d375da0b51ec49909fca5be6758655e7",
            "_dom_classes": [],
            "description": "",
            "_model_name": "HTMLModel",
            "placeholder": "​",
            "_view_module": "@jupyter-widgets/controls",
            "_model_module_version": "1.5.0",
            "value": " 0/? [00:00&lt;?, ?it/s]",
            "_view_count": null,
            "_view_module_version": "1.5.0",
            "description_tooltip": null,
            "_model_module": "@jupyter-widgets/controls",
            "layout": "IPY_MODEL_d719300666224e11829cda36fe020c71"
          }
        },
        "627b8d183e914c109bf7037abc742a8d": {
          "model_module": "@jupyter-widgets/controls",
          "model_name": "ProgressStyleModel",
          "state": {
            "_view_name": "StyleView",
            "_model_name": "ProgressStyleModel",
            "description_width": "initial",
            "_view_module": "@jupyter-widgets/base",
            "_model_module_version": "1.5.0",
            "_view_count": null,
            "_view_module_version": "1.2.0",
            "bar_color": null,
            "_model_module": "@jupyter-widgets/controls"
          }
        },
        "5de9cbbef73243ffab3d383704bda0d0": {
          "model_module": "@jupyter-widgets/base",
          "model_name": "LayoutModel",
          "state": {
            "_view_name": "LayoutView",
            "grid_template_rows": null,
            "right": null,
            "justify_content": null,
            "_view_module": "@jupyter-widgets/base",
            "overflow": null,
            "_model_module_version": "1.2.0",
            "_view_count": null,
            "flex_flow": null,
            "width": null,
            "min_width": null,
            "border": null,
            "align_items": null,
            "bottom": null,
            "_model_module": "@jupyter-widgets/base",
            "top": null,
            "grid_column": null,
            "overflow_y": null,
            "overflow_x": null,
            "grid_auto_flow": null,
            "grid_area": null,
            "grid_template_columns": null,
            "flex": null,
            "_model_name": "LayoutModel",
            "justify_items": null,
            "grid_row": null,
            "max_height": null,
            "align_content": null,
            "visibility": null,
            "align_self": null,
            "height": null,
            "min_height": null,
            "padding": null,
            "grid_auto_rows": null,
            "grid_gap": null,
            "max_width": null,
            "order": null,
            "_view_module_version": "1.2.0",
            "grid_template_areas": null,
            "object_position": null,
            "object_fit": null,
            "grid_auto_columns": null,
            "margin": null,
            "display": null,
            "left": null
          }
        },
        "d375da0b51ec49909fca5be6758655e7": {
          "model_module": "@jupyter-widgets/controls",
          "model_name": "DescriptionStyleModel",
          "state": {
            "_view_name": "StyleView",
            "_model_name": "DescriptionStyleModel",
            "description_width": "",
            "_view_module": "@jupyter-widgets/base",
            "_model_module_version": "1.5.0",
            "_view_count": null,
            "_view_module_version": "1.2.0",
            "_model_module": "@jupyter-widgets/controls"
          }
        },
        "d719300666224e11829cda36fe020c71": {
          "model_module": "@jupyter-widgets/base",
          "model_name": "LayoutModel",
          "state": {
            "_view_name": "LayoutView",
            "grid_template_rows": null,
            "right": null,
            "justify_content": null,
            "_view_module": "@jupyter-widgets/base",
            "overflow": null,
            "_model_module_version": "1.2.0",
            "_view_count": null,
            "flex_flow": null,
            "width": null,
            "min_width": null,
            "border": null,
            "align_items": null,
            "bottom": null,
            "_model_module": "@jupyter-widgets/base",
            "top": null,
            "grid_column": null,
            "overflow_y": null,
            "overflow_x": null,
            "grid_auto_flow": null,
            "grid_area": null,
            "grid_template_columns": null,
            "flex": null,
            "_model_name": "LayoutModel",
            "justify_items": null,
            "grid_row": null,
            "max_height": null,
            "align_content": null,
            "visibility": null,
            "align_self": null,
            "height": null,
            "min_height": null,
            "padding": null,
            "grid_auto_rows": null,
            "grid_gap": null,
            "max_width": null,
            "order": null,
            "_view_module_version": "1.2.0",
            "grid_template_areas": null,
            "object_position": null,
            "object_fit": null,
            "grid_auto_columns": null,
            "margin": null,
            "display": null,
            "left": null
          }
        }
      }
    }
  },
  "cells": [
    {
      "cell_type": "markdown",
      "metadata": {
        "id": "view-in-github",
        "colab_type": "text"
      },
      "source": [
        "<a href=\"https://colab.research.google.com/github/TottiPuc/Machine_learning/blob/master/CNN_version2_Pytorch_nivel_medio.ipynb\" target=\"_parent\"><img src=\"https://colab.research.google.com/assets/colab-badge.svg\" alt=\"Open In Colab\"/></a>"
      ]
    },
    {
      "cell_type": "markdown",
      "metadata": {
        "id": "6Os9qHnjI3RS",
        "colab_type": "text"
      },
      "source": [
        "#CNN para clasificación de dígitos usando Pytorch (nivel medio de complejidad)\n",
        "\n",
        "En esta segundo notebook se implementará la misma red neuronal creada en [CNN con TF y Keras](https://github.com/TottiPuc/Machine_learning/blob/master/CNN_version1_TF_y_keras_nivel_bajo.ipynb) pero esta vez usando el framework pytorch para hacer una clasificación de digitos del dataset MNIST\n",
        "\n",
        "la arquitectura es:\n",
        "\n",
        "*  una capa de entrada con 784 neurones, la cual recibira cada imágen de 28x28\n",
        "*  una capa ocúlta de 128 neurones con función de activacion ReLu\n",
        "*  una capa ocúlta de 64 neurones con funcion de activacion ReLu\n",
        "*  una capa de salida con 10 neurones la cual definirá que dígito es el indicado para la clasificación con una funcion de activación sotfmax"
      ]
    },
    {
      "cell_type": "markdown",
      "metadata": {
        "id": "-ul8BY2rJaNB",
        "colab_type": "text"
      },
      "source": [
        "#Cargando paquetes principales"
      ]
    },
    {
      "cell_type": "code",
      "metadata": {
        "id": "Stiw9NUNIsRi",
        "colab_type": "code",
        "colab": {}
      },
      "source": [
        "# instalamos el framework pytorch\n",
        "!pip install -q torchvision\n",
        "!pip install -q torch\n",
        "!pip install -q -U watermark"
      ],
      "execution_count": 0,
      "outputs": []
    },
    {
      "cell_type": "code",
      "metadata": {
        "id": "JHv_ni2gJrta",
        "colab_type": "code",
        "colab": {}
      },
      "source": [
        "#cargamos os paquetes necesarios\n",
        "import time\n",
        "import torch\n",
        "import torchvision\n",
        "import torch.nn as nn\n",
        "import torch.optim as optim\n",
        "import torch.nn.functional as F\n",
        "from torchvision import datasets, transforms\n",
        "import matplotlib.pyplot as plt\n",
        "import matplotlib\n",
        "import numpy as np"
      ],
      "execution_count": 0,
      "outputs": []
    },
    {
      "cell_type": "code",
      "metadata": {
        "id": "jtjeCxvYKhE4",
        "colab_type": "code",
        "colab": {
          "base_uri": "https://localhost:8080/",
          "height": 102
        },
        "outputId": "a319872b-b13c-448e-93c8-5001822e0cdd"
      },
      "source": [
        "#versiones de los paquetes\n",
        "%reload_ext watermark\n",
        "%watermark -a \"Christian Arcos Gordillo\" --iversion"
      ],
      "execution_count": 5,
      "outputs": [
        {
          "output_type": "stream",
          "text": [
            "matplotlib  3.2.1\n",
            "torchvision 0.5.0\n",
            "torch       1.4.0\n",
            "numpy       1.18.2\n",
            "Christian Arcos Gordillo\n"
          ],
          "name": "stdout"
        }
      ]
    },
    {
      "cell_type": "markdown",
      "metadata": {
        "id": "SJe5ZZmDK6fJ",
        "colab_type": "text"
      },
      "source": [
        "###Preparación de datos "
      ]
    },
    {
      "cell_type": "markdown",
      "metadata": {
        "id": "tSfU0uM9LVDL",
        "colab_type": "text"
      },
      "source": [
        "Lo primero es normalizar los datos para eso antes de cargar el dataset de MNIST creamos la función de normalización que esta incorporada en el framework pytorch\n",
        "esta funcion toma el conjunto de entrada en este caso eldataset lo conveierte a tensor y aplica una nomalización en el siguiente caso con media 0.5 y desviación estandar de 0.5"
      ]
    },
    {
      "cell_type": "code",
      "metadata": {
        "id": "sDg1w0p_Kvyn",
        "colab_type": "code",
        "colab": {}
      },
      "source": [
        "#funcion para transformar los datos al momento de importarlos\n",
        "transform = transforms.Compose([transforms.ToTensor(),transforms.Normalize((0.5,),(0.5,))])"
      ],
      "execution_count": 0,
      "outputs": []
    },
    {
      "cell_type": "markdown",
      "metadata": {
        "id": "IH3ZBic2MNOV",
        "colab_type": "text"
      },
      "source": [
        "Ahora descargamos el dataset lo mezclamos en el proceso y lo transformamos, esta descarga genera el conjunto de datos y un muestreador el cual ofrece iteradores de proceso único o multiproceso sobre el dataset"
      ]
    },
    {
      "cell_type": "code",
      "metadata": {
        "id": "3pqWEfkiL2s4",
        "colab_type": "code",
        "colab": {
          "base_uri": "https://localhost:8080/",
          "height": 315,
          "referenced_widgets": [
            "feac8e7ad8a64f89a452be20351ea6d0",
            "34babb961227434a84cec074a62c4eb8",
            "c478216a803b42e691d430979b044c6d",
            "6f885b4d2b9a422c9a250c1b0f645b81",
            "38e95d93607444c9bbe26d073f8271b7",
            "dca70789f70f4536a41ae2cd24038e41",
            "f7f194a43e84405dbb379e882fcd7e2a",
            "3fbc6ce618a64585bd46f21b1c18e198",
            "dfea0bd5875e4076886d385883aa383b",
            "9017935bbab44be798336cffce5cecc9",
            "5b4b1eabc72c4189bd7aee91d85ed40d",
            "d0c7626655f74b1299747ddc43db8aa5",
            "3892f0a4bdfc4312877f236205250fd4",
            "6d8c59f71e824aed8c0184fb0500b660",
            "2ad8a1cdd33a465187ef7835f93bb8db",
            "8471c9628441455393494faa595eeda1",
            "032a6233281d46b7b5c8e77528f67bf2",
            "962d4600b6534d95aa699636da035e9d",
            "eba2fd6838de435aae5d8e84a9dde6de",
            "9c11698d944441c9a65deaab33dd4176",
            "01d852ad1b1748f2a5240f8ec6235501",
            "6791058bd9c34489b08bbb84c9f9803d",
            "823b9eff29aa46aca0f339c0abe6b0bf",
            "38097a4c6b164153a508953550dd7d74",
            "c608d16cae044843b21a979218f471d2",
            "00933bb6e2584d72ae526f4a51c9a644",
            "3e76dbc8cbd444b5948a25c79a8ecd72",
            "e98c7f92b1cc4827b94a6e8e41c8ce19",
            "627b8d183e914c109bf7037abc742a8d",
            "5de9cbbef73243ffab3d383704bda0d0",
            "d375da0b51ec49909fca5be6758655e7",
            "d719300666224e11829cda36fe020c71"
          ]
        },
        "outputId": "9ef80e44-6b71-432a-b76d-8c4231aff9d9"
      },
      "source": [
        "#cargando los datos de entrenamiento\n",
        "data_train = torch.utils.data.DataLoader(datasets.MNIST('data',    #carpeta donde se almacenaran los datos\n",
        "                                                        train = True,    # solo solicito los datos de entrenamiento\n",
        "                                                        download=True,\n",
        "                                                        transform=transform),\n",
        "                                                        batch_size=64,  # para generar varios lotes de 64 imagenes para no sobrecargar la memoria\n",
        "                                                        shuffle=True)"
      ],
      "execution_count": 8,
      "outputs": [
        {
          "output_type": "stream",
          "text": [
            "Downloading http://yann.lecun.com/exdb/mnist/train-images-idx3-ubyte.gz to data/MNIST/raw/train-images-idx3-ubyte.gz\n"
          ],
          "name": "stdout"
        },
        {
          "output_type": "display_data",
          "data": {
            "application/vnd.jupyter.widget-view+json": {
              "model_id": "feac8e7ad8a64f89a452be20351ea6d0",
              "version_minor": 0,
              "version_major": 2
            },
            "text/plain": [
              "HBox(children=(IntProgress(value=1, bar_style='info', max=1), HTML(value='')))"
            ]
          },
          "metadata": {
            "tags": []
          }
        },
        {
          "output_type": "stream",
          "text": [
            "Extracting data/MNIST/raw/train-images-idx3-ubyte.gz to data/MNIST/raw\n",
            "Downloading http://yann.lecun.com/exdb/mnist/train-labels-idx1-ubyte.gz to data/MNIST/raw/train-labels-idx1-ubyte.gz\n"
          ],
          "name": "stdout"
        },
        {
          "output_type": "display_data",
          "data": {
            "application/vnd.jupyter.widget-view+json": {
              "model_id": "dfea0bd5875e4076886d385883aa383b",
              "version_minor": 0,
              "version_major": 2
            },
            "text/plain": [
              "HBox(children=(IntProgress(value=1, bar_style='info', max=1), HTML(value='')))"
            ]
          },
          "metadata": {
            "tags": []
          }
        },
        {
          "output_type": "stream",
          "text": [
            "Extracting data/MNIST/raw/train-labels-idx1-ubyte.gz to data/MNIST/raw\n",
            "Downloading http://yann.lecun.com/exdb/mnist/t10k-images-idx3-ubyte.gz to data/MNIST/raw/t10k-images-idx3-ubyte.gz\n"
          ],
          "name": "stdout"
        },
        {
          "output_type": "display_data",
          "data": {
            "application/vnd.jupyter.widget-view+json": {
              "model_id": "032a6233281d46b7b5c8e77528f67bf2",
              "version_minor": 0,
              "version_major": 2
            },
            "text/plain": [
              "HBox(children=(IntProgress(value=1, bar_style='info', max=1), HTML(value='')))"
            ]
          },
          "metadata": {
            "tags": []
          }
        },
        {
          "output_type": "stream",
          "text": [
            "Extracting data/MNIST/raw/t10k-images-idx3-ubyte.gz to data/MNIST/raw\n",
            "Downloading http://yann.lecun.com/exdb/mnist/t10k-labels-idx1-ubyte.gz to data/MNIST/raw/t10k-labels-idx1-ubyte.gz\n"
          ],
          "name": "stdout"
        },
        {
          "output_type": "display_data",
          "data": {
            "application/vnd.jupyter.widget-view+json": {
              "model_id": "c608d16cae044843b21a979218f471d2",
              "version_minor": 0,
              "version_major": 2
            },
            "text/plain": [
              "HBox(children=(IntProgress(value=1, bar_style='info', max=1), HTML(value='')))"
            ]
          },
          "metadata": {
            "tags": []
          }
        },
        {
          "output_type": "stream",
          "text": [
            "Extracting data/MNIST/raw/t10k-labels-idx1-ubyte.gz to data/MNIST/raw\n",
            "Processing...\n",
            "Done!\n"
          ],
          "name": "stdout"
        }
      ]
    },
    {
      "cell_type": "code",
      "metadata": {
        "id": "Jb1Y_vL4Nocd",
        "colab_type": "code",
        "colab": {}
      },
      "source": [
        "#cargando los datos de teste\n",
        "data_test = torch.utils.data.DataLoader(datasets.MNIST('data',    #carpeta donde se almacenaran los datos\n",
        "                                                        train = False,    # solo solicito los datos de teste\n",
        "                                                        download=True,\n",
        "                                                        transform=transform),\n",
        "                                                        batch_size=64,  # para generar varios lotes de 64 imagenes para no sobrecargar la memoria\n",
        "                                                        shuffle=True)"
      ],
      "execution_count": 0,
      "outputs": []
    },
    {
      "cell_type": "markdown",
      "metadata": {
        "id": "6k3TluP5OTXY",
        "colab_type": "text"
      },
      "source": [
        "Verificamos la carga de datos"
      ]
    },
    {
      "cell_type": "code",
      "metadata": {
        "id": "_CoZa7_7OCUk",
        "colab_type": "code",
        "colab": {
          "base_uri": "https://localhost:8080/",
          "height": 51
        },
        "outputId": "e5871f71-4ee4-4606-ea13-46b5441264a9"
      },
      "source": [
        "#como la carga de datos ofrece un iterador de cada lote con el tamaño que definimos entonces utiliamos la funcion iterador para obtener ese lote\n",
        "dataiter = iter(data_train)\n",
        "images, labels = dataiter.next()\n",
        "\n",
        "print(images.shape)\n",
        "print(labels.shape)\n",
        "# esto nos entrega un lote de 64 imagenes diciendo que es 1 lote de 28 x 28"
      ],
      "execution_count": 10,
      "outputs": [
        {
          "output_type": "stream",
          "text": [
            "torch.Size([64, 1, 28, 28])\n",
            "torch.Size([64])\n"
          ],
          "name": "stdout"
        }
      ]
    },
    {
      "cell_type": "code",
      "metadata": {
        "id": "aQjCSsepO4iK",
        "colab_type": "code",
        "colab": {
          "base_uri": "https://localhost:8080/",
          "height": 282
        },
        "outputId": "ebefa36a-745a-496b-f65c-ca448ec46675"
      },
      "source": [
        "# visualizamos una imágen\n",
        "plt.imshow(images[0].numpy().squeeze(), cmap= 'gray_r')"
      ],
      "execution_count": 11,
      "outputs": [
        {
          "output_type": "execute_result",
          "data": {
            "text/plain": [
              "<matplotlib.image.AxesImage at 0x7fd0df3c0f28>"
            ]
          },
          "metadata": {
            "tags": []
          },
          "execution_count": 11
        },
        {
          "output_type": "display_data",
          "data": {
            "image/png": "[encoded data removed]",
            "text/plain": [
              "<Figure size 432x288 with 1 Axes>"
            ]
          },
          "metadata": {
            "tags": []
          }
        }
      ]
    },
    {
      "cell_type": "code",
      "metadata": {
        "id": "buI4OSzBPVag",
        "colab_type": "code",
        "colab": {
          "base_uri": "https://localhost:8080/",
          "height": 246
        },
        "outputId": "0c02e657-8567-42fe-800b-ebcadc5d1500"
      },
      "source": [
        "#visualizamos varias imágenes\n",
        "figure =plt.figure()\n",
        "num_of_images = 60\n",
        "for i in range(1,num_of_images+1):\n",
        "  plt.subplot(6,10, i)\n",
        "  plt.axis('off')\n",
        "  plt.imshow(images[i].numpy().squeeze(), cmap='gray_r')"
      ],
      "execution_count": 13,
      "outputs": [
        {
          "output_type": "display_data",
          "data": {
            "image/png": "[encoded data removed]",
            "text/plain": [
              "<Figure size 432x288 with 60 Axes>"
            ]
          },
          "metadata": {
            "tags": []
          }
        }
      ]
    },
    {
      "cell_type": "markdown",
      "metadata": {
        "id": "p9dZi4LoRaol",
        "colab_type": "text"
      },
      "source": [
        "##Creando la arquitectura de la red\n",
        "\n",
        "hiperparametros de la red"
      ]
    },
    {
      "cell_type": "code",
      "metadata": {
        "id": "Z57TtXPFRFzv",
        "colab_type": "code",
        "colab": {}
      },
      "source": [
        "input_size=784    # 28x28\n",
        "hidden_sizes = [128,64]  # número de neurones de las capas ocultas\n",
        "output_size = 10"
      ],
      "execution_count": 0,
      "outputs": []
    },
    {
      "cell_type": "markdown",
      "metadata": {
        "id": "oJRGJYnRRzQ9",
        "colab_type": "text"
      },
      "source": [
        "Creamos el modelo"
      ]
    },
    {
      "cell_type": "code",
      "metadata": {
        "id": "O-coduLIRvHm",
        "colab_type": "code",
        "colab": {}
      },
      "source": [
        "model_pt=nn.Sequential(nn.Linear(input_size,hidden_sizes[0]),  #784 x 128\n",
        "                       nn.ReLU(),\n",
        "                       nn.Linear(hidden_sizes[0], hidden_sizes[1]), # 128 x 64\n",
        "                       nn.ReLU(),\n",
        "                       nn.Linear(hidden_sizes[1],output_size), #64 x 10\n",
        "                       nn.LogSoftmax(dim=1))"
      ],
      "execution_count": 0,
      "outputs": []
    },
    {
      "cell_type": "code",
      "metadata": {
        "id": "ekMh11l2SqyG",
        "colab_type": "code",
        "colab": {
          "base_uri": "https://localhost:8080/",
          "height": 153
        },
        "outputId": "84c30015-39c6-4526-f5cb-36622674607e"
      },
      "source": [
        "print(model_pt)"
      ],
      "execution_count": 16,
      "outputs": [
        {
          "output_type": "stream",
          "text": [
            "Sequential(\n",
            "  (0): Linear(in_features=784, out_features=128, bias=True)\n",
            "  (1): ReLU()\n",
            "  (2): Linear(in_features=128, out_features=64, bias=True)\n",
            "  (3): ReLU()\n",
            "  (4): Linear(in_features=64, out_features=10, bias=True)\n",
            "  (5): LogSoftmax()\n",
            ")\n"
          ],
          "name": "stdout"
        }
      ]
    },
    {
      "cell_type": "markdown",
      "metadata": {
        "id": "WKnqjhRRUSOX",
        "colab_type": "text"
      },
      "source": [
        "Creamos las funciones de optimización del modelo esto es:\n",
        "*    la función de coste"
      ]
    },
    {
      "cell_type": "code",
      "metadata": {
        "id": "CGkcLXuHS5zm",
        "colab_type": "code",
        "colab": {}
      },
      "source": [
        "#función de coste\n",
        "coste = nn.NLLLoss()\n",
        "\n",
        "# obteniendo los lotes de los datos\n",
        "images,labels = next(iter(data_train))\n",
        "\n",
        "# ajustando el shape de cada lote\n",
        "images = images.view(images.shape[0],-1)    # tendremos las 64 imagenes de cada lote con 784 registros que son el resultado de 28x28\n",
        "\n",
        "# calculamos los logaritmos de las probabilidades de cada clase\n",
        "logs = model_pt(images)\n",
        "\n",
        "# calculamos las perdidas\n",
        "\n",
        "loss = coste(logs,labels)"
      ],
      "execution_count": 0,
      "outputs": []
    },
    {
      "cell_type": "markdown",
      "metadata": {
        "id": "ISpkvb3XWPc8",
        "colab_type": "text"
      },
      "source": [
        "A modo de ejemplo antes de entrenar la red se realiza la extracción de un peso del modelo ya creado peor no entrenado y que pasa cuadno el pasa por la función backpropagation osea la encargada de actualizar los pesos"
      ]
    },
    {
      "cell_type": "code",
      "metadata": {
        "id": "uTH10QKAVFus",
        "colab_type": "code",
        "colab": {
          "base_uri": "https://localhost:8080/",
          "height": 221
        },
        "outputId": "bc09ef86-d4d9-49e4-e0e7-755c66e64dfa"
      },
      "source": [
        "print(\"\\n Antes del backpropagation \\n \", model_pt[0].weight.grad)\n",
        "loss.backward()\n",
        "print(\"\\n Despues del backpropagation \\n \", model_pt[0].weight.grad)"
      ],
      "execution_count": 21,
      "outputs": [
        {
          "output_type": "stream",
          "text": [
            "\n",
            " Antes del backpropagation \n",
            "  None\n",
            "\n",
            " Despues del backpropagation \n",
            "  tensor([[ 0.0009,  0.0009,  0.0009,  ...,  0.0009,  0.0009,  0.0009],\n",
            "        [ 0.0003,  0.0003,  0.0003,  ...,  0.0003,  0.0003,  0.0003],\n",
            "        [-0.0027, -0.0027, -0.0027,  ..., -0.0027, -0.0027, -0.0027],\n",
            "        ...,\n",
            "        [ 0.0016,  0.0016,  0.0016,  ...,  0.0016,  0.0016,  0.0016],\n",
            "        [ 0.0010,  0.0010,  0.0010,  ...,  0.0010,  0.0010,  0.0010],\n",
            "        [ 0.0000,  0.0000,  0.0000,  ...,  0.0000,  0.0000,  0.0000]])\n"
          ],
          "name": "stdout"
        }
      ]
    },
    {
      "cell_type": "markdown",
      "metadata": {
        "id": "5i8Pm94dXXg3",
        "colab_type": "text"
      },
      "source": [
        "##Entrenamiento\n",
        "que es el que realizará toda la etapa de actualización de pesos el paso anterior mostrado solo que multiples veces"
      ]
    },
    {
      "cell_type": "code",
      "metadata": {
        "id": "GB58hJ7zVG3b",
        "colab_type": "code",
        "colab": {
          "base_uri": "https://localhost:8080/",
          "height": 187
        },
        "outputId": "2769d32b-7de7-45ab-b42e-b64264b25b61"
      },
      "source": [
        "#optimizador\n",
        "optimizer = optim.SGD(model_pt.parameters(),lr=0.003, momentum=0.9)\n",
        "\n",
        "#numero de epocas\n",
        "epochs=10\n",
        "\n",
        "#loop de entrenamiento\n",
        "for e in range(epochs):\n",
        "  #registro el momento de cada epoca\n",
        "  start_time =time.time()\n",
        "\n",
        "  # iniciamos en cero el erro de cada epoca \n",
        "  running_loss =0\n",
        "\n",
        "  # creamos el loop para las imagenes y labels\n",
        "  for images,labels in data_train:\n",
        "\n",
        "    #realizamos el flatten da cada imagen\n",
        "    images = images.view(images.shape[0], -1)\n",
        "\n",
        "    #paso de entrenamiento\n",
        "    optimizer.zero_grad()\n",
        "\n",
        "    output = model_pt(images)\n",
        "    loss = coste(output,labels)\n",
        "\n",
        "    #es en este punto donde ocurre el aprendizaje con backpropagation\n",
        "    loss.backward()\n",
        "\n",
        "    # y aqui es donde optimizamos los pesos\n",
        "    optimizer.step()\n",
        "\n",
        "    running_loss += loss.item()\n",
        "  else:\n",
        "    print('Epoca {0}, tiempo de entrenamiento {1:.2f}, Loss(Error): {2}'.format(e, time.time() - start_time, running_loss/len(data_train)))"
      ],
      "execution_count": 22,
      "outputs": [
        {
          "output_type": "stream",
          "text": [
            "Epoca 0, tiempo de entrenamiento 10.04, Loss(Error): 0.6574998561348488\n",
            "Epoca 1, tiempo de entrenamiento 9.81, Loss(Error): 0.28228232339580556\n",
            "Epoca 2, tiempo de entrenamiento 9.76, Loss(Error): 0.21965620497555366\n",
            "Epoca 3, tiempo de entrenamiento 9.76, Loss(Error): 0.18008026869487026\n",
            "Epoca 4, tiempo de entrenamiento 9.73, Loss(Error): 0.150278440748117\n",
            "Epoca 5, tiempo de entrenamiento 9.71, Loss(Error): 0.1295159752828194\n",
            "Epoca 6, tiempo de entrenamiento 9.76, Loss(Error): 0.11332946165856014\n",
            "Epoca 7, tiempo de entrenamiento 9.68, Loss(Error): 0.10079149338803979\n",
            "Epoca 8, tiempo de entrenamiento 9.76, Loss(Error): 0.08986265654328154\n",
            "Epoca 9, tiempo de entrenamiento 9.70, Loss(Error): 0.0829228276187288\n"
          ],
          "name": "stdout"
        }
      ]
    },
    {
      "cell_type": "markdown",
      "metadata": {
        "id": "t_yJNPoQagPz",
        "colab_type": "text"
      },
      "source": [
        "##Evaluación del modelo"
      ]
    },
    {
      "cell_type": "code",
      "metadata": {
        "id": "NzBFLMCLZ4o-",
        "colab_type": "code",
        "colab": {}
      },
      "source": [
        "#función para visualizar la clasificación\n",
        "def vizualizar(img,ps):\n",
        "  ps=ps.data.numpy().squeeze()\n",
        "  fig, (ax1,ax2) = plt.subplots(figsize = (6,9),ncols= 2)\n",
        "  ax1.imshow(img.resize_(1,28,28).numpy().squeeze())\n",
        "  ax1.axis('off')\n",
        "  ax2.barh(np.arange(10),ps)\n",
        "  ax2.set_aspect(0.1)\n",
        "  ax2.set_yticks(np.arange(10))\n",
        "  ax2.set_yticklabels(np.arange(10))\n",
        "  ax2.set_title('Probabilidad de cada clase')\n",
        "  ax2.set_xlim(0, 1.1)\n",
        "  plt.tight_layout()"
      ],
      "execution_count": 0,
      "outputs": []
    },
    {
      "cell_type": "code",
      "metadata": {
        "id": "gYq1JO9xbzUq",
        "colab_type": "code",
        "colab": {
          "base_uri": "https://localhost:8080/",
          "height": 268
        },
        "outputId": "024c3608-6b38-42ca-f300-b1e5ef764c8e"
      },
      "source": [
        "#obtenemos una imagen de teste\n",
        "images,labels = next(iter(data_test))\n",
        "\n",
        "#ajustamos la imágen\n",
        "img = images[0].view(1,784)\n",
        "\n",
        "# realizamos la predicción con la imagen\n",
        "with torch.no_grad():\n",
        "  logs = model_pt(img)\n",
        "\n",
        "#logaritmos de probabilidad de la prediccion\n",
        "ps = torch.exp(logs)\n",
        "probabilidad = list(ps.numpy()[0])\n",
        "\n",
        "print(\"el digito predicho es \", probabilidad.index(max(probabilidad)))\n",
        "\n",
        "#visualizamos la clase\n",
        "vizualizar(img.view(1,28,28),ps)\n"
      ],
      "execution_count": 24,
      "outputs": [
        {
          "output_type": "stream",
          "text": [
            "el digito predicho es  2\n"
          ],
          "name": "stdout"
        },
        {
          "output_type": "display_data",
          "data": {
            "image/png": "[encoded data removed]",
            "text/plain": [
              "<Figure size 432x648 with 2 Axes>"
            ]
          },
          "metadata": {
            "tags": []
          }
        }
      ]
    },
    {
      "cell_type": "markdown",
      "metadata": {
        "id": "fz2UV_WYdVyP",
        "colab_type": "text"
      },
      "source": [
        "Como se puede ver en la enterio prueba el sistema esta reconociendo perfectamente, quiere decir que se ajusto bien a los datos de entrenamiento pero esot solo fue para una sola imágen, vamos a encontrar la tasa de precisión con todo el conjunto de teste"
      ]
    },
    {
      "cell_type": "code",
      "metadata": {
        "id": "LYArjXP3dEMV",
        "colab_type": "code",
        "colab": {
          "base_uri": "https://localhost:8080/",
          "height": 68
        },
        "outputId": "34fb4446-20fa-4be5-f473-38877aebf77b"
      },
      "source": [
        "#evaluando el modelo\n",
        "correct_count, all_count=0,0\n",
        "for images,labels in data_test:\n",
        "  for i in range(len(labels)):\n",
        "    img = images[i].view(1,784)\n",
        "    with torch.no_grad():\n",
        "      logs = model_pt(img)\n",
        "    ps = torch.exp(logs)\n",
        "    probabilidad = list(ps.numpy()[0])\n",
        "    pred_label= probabilidad.index(max(probabilidad))\n",
        "    true_label = labels.numpy()[i]\n",
        "    if (true_label == pred_label):\n",
        "      correct_count += 1\n",
        "    all_count += 1\n",
        "\n",
        "print(\"\\nNúmero de imágenes evaluadas =\", all_count)\n",
        "print(\"\\Precisión del modelo con los datos de teste =\", (correct_count/all_count))"
      ],
      "execution_count": 26,
      "outputs": [
        {
          "output_type": "stream",
          "text": [
            "\n",
            "Número de imágenes evaluadas = 10000\n",
            "\\Precisión del modelo con los datos de teste = 0.9707\n"
          ],
          "name": "stdout"
        }
      ]
    },
    {
      "cell_type": "code",
      "metadata": {
        "id": "iKB_3hyoedsh",
        "colab_type": "code",
        "colab": {}
      },
      "source": [
        "#guardamos nuestro modelo\n",
        "torch.save(model_pt,\"modelo_pt.pt\")"
      ],
      "execution_count": 0,
      "outputs": []
    },
    {
      "cell_type": "code",
      "metadata": {
        "id": "uMeh1Ue4fFOT",
        "colab_type": "code",
        "colab": {}
      },
      "source": [
        ""
      ],
      "execution_count": 0,
      "outputs": []
    }
  ]
}