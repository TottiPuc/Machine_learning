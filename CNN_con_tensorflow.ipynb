{
  "nbformat": 4,
  "nbformat_minor": 0,
  "metadata": {
    "colab": {
      "name": "CNN_con_tensorflow.ipynb",
      "provenance": [],
      "authorship_tag": "ABX9TyPWHGOJxilp7+syCB4Qz9/1",
      "include_colab_link": true
    },
    "kernelspec": {
      "name": "python3",
      "display_name": "Python 3"
    },
    "accelerator": "GPU"
  },
  "cells": [
    {
      "cell_type": "markdown",
      "metadata": {
        "id": "view-in-github",
        "colab_type": "text"
      },
      "source": [
        "<a href=\"https://colab.research.google.com/github/TottiPuc/Machine_learning/blob/master/CNN_con_tensorflow.ipynb\" target=\"_parent\"><img src=\"https://colab.research.google.com/assets/colab-badge.svg\" alt=\"Open In Colab\"/></a>"
      ]
    },
    {
      "cell_type": "markdown",
      "metadata": {
        "id": "i1Ua65zotFg1",
        "colab_type": "text"
      },
      "source": [
        "#Convolutional Neural Network con TensorFlow\n",
        "\n",
        "En este notebook construiremos una red neuronal convolucional para realizar un reconocimiento de objetos usando el dataset cifar10 que esta incluido en la libreria keras"
      ]
    },
    {
      "cell_type": "code",
      "metadata": {
        "id": "E9MDuBOls5jK",
        "colab_type": "code",
        "colab": {}
      },
      "source": [
        "%tensorflow_version 2.x"
      ],
      "execution_count": 0,
      "outputs": []
    },
    {
      "cell_type": "code",
      "metadata": {
        "id": "AhNsWa8duEA_",
        "colab_type": "code",
        "colab": {}
      },
      "source": [
        "import tensorflow as tf\n",
        "import matplotlib.pyplot as plt\n",
        "from tensorflow.keras.datasets import cifar10"
      ],
      "execution_count": 0,
      "outputs": []
    },
    {
      "cell_type": "markdown",
      "metadata": {
        "id": "I6LW17s_wI4v",
        "colab_type": "text"
      },
      "source": [
        "Cargamos el dataset y realizamos su respectivo pre procesamiento"
      ]
    },
    {
      "cell_type": "code",
      "metadata": {
        "id": "-u4ESvNVwAbw",
        "colab_type": "code",
        "colab": {}
      },
      "source": [
        "(x_train, y_train),(x_test, y_test) = cifar10.load_data()"
      ],
      "execution_count": 0,
      "outputs": []
    },
    {
      "cell_type": "code",
      "metadata": {
        "id": "qhQ5N4JFDWVV",
        "colab_type": "code",
        "colab": {
          "base_uri": "https://localhost:8080/",
          "height": 283
        },
        "outputId": "983508ee-002b-41a7-8e8a-9e710a136197"
      },
      "source": [
        "#verificacmos si esta bien cargado\n",
        "plt.imshow(x_test[10])"
      ],
      "execution_count": 3,
      "outputs": [
        {
          "output_type": "execute_result",
          "data": {
            "text/plain": [
              "<matplotlib.image.AxesImage at 0x7f545f8793c8>"
            ]
          },
          "metadata": {
            "tags": []
          },
          "execution_count": 3
        },
        {
          "output_type": "display_data",
          "data": {
            "image/png": "[encoded data removed]",
            "text/plain": [
              "<Figure size 432x288 with 1 Axes>"
            ]
          },
          "metadata": {
            "tags": []
          }
        }
      ]
    },
    {
      "cell_type": "code",
      "metadata": {
        "id": "1q7BXxJWBcYb",
        "colab_type": "code",
        "colab": {}
      },
      "source": [
        "#configuramos los nombres de las etiquetas del dataset\n",
        "class_names = ['avion','coche','pajaro','gato','ciervo','perro','rana','caballo','barco','camion']"
      ],
      "execution_count": 0,
      "outputs": []
    },
    {
      "cell_type": "markdown",
      "metadata": {
        "id": "q56f8n4l2XTk",
        "colab_type": "text"
      },
      "source": [
        "Normalizamos el conjunto de entrenamiento y de teste"
      ]
    },
    {
      "cell_type": "code",
      "metadata": {
        "id": "SES4ehHlwDHp",
        "colab_type": "code",
        "colab": {}
      },
      "source": [
        "x_train , x_test = x_train/255.0 , x_test/255.0"
      ],
      "execution_count": 0,
      "outputs": []
    },
    {
      "cell_type": "markdown",
      "metadata": {
        "id": "4rPy_uj_ER6a",
        "colab_type": "text"
      },
      "source": [
        "#Creación del modelo convolucional\n",
        "utilizando la libreria keras contruiremos una arquitectura de red neuronal convolucional para la detección de objetos "
      ]
    },
    {
      "cell_type": "code",
      "metadata": {
        "id": "BGPfvi9gEita",
        "colab_type": "code",
        "colab": {}
      },
      "source": [
        "model = tf.keras.models.Sequential()"
      ],
      "execution_count": 0,
      "outputs": []
    },
    {
      "cell_type": "markdown",
      "metadata": {
        "id": "PEgG42tpE6qV",
        "colab_type": "text"
      },
      "source": [
        "añadimos la primera capa convolucional la cual consta de:\n",
        "\n",
        "\n",
        "*   32 filtros\n",
        "*   kernel de 3x3\n",
        "*   pading:same, con el fin de completar con ceros si el kernel no tiene el tamaño suficiente para realizar la convoluciòn \n",
        "*   función de activación ReLu\n",
        "*   input_shape (32x32x3) "
      ]
    },
    {
      "cell_type": "code",
      "metadata": {
        "id": "K1ERrwQeEo9a",
        "colab_type": "code",
        "colab": {}
      },
      "source": [
        "model.add(tf.keras.layers.Conv2D(filters=32,kernel_size=5,padding=\"same\",activation=\"relu\",input_shape=[32,32,3]))\n",
        "model.add(tf.keras.layers.MaxPool2D(pool_size=2,strides=2,padding=\"valid\"))"
      ],
      "execution_count": 0,
      "outputs": []
    },
    {
      "cell_type": "markdown",
      "metadata": {
        "id": "9ElKET_hH0wD",
        "colab_type": "text"
      },
      "source": [
        "Despues de aplicar la primera capa de convolucion se aplica una segunda capa de convolución seguida por una capa de maxpooling que es la encargada de dar un formato a la imagen convolucionada esto es extraer el valor mas alto en una ventan de análisis que reducira considerablemente su dimensión "
      ]
    },
    {
      "cell_type": "code",
      "metadata": {
        "id": "VI9Qc_UBHFLM",
        "colab_type": "code",
        "colab": {}
      },
      "source": [
        "model.add(tf.keras.layers.Conv2D(filters=32,kernel_size=5,padding=\"same\",activation=\"relu\"))\n",
        "model.add(tf.keras.layers.MaxPool2D(pool_size=2,strides=2,padding=\"valid\"))"
      ],
      "execution_count": 0,
      "outputs": []
    },
    {
      "cell_type": "markdown",
      "metadata": {
        "id": "X_4tqS6uJf3F",
        "colab_type": "text"
      },
      "source": [
        "Añadimos una nueva capa de convolución pero con el doble de filtros"
      ]
    },
    {
      "cell_type": "code",
      "metadata": {
        "id": "TfQefcHqI8SA",
        "colab_type": "code",
        "colab": {}
      },
      "source": [
        "model.add(tf.keras.layers.Conv2D(filters=64,kernel_size=5,padding=\"same\",activation=\"relu\"))\n",
        "model.add(tf.keras.layers.MaxPool2D(pool_size=2,strides=2,padding=\"valid\"))"
      ],
      "execution_count": 0,
      "outputs": []
    },
    {
      "cell_type": "markdown",
      "metadata": {
        "id": "vkjO7IjgKMO8",
        "colab_type": "text"
      },
      "source": [
        "Finalmente creamos la capa de conexión totoal que sera recibir los valores aplanados de la etapa enterior. Esto se trata de una etapa de red neuronal normal donde todos los neurones estan conectados con todos"
      ]
    },
    {
      "cell_type": "code",
      "metadata": {
        "id": "2UD6cPUuKLXv",
        "colab_type": "code",
        "colab": {}
      },
      "source": [
        "model.add(tf.keras.layers.Flatten())\n",
        "model.add(tf.keras.layers.Dense(units=128,activation=\"relu\")) # "
      ],
      "execution_count": 0,
      "outputs": []
    },
    {
      "cell_type": "markdown",
      "metadata": {
        "id": "wnuRaJDUOBhV",
        "colab_type": "text"
      },
      "source": [
        "finalmente añadimos la capa de salida que es la de la predicción de las clases que son 10"
      ]
    },
    {
      "cell_type": "code",
      "metadata": {
        "id": "4XPCSNrCKjCC",
        "colab_type": "code",
        "colab": {}
      },
      "source": [
        "model.add(tf.keras.layers.Dense(units=10,activation=\"softmax\"))"
      ],
      "execution_count": 0,
      "outputs": []
    },
    {
      "cell_type": "code",
      "metadata": {
        "id": "3S_BpXKwOSA6",
        "colab_type": "code",
        "colab": {
          "base_uri": "https://localhost:8080/",
          "height": 459
        },
        "outputId": "4b8685ab-b0d3-4be8-fbcc-3fdc9e885601"
      },
      "source": [
        "model.summary()"
      ],
      "execution_count": 12,
      "outputs": [
        {
          "output_type": "stream",
          "text": [
            "Model: \"sequential\"\n",
            "_________________________________________________________________\n",
            "Layer (type)                 Output Shape              Param #   \n",
            "=================================================================\n",
            "conv2d (Conv2D)              (None, 32, 32, 32)        2432      \n",
            "_________________________________________________________________\n",
            "max_pooling2d (MaxPooling2D) (None, 16, 16, 32)        0         \n",
            "_________________________________________________________________\n",
            "conv2d_1 (Conv2D)            (None, 16, 16, 32)        25632     \n",
            "_________________________________________________________________\n",
            "max_pooling2d_1 (MaxPooling2 (None, 8, 8, 32)          0         \n",
            "_________________________________________________________________\n",
            "conv2d_2 (Conv2D)            (None, 8, 8, 64)          51264     \n",
            "_________________________________________________________________\n",
            "max_pooling2d_2 (MaxPooling2 (None, 4, 4, 64)          0         \n",
            "_________________________________________________________________\n",
            "flatten (Flatten)            (None, 1024)              0         \n",
            "_________________________________________________________________\n",
            "dense (Dense)                (None, 128)               131200    \n",
            "_________________________________________________________________\n",
            "dense_1 (Dense)              (None, 10)                1290      \n",
            "=================================================================\n",
            "Total params: 211,818\n",
            "Trainable params: 211,818\n",
            "Non-trainable params: 0\n",
            "_________________________________________________________________\n"
          ],
          "name": "stdout"
        }
      ]
    },
    {
      "cell_type": "markdown",
      "metadata": {
        "id": "se_uZ8JVQZX5",
        "colab_type": "text"
      },
      "source": [
        "Finalmente evaluamos el modelo y calculamos su precisión"
      ]
    },
    {
      "cell_type": "code",
      "metadata": {
        "id": "p6fTL5wQOY-r",
        "colab_type": "code",
        "colab": {}
      },
      "source": [
        "model.compile(optimizer='Adam',loss='sparse_categorical_crossentropy',metrics='sparse_categorical_accuracy')"
      ],
      "execution_count": 0,
      "outputs": []
    },
    {
      "cell_type": "code",
      "metadata": {
        "id": "6-lj655oRIVs",
        "colab_type": "code",
        "colab": {
          "base_uri": "https://localhost:8080/",
          "height": 374
        },
        "outputId": "5847fe96-066c-411c-b4c2-18d896d4a4ae"
      },
      "source": [
        "model.fit(x_train,y_train,epochs=10)"
      ],
      "execution_count": 14,
      "outputs": [
        {
          "output_type": "stream",
          "text": [
            "Epoch 1/10\n",
            "1563/1563 [==============================] - 148s 95ms/step - loss: 1.4649 - sparse_categorical_accuracy: 0.4669\n",
            "Epoch 2/10\n",
            "1563/1563 [==============================] - 149s 95ms/step - loss: 1.0622 - sparse_categorical_accuracy: 0.6257\n",
            "Epoch 3/10\n",
            "1563/1563 [==============================] - 149s 95ms/step - loss: 0.8939 - sparse_categorical_accuracy: 0.6848\n",
            "Epoch 4/10\n",
            "1563/1563 [==============================] - 149s 95ms/step - loss: 0.7765 - sparse_categorical_accuracy: 0.7277\n",
            "Epoch 5/10\n",
            "1563/1563 [==============================] - 149s 95ms/step - loss: 0.6830 - sparse_categorical_accuracy: 0.7585\n",
            "Epoch 6/10\n",
            "1563/1563 [==============================] - 149s 95ms/step - loss: 0.6052 - sparse_categorical_accuracy: 0.7877\n",
            "Epoch 7/10\n",
            "1563/1563 [==============================] - 149s 95ms/step - loss: 0.5362 - sparse_categorical_accuracy: 0.8108\n",
            "Epoch 8/10\n",
            "1563/1563 [==============================] - 149s 95ms/step - loss: 0.4749 - sparse_categorical_accuracy: 0.8336\n",
            "Epoch 9/10\n",
            "1563/1563 [==============================] - 149s 95ms/step - loss: 0.4189 - sparse_categorical_accuracy: 0.8494\n",
            "Epoch 10/10\n",
            "1563/1563 [==============================] - 149s 95ms/step - loss: 0.3650 - sparse_categorical_accuracy: 0.8686\n"
          ],
          "name": "stdout"
        },
        {
          "output_type": "execute_result",
          "data": {
            "text/plain": [
              "<tensorflow.python.keras.callbacks.History at 0x7f5458f6eac8>"
            ]
          },
          "metadata": {
            "tags": []
          },
          "execution_count": 14
        }
      ]
    },
    {
      "cell_type": "markdown",
      "metadata": {
        "id": "rV065k3WXsXa",
        "colab_type": "text"
      },
      "source": [
        "Iniciamos las predicciones y obtenemos la precisión del modelo"
      ]
    },
    {
      "cell_type": "code",
      "metadata": {
        "id": "K-sGG7LTROIM",
        "colab_type": "code",
        "colab": {
          "base_uri": "https://localhost:8080/",
          "height": 34
        },
        "outputId": "a309348d-2d07-4fd4-e4af-7dbdf4d780d8"
      },
      "source": [
        "test_loss, test_accuracy = model.evaluate(x_test,y_test)"
      ],
      "execution_count": 15,
      "outputs": [
        {
          "output_type": "stream",
          "text": [
            "313/313 [==============================] - 9s 27ms/step - loss: 1.0884 - sparse_categorical_accuracy: 0.7038\n"
          ],
          "name": "stdout"
        }
      ]
    },
    {
      "cell_type": "code",
      "metadata": {
        "id": "lKLC6gVfX9iI",
        "colab_type": "code",
        "colab": {}
      },
      "source": [
        ""
      ],
      "execution_count": 0,
      "outputs": []
    }
  ]
}