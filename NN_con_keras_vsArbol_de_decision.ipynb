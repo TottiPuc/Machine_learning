{
  "nbformat": 4,
  "nbformat_minor": 0,
  "metadata": {
    "colab": {
      "name": "NN_con_keras_vsArbol_de_decision.ipynb",
      "provenance": [],
      "toc_visible": true,
      "authorship_tag": "ABX9TyPEifPxHeqG/Myqal2UbzN/"
    },
    "kernelspec": {
      "name": "python3",
      "display_name": "Python 3"
    }
  },
  "cells": [
    {
      "cell_type": "markdown",
      "metadata": {
        "id": "x-ftFG_IQLO7",
        "colab_type": "text"
      },
      "source": [
        "#NN_con keras vs Arbol de Decisión\n",
        "En este notebook se contruira dos algorimtos de machine learning el primero sera el de arbol de decisión para predecir el numero de muertos del dataset TITANIC y el segundo se realizará la misma predicción pero usando una red neuronal contruida en keras"
      ]
    },
    {
      "cell_type": "code",
      "metadata": {
        "id": "c4lVobynP-NA",
        "colab_type": "code",
        "colab": {
          "base_uri": "https://localhost:8080/",
          "height": 34
        },
        "outputId": "ca907a80-ee98-4368-932c-fceea0cbcfdf"
      },
      "source": [
        "from platform import python_version\n",
        "print(\"Versión de python usada en este notebook: \", python_version())"
      ],
      "execution_count": 3,
      "outputs": [
        {
          "output_type": "stream",
          "text": [
            "Versión de python usada en este notebook:  3.6.9\n"
          ],
          "name": "stdout"
        }
      ]
    },
    {
      "cell_type": "code",
      "metadata": {
        "id": "s1YICwNQRo2T",
        "colab_type": "code",
        "colab": {}
      },
      "source": [
        "!pip install watermark"
      ],
      "execution_count": 0,
      "outputs": []
    },
    {
      "cell_type": "code",
      "metadata": {
        "id": "wGvzb6SjRcQ7",
        "colab_type": "code",
        "colab": {}
      },
      "source": [
        "import numpy as np\n",
        "import tensorflow as tf\n",
        "import keras\n",
        "import pandas as pd\n",
        "import sklearn\n",
        "from sklearn.preprocessing import StandardScaler\n",
        "import pandas\n",
        "import numpy"
      ],
      "execution_count": 0,
      "outputs": []
    },
    {
      "cell_type": "code",
      "metadata": {
        "id": "YQdi3AIqRwkY",
        "colab_type": "code",
        "colab": {
          "base_uri": "https://localhost:8080/",
          "height": 119
        },
        "outputId": "38601b98-ae41-40f6-c691-add64173222e"
      },
      "source": [
        "%reload_ext watermark\n",
        "%watermark -a \"Christian Dayan Arcos Gordillo\" --iversion"
      ],
      "execution_count": 12,
      "outputs": [
        {
          "output_type": "stream",
          "text": [
            "sklearn    0.22.2.post1\n",
            "numpy      1.18.2\n",
            "pandas     1.0.3\n",
            "keras      2.3.1\n",
            "tensorflow 2.2.0-rc2\n",
            "Christian Dayan Arcos Gordillo\n"
          ],
          "name": "stdout"
        }
      ]
    },
    {
      "cell_type": "code",
      "metadata": {
        "id": "Y0o4iBduZv0h",
        "colab_type": "code",
        "colab": {}
      },
      "source": [
        "np.random.seed(1337)"
      ],
      "execution_count": 0,
      "outputs": []
    },
    {
      "cell_type": "code",
      "metadata": {
        "id": "3zjMeCFuRCc3",
        "colab_type": "code",
        "colab": {}
      },
      "source": [
        "#importamos el dataset\n",
        "from google.colab import files\n",
        "files.upload()"
      ],
      "execution_count": 0,
      "outputs": []
    },
    {
      "cell_type": "code",
      "metadata": {
        "id": "g_AstbPSRS9C",
        "colab_type": "code",
        "colab": {}
      },
      "source": [
        "df = pd.read_csv('titanic.csv')"
      ],
      "execution_count": 0,
      "outputs": []
    },
    {
      "cell_type": "code",
      "metadata": {
        "id": "IgNc9mmpSHNI",
        "colab_type": "code",
        "colab": {
          "base_uri": "https://localhost:8080/",
          "height": 204
        },
        "outputId": "b9f52258-a038-4fa7-e335-ffd3b809551a"
      },
      "source": [
        "df.head()"
      ],
      "execution_count": 41,
      "outputs": [
        {
          "output_type": "execute_result",
          "data": {
            "text/html": [
              "<div>\n",
              "<style scoped>\n",
              "    .dataframe tbody tr th:only-of-type {\n",
              "        vertical-align: middle;\n",
              "    }\n",
              "\n",
              "    .dataframe tbody tr th {\n",
              "        vertical-align: top;\n",
              "    }\n",
              "\n",
              "    .dataframe thead th {\n",
              "        text-align: right;\n",
              "    }\n",
              "</style>\n",
              "<table border=\"1\" class=\"dataframe\">\n",
              "  <thead>\n",
              "    <tr style=\"text-align: right;\">\n",
              "      <th></th>\n",
              "      <th>Survived</th>\n",
              "      <th>Class</th>\n",
              "      <th>Sex</th>\n",
              "      <th>Age</th>\n",
              "      <th>Fare</th>\n",
              "    </tr>\n",
              "  </thead>\n",
              "  <tbody>\n",
              "    <tr>\n",
              "      <th>0</th>\n",
              "      <td>0</td>\n",
              "      <td>3</td>\n",
              "      <td>1</td>\n",
              "      <td>22.0</td>\n",
              "      <td>7.2500</td>\n",
              "    </tr>\n",
              "    <tr>\n",
              "      <th>1</th>\n",
              "      <td>1</td>\n",
              "      <td>1</td>\n",
              "      <td>0</td>\n",
              "      <td>38.0</td>\n",
              "      <td>71.2833</td>\n",
              "    </tr>\n",
              "    <tr>\n",
              "      <th>2</th>\n",
              "      <td>1</td>\n",
              "      <td>3</td>\n",
              "      <td>0</td>\n",
              "      <td>26.0</td>\n",
              "      <td>7.9250</td>\n",
              "    </tr>\n",
              "    <tr>\n",
              "      <th>3</th>\n",
              "      <td>1</td>\n",
              "      <td>1</td>\n",
              "      <td>0</td>\n",
              "      <td>35.0</td>\n",
              "      <td>53.1000</td>\n",
              "    </tr>\n",
              "    <tr>\n",
              "      <th>4</th>\n",
              "      <td>0</td>\n",
              "      <td>3</td>\n",
              "      <td>1</td>\n",
              "      <td>35.0</td>\n",
              "      <td>8.0500</td>\n",
              "    </tr>\n",
              "  </tbody>\n",
              "</table>\n",
              "</div>"
            ],
            "text/plain": [
              "   Survived  Class  Sex   Age     Fare\n",
              "0         0      3    1  22.0   7.2500\n",
              "1         1      1    0  38.0  71.2833\n",
              "2         1      3    0  26.0   7.9250\n",
              "3         1      1    0  35.0  53.1000\n",
              "4         0      3    1  35.0   8.0500"
            ]
          },
          "metadata": {
            "tags": []
          },
          "execution_count": 41
        }
      ]
    },
    {
      "cell_type": "code",
      "metadata": {
        "id": "VFiLO4kJTd5c",
        "colab_type": "code",
        "colab": {
          "base_uri": "https://localhost:8080/",
          "height": 204
        },
        "outputId": "35700fc5-1905-4cee-e13b-9186aa6140f4"
      },
      "source": [
        "df.tail()"
      ],
      "execution_count": 42,
      "outputs": [
        {
          "output_type": "execute_result",
          "data": {
            "text/html": [
              "<div>\n",
              "<style scoped>\n",
              "    .dataframe tbody tr th:only-of-type {\n",
              "        vertical-align: middle;\n",
              "    }\n",
              "\n",
              "    .dataframe tbody tr th {\n",
              "        vertical-align: top;\n",
              "    }\n",
              "\n",
              "    .dataframe thead th {\n",
              "        text-align: right;\n",
              "    }\n",
              "</style>\n",
              "<table border=\"1\" class=\"dataframe\">\n",
              "  <thead>\n",
              "    <tr style=\"text-align: right;\">\n",
              "      <th></th>\n",
              "      <th>Survived</th>\n",
              "      <th>Class</th>\n",
              "      <th>Sex</th>\n",
              "      <th>Age</th>\n",
              "      <th>Fare</th>\n",
              "    </tr>\n",
              "  </thead>\n",
              "  <tbody>\n",
              "    <tr>\n",
              "      <th>886</th>\n",
              "      <td>0</td>\n",
              "      <td>2</td>\n",
              "      <td>1</td>\n",
              "      <td>27.000000</td>\n",
              "      <td>13.00</td>\n",
              "    </tr>\n",
              "    <tr>\n",
              "      <th>887</th>\n",
              "      <td>1</td>\n",
              "      <td>1</td>\n",
              "      <td>0</td>\n",
              "      <td>19.000000</td>\n",
              "      <td>30.00</td>\n",
              "    </tr>\n",
              "    <tr>\n",
              "      <th>888</th>\n",
              "      <td>0</td>\n",
              "      <td>3</td>\n",
              "      <td>0</td>\n",
              "      <td>29.699118</td>\n",
              "      <td>23.45</td>\n",
              "    </tr>\n",
              "    <tr>\n",
              "      <th>889</th>\n",
              "      <td>1</td>\n",
              "      <td>1</td>\n",
              "      <td>1</td>\n",
              "      <td>26.000000</td>\n",
              "      <td>30.00</td>\n",
              "    </tr>\n",
              "    <tr>\n",
              "      <th>890</th>\n",
              "      <td>0</td>\n",
              "      <td>3</td>\n",
              "      <td>1</td>\n",
              "      <td>32.000000</td>\n",
              "      <td>7.75</td>\n",
              "    </tr>\n",
              "  </tbody>\n",
              "</table>\n",
              "</div>"
            ],
            "text/plain": [
              "     Survived  Class  Sex        Age   Fare\n",
              "886         0      2    1  27.000000  13.00\n",
              "887         1      1    0  19.000000  30.00\n",
              "888         0      3    0  29.699118  23.45\n",
              "889         1      1    1  26.000000  30.00\n",
              "890         0      3    1  32.000000   7.75"
            ]
          },
          "metadata": {
            "tags": []
          },
          "execution_count": 42
        }
      ]
    },
    {
      "cell_type": "markdown",
      "metadata": {
        "id": "wq5Lj6NMTCkx",
        "colab_type": "text"
      },
      "source": [
        "Separamos las variables predictoras de la variable target y las normalizamos para que queden todas en la mísma escala. "
      ]
    },
    {
      "cell_type": "code",
      "metadata": {
        "id": "B7G16VdKTBd8",
        "colab_type": "code",
        "colab": {}
      },
      "source": [
        "df_train = df.iloc[:712,:]\n",
        "scaler = StandardScaler()\n",
        "features =['Class','Sex','Age','Fare']\n",
        "X_train = scaler.fit_transform(df_train[features].values)\n",
        "y_train = df_train['Survived'].values\n",
        "y_train_onehot = pd.get_dummies(y_train)\n"
      ],
      "execution_count": 0,
      "outputs": []
    },
    {
      "cell_type": "code",
      "metadata": {
        "id": "4slMVr8WSIrX",
        "colab_type": "code",
        "colab": {}
      },
      "source": [
        "df_test = df.iloc[712:,:]\n",
        "X_test = scaler.transform(df_test[features].values)\n",
        "y_test = df_test['Survived'].values\n"
      ],
      "execution_count": 0,
      "outputs": []
    },
    {
      "cell_type": "code",
      "metadata": {
        "id": "EknNdVaVZNeC",
        "colab_type": "code",
        "colab": {}
      },
      "source": [
        "X_test"
      ],
      "execution_count": 0,
      "outputs": []
    },
    {
      "cell_type": "code",
      "metadata": {
        "id": "llbeDXg4U3VE",
        "colab_type": "code",
        "colab": {
          "base_uri": "https://localhost:8080/",
          "height": 136
        },
        "outputId": "b49102ee-30d2-4c74-a540-58f0cf2848c9"
      },
      "source": [
        "X_train"
      ],
      "execution_count": 47,
      "outputs": [
        {
          "output_type": "execute_result",
          "data": {
            "text/plain": [
              "array([[ 0.83290956,  0.74926865, -0.61259594, -0.51933199],\n",
              "       [-1.55353553, -1.33463478,  0.6184268 ,  0.79718222],\n",
              "       [ 0.83290956, -1.33463478, -0.30484025, -0.5054541 ],\n",
              "       ...,\n",
              "       [ 0.83290956,  0.74926865, -0.02023413, -0.35493964],\n",
              "       [-1.55353553, -1.33463478, -0.45871809,  0.34940748],\n",
              "       [-1.55353553,  0.74926865, -0.02023413, -0.12252713]])"
            ]
          },
          "metadata": {
            "tags": []
          },
          "execution_count": 47
        }
      ]
    },
    {
      "cell_type": "code",
      "metadata": {
        "id": "S9R5QXk-WNBT",
        "colab_type": "code",
        "colab": {}
      },
      "source": [
        "y_train"
      ],
      "execution_count": 0,
      "outputs": []
    },
    {
      "cell_type": "markdown",
      "metadata": {
        "id": "O6o4hccGWspr",
        "colab_type": "text"
      },
      "source": [
        "## Creando un modelo basado en Arbol de Decisión ( benchmark )"
      ]
    },
    {
      "cell_type": "code",
      "metadata": {
        "id": "THHoHBS5Wkji",
        "colab_type": "code",
        "colab": {}
      },
      "source": [
        "from sklearn.ensemble import RandomForestClassifier\n",
        "\n",
        "model = RandomForestClassifier(random_state=0, verbose=3)\n",
        "model = model.fit(X_train, y_train)"
      ],
      "execution_count": 0,
      "outputs": []
    },
    {
      "cell_type": "code",
      "metadata": {
        "id": "1dG-o2pLWQNt",
        "colab_type": "code",
        "colab": {
          "base_uri": "https://localhost:8080/",
          "height": 102
        },
        "outputId": "dc2af33a-4466-463d-e4e1-6c7d1b043226"
      },
      "source": [
        "y_predict = model.predict(X_test)\n",
        "print(\"Precisión del modelo de arbol de decisión es :\", np.sum(y_predict==y_test)/float(len(y_test)))"
      ],
      "execution_count": 57,
      "outputs": [
        {
          "output_type": "stream",
          "text": [
            "Precisión del modelo de arbol de decisión es : 0.8324022346368715\n"
          ],
          "name": "stdout"
        },
        {
          "output_type": "stream",
          "text": [
            "[Parallel(n_jobs=1)]: Using backend SequentialBackend with 1 concurrent workers.\n",
            "[Parallel(n_jobs=1)]: Done   1 out of   1 | elapsed:    0.0s remaining:    0.0s\n",
            "[Parallel(n_jobs=1)]: Done   2 out of   2 | elapsed:    0.0s remaining:    0.0s\n",
            "[Parallel(n_jobs=1)]: Done 100 out of 100 | elapsed:    0.0s finished\n"
          ],
          "name": "stderr"
        }
      ]
    },
    {
      "cell_type": "markdown",
      "metadata": {
        "id": "U-NkrRDjakyo",
        "colab_type": "text"
      },
      "source": [
        "##Red Neuronal con 1 Capa"
      ]
    },
    {
      "cell_type": "code",
      "metadata": {
        "id": "W1WJuinfYAYH",
        "colab_type": "code",
        "colab": {
          "base_uri": "https://localhost:8080/",
          "height": 391
        },
        "outputId": "6e6da0fb-12ae-4747-8282-21be76a02134"
      },
      "source": [
        "from time import time\n",
        "start = time()\n",
        "model1 = tf.keras.models.Sequential()\n",
        "model1.add(tf.keras.layers.Dense(input_dim=4,units=2))\n",
        "model1.add(tf.keras.layers.Activation('softmax'))\n",
        "model1.compile(optimizer='sgd',loss='categorical_crossentropy',metrics=['accuracy'])\n",
        "model1.fit(X_train,y_train_onehot,epochs=10)\n",
        "print(\"\\nTiempo de entrenamiento :\", time() - start)"
      ],
      "execution_count": 61,
      "outputs": [
        {
          "output_type": "stream",
          "text": [
            "Epoch 1/10\n",
            "23/23 [==============================] - 0s 1ms/step - loss: 0.6173 - accuracy: 0.6980\n",
            "Epoch 2/10\n",
            "23/23 [==============================] - 0s 1ms/step - loss: 0.6213 - accuracy: 0.7121\n",
            "Epoch 3/10\n",
            "23/23 [==============================] - 0s 1ms/step - loss: 0.5821 - accuracy: 0.7233\n",
            "Epoch 4/10\n",
            "23/23 [==============================] - 0s 1ms/step - loss: 0.5714 - accuracy: 0.7289\n",
            "Epoch 5/10\n",
            "23/23 [==============================] - 0s 1ms/step - loss: 0.5513 - accuracy: 0.7374\n",
            "Epoch 6/10\n",
            "23/23 [==============================] - 0s 1ms/step - loss: 0.5452 - accuracy: 0.7416\n",
            "Epoch 7/10\n",
            "23/23 [==============================] - 0s 1ms/step - loss: 0.5386 - accuracy: 0.7444\n",
            "Epoch 8/10\n",
            "23/23 [==============================] - 0s 1ms/step - loss: 0.5210 - accuracy: 0.7472\n",
            "Epoch 9/10\n",
            "23/23 [==============================] - 0s 1ms/step - loss: 0.5202 - accuracy: 0.7486\n",
            "Epoch 10/10\n",
            "23/23 [==============================] - 0s 1ms/step - loss: 0.5130 - accuracy: 0.7556\n",
            "\n",
            "Tiempo de entrenamiento : 0.5860929489135742\n"
          ],
          "name": "stdout"
        }
      ]
    },
    {
      "cell_type": "code",
      "metadata": {
        "id": "i3LpfYPRXu_5",
        "colab_type": "code",
        "colab": {
          "base_uri": "https://localhost:8080/",
          "height": 51
        },
        "outputId": "e7e30e79-e89c-4037-c9df-a095eb8f3eed"
      },
      "source": [
        "y_predict = model1.predict_classes(X_test)\n",
        "print(\"\\nPrecisión de la red :\", np.sum(y_test == y_predict)/float(len(y_test)))"
      ],
      "execution_count": 64,
      "outputs": [
        {
          "output_type": "stream",
          "text": [
            "\n",
            "Precisión de la red : 0.8100558659217877\n"
          ],
          "name": "stdout"
        }
      ]
    },
    {
      "cell_type": "markdown",
      "metadata": {
        "id": "RUOfLnBOdpQd",
        "colab_type": "text"
      },
      "source": [
        "##Red Neuronal con 2 capas"
      ]
    },
    {
      "cell_type": "code",
      "metadata": {
        "id": "BA5ZaS__YIG9",
        "colab_type": "code",
        "colab": {
          "base_uri": "https://localhost:8080/",
          "height": 391
        },
        "outputId": "00ff97df-2001-4fc7-cf39-5fcaa4f2a6ae"
      },
      "source": [
        "start = time()\n",
        "model2 = tf.keras.models.Sequential()\n",
        "model2.add(tf.keras.layers.Dense(input_dim=4,units=100))\n",
        "model2.add(tf.keras.layers.Dense(units=2))\n",
        "model2.add(tf.keras.layers.Activation('softmax'))\n",
        "model2.compile(optimizer='sgd',loss='categorical_crossentropy',metrics=['accuracy'])\n",
        "model2.fit(X_train,y_train_onehot,epochs=10)\n",
        "print(\"\\nTiempo de entrenamiento :\", time() - start)"
      ],
      "execution_count": 66,
      "outputs": [
        {
          "output_type": "stream",
          "text": [
            "Epoch 1/10\n",
            "23/23 [==============================] - 0s 1ms/step - loss: 0.8734 - accuracy: 0.3287\n",
            "Epoch 2/10\n",
            "23/23 [==============================] - 0s 1ms/step - loss: 0.6570 - accuracy: 0.6180\n",
            "Epoch 3/10\n",
            "23/23 [==============================] - 0s 1ms/step - loss: 0.5732 - accuracy: 0.7669\n",
            "Epoch 4/10\n",
            "23/23 [==============================] - 0s 1ms/step - loss: 0.5295 - accuracy: 0.7781\n",
            "Epoch 5/10\n",
            "23/23 [==============================] - 0s 1ms/step - loss: 0.5110 - accuracy: 0.7781\n",
            "Epoch 6/10\n",
            "23/23 [==============================] - 0s 1ms/step - loss: 0.4965 - accuracy: 0.7795\n",
            "Epoch 7/10\n",
            "23/23 [==============================] - 0s 1ms/step - loss: 0.4818 - accuracy: 0.7781\n",
            "Epoch 8/10\n",
            "23/23 [==============================] - 0s 1ms/step - loss: 0.4808 - accuracy: 0.7795\n",
            "Epoch 9/10\n",
            "23/23 [==============================] - 0s 1ms/step - loss: 0.4878 - accuracy: 0.7753\n",
            "Epoch 10/10\n",
            "23/23 [==============================] - 0s 1ms/step - loss: 0.4827 - accuracy: 0.7781\n",
            "\n",
            "Tiempo de entrenamiento : 0.6268332004547119\n"
          ],
          "name": "stdout"
        }
      ]
    },
    {
      "cell_type": "code",
      "metadata": {
        "id": "PE9xselseSPU",
        "colab_type": "code",
        "colab": {
          "base_uri": "https://localhost:8080/",
          "height": 51
        },
        "outputId": "794ce3e0-7ab4-43ba-ec07-b8249aca352f"
      },
      "source": [
        "y_predict = model2.predict_classes(X_test)\n",
        "print(\"\\nPrecisión de la red :\", np.sum(y_test == y_predict)/float(len(y_test)))"
      ],
      "execution_count": 67,
      "outputs": [
        {
          "output_type": "stream",
          "text": [
            "\n",
            "Precisión de la red : 0.8100558659217877\n"
          ],
          "name": "stdout"
        }
      ]
    },
    {
      "cell_type": "markdown",
      "metadata": {
        "id": "edtveNrseoy2",
        "colab_type": "text"
      },
      "source": [
        "Como se puede ver con la red neuronal se obtienen mejores resultados, pero podemos ver que si aumentamos las capas no mejora la calidad de precisión da lo mismo con una capa de entrada que con 2"
      ]
    },
    {
      "cell_type": "code",
      "metadata": {
        "id": "53aHPOl6edT6",
        "colab_type": "code",
        "colab": {}
      },
      "source": [
        ""
      ],
      "execution_count": 0,
      "outputs": []
    }
  ]
}