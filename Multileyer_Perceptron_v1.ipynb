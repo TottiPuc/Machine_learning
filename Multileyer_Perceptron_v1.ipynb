{
  "nbformat": 4,
  "nbformat_minor": 0,
  "metadata": {
    "colab": {
      "name": "Multileyer_Perceptron-v1.ipynb",
      "provenance": [],
      "authorship_tag": "ABX9TyMyB+nsp2HVejB4ZSyboTCk",
      "include_colab_link": true
    },
    "kernelspec": {
      "name": "python3",
      "display_name": "Python 3"
    }
  },
  "cells": [
    {
      "cell_type": "markdown",
      "metadata": {
        "id": "view-in-github",
        "colab_type": "text"
      },
      "source": [
        "<a href=\"https://colab.research.google.com/github/TottiPuc/Machine_learning/blob/master/Multileyer_Perceptron_v1.ipynb\" target=\"_parent\"><img src=\"https://colab.research.google.com/assets/colab-badge.svg\" alt=\"Open In Colab\"/></a>"
      ]
    },
    {
      "cell_type": "markdown",
      "metadata": {
        "id": "-nuPQQinpXZV",
        "colab_type": "text"
      },
      "source": [
        "#Multilayer-Perceptron con tensorflow y keras v1\n",
        "\n",
        "En este notebook crearemos una red neuronal multileyer perceptron para evaluar un conjunto de datos creados sinteticamente y observar como ocurre el aprendizaje back-propagation"
      ]
    },
    {
      "cell_type": "code",
      "metadata": {
        "id": "vPHNwOSVdaA2",
        "colab_type": "code",
        "colab": {}
      },
      "source": [
        "%tensorflow_version 2.x"
      ],
      "execution_count": 0,
      "outputs": []
    },
    {
      "cell_type": "code",
      "metadata": {
        "id": "0nmuU8F3pvdO",
        "colab_type": "code",
        "colab": {}
      },
      "source": [
        "import numpy as np\n",
        "import tensorflow as tf"
      ],
      "execution_count": 0,
      "outputs": []
    },
    {
      "cell_type": "markdown",
      "metadata": {
        "id": "D1g2CyoBp-I1",
        "colab_type": "text"
      },
      "source": [
        "Creamos los hiperparametros de la red y los datos sinteticos a ser entrenados"
      ]
    },
    {
      "cell_type": "code",
      "metadata": {
        "id": "n0Gdhlj7p7jq",
        "colab_type": "code",
        "colab": {}
      },
      "source": [
        "size = 200000\n",
        "num_empochs = 10\n",
        "learning_rate = 0.001\n",
        "#creamos 200000 datos aleatorios enteros entre 0 y 100\n",
        "x1 = np.random.randint(0,100, size)\n",
        "x2 = np.random.randint(0,100, size)\n",
        "x_train = np.dstack((x1,x2))[0] # concatenamos x1 y x2 y tomamos la primera capa de profundidad"
      ],
      "execution_count": 0,
      "outputs": []
    },
    {
      "cell_type": "markdown",
      "metadata": {
        "id": "_IZWKmOFriME",
        "colab_type": "text"
      },
      "source": [
        "Creamos una funcion Y que dependa de x para generas nuestros datos historicos"
      ]
    },
    {
      "cell_type": "code",
      "metadata": {
        "id": "Hse5rqmMrMpF",
        "colab_type": "code",
        "colab": {
          "base_uri": "https://localhost:8080/",
          "height": 187
        },
        "outputId": "1e45ec78-6bde-480d-b9b6-dc92ac8cf600"
      },
      "source": [
        "y_train = 3*(x1**(1/2))+2*(x2**2)\n",
        "print( \"estos son los valores de entrenamiento para 'x' y 'y' y sus respectivas dimensiones \")\n",
        "print(\"valores de x {}, con dimension {}\".format(x_train,x_train.shape))\n",
        "print(\"valores de y {}, con dimension {}\".format(y_train,y_train.shape))"
      ],
      "execution_count": 9,
      "outputs": [
        {
          "output_type": "stream",
          "text": [
            "estos son los valores de entrenamiento para 'x' y 'y' y sus respectivas dimensiones \n",
            "valores de x [[23 64]\n",
            " [20 62]\n",
            " [81 27]\n",
            " ...\n",
            " [96 66]\n",
            " [51 45]\n",
            " [11 71]], con dimension (200000, 2)\n",
            "valores de y [ 8206.38749457  7701.41640786  1485.         ...  8741.39387691\n",
            "  4071.42428529 10091.94987437], con dimension (200000,)\n"
          ],
          "name": "stdout"
        }
      ]
    },
    {
      "cell_type": "markdown",
      "metadata": {
        "id": "7jJlz3lgtQKk",
        "colab_type": "text"
      },
      "source": [
        "Creamos el modelo con la herramienta keras y su clase sequential que nos permite adicionar capa tras capa dependiendo de lo que queramos contruir"
      ]
    },
    {
      "cell_type": "code",
      "metadata": {
        "id": "6LMYy7PysTOE",
        "colab_type": "code",
        "colab": {}
      },
      "source": [
        "modelo = tf.keras.Sequential()  # creamos el objeto para la secuencia de capas\n",
        "modelo.add(tf.keras.layers.Dense(64,input_shape = (2,), activation='sigmoid')) # capa de entrada de 64 neurones\n",
        "modelo.add(tf.keras.layers.Dense(128,activation='relu')) # capa escondida de 128 neurones \n",
        "modelo.add(tf.keras.layers.Dense(1)) # capa de salida de solo un neuron\n",
        "\n",
        "# optimización del modelo\n",
        "modelo.compile(optimizer = tf.keras.optimizers.Adam(learning_rate), loss = tf.keras.losses.MSE)  # creamos el optimizador con el gradiente Adam y la funcion de coste del error cuadratico medio\n"
      ],
      "execution_count": 0,
      "outputs": []
    },
    {
      "cell_type": "markdown",
      "metadata": {
        "id": "STMrel8Yu8Lu",
        "colab_type": "text"
      },
      "source": [
        "Con la estructura creada se realiza el entrenamiento con la funcion fit de keras "
      ]
    },
    {
      "cell_type": "code",
      "metadata": {
        "id": "SUKgD5x_u2R4",
        "colab_type": "code",
        "colab": {
          "base_uri": "https://localhost:8080/",
          "height": 391
        },
        "outputId": "211a4799-b567-4d53-e766-26771de6d540"
      },
      "source": [
        "print(\"Entrenamiento del modelo:\")\n",
        "modelo.fit(x=x_train,y=y_train,epochs=num_empochs)"
      ],
      "execution_count": 11,
      "outputs": [
        {
          "output_type": "stream",
          "text": [
            "Entrenamiento del modelo:\n",
            "Epoch 1/10\n",
            "6250/6250 [==============================] - 8s 1ms/step - loss: 11174541.0000\n",
            "Epoch 2/10\n",
            "6250/6250 [==============================] - 8s 1ms/step - loss: 19666.5352\n",
            "Epoch 3/10\n",
            "6250/6250 [==============================] - 8s 1ms/step - loss: 3754.1750\n",
            "Epoch 4/10\n",
            "6250/6250 [==============================] - 8s 1ms/step - loss: 2642.6255\n",
            "Epoch 5/10\n",
            "6250/6250 [==============================] - 8s 1ms/step - loss: 2255.6372\n",
            "Epoch 6/10\n",
            "6250/6250 [==============================] - 8s 1ms/step - loss: 2042.3500\n",
            "Epoch 7/10\n",
            "6250/6250 [==============================] - 8s 1ms/step - loss: 1780.7209\n",
            "Epoch 8/10\n",
            "6250/6250 [==============================] - 8s 1ms/step - loss: 1914.7318\n",
            "Epoch 9/10\n",
            "6250/6250 [==============================] - 9s 1ms/step - loss: 1937.1569\n",
            "Epoch 10/10\n",
            "6250/6250 [==============================] - 8s 1ms/step - loss: 1846.6907\n"
          ],
          "name": "stdout"
        },
        {
          "output_type": "execute_result",
          "data": {
            "text/plain": [
              "<tensorflow.python.keras.callbacks.History at 0x7f49a03200f0>"
            ]
          },
          "metadata": {
            "tags": []
          },
          "execution_count": 11
        }
      ]
    },
    {
      "cell_type": "markdown",
      "metadata": {
        "id": "fLkNeRiewkMK",
        "colab_type": "text"
      },
      "source": [
        "A continuación se crea un resumen de la arquitectura montada con sus respectivos parámetros"
      ]
    },
    {
      "cell_type": "code",
      "metadata": {
        "id": "Tojhh6irvPQ2",
        "colab_type": "code",
        "colab": {
          "base_uri": "https://localhost:8080/",
          "height": 255
        },
        "outputId": "a0c2c662-f226-43f1-bb21-4eb86d06170c"
      },
      "source": [
        "modelo.summary()"
      ],
      "execution_count": 12,
      "outputs": [
        {
          "output_type": "stream",
          "text": [
            "Model: \"sequential\"\n",
            "_________________________________________________________________\n",
            "Layer (type)                 Output Shape              Param #   \n",
            "=================================================================\n",
            "dense (Dense)                (None, 64)                192       \n",
            "_________________________________________________________________\n",
            "dense_1 (Dense)              (None, 128)               8320      \n",
            "_________________________________________________________________\n",
            "dense_2 (Dense)              (None, 1)                 129       \n",
            "=================================================================\n",
            "Total params: 8,641\n",
            "Trainable params: 8,641\n",
            "Non-trainable params: 0\n",
            "_________________________________________________________________\n"
          ],
          "name": "stdout"
        }
      ]
    },
    {
      "cell_type": "markdown",
      "metadata": {
        "id": "Wt1CpFyfxKBO",
        "colab_type": "text"
      },
      "source": [
        "Evaluamos el rendimiento del entrenamiento"
      ]
    },
    {
      "cell_type": "code",
      "metadata": {
        "id": "gHgjr6BJwzGj",
        "colab_type": "code",
        "colab": {
          "base_uri": "https://localhost:8080/",
          "height": 34
        },
        "outputId": "a9167313-a810-404a-ac6f-d47a4eef841c"
      },
      "source": [
        "score_train = modelo.evaluate(x_train,y_train, verbose=0)\n",
        "print(\"error final del entrenamiento {:.0f}\".format(score_train))"
      ],
      "execution_count": 13,
      "outputs": [
        {
          "output_type": "stream",
          "text": [
            "error final del entrenamiento 452\n"
          ],
          "name": "stdout"
        }
      ]
    },
    {
      "cell_type": "markdown",
      "metadata": {
        "id": "lutqjRcLxrZ2",
        "colab_type": "text"
      },
      "source": [
        "#Evaluando el modelo\n",
        "Generamos nuevos datos sinteticos para evaluar el modelo ( tienen que estar en el mismo rango entre 0 y 100 ya que el entrenamiento fue realizado con este rango de datos)"
      ]
    },
    {
      "cell_type": "code",
      "metadata": {
        "id": "K8i67ITCxkUT",
        "colab_type": "code",
        "colab": {}
      },
      "source": [
        "x3= np.array([100, 9, 62, 79, 94, 91, 71, 41])\n",
        "x4= np.array([65, 39, 40, 44, 77, 42, 36, 74])\n",
        "x_test = np.dstack((x3, x4))[0]\n",
        "\n",
        "y_test = 3*(x3**(1/2)) + 2*(x4**2)"
      ],
      "execution_count": 0,
      "outputs": []
    },
    {
      "cell_type": "markdown",
      "metadata": {
        "id": "OfpJPyNRyJs2",
        "colab_type": "text"
      },
      "source": [
        "Realizamos predicciones y evaluamos el rendimiento del test"
      ]
    },
    {
      "cell_type": "code",
      "metadata": {
        "id": "C6t0tcH6yIIv",
        "colab_type": "code",
        "colab": {
          "base_uri": "https://localhost:8080/",
          "height": 34
        },
        "outputId": "90cb6e95-803d-4093-82bb-7a7f58136cb3"
      },
      "source": [
        "y_pred = modelo.predict(x_test)\n",
        "score_test = modelo.evaluate(x_test,y_test, verbose=0)\n",
        "print(\"El error fina en test: {:.0f}\".format(score_test))"
      ],
      "execution_count": 19,
      "outputs": [
        {
          "output_type": "stream",
          "text": [
            "El error fina en test: 431\n"
          ],
          "name": "stdout"
        }
      ]
    },
    {
      "cell_type": "markdown",
      "metadata": {
        "id": "p4dDp4T7y0cl",
        "colab_type": "text"
      },
      "source": [
        "Realizamos una verificaión sobre el proceso realizado"
      ]
    },
    {
      "cell_type": "code",
      "metadata": {
        "id": "AQ1X_8s8yhQN",
        "colab_type": "code",
        "colab": {
          "base_uri": "https://localhost:8080/",
          "height": 136
        },
        "outputId": "b14f6dc8-e175-4b65-edc7-2e0c0db350ad"
      },
      "source": [
        "for i in range(5):\n",
        "\tprint ('''Entrada(x): ({}, {}), Saida(y): ({:.0f}), Previsión del Modelo(y_pred): ({:.0f})'''.format(x1[i], x2[i], y_test[i], y_pred[i][0]))\n",
        "\n",
        "print(\"\\n\")\n"
      ],
      "execution_count": 20,
      "outputs": [
        {
          "output_type": "stream",
          "text": [
            "Entrada(x): (23, 64), Saida(y): (8480), Previsión del Modelo(y_pred): (8490)\n",
            "Entrada(x): (20, 62), Saida(y): (3051), Previsión del Modelo(y_pred): (3057)\n",
            "Entrada(x): (81, 27), Saida(y): (3224), Previsión del Modelo(y_pred): (3241)\n",
            "Entrada(x): (32, 42), Saida(y): (3899), Previsión del Modelo(y_pred): (3923)\n",
            "Entrada(x): (97, 97), Saida(y): (11887), Previsión del Modelo(y_pred): (11863)\n",
            "\n",
            "\n"
          ],
          "name": "stdout"
        }
      ]
    }
  ]
}