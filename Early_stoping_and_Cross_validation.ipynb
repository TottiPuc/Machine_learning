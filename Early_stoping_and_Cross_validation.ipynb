{
  "nbformat": 4,
  "nbformat_minor": 0,
  "metadata": {
    "colab": {
      "name": "Early_stoping_and_Cross_validation.ipynb",
      "provenance": [],
      "authorship_tag": "ABX9TyOLDmaRz0XcOHerok2iKwWS"
    },
    "kernelspec": {
      "name": "python3",
      "display_name": "Python 3"
    }
  },
  "cells": [
    {
      "cell_type": "code",
      "metadata": {
        "id": "XX9SXqCvj2A4",
        "colab_type": "code",
        "colab": {
          "base_uri": "https://localhost:8080/",
          "height": 34
        },
        "outputId": "04b99aa0-ee01-400f-88a5-3f0a73fd92b2"
      },
      "source": [
        "import io\n",
        "import os\n",
        "import requests\n",
        "import numpy as np\n",
        "import pandas as pd\n",
        "from sklearn.model_selection import train_test_split\n",
        "from sklearn import metrics\n",
        "from keras.models import Sequential\n",
        "from keras.layers.core import Dense, Activation\n",
        "from keras.callbacks import EarlyStopping\n",
        "\n"
      ],
      "execution_count": 3,
      "outputs": [
        {
          "output_type": "stream",
          "text": [
            "Using TensorFlow backend.\n"
          ],
          "name": "stderr"
        }
      ]
    },
    {
      "cell_type": "code",
      "metadata": {
        "id": "HO8OanCPkOy0",
        "colab_type": "code",
        "colab": {
          "resources": {
            "http://localhost:8080/nbextensions/google.colab/files.js": {
              "data": "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",
              "ok": true,
              "headers": [
                [
                  "content-type",
                  "application/javascript"
                ]
              ],
              "status": 200,
              "status_text": ""
            }
          },
          "base_uri": "https://localhost:8080/",
          "height": 111
        },
        "outputId": "783b4419-651f-42f0-8176-4365f3264809"
      },
      "source": [
        "from google.colab import files\n",
        "files.upload()"
      ],
      "execution_count": 2,
      "outputs": [
        {
          "output_type": "display_data",
          "data": {
            "text/html": [
              "\n",
              "     <input type=\"file\" id=\"files-727fb7ea-62fd-4aed-90fb-71e43dd9a330\" name=\"files[]\" multiple disabled />\n",
              "     <output id=\"result-727fb7ea-62fd-4aed-90fb-71e43dd9a330\">\n",
              "      Upload widget is only available when the cell has been executed in the\n",
              "      current browser session. Please rerun this cell to enable.\n",
              "      </output>\n",
              "      <script src=\"/nbextensions/google.colab/files.js\"></script> "
            ],
            "text/plain": [
              "<IPython.core.display.HTML object>"
            ]
          },
          "metadata": {
            "tags": []
          }
        },
        {
          "output_type": "stream",
          "text": [
            "Saving iris.csv to iris.csv\n"
          ],
          "name": "stdout"
        },
        {
          "output_type": "execute_result",
          "data": {
            "text/plain": [
              "{'iris.csv': b'\"sepal_l\",\"sepal_w\",\"petal_l\",\"petal_w\",\"species\"\\r\\n5.1,3.5,1.4,0.2,Iris-setosa\\r\\n4.9,3.0,1.4,0.2,Iris-setosa\\r\\n4.7,3.2,1.3,0.2,Iris-setosa\\r\\n4.6,3.1,1.5,0.2,Iris-setosa\\r\\n5.0,3.6,1.4,0.2,Iris-setosa\\r\\n5.4,3.9,1.7,0.4,Iris-setosa\\r\\n4.6,3.4,1.4,0.3,Iris-setosa\\r\\n5.0,3.4,1.5,0.2,Iris-setosa\\r\\n4.4,2.9,1.4,0.2,Iris-setosa\\r\\n4.9,3.1,1.5,0.1,Iris-setosa\\r\\n5.4,3.7,1.5,0.2,Iris-setosa\\r\\n4.8,3.4,1.6,0.2,Iris-setosa\\r\\n4.8,3.0,1.4,0.1,Iris-setosa\\r\\n4.3,3.0,1.1,0.1,Iris-setosa\\r\\n5.8,4.0,1.2,0.2,Iris-setosa\\r\\n5.7,4.4,1.5,0.4,Iris-setosa\\r\\n5.4,3.9,1.3,0.4,Iris-setosa\\r\\n5.1,3.5,1.4,0.3,Iris-setosa\\r\\n5.7,3.8,1.7,0.3,Iris-setosa\\r\\n5.1,3.8,1.5,0.3,Iris-setosa\\r\\n5.4,3.4,1.7,0.2,Iris-setosa\\r\\n5.1,3.7,1.5,0.4,Iris-setosa\\r\\n4.6,3.6,1.0,0.2,Iris-setosa\\r\\n5.1,3.3,1.7,0.5,Iris-setosa\\r\\n4.8,3.4,1.9,0.2,Iris-setosa\\r\\n5.0,3.0,1.6,0.2,Iris-setosa\\r\\n5.0,3.4,1.6,0.4,Iris-setosa\\r\\n5.2,3.5,1.5,0.2,Iris-setosa\\r\\n5.2,3.4,1.4,0.2,Iris-setosa\\r\\n4.7,3.2,1.6,0.2,Iris-setosa\\r\\n4.8,3.1,1.6,0.2,Iris-setosa\\r\\n5.4,3.4,1.5,0.4,Iris-setosa\\r\\n5.2,4.1,1.5,0.1,Iris-setosa\\r\\n5.5,4.2,1.4,0.2,Iris-setosa\\r\\n4.9,3.1,1.5,0.2,Iris-setosa\\r\\n5.0,3.2,1.2,0.2,Iris-setosa\\r\\n5.5,3.5,1.3,0.2,Iris-setosa\\r\\n4.9,3.6,1.4,0.1,Iris-setosa\\r\\n4.4,3.0,1.3,0.2,Iris-setosa\\r\\n5.1,3.4,1.5,0.2,Iris-setosa\\r\\n5.0,3.5,1.3,0.3,Iris-setosa\\r\\n4.5,2.3,1.3,0.3,Iris-setosa\\r\\n4.4,3.2,1.3,0.2,Iris-setosa\\r\\n5.0,3.5,1.6,0.6,Iris-setosa\\r\\n5.1,3.8,1.9,0.4,Iris-setosa\\r\\n4.8,3.0,1.4,0.3,Iris-setosa\\r\\n5.1,3.8,1.6,0.2,Iris-setosa\\r\\n4.6,3.2,1.4,0.2,Iris-setosa\\r\\n5.3,3.7,1.5,0.2,Iris-setosa\\r\\n5.0,3.3,1.4,0.2,Iris-setosa\\r\\n7.0,3.2,4.7,1.4,Iris-versicolor\\r\\n6.4,3.2,4.5,1.5,Iris-versicolor\\r\\n6.9,3.1,4.9,1.5,Iris-versicolor\\r\\n5.5,2.3,4.0,1.3,Iris-versicolor\\r\\n6.5,2.8,4.6,1.5,Iris-versicolor\\r\\n5.7,2.8,4.5,1.3,Iris-versicolor\\r\\n6.3,3.3,4.7,1.6,Iris-versicolor\\r\\n4.9,2.4,3.3,1.0,Iris-versicolor\\r\\n6.6,2.9,4.6,1.3,Iris-versicolor\\r\\n5.2,2.7,3.9,1.4,Iris-versicolor\\r\\n5.0,2.0,3.5,1.0,Iris-versicolor\\r\\n5.9,3.0,4.2,1.5,Iris-versicolor\\r\\n6.0,2.2,4.0,1.0,Iris-versicolor\\r\\n6.1,2.9,4.7,1.4,Iris-versicolor\\r\\n5.6,2.9,3.6,1.3,Iris-versicolor\\r\\n6.7,3.1,4.4,1.4,Iris-versicolor\\r\\n5.6,3.0,4.5,1.5,Iris-versicolor\\r\\n5.8,2.7,4.1,1.0,Iris-versicolor\\r\\n6.2,2.2,4.5,1.5,Iris-versicolor\\r\\n5.6,2.5,3.9,1.1,Iris-versicolor\\r\\n5.9,3.2,4.8,1.8,Iris-versicolor\\r\\n6.1,2.8,4.0,1.3,Iris-versicolor\\r\\n6.3,2.5,4.9,1.5,Iris-versicolor\\r\\n6.1,2.8,4.7,1.2,Iris-versicolor\\r\\n6.4,2.9,4.3,1.3,Iris-versicolor\\r\\n6.6,3.0,4.4,1.4,Iris-versicolor\\r\\n6.8,2.8,4.8,1.4,Iris-versicolor\\r\\n6.7,3.0,5.0,1.7,Iris-versicolor\\r\\n6.0,2.9,4.5,1.5,Iris-versicolor\\r\\n5.7,2.6,3.5,1.0,Iris-versicolor\\r\\n5.5,2.4,3.8,1.1,Iris-versicolor\\r\\n5.5,2.4,3.7,1.0,Iris-versicolor\\r\\n5.8,2.7,3.9,1.2,Iris-versicolor\\r\\n6.0,2.7,5.1,1.6,Iris-versicolor\\r\\n5.4,3.0,4.5,1.5,Iris-versicolor\\r\\n6.0,3.4,4.5,1.6,Iris-versicolor\\r\\n6.7,3.1,4.7,1.5,Iris-versicolor\\r\\n6.3,2.3,4.4,1.3,Iris-versicolor\\r\\n5.6,3.0,4.1,1.3,Iris-versicolor\\r\\n5.5,2.5,4.0,1.3,Iris-versicolor\\r\\n5.5,2.6,4.4,1.2,Iris-versicolor\\r\\n6.1,3.0,4.6,1.4,Iris-versicolor\\r\\n5.8,2.6,4.0,1.2,Iris-versicolor\\r\\n5.0,2.3,3.3,1.0,Iris-versicolor\\r\\n5.6,2.7,4.2,1.3,Iris-versicolor\\r\\n5.7,3.0,4.2,1.2,Iris-versicolor\\r\\n5.7,2.9,4.2,1.3,Iris-versicolor\\r\\n6.2,2.9,4.3,1.3,Iris-versicolor\\r\\n5.1,2.5,3.0,1.1,Iris-versicolor\\r\\n5.7,2.8,4.1,1.3,Iris-versicolor\\r\\n6.3,3.3,6.0,2.5,Iris-virginica\\r\\n5.8,2.7,5.1,1.9,Iris-virginica\\r\\n7.1,3.0,5.9,2.1,Iris-virginica\\r\\n6.3,2.9,5.6,1.8,Iris-virginica\\r\\n6.5,3.0,5.8,2.2,Iris-virginica\\r\\n7.6,3.0,6.6,2.1,Iris-virginica\\r\\n4.9,2.5,4.5,1.7,Iris-virginica\\r\\n7.3,2.9,6.3,1.8,Iris-virginica\\r\\n6.7,2.5,5.8,1.8,Iris-virginica\\r\\n7.2,3.6,6.1,2.5,Iris-virginica\\r\\n6.5,3.2,5.1,2.0,Iris-virginica\\r\\n6.4,2.7,5.3,1.9,Iris-virginica\\r\\n6.8,3.0,5.5,2.1,Iris-virginica\\r\\n5.7,2.5,5.0,2.0,Iris-virginica\\r\\n5.8,2.8,5.1,2.4,Iris-virginica\\r\\n6.4,3.2,5.3,2.3,Iris-virginica\\r\\n6.5,3.0,5.5,1.8,Iris-virginica\\r\\n7.7,3.8,6.7,2.2,Iris-virginica\\r\\n7.7,2.6,6.9,2.3,Iris-virginica\\r\\n6.0,2.2,5.0,1.5,Iris-virginica\\r\\n6.9,3.2,5.7,2.3,Iris-virginica\\r\\n5.6,2.8,4.9,2.0,Iris-virginica\\r\\n7.7,2.8,6.7,2.0,Iris-virginica\\r\\n6.3,2.7,4.9,1.8,Iris-virginica\\r\\n6.7,3.3,5.7,2.1,Iris-virginica\\r\\n7.2,3.2,6.0,1.8,Iris-virginica\\r\\n6.2,2.8,4.8,1.8,Iris-virginica\\r\\n6.1,3.0,4.9,1.8,Iris-virginica\\r\\n6.4,2.8,5.6,2.1,Iris-virginica\\r\\n7.2,3.0,5.8,1.6,Iris-virginica\\r\\n7.4,2.8,6.1,1.9,Iris-virginica\\r\\n7.9,3.8,6.4,2.0,Iris-virginica\\r\\n6.4,2.8,5.6,2.2,Iris-virginica\\r\\n6.3,2.8,5.1,1.5,Iris-virginica\\r\\n6.1,2.6,5.6,1.4,Iris-virginica\\r\\n7.7,3.0,6.1,2.3,Iris-virginica\\r\\n6.3,3.4,5.6,2.4,Iris-virginica\\r\\n6.4,3.1,5.5,1.8,Iris-virginica\\r\\n6.0,3.0,4.8,1.8,Iris-virginica\\r\\n6.9,3.1,5.4,2.1,Iris-virginica\\r\\n6.7,3.1,5.6,2.4,Iris-virginica\\r\\n6.9,3.1,5.1,2.3,Iris-virginica\\r\\n5.8,2.7,5.1,1.9,Iris-virginica\\r\\n6.8,3.2,5.9,2.3,Iris-virginica\\r\\n6.7,3.3,5.7,2.5,Iris-virginica\\r\\n6.7,3.0,5.2,2.3,Iris-virginica\\r\\n6.3,2.5,5.0,1.9,Iris-virginica\\r\\n6.5,3.0,5.2,2.0,Iris-virginica\\r\\n6.2,3.4,5.4,2.3,Iris-virginica\\r\\n5.9,3.0,5.1,1.8,Iris-virginica\\r\\n\\r\\n'}"
            ]
          },
          "metadata": {
            "tags": []
          },
          "execution_count": 2
        }
      ]
    },
    {
      "cell_type": "code",
      "metadata": {
        "id": "zL5xSpYKkS_-",
        "colab_type": "code",
        "colab": {}
      },
      "source": [
        "df = pd.read_csv('iris.csv')"
      ],
      "execution_count": 0,
      "outputs": []
    },
    {
      "cell_type": "code",
      "metadata": {
        "id": "_PJvxOCVktRs",
        "colab_type": "code",
        "colab": {
          "base_uri": "https://localhost:8080/",
          "height": 204
        },
        "outputId": "43c3d7dc-08de-4b69-efd0-bf9b1267f923"
      },
      "source": [
        "df.head()"
      ],
      "execution_count": 6,
      "outputs": [
        {
          "output_type": "execute_result",
          "data": {
            "text/html": [
              "<div>\n",
              "<style scoped>\n",
              "    .dataframe tbody tr th:only-of-type {\n",
              "        vertical-align: middle;\n",
              "    }\n",
              "\n",
              "    .dataframe tbody tr th {\n",
              "        vertical-align: top;\n",
              "    }\n",
              "\n",
              "    .dataframe thead th {\n",
              "        text-align: right;\n",
              "    }\n",
              "</style>\n",
              "<table border=\"1\" class=\"dataframe\">\n",
              "  <thead>\n",
              "    <tr style=\"text-align: right;\">\n",
              "      <th></th>\n",
              "      <th>sepal_l</th>\n",
              "      <th>sepal_w</th>\n",
              "      <th>petal_l</th>\n",
              "      <th>petal_w</th>\n",
              "      <th>species</th>\n",
              "    </tr>\n",
              "  </thead>\n",
              "  <tbody>\n",
              "    <tr>\n",
              "      <th>0</th>\n",
              "      <td>5.1</td>\n",
              "      <td>3.5</td>\n",
              "      <td>1.4</td>\n",
              "      <td>0.2</td>\n",
              "      <td>Iris-setosa</td>\n",
              "    </tr>\n",
              "    <tr>\n",
              "      <th>1</th>\n",
              "      <td>4.9</td>\n",
              "      <td>3.0</td>\n",
              "      <td>1.4</td>\n",
              "      <td>0.2</td>\n",
              "      <td>Iris-setosa</td>\n",
              "    </tr>\n",
              "    <tr>\n",
              "      <th>2</th>\n",
              "      <td>4.7</td>\n",
              "      <td>3.2</td>\n",
              "      <td>1.3</td>\n",
              "      <td>0.2</td>\n",
              "      <td>Iris-setosa</td>\n",
              "    </tr>\n",
              "    <tr>\n",
              "      <th>3</th>\n",
              "      <td>4.6</td>\n",
              "      <td>3.1</td>\n",
              "      <td>1.5</td>\n",
              "      <td>0.2</td>\n",
              "      <td>Iris-setosa</td>\n",
              "    </tr>\n",
              "    <tr>\n",
              "      <th>4</th>\n",
              "      <td>5.0</td>\n",
              "      <td>3.6</td>\n",
              "      <td>1.4</td>\n",
              "      <td>0.2</td>\n",
              "      <td>Iris-setosa</td>\n",
              "    </tr>\n",
              "  </tbody>\n",
              "</table>\n",
              "</div>"
            ],
            "text/plain": [
              "   sepal_l  sepal_w  petal_l  petal_w      species\n",
              "0      5.1      3.5      1.4      0.2  Iris-setosa\n",
              "1      4.9      3.0      1.4      0.2  Iris-setosa\n",
              "2      4.7      3.2      1.3      0.2  Iris-setosa\n",
              "3      4.6      3.1      1.5      0.2  Iris-setosa\n",
              "4      5.0      3.6      1.4      0.2  Iris-setosa"
            ]
          },
          "metadata": {
            "tags": []
          },
          "execution_count": 6
        }
      ]
    },
    {
      "cell_type": "code",
      "metadata": {
        "id": "yauvilzYkw6x",
        "colab_type": "code",
        "colab": {}
      },
      "source": [
        "#codificando los valores de texto para indices\n",
        "from sklearn import preprocessing\n",
        "def encode_text_index(df, name):\n",
        "    le = preprocessing.LabelEncoder()\n",
        "    df[name] = le.fit_transform(df[name])\n",
        "    return le.classes_"
      ],
      "execution_count": 0,
      "outputs": []
    },
    {
      "cell_type": "code",
      "metadata": {
        "id": "o8TbdwjmlEXZ",
        "colab_type": "code",
        "colab": {}
      },
      "source": [
        "species = encode_text_index(df,'species')"
      ],
      "execution_count": 0,
      "outputs": []
    },
    {
      "cell_type": "code",
      "metadata": {
        "id": "LtktqK8glgwX",
        "colab_type": "code",
        "colab": {
          "base_uri": "https://localhost:8080/",
          "height": 204
        },
        "outputId": "bb441f9e-1b66-432b-ecaa-b6cc994bfc61"
      },
      "source": [
        "df.head()"
      ],
      "execution_count": 15,
      "outputs": [
        {
          "output_type": "execute_result",
          "data": {
            "text/html": [
              "<div>\n",
              "<style scoped>\n",
              "    .dataframe tbody tr th:only-of-type {\n",
              "        vertical-align: middle;\n",
              "    }\n",
              "\n",
              "    .dataframe tbody tr th {\n",
              "        vertical-align: top;\n",
              "    }\n",
              "\n",
              "    .dataframe thead th {\n",
              "        text-align: right;\n",
              "    }\n",
              "</style>\n",
              "<table border=\"1\" class=\"dataframe\">\n",
              "  <thead>\n",
              "    <tr style=\"text-align: right;\">\n",
              "      <th></th>\n",
              "      <th>sepal_l</th>\n",
              "      <th>sepal_w</th>\n",
              "      <th>petal_l</th>\n",
              "      <th>petal_w</th>\n",
              "      <th>species</th>\n",
              "    </tr>\n",
              "  </thead>\n",
              "  <tbody>\n",
              "    <tr>\n",
              "      <th>0</th>\n",
              "      <td>5.1</td>\n",
              "      <td>3.5</td>\n",
              "      <td>1.4</td>\n",
              "      <td>0.2</td>\n",
              "      <td>0</td>\n",
              "    </tr>\n",
              "    <tr>\n",
              "      <th>1</th>\n",
              "      <td>4.9</td>\n",
              "      <td>3.0</td>\n",
              "      <td>1.4</td>\n",
              "      <td>0.2</td>\n",
              "      <td>0</td>\n",
              "    </tr>\n",
              "    <tr>\n",
              "      <th>2</th>\n",
              "      <td>4.7</td>\n",
              "      <td>3.2</td>\n",
              "      <td>1.3</td>\n",
              "      <td>0.2</td>\n",
              "      <td>0</td>\n",
              "    </tr>\n",
              "    <tr>\n",
              "      <th>3</th>\n",
              "      <td>4.6</td>\n",
              "      <td>3.1</td>\n",
              "      <td>1.5</td>\n",
              "      <td>0.2</td>\n",
              "      <td>0</td>\n",
              "    </tr>\n",
              "    <tr>\n",
              "      <th>4</th>\n",
              "      <td>5.0</td>\n",
              "      <td>3.6</td>\n",
              "      <td>1.4</td>\n",
              "      <td>0.2</td>\n",
              "      <td>0</td>\n",
              "    </tr>\n",
              "  </tbody>\n",
              "</table>\n",
              "</div>"
            ],
            "text/plain": [
              "   sepal_l  sepal_w  petal_l  petal_w  species\n",
              "0      5.1      3.5      1.4      0.2        0\n",
              "1      4.9      3.0      1.4      0.2        0\n",
              "2      4.7      3.2      1.3      0.2        0\n",
              "3      4.6      3.1      1.5      0.2        0\n",
              "4      5.0      3.6      1.4      0.2        0"
            ]
          },
          "metadata": {
            "tags": []
          },
          "execution_count": 15
        }
      ]
    },
    {
      "cell_type": "code",
      "metadata": {
        "id": "XuOLHnSVluuW",
        "colab_type": "code",
        "colab": {}
      },
      "source": [
        "#separando datos de entrenamiento y teste\n",
        "def to_xy(df, target):\n",
        "    result = []\n",
        "    for x in df.columns:\n",
        "        if x != target:\n",
        "            result.append(x)\n",
        "    \n",
        "    # Descobre o tipo da coluna de destino. \n",
        "    target_type = df[target].dtypes\n",
        "    target_type = target_type[0] if hasattr(target_type, '__iter__') else target_type\n",
        "    \n",
        "    # Encoding para int. TensorFlow gosta de 32 bits.\n",
        "    if target_type in (np.int64, np.int32):\n",
        "        # Classificação\n",
        "        dummies = pd.get_dummies(df[target])\n",
        "        return df.values.astype('float32'), dummies.values.astype('float32')\n",
        "    else:\n",
        "        # Regressão\n",
        "        return df.values.astype('float32'), df[target].astype('float32')"
      ],
      "execution_count": 0,
      "outputs": []
    },
    {
      "cell_type": "code",
      "metadata": {
        "id": "H5voNvghl57u",
        "colab_type": "code",
        "colab": {}
      },
      "source": [
        "x,y = to_xy(df,'species')"
      ],
      "execution_count": 0,
      "outputs": []
    },
    {
      "cell_type": "code",
      "metadata": {
        "id": "-mCpg71TmEgo",
        "colab_type": "code",
        "colab": {}
      },
      "source": [
        "#dividiendo en entrenamiento y teste\n",
        "x_train,x_test, y_train,y_test = train_test_split(x,y,test_size=0.25, random_state=42)"
      ],
      "execution_count": 0,
      "outputs": []
    },
    {
      "cell_type": "markdown",
      "metadata": {
        "id": "fwm80K2irG3R",
        "colab_type": "text"
      },
      "source": [
        "#Red de clasificación"
      ]
    },
    {
      "cell_type": "code",
      "metadata": {
        "id": "UbTx_rF6mFWK",
        "colab_type": "code",
        "colab": {}
      },
      "source": [
        "#construyendoel modelo\n",
        "model = Sequential()\n",
        "model.add(Dense(10, input_dim=x.shape[1],kernel_initializer='normal',activation='relu'))\n",
        "model.add(Dense(1,kernel_initializer='normal'))\n",
        "model.add(Dense(y.shape[1],activation='softmax'))\n",
        "model.compile(loss='categorical_crossentropy', optimizer='adam')"
      ],
      "execution_count": 0,
      "outputs": []
    },
    {
      "cell_type": "code",
      "metadata": {
        "id": "O_ElJjBNmGOU",
        "colab_type": "code",
        "colab": {
          "base_uri": "https://localhost:8080/",
          "height": 255
        },
        "outputId": "50fa4d67-e67c-49fd-8bfe-f3e61b1138a9"
      },
      "source": [
        "model.summary()"
      ],
      "execution_count": 24,
      "outputs": [
        {
          "output_type": "stream",
          "text": [
            "Model: \"sequential_1\"\n",
            "_________________________________________________________________\n",
            "Layer (type)                 Output Shape              Param #   \n",
            "=================================================================\n",
            "dense_1 (Dense)              (None, 10)                60        \n",
            "_________________________________________________________________\n",
            "dense_2 (Dense)              (None, 1)                 11        \n",
            "_________________________________________________________________\n",
            "dense_3 (Dense)              (None, 3)                 6         \n",
            "=================================================================\n",
            "Total params: 77\n",
            "Trainable params: 77\n",
            "Non-trainable params: 0\n",
            "_________________________________________________________________\n"
          ],
          "name": "stdout"
        }
      ]
    },
    {
      "cell_type": "code",
      "metadata": {
        "id": "bcjIdzkToeSY",
        "colab_type": "code",
        "colab": {}
      },
      "source": [
        "#eralystoping\n",
        "monitor=EarlyStopping(monitor='val_loss',min_delta=1e-3,patience=5,verbose=1,mode='auto')"
      ],
      "execution_count": 0,
      "outputs": []
    },
    {
      "cell_type": "code",
      "metadata": {
        "id": "Su_Km4_do6ME",
        "colab_type": "code",
        "colab": {}
      },
      "source": [
        "#entrenando el modelo\n",
        "model.fit(x_train,y_train, validation_data=(x_test,y_test), callbacks=[monitor], verbose=2,epochs=1000)"
      ],
      "execution_count": 0,
      "outputs": []
    },
    {
      "cell_type": "markdown",
      "metadata": {
        "id": "a9l5w0Zip-Ha",
        "colab_type": "text"
      },
      "source": [
        "##Evaluando los resultados de clasificación\n",
        "\n",
        "Accuracy = numero de registros donde la NN acerto correctamente a la clase objetivo\n",
        "\n",
        "$ accuracy = \\frac{\\textit{#} \\ correct}{N} $"
      ]
    },
    {
      "cell_type": "code",
      "metadata": {
        "id": "8uyT57bhpQ-5",
        "colab_type": "code",
        "colab": {
          "base_uri": "https://localhost:8080/",
          "height": 34
        },
        "outputId": "a6c95ac2-f815-4f24-85cc-a42c07add595"
      },
      "source": [
        "from sklearn import metrics\n",
        "\n",
        "x_train, x_test, y_train, y_test = train_test_split(x, y, test_size = 0.30, random_state = 22)\n",
        "pred = model.predict(x_test)\n",
        "pred = np.argmax(pred,axis = 1) \n",
        "y_compare = np.argmax(y_test, axis = 1) \n",
        "score = metrics.accuracy_score(y_compare, pred)\n",
        "print(\"Accuracy: {}\".format(score))"
      ],
      "execution_count": 28,
      "outputs": [
        {
          "output_type": "stream",
          "text": [
            "Accuracy: 1.0\n"
          ],
          "name": "stdout"
        }
      ]
    },
    {
      "cell_type": "code",
      "metadata": {
        "id": "3t6k0siuqfIf",
        "colab_type": "code",
        "colab": {
          "base_uri": "https://localhost:8080/",
          "height": 170
        },
        "outputId": "bfe9aa03-36d2-4683-b18b-49fa14808a63"
      },
      "source": [
        "from IPython.display import display\n",
        "\n",
        "# No muestra la notación cientifica\n",
        "np.set_printoptions(precision=4)\n",
        "np.set_printoptions(suppress=True)\n",
        "\n",
        "# Generar predicciones\n",
        "pred = model.predict(x_test)\n",
        "\n",
        "print(\"Array Numpy de Predicciones\")\n",
        "print(pred[0]*100)\n",
        "\n",
        "print(\"Porcentajes de probabilidades\")\n",
        "display(pred[0:5])\n",
        "\n",
        "score = metrics.log_loss(y_test, pred)\n",
        "print(\"Log loss score: {}\".format(score))"
      ],
      "execution_count": 29,
      "outputs": [
        {
          "output_type": "stream",
          "text": [
            "Array Numpy de Predicciones\n",
            "[99.5745  0.4255  0.    ]\n",
            "Porcentajes de probabilidades\n"
          ],
          "name": "stdout"
        },
        {
          "output_type": "display_data",
          "data": {
            "text/plain": [
              "array([[0.9957, 0.0043, 0.    ],\n",
              "       [0.    , 0.008 , 0.9919],\n",
              "       [0.0994, 0.8417, 0.0589],\n",
              "       [0.    , 0.0064, 0.9936],\n",
              "       [0.0934, 0.8408, 0.0658]], dtype=float32)"
            ]
          },
          "metadata": {
            "tags": []
          }
        },
        {
          "output_type": "stream",
          "text": [
            "Log loss score: 0.07464335583564308\n"
          ],
          "name": "stdout"
        }
      ]
    },
    {
      "cell_type": "markdown",
      "metadata": {
        "id": "oGsir7MwrK2C",
        "colab_type": "text"
      },
      "source": [
        "#Red de regresión"
      ]
    },
    {
      "cell_type": "code",
      "metadata": {
        "id": "RR40ooTBq_7S",
        "colab_type": "code",
        "colab": {
          "resources": {
            "http://localhost:8080/nbextensions/google.colab/files.js": {
              "data": "Ly8gQ29weXJpZ2h0IDIwMTcgR29vZ2xlIExMQwovLwovLyBMaWNlbnNlZCB1bmRlciB0aGUgQXBhY2hlIExpY2Vuc2UsIFZlcnNpb24gMi4wICh0aGUgIkxpY2Vuc2UiKTsKLy8geW91IG1heSBub3QgdXNlIHRoaXMgZmlsZSBleGNlcHQgaW4gY29tcGxpYW5jZSB3aXRoIHRoZSBMaWNlbnNlLgovLyBZb3UgbWF5IG9idGFpbiBhIGNvcHkgb2YgdGhlIExpY2Vuc2UgYXQKLy8KLy8gICAgICBodHRwOi8vd3d3LmFwYWNoZS5vcmcvbGljZW5zZXMvTElDRU5TRS0yLjAKLy8KLy8gVW5sZXNzIHJlcXVpcmVkIGJ5IGFwcGxpY2FibGUgbGF3IG9yIGFncmVlZCB0byBpbiB3cml0aW5nLCBzb2Z0d2FyZQovLyBkaXN0cmlidXRlZCB1bmRlciB0aGUgTGljZW5zZSBpcyBkaXN0cmlidXRlZCBvbiBhbiAiQVMgSVMiIEJBU0lTLAovLyBXSVRIT1VUIFdBUlJBTlRJRVMgT1IgQ09ORElUSU9OUyBPRiBBTlkgS0lORCwgZWl0aGVyIGV4cHJlc3Mgb3IgaW1wbGllZC4KLy8gU2VlIHRoZSBMaWNlbnNlIGZvciB0aGUgc3BlY2lmaWMgbGFuZ3VhZ2UgZ292ZXJuaW5nIHBlcm1pc3Npb25zIGFuZAovLyBsaW1pdGF0aW9ucyB1bmRlciB0aGUgTGljZW5zZS4KCi8qKgogKiBAZmlsZW92ZXJ2aWV3IEhlbHBlcnMgZm9yIGdvb2dsZS5jb2xhYiBQeXRob24gbW9kdWxlLgogKi8KKGZ1bmN0aW9uKHNjb3BlKSB7CmZ1bmN0aW9uIHNwYW4odGV4dCwgc3R5bGVBdHRyaWJ1dGVzID0ge30pIHsKICBjb25zdCBlbGVtZW50ID0gZG9jdW1lbnQuY3JlYXRlRWxlbWVudCgnc3BhbicpOwogIGVsZW1lbnQudGV4dENvbnRlbnQgPSB0ZXh0OwogIGZvciAoY29uc3Qga2V5IG9mIE9iamVjdC5rZXlzKHN0eWxlQXR0cmlidXRlcykpIHsKICAgIGVsZW1lbnQuc3R5bGVba2V5XSA9IHN0eWxlQXR0cmlidXRlc1trZXldOwogIH0KICByZXR1cm4gZWxlbWVudDsKfQoKLy8gTWF4IG51bWJlciBvZiBieXRlcyB3aGljaCB3aWxsIGJlIHVwbG9hZGVkIGF0IGEgdGltZS4KY29uc3QgTUFYX1BBWUxPQURfU0laRSA9IDEwMCAqIDEwMjQ7Ci8vIE1heCBhbW91bnQgb2YgdGltZSB0byBibG9jayB3YWl0aW5nIGZvciB0aGUgdXNlci4KY29uc3QgRklMRV9DSEFOR0VfVElNRU9VVF9NUyA9IDMwICogMTAwMDsKCmZ1bmN0aW9uIF91cGxvYWRGaWxlcyhpbnB1dElkLCBvdXRwdXRJZCkgewogIGNvbnN0IHN0ZXBzID0gdXBsb2FkRmlsZXNTdGVwKGlucHV0SWQsIG91dHB1dElkKTsKICBjb25zdCBvdXRwdXRFbGVtZW50ID0gZG9jdW1lbnQuZ2V0RWxlbWVudEJ5SWQob3V0cHV0SWQpOwogIC8vIENhY2hlIHN0ZXBzIG9uIHRoZSBvdXRwdXRFbGVtZW50IHRvIG1ha2UgaXQgYXZhaWxhYmxlIGZvciB0aGUgbmV4dCBjYWxsCiAgLy8gdG8gdXBsb2FkRmlsZXNDb250aW51ZSBmcm9tIFB5dGhvbi4KICBvdXRwdXRFbGVtZW50LnN0ZXBzID0gc3RlcHM7CgogIHJldHVybiBfdXBsb2FkRmlsZXNDb250aW51ZShvdXRwdXRJZCk7Cn0KCi8vIFRoaXMgaXMgcm91Z2hseSBhbiBhc3luYyBnZW5lcmF0b3IgKG5vdCBzdXBwb3J0ZWQgaW4gdGhlIGJyb3dzZXIgeWV0KSwKLy8gd2hlcmUgdGhlcmUgYXJlIG11bHRpcGxlIGFzeW5jaHJvbm91cyBzdGVwcyBhbmQgdGhlIFB5dGhvbiBzaWRlIGlzIGdvaW5nCi8vIHRvIHBvbGwgZm9yIGNvbXBsZXRpb24gb2YgZWFjaCBzdGVwLgovLyBUaGlzIHVzZXMgYSBQcm9taXNlIHRvIGJsb2NrIHRoZSBweXRob24gc2lkZSBvbiBjb21wbGV0aW9uIG9mIGVhY2ggc3RlcCwKLy8gdGhlbiBwYXNzZXMgdGhlIHJlc3VsdCBvZiB0aGUgcHJldmlvdXMgc3RlcCBhcyB0aGUgaW5wdXQgdG8gdGhlIG5leHQgc3RlcC4KZnVuY3Rpb24gX3VwbG9hZEZpbGVzQ29udGludWUob3V0cHV0SWQpIHsKICBjb25zdCBvdXRwdXRFbGVtZW50ID0gZG9jdW1lbnQuZ2V0RWxlbWVudEJ5SWQob3V0cHV0SWQpOwogIGNvbnN0IHN0ZXBzID0gb3V0cHV0RWxlbWVudC5zdGVwczsKCiAgY29uc3QgbmV4dCA9IHN0ZXBzLm5leHQob3V0cHV0RWxlbWVudC5sYXN0UHJvbWlzZVZhbHVlKTsKICByZXR1cm4gUHJvbWlzZS5yZXNvbHZlKG5leHQudmFsdWUucHJvbWlzZSkudGhlbigodmFsdWUpID0+IHsKICAgIC8vIENhY2hlIHRoZSBsYXN0IHByb21pc2UgdmFsdWUgdG8gbWFrZSBpdCBhdmFpbGFibGUgdG8gdGhlIG5leHQKICAgIC8vIHN0ZXAgb2YgdGhlIGdlbmVyYXRvci4KICAgIG91dHB1dEVsZW1lbnQubGFzdFByb21pc2VWYWx1ZSA9IHZhbHVlOwogICAgcmV0dXJuIG5leHQudmFsdWUucmVzcG9uc2U7CiAgfSk7Cn0KCi8qKgogKiBHZW5lcmF0b3IgZnVuY3Rpb24gd2hpY2ggaXMgY2FsbGVkIGJldHdlZW4gZWFjaCBhc3luYyBzdGVwIG9mIHRoZSB1cGxvYWQKICogcHJvY2Vzcy4KICogQHBhcmFtIHtzdHJpbmd9IGlucHV0SWQgRWxlbWVudCBJRCBvZiB0aGUgaW5wdXQgZmlsZSBwaWNrZXIgZWxlbWVudC4KICogQHBhcmFtIHtzdHJpbmd9IG91dHB1dElkIEVsZW1lbnQgSUQgb2YgdGhlIG91dHB1dCBkaXNwbGF5LgogKiBAcmV0dXJuIHshSXRlcmFibGU8IU9iamVjdD59IEl0ZXJhYmxlIG9mIG5leHQgc3RlcHMuCiAqLwpmdW5jdGlvbiogdXBsb2FkRmlsZXNTdGVwKGlucHV0SWQsIG91dHB1dElkKSB7CiAgY29uc3QgaW5wdXRFbGVtZW50ID0gZG9jdW1lbnQuZ2V0RWxlbWVudEJ5SWQoaW5wdXRJZCk7CiAgaW5wdXRFbGVtZW50LmRpc2FibGVkID0gZmFsc2U7CgogIGNvbnN0IG91dHB1dEVsZW1lbnQgPSBkb2N1bWVudC5nZXRFbGVtZW50QnlJZChvdXRwdXRJZCk7CiAgb3V0cHV0RWxlbWVudC5pbm5lckhUTUwgPSAnJzsKCiAgY29uc3QgcGlja2VkUHJvbWlzZSA9IG5ldyBQcm9taXNlKChyZXNvbHZlKSA9PiB7CiAgICBpbnB1dEVsZW1lbnQuYWRkRXZlbnRMaXN0ZW5lcignY2hhbmdlJywgKGUpID0+IHsKICAgICAgcmVzb2x2ZShlLnRhcmdldC5maWxlcyk7CiAgICB9KTsKICB9KTsKCiAgY29uc3QgY2FuY2VsID0gZG9jdW1lbnQuY3JlYXRlRWxlbWVudCgnYnV0dG9uJyk7CiAgaW5wdXRFbGVtZW50LnBhcmVudEVsZW1lbnQuYXBwZW5kQ2hpbGQoY2FuY2VsKTsKICBjYW5jZWwudGV4dENvbnRlbnQgPSAnQ2FuY2VsIHVwbG9hZCc7CiAgY29uc3QgY2FuY2VsUHJvbWlzZSA9IG5ldyBQcm9taXNlKChyZXNvbHZlKSA9PiB7CiAgICBjYW5jZWwub25jbGljayA9ICgpID0+IHsKICAgICAgcmVzb2x2ZShudWxsKTsKICAgIH07CiAgfSk7CgogIC8vIENhbmNlbCB1cGxvYWQgaWYgdXNlciBoYXNuJ3QgcGlja2VkIGFueXRoaW5nIGluIHRpbWVvdXQuCiAgY29uc3QgdGltZW91dFByb21pc2UgPSBuZXcgUHJvbWlzZSgocmVzb2x2ZSkgPT4gewogICAgc2V0VGltZW91dCgoKSA9PiB7CiAgICAgIHJlc29sdmUobnVsbCk7CiAgICB9LCBGSUxFX0NIQU5HRV9USU1FT1VUX01TKTsKICB9KTsKCiAgLy8gV2FpdCBmb3IgdGhlIHVzZXIgdG8gcGljayB0aGUgZmlsZXMuCiAgY29uc3QgZmlsZXMgPSB5aWVsZCB7CiAgICBwcm9taXNlOiBQcm9taXNlLnJhY2UoW3BpY2tlZFByb21pc2UsIHRpbWVvdXRQcm9taXNlLCBjYW5jZWxQcm9taXNlXSksCiAgICByZXNwb25zZTogewogICAgICBhY3Rpb246ICdzdGFydGluZycsCiAgICB9CiAgfTsKCiAgaWYgKCFmaWxlcykgewogICAgcmV0dXJuIHsKICAgICAgcmVzcG9uc2U6IHsKICAgICAgICBhY3Rpb246ICdjb21wbGV0ZScsCiAgICAgIH0KICAgIH07CiAgfQoKICBjYW5jZWwucmVtb3ZlKCk7CgogIC8vIERpc2FibGUgdGhlIGlucHV0IGVsZW1lbnQgc2luY2UgZnVydGhlciBwaWNrcyBhcmUgbm90IGFsbG93ZWQuCiAgaW5wdXRFbGVtZW50LmRpc2FibGVkID0gdHJ1ZTsKCiAgZm9yIChjb25zdCBmaWxlIG9mIGZpbGVzKSB7CiAgICBjb25zdCBsaSA9IGRvY3VtZW50LmNyZWF0ZUVsZW1lbnQoJ2xpJyk7CiAgICBsaS5hcHBlbmQoc3BhbihmaWxlLm5hbWUsIHtmb250V2VpZ2h0OiAnYm9sZCd9KSk7CiAgICBsaS5hcHBlbmQoc3BhbigKICAgICAgICBgKCR7ZmlsZS50eXBlIHx8ICduL2EnfSkgLSAke2ZpbGUuc2l6ZX0gYnl0ZXMsIGAgKwogICAgICAgIGBsYXN0IG1vZGlmaWVkOiAkewogICAgICAgICAgICBmaWxlLmxhc3RNb2RpZmllZERhdGUgPyBmaWxlLmxhc3RNb2RpZmllZERhdGUudG9Mb2NhbGVEYXRlU3RyaW5nKCkgOgogICAgICAgICAgICAgICAgICAgICAgICAgICAgICAgICAgICAnbi9hJ30gLSBgKSk7CiAgICBjb25zdCBwZXJjZW50ID0gc3BhbignMCUgZG9uZScpOwogICAgbGkuYXBwZW5kQ2hpbGQocGVyY2VudCk7CgogICAgb3V0cHV0RWxlbWVudC5hcHBlbmRDaGlsZChsaSk7CgogICAgY29uc3QgZmlsZURhdGFQcm9taXNlID0gbmV3IFByb21pc2UoKHJlc29sdmUpID0+IHsKICAgICAgY29uc3QgcmVhZGVyID0gbmV3IEZpbGVSZWFkZXIoKTsKICAgICAgcmVhZGVyLm9ubG9hZCA9IChlKSA9PiB7CiAgICAgICAgcmVzb2x2ZShlLnRhcmdldC5yZXN1bHQpOwogICAgICB9OwogICAgICByZWFkZXIucmVhZEFzQXJyYXlCdWZmZXIoZmlsZSk7CiAgICB9KTsKICAgIC8vIFdhaXQgZm9yIHRoZSBkYXRhIHRvIGJlIHJlYWR5LgogICAgbGV0IGZpbGVEYXRhID0geWllbGQgewogICAgICBwcm9taXNlOiBmaWxlRGF0YVByb21pc2UsCiAgICAgIHJlc3BvbnNlOiB7CiAgICAgICAgYWN0aW9uOiAnY29udGludWUnLAogICAgICB9CiAgICB9OwoKICAgIC8vIFVzZSBhIGNodW5rZWQgc2VuZGluZyB0byBhdm9pZCBtZXNzYWdlIHNpemUgbGltaXRzLiBTZWUgYi82MjExNTY2MC4KICAgIGxldCBwb3NpdGlvbiA9IDA7CiAgICB3aGlsZSAocG9zaXRpb24gPCBmaWxlRGF0YS5ieXRlTGVuZ3RoKSB7CiAgICAgIGNvbnN0IGxlbmd0aCA9IE1hdGgubWluKGZpbGVEYXRhLmJ5dGVMZW5ndGggLSBwb3NpdGlvbiwgTUFYX1BBWUxPQURfU0laRSk7CiAgICAgIGNvbnN0IGNodW5rID0gbmV3IFVpbnQ4QXJyYXkoZmlsZURhdGEsIHBvc2l0aW9uLCBsZW5ndGgpOwogICAgICBwb3NpdGlvbiArPSBsZW5ndGg7CgogICAgICBjb25zdCBiYXNlNjQgPSBidG9hKFN0cmluZy5mcm9tQ2hhckNvZGUuYXBwbHkobnVsbCwgY2h1bmspKTsKICAgICAgeWllbGQgewogICAgICAgIHJlc3BvbnNlOiB7CiAgICAgICAgICBhY3Rpb246ICdhcHBlbmQnLAogICAgICAgICAgZmlsZTogZmlsZS5uYW1lLAogICAgICAgICAgZGF0YTogYmFzZTY0LAogICAgICAgIH0sCiAgICAgIH07CiAgICAgIHBlcmNlbnQudGV4dENvbnRlbnQgPQogICAgICAgICAgYCR7TWF0aC5yb3VuZCgocG9zaXRpb24gLyBmaWxlRGF0YS5ieXRlTGVuZ3RoKSAqIDEwMCl9JSBkb25lYDsKICAgIH0KICB9CgogIC8vIEFsbCBkb25lLgogIHlpZWxkIHsKICAgIHJlc3BvbnNlOiB7CiAgICAgIGFjdGlvbjogJ2NvbXBsZXRlJywKICAgIH0KICB9Owp9CgpzY29wZS5nb29nbGUgPSBzY29wZS5nb29nbGUgfHwge307CnNjb3BlLmdvb2dsZS5jb2xhYiA9IHNjb3BlLmdvb2dsZS5jb2xhYiB8fCB7fTsKc2NvcGUuZ29vZ2xlLmNvbGFiLl9maWxlcyA9IHsKICBfdXBsb2FkRmlsZXMsCiAgX3VwbG9hZEZpbGVzQ29udGludWUsCn07Cn0pKHNlbGYpOwo=",
              "ok": true,
              "headers": [
                [
                  "content-type",
                  "application/javascript"
                ]
              ],
              "status": 200,
              "status_text": ""
            }
          },
          "base_uri": "https://localhost:8080/",
          "height": 111
        },
        "outputId": "acb2e030-d66c-43d2-be25-794af825358a"
      },
      "source": [
        "from google.colab import files\n",
        "files.upload()"
      ],
      "execution_count": 30,
      "outputs": [
        {
          "output_type": "display_data",
          "data": {
            "text/html": [
              "\n",
              "     <input type=\"file\" id=\"files-84c7ac18-ecc5-4f06-ba19-42b2c2bae062\" name=\"files[]\" multiple disabled />\n",
              "     <output id=\"result-84c7ac18-ecc5-4f06-ba19-42b2c2bae062\">\n",
              "      Upload widget is only available when the cell has been executed in the\n",
              "      current browser session. Please rerun this cell to enable.\n",
              "      </output>\n",
              "      <script src=\"/nbextensions/google.colab/files.js\"></script> "
            ],
            "text/plain": [
              "<IPython.core.display.HTML object>"
            ]
          },
          "metadata": {
            "tags": []
          }
        },
        {
          "output_type": "stream",
          "text": [
            "Saving auto-mpg.csv to auto-mpg.csv\n"
          ],
          "name": "stdout"
        },
        {
          "output_type": "execute_result",
          "data": {
            "text/plain": [
              "{'auto-mpg.csv': b\"mpg,cylinders,displacement,horsepower,weight,acceleration,year,origin,name\\r\\n18,8,307,130,3504,12,70,1,chevrolet chevelle malibu\\r\\n15,8,350,165,3693,11.5,70,1,buick skylark 320\\r\\n18,8,318,150,3436,11,70,1,plymouth satellite\\r\\n16,8,304,150,3433,12,70,1,amc rebel sst\\r\\n17,8,302,140,3449,10.5,70,1,ford torino\\r\\n15,8,429,198,4341,10,70,1,ford galaxie 500\\r\\n14,8,454,220,4354,9,70,1,chevrolet impala\\r\\n14,8,440,215,4312,8.5,70,1,plymouth fury iii\\r\\n14,8,455,225,4425,10,70,1,pontiac catalina\\r\\n15,8,390,190,3850,8.5,70,1,amc ambassador dpl\\r\\n15,8,383,170,3563,10,70,1,dodge challenger se\\r\\n14,8,340,160,3609,8,70,1,plymouth 'cuda 340\\r\\n15,8,400,150,3761,9.5,70,1,chevrolet monte carlo\\r\\n14,8,455,225,3086,10,70,1,buick estate wagon (sw)\\r\\n24,4,113,95,2372,15,70,3,toyota corona mark ii\\r\\n22,6,198,95,2833,15.5,70,1,plymouth duster\\r\\n18,6,199,97,2774,15.5,70,1,amc hornet\\r\\n21,6,200,85,2587,16,70,1,ford maverick\\r\\n27,4,97,88,2130,14.5,70,3,datsun pl510\\r\\n26,4,97,46,1835,20.5,70,2,volkswagen 1131 deluxe sedan\\r\\n25,4,110,87,2672,17.5,70,2,peugeot 504\\r\\n24,4,107,90,2430,14.5,70,2,audi 100 ls\\r\\n25,4,104,95,2375,17.5,70,2,saab 99e\\r\\n26,4,121,113,2234,12.5,70,2,bmw 2002\\r\\n21,6,199,90,2648,15,70,1,amc gremlin\\r\\n10,8,360,215,4615,14,70,1,ford f250\\r\\n10,8,307,200,4376,15,70,1,chevy c20\\r\\n11,8,318,210,4382,13.5,70,1,dodge d200\\r\\n9,8,304,193,4732,18.5,70,1,hi 1200d\\r\\n27,4,97,88,2130,14.5,71,3,datsun pl510\\r\\n28,4,140,90,2264,15.5,71,1,chevrolet vega 2300\\r\\n25,4,113,95,2228,14,71,3,toyota corona\\r\\n25,4,98,?,2046,19,71,1,ford pinto\\r\\n19,6,232,100,2634,13,71,1,amc gremlin\\r\\n16,6,225,105,3439,15.5,71,1,plymouth satellite custom\\r\\n17,6,250,100,3329,15.5,71,1,chevrolet chevelle malibu\\r\\n19,6,250,88,3302,15.5,71,1,ford torino 500\\r\\n18,6,232,100,3288,15.5,71,1,amc matador\\r\\n14,8,350,165,4209,12,71,1,chevrolet impala\\r\\n14,8,400,175,4464,11.5,71,1,pontiac catalina brougham\\r\\n14,8,351,153,4154,13.5,71,1,ford galaxie 500\\r\\n14,8,318,150,4096,13,71,1,plymouth fury iii\\r\\n12,8,383,180,4955,11.5,71,1,dodge monaco (sw)\\r\\n13,8,400,170,4746,12,71,1,ford country squire (sw)\\r\\n13,8,400,175,5140,12,71,1,pontiac safari (sw)\\r\\n18,6,258,110,2962,13.5,71,1,amc hornet sportabout (sw)\\r\\n22,4,140,72,2408,19,71,1,chevrolet vega (sw)\\r\\n19,6,250,100,3282,15,71,1,pontiac firebird\\r\\n18,6,250,88,3139,14.5,71,1,ford mustang\\r\\n23,4,122,86,2220,14,71,1,mercury capri 2000\\r\\n28,4,116,90,2123,14,71,2,opel 1900\\r\\n30,4,79,70,2074,19.5,71,2,peugeot 304\\r\\n30,4,88,76,2065,14.5,71,2,fiat 124b\\r\\n31,4,71,65,1773,19,71,3,toyota corolla 1200\\r\\n35,4,72,69,1613,18,71,3,datsun 1200\\r\\n27,4,97,60,1834,19,71,2,volkswagen model 111\\r\\n26,4,91,70,1955,20.5,71,1,plymouth cricket\\r\\n24,4,113,95,2278,15.5,72,3,toyota corona hardtop\\r\\n25,4,97.5,80,2126,17,72,1,dodge colt hardtop\\r\\n23,4,97,54,2254,23.5,72,2,volkswagen type 3\\r\\n20,4,140,90,2408,19.5,72,1,chevrolet vega\\r\\n21,4,122,86,2226,16.5,72,1,ford pinto runabout\\r\\n13,8,350,165,4274,12,72,1,chevrolet impala\\r\\n14,8,400,175,4385,12,72,1,pontiac catalina\\r\\n15,8,318,150,4135,13.5,72,1,plymouth fury iii\\r\\n14,8,351,153,4129,13,72,1,ford galaxie 500\\r\\n17,8,304,150,3672,11.5,72,1,amc ambassador sst\\r\\n11,8,429,208,4633,11,72,1,mercury marquis\\r\\n13,8,350,155,4502,13.5,72,1,buick lesabre custom\\r\\n12,8,350,160,4456,13.5,72,1,oldsmobile delta 88 royale\\r\\n13,8,400,190,4422,12.5,72,1,chrysler newport royal\\r\\n19,3,70,97,2330,13.5,72,3,mazda rx2 coupe\\r\\n15,8,304,150,3892,12.5,72,1,amc matador (sw)\\r\\n13,8,307,130,4098,14,72,1,chevrolet chevelle concours (sw)\\r\\n13,8,302,140,4294,16,72,1,ford gran torino (sw)\\r\\n14,8,318,150,4077,14,72,1,plymouth satellite custom (sw)\\r\\n18,4,121,112,2933,14.5,72,2,volvo 145e (sw)\\r\\n22,4,121,76,2511,18,72,2,volkswagen 411 (sw)\\r\\n21,4,120,87,2979,19.5,72,2,peugeot 504 (sw)\\r\\n26,4,96,69,2189,18,72,2,renault 12 (sw)\\r\\n22,4,122,86,2395,16,72,1,ford pinto (sw)\\r\\n28,4,97,92,2288,17,72,3,datsun 510 (sw)\\r\\n23,4,120,97,2506,14.5,72,3,toyouta corona mark ii (sw)\\r\\n28,4,98,80,2164,15,72,1,dodge colt (sw)\\r\\n27,4,97,88,2100,16.5,72,3,toyota corolla 1600 (sw)\\r\\n13,8,350,175,4100,13,73,1,buick century 350\\r\\n14,8,304,150,3672,11.5,73,1,amc matador\\r\\n13,8,350,145,3988,13,73,1,chevrolet malibu\\r\\n14,8,302,137,4042,14.5,73,1,ford gran torino\\r\\n15,8,318,150,3777,12.5,73,1,dodge coronet custom\\r\\n12,8,429,198,4952,11.5,73,1,mercury marquis brougham\\r\\n13,8,400,150,4464,12,73,1,chevrolet caprice classic\\r\\n13,8,351,158,4363,13,73,1,ford ltd\\r\\n14,8,318,150,4237,14.5,73,1,plymouth fury gran sedan\\r\\n13,8,440,215,4735,11,73,1,chrysler new yorker brougham\\r\\n12,8,455,225,4951,11,73,1,buick electra 225 custom\\r\\n13,8,360,175,3821,11,73,1,amc ambassador brougham\\r\\n18,6,225,105,3121,16.5,73,1,plymouth valiant\\r\\n16,6,250,100,3278,18,73,1,chevrolet nova custom\\r\\n18,6,232,100,2945,16,73,1,amc hornet\\r\\n18,6,250,88,3021,16.5,73,1,ford maverick\\r\\n23,6,198,95,2904,16,73,1,plymouth duster\\r\\n26,4,97,46,1950,21,73,2,volkswagen super beetle\\r\\n11,8,400,150,4997,14,73,1,chevrolet impala\\r\\n12,8,400,167,4906,12.5,73,1,ford country\\r\\n13,8,360,170,4654,13,73,1,plymouth custom suburb\\r\\n12,8,350,180,4499,12.5,73,1,oldsmobile vista cruiser\\r\\n18,6,232,100,2789,15,73,1,amc gremlin\\r\\n20,4,97,88,2279,19,73,3,toyota carina\\r\\n21,4,140,72,2401,19.5,73,1,chevrolet vega\\r\\n22,4,108,94,2379,16.5,73,3,datsun 610\\r\\n18,3,70,90,2124,13.5,73,3,maxda rx3\\r\\n19,4,122,85,2310,18.5,73,1,ford pinto\\r\\n21,6,155,107,2472,14,73,1,mercury capri v6\\r\\n26,4,98,90,2265,15.5,73,2,fiat 124 sport coupe\\r\\n15,8,350,145,4082,13,73,1,chevrolet monte carlo s\\r\\n16,8,400,230,4278,9.5,73,1,pontiac grand prix\\r\\n29,4,68,49,1867,19.5,73,2,fiat 128\\r\\n24,4,116,75,2158,15.5,73,2,opel manta\\r\\n20,4,114,91,2582,14,73,2,audi 100ls\\r\\n19,4,121,112,2868,15.5,73,2,volvo 144ea\\r\\n15,8,318,150,3399,11,73,1,dodge dart custom\\r\\n24,4,121,110,2660,14,73,2,saab 99le\\r\\n20,6,156,122,2807,13.5,73,3,toyota mark ii\\r\\n11,8,350,180,3664,11,73,1,oldsmobile omega\\r\\n20,6,198,95,3102,16.5,74,1,plymouth duster\\r\\n21,6,200,?,2875,17,74,1,ford maverick\\r\\n19,6,232,100,2901,16,74,1,amc hornet\\r\\n15,6,250,100,3336,17,74,1,chevrolet nova\\r\\n31,4,79,67,1950,19,74,3,datsun b210\\r\\n26,4,122,80,2451,16.5,74,1,ford pinto\\r\\n32,4,71,65,1836,21,74,3,toyota corolla 1200\\r\\n25,4,140,75,2542,17,74,1,chevrolet vega\\r\\n16,6,250,100,3781,17,74,1,chevrolet chevelle malibu classic\\r\\n16,6,258,110,3632,18,74,1,amc matador\\r\\n18,6,225,105,3613,16.5,74,1,plymouth satellite sebring\\r\\n16,8,302,140,4141,14,74,1,ford gran torino\\r\\n13,8,350,150,4699,14.5,74,1,buick century luxus (sw)\\r\\n14,8,318,150,4457,13.5,74,1,dodge coronet custom (sw)\\r\\n14,8,302,140,4638,16,74,1,ford gran torino (sw)\\r\\n14,8,304,150,4257,15.5,74,1,amc matador (sw)\\r\\n29,4,98,83,2219,16.5,74,2,audi fox\\r\\n26,4,79,67,1963,15.5,74,2,volkswagen dasher\\r\\n26,4,97,78,2300,14.5,74,2,opel manta\\r\\n31,4,76,52,1649,16.5,74,3,toyota corona\\r\\n32,4,83,61,2003,19,74,3,datsun 710\\r\\n28,4,90,75,2125,14.5,74,1,dodge colt\\r\\n24,4,90,75,2108,15.5,74,2,fiat 128\\r\\n26,4,116,75,2246,14,74,2,fiat 124 tc\\r\\n24,4,120,97,2489,15,74,3,honda civic\\r\\n26,4,108,93,2391,15.5,74,3,subaru\\r\\n31,4,79,67,2000,16,74,2,fiat x1.9\\r\\n19,6,225,95,3264,16,75,1,plymouth valiant custom\\r\\n18,6,250,105,3459,16,75,1,chevrolet nova\\r\\n15,6,250,72,3432,21,75,1,mercury monarch\\r\\n15,6,250,72,3158,19.5,75,1,ford maverick\\r\\n16,8,400,170,4668,11.5,75,1,pontiac catalina\\r\\n15,8,350,145,4440,14,75,1,chevrolet bel air\\r\\n16,8,318,150,4498,14.5,75,1,plymouth grand fury\\r\\n14,8,351,148,4657,13.5,75,1,ford ltd\\r\\n17,6,231,110,3907,21,75,1,buick century\\r\\n16,6,250,105,3897,18.5,75,1,chevroelt chevelle malibu\\r\\n15,6,258,110,3730,19,75,1,amc matador\\r\\n18,6,225,95,3785,19,75,1,plymouth fury\\r\\n21,6,231,110,3039,15,75,1,buick skyhawk\\r\\n20,8,262,110,3221,13.5,75,1,chevrolet monza 2+2\\r\\n13,8,302,129,3169,12,75,1,ford mustang ii\\r\\n29,4,97,75,2171,16,75,3,toyota corolla\\r\\n23,4,140,83,2639,17,75,1,ford pinto\\r\\n20,6,232,100,2914,16,75,1,amc gremlin\\r\\n23,4,140,78,2592,18.5,75,1,pontiac astro\\r\\n24,4,134,96,2702,13.5,75,3,toyota corona\\r\\n25,4,90,71,2223,16.5,75,2,volkswagen dasher\\r\\n24,4,119,97,2545,17,75,3,datsun 710\\r\\n18,6,171,97,2984,14.5,75,1,ford pinto\\r\\n29,4,90,70,1937,14,75,2,volkswagen rabbit\\r\\n19,6,232,90,3211,17,75,1,amc pacer\\r\\n23,4,115,95,2694,15,75,2,audi 100ls\\r\\n23,4,120,88,2957,17,75,2,peugeot 504\\r\\n22,4,121,98,2945,14.5,75,2,volvo 244dl\\r\\n25,4,121,115,2671,13.5,75,2,saab 99le\\r\\n33,4,91,53,1795,17.5,75,3,honda civic cvcc\\r\\n28,4,107,86,2464,15.5,76,2,fiat 131\\r\\n25,4,116,81,2220,16.9,76,2,opel 1900\\r\\n25,4,140,92,2572,14.9,76,1,capri ii\\r\\n26,4,98,79,2255,17.7,76,1,dodge colt\\r\\n27,4,101,83,2202,15.3,76,2,renault 12tl\\r\\n17.5,8,305,140,4215,13,76,1,chevrolet chevelle malibu classic\\r\\n16,8,318,150,4190,13,76,1,dodge coronet brougham\\r\\n15.5,8,304,120,3962,13.9,76,1,amc matador\\r\\n14.5,8,351,152,4215,12.8,76,1,ford gran torino\\r\\n22,6,225,100,3233,15.4,76,1,plymouth valiant\\r\\n22,6,250,105,3353,14.5,76,1,chevrolet nova\\r\\n24,6,200,81,3012,17.6,76,1,ford maverick\\r\\n22.5,6,232,90,3085,17.6,76,1,amc hornet\\r\\n29,4,85,52,2035,22.2,76,1,chevrolet chevette\\r\\n24.5,4,98,60,2164,22.1,76,1,chevrolet woody\\r\\n29,4,90,70,1937,14.2,76,2,vw rabbit\\r\\n33,4,91,53,1795,17.4,76,3,honda civic\\r\\n20,6,225,100,3651,17.7,76,1,dodge aspen se\\r\\n18,6,250,78,3574,21,76,1,ford granada ghia\\r\\n18.5,6,250,110,3645,16.2,76,1,pontiac ventura sj\\r\\n17.5,6,258,95,3193,17.8,76,1,amc pacer d/l\\r\\n29.5,4,97,71,1825,12.2,76,2,volkswagen rabbit\\r\\n32,4,85,70,1990,17,76,3,datsun b-210\\r\\n28,4,97,75,2155,16.4,76,3,toyota corolla\\r\\n26.5,4,140,72,2565,13.6,76,1,ford pinto\\r\\n20,4,130,102,3150,15.7,76,2,volvo 245\\r\\n13,8,318,150,3940,13.2,76,1,plymouth volare premier v8\\r\\n19,4,120,88,3270,21.9,76,2,peugeot 504\\r\\n19,6,156,108,2930,15.5,76,3,toyota mark ii\\r\\n16.5,6,168,120,3820,16.7,76,2,mercedes-benz 280s\\r\\n16.5,8,350,180,4380,12.1,76,1,cadillac seville\\r\\n13,8,350,145,4055,12,76,1,chevy c10\\r\\n13,8,302,130,3870,15,76,1,ford f108\\r\\n13,8,318,150,3755,14,76,1,dodge d100\\r\\n31.5,4,98,68,2045,18.5,77,3,honda accord cvcc\\r\\n30,4,111,80,2155,14.8,77,1,buick opel isuzu deluxe\\r\\n36,4,79,58,1825,18.6,77,2,renault 5 gtl\\r\\n25.5,4,122,96,2300,15.5,77,1,plymouth arrow gs\\r\\n33.5,4,85,70,1945,16.8,77,3,datsun f-10 hatchback\\r\\n17.5,8,305,145,3880,12.5,77,1,chevrolet caprice classic\\r\\n17,8,260,110,4060,19,77,1,oldsmobile cutlass supreme\\r\\n15.5,8,318,145,4140,13.7,77,1,dodge monaco brougham\\r\\n15,8,302,130,4295,14.9,77,1,mercury cougar brougham\\r\\n17.5,6,250,110,3520,16.4,77,1,chevrolet concours\\r\\n20.5,6,231,105,3425,16.9,77,1,buick skylark\\r\\n19,6,225,100,3630,17.7,77,1,plymouth volare custom\\r\\n18.5,6,250,98,3525,19,77,1,ford granada\\r\\n16,8,400,180,4220,11.1,77,1,pontiac grand prix lj\\r\\n15.5,8,350,170,4165,11.4,77,1,chevrolet monte carlo landau\\r\\n15.5,8,400,190,4325,12.2,77,1,chrysler cordoba\\r\\n16,8,351,149,4335,14.5,77,1,ford thunderbird\\r\\n29,4,97,78,1940,14.5,77,2,volkswagen rabbit custom\\r\\n24.5,4,151,88,2740,16,77,1,pontiac sunbird coupe\\r\\n26,4,97,75,2265,18.2,77,3,toyota corolla liftback\\r\\n25.5,4,140,89,2755,15.8,77,1,ford mustang ii 2+2\\r\\n30.5,4,98,63,2051,17,77,1,chevrolet chevette\\r\\n33.5,4,98,83,2075,15.9,77,1,dodge colt m/m\\r\\n30,4,97,67,1985,16.4,77,3,subaru dl\\r\\n30.5,4,97,78,2190,14.1,77,2,volkswagen dasher\\r\\n22,6,146,97,2815,14.5,77,3,datsun 810\\r\\n21.5,4,121,110,2600,12.8,77,2,bmw 320i\\r\\n21.5,3,80,110,2720,13.5,77,3,mazda rx-4\\r\\n43.1,4,90,48,1985,21.5,78,2,volkswagen rabbit custom diesel\\r\\n36.1,4,98,66,1800,14.4,78,1,ford fiesta\\r\\n32.8,4,78,52,1985,19.4,78,3,mazda glc deluxe\\r\\n39.4,4,85,70,2070,18.6,78,3,datsun b210 gx\\r\\n36.1,4,91,60,1800,16.4,78,3,honda civic cvcc\\r\\n19.9,8,260,110,3365,15.5,78,1,oldsmobile cutlass salon brougham\\r\\n19.4,8,318,140,3735,13.2,78,1,dodge diplomat\\r\\n20.2,8,302,139,3570,12.8,78,1,mercury monarch ghia\\r\\n19.2,6,231,105,3535,19.2,78,1,pontiac phoenix lj\\r\\n20.5,6,200,95,3155,18.2,78,1,chevrolet malibu\\r\\n20.2,6,200,85,2965,15.8,78,1,ford fairmont (auto)\\r\\n25.1,4,140,88,2720,15.4,78,1,ford fairmont (man)\\r\\n20.5,6,225,100,3430,17.2,78,1,plymouth volare\\r\\n19.4,6,232,90,3210,17.2,78,1,amc concord\\r\\n20.6,6,231,105,3380,15.8,78,1,buick century special\\r\\n20.8,6,200,85,3070,16.7,78,1,mercury zephyr\\r\\n18.6,6,225,110,3620,18.7,78,1,dodge aspen\\r\\n18.1,6,258,120,3410,15.1,78,1,amc concord d/l\\r\\n19.2,8,305,145,3425,13.2,78,1,chevrolet monte carlo landau\\r\\n17.7,6,231,165,3445,13.4,78,1,buick regal sport coupe (turbo)\\r\\n18.1,8,302,139,3205,11.2,78,1,ford futura\\r\\n17.5,8,318,140,4080,13.7,78,1,dodge magnum xe\\r\\n30,4,98,68,2155,16.5,78,1,chevrolet chevette\\r\\n27.5,4,134,95,2560,14.2,78,3,toyota corona\\r\\n27.2,4,119,97,2300,14.7,78,3,datsun 510\\r\\n30.9,4,105,75,2230,14.5,78,1,dodge omni\\r\\n21.1,4,134,95,2515,14.8,78,3,toyota celica gt liftback\\r\\n23.2,4,156,105,2745,16.7,78,1,plymouth sapporo\\r\\n23.8,4,151,85,2855,17.6,78,1,oldsmobile starfire sx\\r\\n23.9,4,119,97,2405,14.9,78,3,datsun 200-sx\\r\\n20.3,5,131,103,2830,15.9,78,2,audi 5000\\r\\n17,6,163,125,3140,13.6,78,2,volvo 264gl\\r\\n21.6,4,121,115,2795,15.7,78,2,saab 99gle\\r\\n16.2,6,163,133,3410,15.8,78,2,peugeot 604sl\\r\\n31.5,4,89,71,1990,14.9,78,2,volkswagen scirocco\\r\\n29.5,4,98,68,2135,16.6,78,3,honda accord lx\\r\\n21.5,6,231,115,3245,15.4,79,1,pontiac lemans v6\\r\\n19.8,6,200,85,2990,18.2,79,1,mercury zephyr 6\\r\\n22.3,4,140,88,2890,17.3,79,1,ford fairmont 4\\r\\n20.2,6,232,90,3265,18.2,79,1,amc concord dl 6\\r\\n20.6,6,225,110,3360,16.6,79,1,dodge aspen 6\\r\\n17,8,305,130,3840,15.4,79,1,chevrolet caprice classic\\r\\n17.6,8,302,129,3725,13.4,79,1,ford ltd landau\\r\\n16.5,8,351,138,3955,13.2,79,1,mercury grand marquis\\r\\n18.2,8,318,135,3830,15.2,79,1,dodge st. regis\\r\\n16.9,8,350,155,4360,14.9,79,1,buick estate wagon (sw)\\r\\n15.5,8,351,142,4054,14.3,79,1,ford country squire (sw)\\r\\n19.2,8,267,125,3605,15,79,1,chevrolet malibu classic (sw)\\r\\n18.5,8,360,150,3940,13,79,1,chrysler lebaron town @ country (sw)\\r\\n31.9,4,89,71,1925,14,79,2,vw rabbit custom\\r\\n34.1,4,86,65,1975,15.2,79,3,maxda glc deluxe\\r\\n35.7,4,98,80,1915,14.4,79,1,dodge colt hatchback custom\\r\\n27.4,4,121,80,2670,15,79,1,amc spirit dl\\r\\n25.4,5,183,77,3530,20.1,79,2,mercedes benz 300d\\r\\n23,8,350,125,3900,17.4,79,1,cadillac eldorado\\r\\n27.2,4,141,71,3190,24.8,79,2,peugeot 504\\r\\n23.9,8,260,90,3420,22.2,79,1,oldsmobile cutlass salon brougham\\r\\n34.2,4,105,70,2200,13.2,79,1,plymouth horizon\\r\\n34.5,4,105,70,2150,14.9,79,1,plymouth horizon tc3\\r\\n31.8,4,85,65,2020,19.2,79,3,datsun 210\\r\\n37.3,4,91,69,2130,14.7,79,2,fiat strada custom\\r\\n28.4,4,151,90,2670,16,79,1,buick skylark limited\\r\\n28.8,6,173,115,2595,11.3,79,1,chevrolet citation\\r\\n26.8,6,173,115,2700,12.9,79,1,oldsmobile omega brougham\\r\\n33.5,4,151,90,2556,13.2,79,1,pontiac phoenix\\r\\n41.5,4,98,76,2144,14.7,80,2,vw rabbit\\r\\n38.1,4,89,60,1968,18.8,80,3,toyota corolla tercel\\r\\n32.1,4,98,70,2120,15.5,80,1,chevrolet chevette\\r\\n37.2,4,86,65,2019,16.4,80,3,datsun 310\\r\\n28,4,151,90,2678,16.5,80,1,chevrolet citation\\r\\n26.4,4,140,88,2870,18.1,80,1,ford fairmont\\r\\n24.3,4,151,90,3003,20.1,80,1,amc concord\\r\\n19.1,6,225,90,3381,18.7,80,1,dodge aspen\\r\\n34.3,4,97,78,2188,15.8,80,2,audi 4000\\r\\n29.8,4,134,90,2711,15.5,80,3,toyota corona liftback\\r\\n31.3,4,120,75,2542,17.5,80,3,mazda 626\\r\\n37,4,119,92,2434,15,80,3,datsun 510 hatchback\\r\\n32.2,4,108,75,2265,15.2,80,3,toyota corolla\\r\\n46.6,4,86,65,2110,17.9,80,3,mazda glc\\r\\n27.9,4,156,105,2800,14.4,80,1,dodge colt\\r\\n40.8,4,85,65,2110,19.2,80,3,datsun 210\\r\\n44.3,4,90,48,2085,21.7,80,2,vw rabbit c (diesel)\\r\\n43.4,4,90,48,2335,23.7,80,2,vw dasher (diesel)\\r\\n36.4,5,121,67,2950,19.9,80,2,audi 5000s (diesel)\\r\\n30,4,146,67,3250,21.8,80,2,mercedes-benz 240d\\r\\n44.6,4,91,67,1850,13.8,80,3,honda civic 1500 gl\\r\\n40.9,4,85,?,1835,17.3,80,2,renault lecar deluxe\\r\\n33.8,4,97,67,2145,18,80,3,subaru dl\\r\\n29.8,4,89,62,1845,15.3,80,2,vokswagen rabbit\\r\\n32.7,6,168,132,2910,11.4,80,3,datsun 280-zx\\r\\n23.7,3,70,100,2420,12.5,80,3,mazda rx-7 gs\\r\\n35,4,122,88,2500,15.1,80,2,triumph tr7 coupe\\r\\n23.6,4,140,?,2905,14.3,80,1,ford mustang cobra\\r\\n32.4,4,107,72,2290,17,80,3,honda accord\\r\\n27.2,4,135,84,2490,15.7,81,1,plymouth reliant\\r\\n26.6,4,151,84,2635,16.4,81,1,buick skylark\\r\\n25.8,4,156,92,2620,14.4,81,1,dodge aries wagon (sw)\\r\\n23.5,6,173,110,2725,12.6,81,1,chevrolet citation\\r\\n30,4,135,84,2385,12.9,81,1,plymouth reliant\\r\\n39.1,4,79,58,1755,16.9,81,3,toyota starlet\\r\\n39,4,86,64,1875,16.4,81,1,plymouth champ\\r\\n35.1,4,81,60,1760,16.1,81,3,honda civic 1300\\r\\n32.3,4,97,67,2065,17.8,81,3,subaru\\r\\n37,4,85,65,1975,19.4,81,3,datsun 210 mpg\\r\\n37.7,4,89,62,2050,17.3,81,3,toyota tercel\\r\\n34.1,4,91,68,1985,16,81,3,mazda glc 4\\r\\n34.7,4,105,63,2215,14.9,81,1,plymouth horizon 4\\r\\n34.4,4,98,65,2045,16.2,81,1,ford escort 4w\\r\\n29.9,4,98,65,2380,20.7,81,1,ford escort 2h\\r\\n33,4,105,74,2190,14.2,81,2,volkswagen jetta\\r\\n34.5,4,100,?,2320,15.8,81,2,renault 18i\\r\\n33.7,4,107,75,2210,14.4,81,3,honda prelude\\r\\n32.4,4,108,75,2350,16.8,81,3,toyota corolla\\r\\n32.9,4,119,100,2615,14.8,81,3,datsun 200sx\\r\\n31.6,4,120,74,2635,18.3,81,3,mazda 626\\r\\n28.1,4,141,80,3230,20.4,81,2,peugeot 505s turbo diesel\\r\\n30.7,6,145,76,3160,19.6,81,2,volvo diesel\\r\\n25.4,6,168,116,2900,12.6,81,3,toyota cressida\\r\\n24.2,6,146,120,2930,13.8,81,3,datsun 810 maxima\\r\\n22.4,6,231,110,3415,15.8,81,1,buick century\\r\\n26.6,8,350,105,3725,19,81,1,oldsmobile cutlass ls\\r\\n20.2,6,200,88,3060,17.1,81,1,ford granada gl\\r\\n17.6,6,225,85,3465,16.6,81,1,chrysler lebaron salon\\r\\n28,4,112,88,2605,19.6,82,1,chevrolet cavalier\\r\\n27,4,112,88,2640,18.6,82,1,chevrolet cavalier wagon\\r\\n34,4,112,88,2395,18,82,1,chevrolet cavalier 2-door\\r\\n31,4,112,85,2575,16.2,82,1,pontiac j2000 se hatchback\\r\\n29,4,135,84,2525,16,82,1,dodge aries se\\r\\n27,4,151,90,2735,18,82,1,pontiac phoenix\\r\\n24,4,140,92,2865,16.4,82,1,ford fairmont futura\\r\\n23,4,151,?,3035,20.5,82,1,amc concord dl\\r\\n36,4,105,74,1980,15.3,82,2,volkswagen rabbit l\\r\\n37,4,91,68,2025,18.2,82,3,mazda glc custom l\\r\\n31,4,91,68,1970,17.6,82,3,mazda glc custom\\r\\n38,4,105,63,2125,14.7,82,1,plymouth horizon miser\\r\\n36,4,98,70,2125,17.3,82,1,mercury lynx l\\r\\n36,4,120,88,2160,14.5,82,3,nissan stanza xe\\r\\n36,4,107,75,2205,14.5,82,3,honda accord\\r\\n34,4,108,70,2245,16.9,82,3,toyota corolla\\r\\n38,4,91,67,1965,15,82,3,honda civic\\r\\n32,4,91,67,1965,15.7,82,3,honda civic (auto)\\r\\n38,4,91,67,1995,16.2,82,3,datsun 310 gx\\r\\n25,6,181,110,2945,16.4,82,1,buick century limited\\r\\n38,6,262,85,3015,17,82,1,oldsmobile cutlass ciera (diesel)\\r\\n26,4,156,92,2585,14.5,82,1,chrysler lebaron medallion\\r\\n22,6,232,112,2835,14.7,82,1,ford granada l\\r\\n32,4,144,96,2665,13.9,82,3,toyota celica gt\\r\\n36,4,135,84,2370,13,82,1,dodge charger 2.2\\r\\n27,4,151,90,2950,17.3,82,1,chevrolet camaro\\r\\n27,4,140,86,2790,15.6,82,1,ford mustang gl\\r\\n44,4,97,52,2130,24.6,82,2,vw pickup\\r\\n32,4,135,84,2295,11.6,82,1,dodge rampage\\r\\n28,4,120,79,2625,18.6,82,1,ford ranger\\r\\n31,4,119,82,2720,19.4,82,1,chevy s-10\\r\\n\"}"
            ]
          },
          "metadata": {
            "tags": []
          },
          "execution_count": 30
        }
      ]
    },
    {
      "cell_type": "code",
      "metadata": {
        "id": "p3zyKSolrWvn",
        "colab_type": "code",
        "colab": {}
      },
      "source": [
        "df = pd.read_csv('auto-mpg.csv',na_values=['NA','?'])"
      ],
      "execution_count": 0,
      "outputs": []
    },
    {
      "cell_type": "code",
      "metadata": {
        "id": "5h5jNxd0re1-",
        "colab_type": "code",
        "colab": {
          "base_uri": "https://localhost:8080/",
          "height": 204
        },
        "outputId": "c7b8b595-7035-4249-f920-4cfa98526eb5"
      },
      "source": [
        "df.head()"
      ],
      "execution_count": 35,
      "outputs": [
        {
          "output_type": "execute_result",
          "data": {
            "text/html": [
              "<div>\n",
              "<style scoped>\n",
              "    .dataframe tbody tr th:only-of-type {\n",
              "        vertical-align: middle;\n",
              "    }\n",
              "\n",
              "    .dataframe tbody tr th {\n",
              "        vertical-align: top;\n",
              "    }\n",
              "\n",
              "    .dataframe thead th {\n",
              "        text-align: right;\n",
              "    }\n",
              "</style>\n",
              "<table border=\"1\" class=\"dataframe\">\n",
              "  <thead>\n",
              "    <tr style=\"text-align: right;\">\n",
              "      <th></th>\n",
              "      <th>mpg</th>\n",
              "      <th>cylinders</th>\n",
              "      <th>displacement</th>\n",
              "      <th>horsepower</th>\n",
              "      <th>weight</th>\n",
              "      <th>acceleration</th>\n",
              "      <th>year</th>\n",
              "      <th>origin</th>\n",
              "      <th>name</th>\n",
              "    </tr>\n",
              "  </thead>\n",
              "  <tbody>\n",
              "    <tr>\n",
              "      <th>0</th>\n",
              "      <td>18.0</td>\n",
              "      <td>8</td>\n",
              "      <td>307.0</td>\n",
              "      <td>130.0</td>\n",
              "      <td>3504</td>\n",
              "      <td>12.0</td>\n",
              "      <td>70</td>\n",
              "      <td>1</td>\n",
              "      <td>chevrolet chevelle malibu</td>\n",
              "    </tr>\n",
              "    <tr>\n",
              "      <th>1</th>\n",
              "      <td>15.0</td>\n",
              "      <td>8</td>\n",
              "      <td>350.0</td>\n",
              "      <td>165.0</td>\n",
              "      <td>3693</td>\n",
              "      <td>11.5</td>\n",
              "      <td>70</td>\n",
              "      <td>1</td>\n",
              "      <td>buick skylark 320</td>\n",
              "    </tr>\n",
              "    <tr>\n",
              "      <th>2</th>\n",
              "      <td>18.0</td>\n",
              "      <td>8</td>\n",
              "      <td>318.0</td>\n",
              "      <td>150.0</td>\n",
              "      <td>3436</td>\n",
              "      <td>11.0</td>\n",
              "      <td>70</td>\n",
              "      <td>1</td>\n",
              "      <td>plymouth satellite</td>\n",
              "    </tr>\n",
              "    <tr>\n",
              "      <th>3</th>\n",
              "      <td>16.0</td>\n",
              "      <td>8</td>\n",
              "      <td>304.0</td>\n",
              "      <td>150.0</td>\n",
              "      <td>3433</td>\n",
              "      <td>12.0</td>\n",
              "      <td>70</td>\n",
              "      <td>1</td>\n",
              "      <td>amc rebel sst</td>\n",
              "    </tr>\n",
              "    <tr>\n",
              "      <th>4</th>\n",
              "      <td>17.0</td>\n",
              "      <td>8</td>\n",
              "      <td>302.0</td>\n",
              "      <td>140.0</td>\n",
              "      <td>3449</td>\n",
              "      <td>10.5</td>\n",
              "      <td>70</td>\n",
              "      <td>1</td>\n",
              "      <td>ford torino</td>\n",
              "    </tr>\n",
              "  </tbody>\n",
              "</table>\n",
              "</div>"
            ],
            "text/plain": [
              "    mpg  cylinders  displacement  ...  year  origin                       name\n",
              "0  18.0          8         307.0  ...    70       1  chevrolet chevelle malibu\n",
              "1  15.0          8         350.0  ...    70       1          buick skylark 320\n",
              "2  18.0          8         318.0  ...    70       1         plymouth satellite\n",
              "3  16.0          8         304.0  ...    70       1              amc rebel sst\n",
              "4  17.0          8         302.0  ...    70       1                ford torino\n",
              "\n",
              "[5 rows x 9 columns]"
            ]
          },
          "metadata": {
            "tags": []
          },
          "execution_count": 35
        }
      ]
    },
    {
      "cell_type": "code",
      "metadata": {
        "id": "tPfrwlMnrgTR",
        "colab_type": "code",
        "colab": {}
      },
      "source": [
        "#limpieza y transformación de datos\n",
        "def missing_median(df, name):\n",
        "    med = df[name].median()\n",
        "    df[name] = df[name].fillna(med)\n",
        "\n",
        "cars = df['name']\n",
        "df.drop('name',1,inplace=True)\n",
        "missing_median(df, 'horsepower')\n",
        "x,y = to_xy(df,\"mpg\")"
      ],
      "execution_count": 0,
      "outputs": []
    },
    {
      "cell_type": "code",
      "metadata": {
        "id": "XNb_yZQeri0I",
        "colab_type": "code",
        "colab": {
          "base_uri": "https://localhost:8080/",
          "height": 204
        },
        "outputId": "b22e173f-748a-4008-84ea-29c75a3e20c4"
      },
      "source": [
        "df.head()"
      ],
      "execution_count": 39,
      "outputs": [
        {
          "output_type": "execute_result",
          "data": {
            "text/html": [
              "<div>\n",
              "<style scoped>\n",
              "    .dataframe tbody tr th:only-of-type {\n",
              "        vertical-align: middle;\n",
              "    }\n",
              "\n",
              "    .dataframe tbody tr th {\n",
              "        vertical-align: top;\n",
              "    }\n",
              "\n",
              "    .dataframe thead th {\n",
              "        text-align: right;\n",
              "    }\n",
              "</style>\n",
              "<table border=\"1\" class=\"dataframe\">\n",
              "  <thead>\n",
              "    <tr style=\"text-align: right;\">\n",
              "      <th></th>\n",
              "      <th>mpg</th>\n",
              "      <th>cylinders</th>\n",
              "      <th>displacement</th>\n",
              "      <th>horsepower</th>\n",
              "      <th>weight</th>\n",
              "      <th>acceleration</th>\n",
              "      <th>year</th>\n",
              "      <th>origin</th>\n",
              "    </tr>\n",
              "  </thead>\n",
              "  <tbody>\n",
              "    <tr>\n",
              "      <th>0</th>\n",
              "      <td>18.0</td>\n",
              "      <td>8</td>\n",
              "      <td>307.0</td>\n",
              "      <td>130.0</td>\n",
              "      <td>3504</td>\n",
              "      <td>12.0</td>\n",
              "      <td>70</td>\n",
              "      <td>1</td>\n",
              "    </tr>\n",
              "    <tr>\n",
              "      <th>1</th>\n",
              "      <td>15.0</td>\n",
              "      <td>8</td>\n",
              "      <td>350.0</td>\n",
              "      <td>165.0</td>\n",
              "      <td>3693</td>\n",
              "      <td>11.5</td>\n",
              "      <td>70</td>\n",
              "      <td>1</td>\n",
              "    </tr>\n",
              "    <tr>\n",
              "      <th>2</th>\n",
              "      <td>18.0</td>\n",
              "      <td>8</td>\n",
              "      <td>318.0</td>\n",
              "      <td>150.0</td>\n",
              "      <td>3436</td>\n",
              "      <td>11.0</td>\n",
              "      <td>70</td>\n",
              "      <td>1</td>\n",
              "    </tr>\n",
              "    <tr>\n",
              "      <th>3</th>\n",
              "      <td>16.0</td>\n",
              "      <td>8</td>\n",
              "      <td>304.0</td>\n",
              "      <td>150.0</td>\n",
              "      <td>3433</td>\n",
              "      <td>12.0</td>\n",
              "      <td>70</td>\n",
              "      <td>1</td>\n",
              "    </tr>\n",
              "    <tr>\n",
              "      <th>4</th>\n",
              "      <td>17.0</td>\n",
              "      <td>8</td>\n",
              "      <td>302.0</td>\n",
              "      <td>140.0</td>\n",
              "      <td>3449</td>\n",
              "      <td>10.5</td>\n",
              "      <td>70</td>\n",
              "      <td>1</td>\n",
              "    </tr>\n",
              "  </tbody>\n",
              "</table>\n",
              "</div>"
            ],
            "text/plain": [
              "    mpg  cylinders  displacement  ...  acceleration  year  origin\n",
              "0  18.0          8         307.0  ...          12.0    70       1\n",
              "1  15.0          8         350.0  ...          11.5    70       1\n",
              "2  18.0          8         318.0  ...          11.0    70       1\n",
              "3  16.0          8         304.0  ...          12.0    70       1\n",
              "4  17.0          8         302.0  ...          10.5    70       1\n",
              "\n",
              "[5 rows x 8 columns]"
            ]
          },
          "metadata": {
            "tags": []
          },
          "execution_count": 39
        }
      ]
    },
    {
      "cell_type": "code",
      "metadata": {
        "id": "SM1AXSCvs1XM",
        "colab_type": "code",
        "colab": {}
      },
      "source": [
        "x_train, x_test, y_train, y_test = train_test_split(x, y, test_size = 0.25, random_state = 45)"
      ],
      "execution_count": 0,
      "outputs": []
    },
    {
      "cell_type": "code",
      "metadata": {
        "id": "RMEwyRx7s-H3",
        "colab_type": "code",
        "colab": {
          "base_uri": "https://localhost:8080/",
          "height": 1000
        },
        "outputId": "19493edc-18f7-4270-ae12-dbc530aee1c2"
      },
      "source": [
        "model = Sequential()\n",
        "model.add(Dense(10, input_dim = x.shape[1], kernel_initializer = 'normal', activation = 'relu'))\n",
        "model.add(Dense(1, kernel_initializer = 'normal'))\n",
        "model.compile(loss = 'mean_squared_error', optimizer = 'adam')\n",
        "monitor = EarlyStopping(monitor = 'val_loss', min_delta = 1e-3, patience = 5, verbose = 1, mode = 'auto')\n",
        "model.fit(x, y, validation_data = (x_test, y_test), callbacks = [monitor], verbose = 2, epochs = 1000)"
      ],
      "execution_count": 41,
      "outputs": [
        {
          "output_type": "stream",
          "text": [
            "Train on 398 samples, validate on 100 samples\n",
            "Epoch 1/1000\n",
            " - 0s - loss: 1799.3714 - val_loss: 1094.8183\n",
            "Epoch 2/1000\n",
            " - 0s - loss: 787.6379 - val_loss: 433.1736\n",
            "Epoch 3/1000\n",
            " - 0s - loss: 322.6210 - val_loss: 173.5058\n",
            "Epoch 4/1000\n",
            " - 0s - loss: 179.5694 - val_loss: 140.7854\n",
            "Epoch 5/1000\n",
            " - 0s - loss: 175.4384 - val_loss: 143.1719\n",
            "Epoch 6/1000\n",
            " - 0s - loss: 172.2347 - val_loss: 136.5682\n",
            "Epoch 7/1000\n",
            " - 0s - loss: 166.9424 - val_loss: 134.5724\n",
            "Epoch 8/1000\n",
            " - 0s - loss: 165.1437 - val_loss: 132.7390\n",
            "Epoch 9/1000\n",
            " - 0s - loss: 162.9480 - val_loss: 130.9253\n",
            "Epoch 10/1000\n",
            " - 0s - loss: 160.8159 - val_loss: 129.0940\n",
            "Epoch 11/1000\n",
            " - 0s - loss: 158.6493 - val_loss: 127.2600\n",
            "Epoch 12/1000\n",
            " - 0s - loss: 156.1989 - val_loss: 125.1787\n",
            "Epoch 13/1000\n",
            " - 0s - loss: 153.7075 - val_loss: 123.0760\n",
            "Epoch 14/1000\n",
            " - 0s - loss: 151.6194 - val_loss: 120.9043\n",
            "Epoch 15/1000\n",
            " - 0s - loss: 148.5957 - val_loss: 118.7078\n",
            "Epoch 16/1000\n",
            " - 0s - loss: 146.0667 - val_loss: 116.4389\n",
            "Epoch 17/1000\n",
            " - 0s - loss: 143.3401 - val_loss: 113.8295\n",
            "Epoch 18/1000\n",
            " - 0s - loss: 140.6669 - val_loss: 111.3068\n",
            "Epoch 19/1000\n",
            " - 0s - loss: 137.8126 - val_loss: 108.8299\n",
            "Epoch 20/1000\n",
            " - 0s - loss: 133.5745 - val_loss: 105.9871\n",
            "Epoch 21/1000\n",
            " - 0s - loss: 131.3473 - val_loss: 103.2351\n",
            "Epoch 22/1000\n",
            " - 0s - loss: 126.8173 - val_loss: 99.9828\n",
            "Epoch 23/1000\n",
            " - 0s - loss: 123.3625 - val_loss: 96.7204\n",
            "Epoch 24/1000\n",
            " - 0s - loss: 120.0492 - val_loss: 93.6296\n",
            "Epoch 25/1000\n",
            " - 0s - loss: 115.4930 - val_loss: 90.1350\n",
            "Epoch 26/1000\n",
            " - 0s - loss: 111.4542 - val_loss: 86.8135\n",
            "Epoch 27/1000\n",
            " - 0s - loss: 107.2920 - val_loss: 83.2546\n",
            "Epoch 28/1000\n",
            " - 0s - loss: 103.0864 - val_loss: 79.6797\n",
            "Epoch 29/1000\n",
            " - 0s - loss: 98.6436 - val_loss: 76.0533\n",
            "Epoch 30/1000\n",
            " - 0s - loss: 94.3775 - val_loss: 72.2964\n",
            "Epoch 31/1000\n",
            " - 0s - loss: 90.3289 - val_loss: 68.5262\n",
            "Epoch 32/1000\n",
            " - 0s - loss: 85.1199 - val_loss: 64.8861\n",
            "Epoch 33/1000\n",
            " - 0s - loss: 80.6397 - val_loss: 61.0196\n",
            "Epoch 34/1000\n",
            " - 0s - loss: 76.4670 - val_loss: 57.5613\n",
            "Epoch 35/1000\n",
            " - 0s - loss: 71.7586 - val_loss: 53.9436\n",
            "Epoch 36/1000\n",
            " - 0s - loss: 68.0607 - val_loss: 50.5162\n",
            "Epoch 37/1000\n",
            " - 0s - loss: 63.3521 - val_loss: 47.1793\n",
            "Epoch 38/1000\n",
            " - 0s - loss: 59.1809 - val_loss: 44.1738\n",
            "Epoch 39/1000\n",
            " - 0s - loss: 55.7462 - val_loss: 41.2229\n",
            "Epoch 40/1000\n",
            " - 0s - loss: 51.6798 - val_loss: 38.6490\n",
            "Epoch 41/1000\n",
            " - 0s - loss: 48.4670 - val_loss: 36.0207\n",
            "Epoch 42/1000\n",
            " - 0s - loss: 45.2630 - val_loss: 33.7638\n",
            "Epoch 43/1000\n",
            " - 0s - loss: 42.6053 - val_loss: 31.7157\n",
            "Epoch 44/1000\n",
            " - 0s - loss: 39.8089 - val_loss: 30.0902\n",
            "Epoch 45/1000\n",
            " - 0s - loss: 37.6715 - val_loss: 28.4086\n",
            "Epoch 46/1000\n",
            " - 0s - loss: 35.4428 - val_loss: 27.0970\n",
            "Epoch 47/1000\n",
            " - 0s - loss: 34.0824 - val_loss: 25.7154\n",
            "Epoch 48/1000\n",
            " - 0s - loss: 32.1381 - val_loss: 24.6918\n",
            "Epoch 49/1000\n",
            " - 0s - loss: 30.6015 - val_loss: 23.6923\n",
            "Epoch 50/1000\n",
            " - 0s - loss: 29.5589 - val_loss: 22.9199\n",
            "Epoch 51/1000\n",
            " - 0s - loss: 28.3077 - val_loss: 22.5055\n",
            "Epoch 52/1000\n",
            " - 0s - loss: 27.4566 - val_loss: 21.6221\n",
            "Epoch 53/1000\n",
            " - 0s - loss: 26.3971 - val_loss: 21.0768\n",
            "Epoch 54/1000\n",
            " - 0s - loss: 26.5951 - val_loss: 21.3069\n",
            "Epoch 55/1000\n",
            " - 0s - loss: 25.0685 - val_loss: 20.2127\n",
            "Epoch 56/1000\n",
            " - 0s - loss: 24.2711 - val_loss: 19.8318\n",
            "Epoch 57/1000\n",
            " - 0s - loss: 23.7873 - val_loss: 19.3490\n",
            "Epoch 58/1000\n",
            " - 0s - loss: 23.2759 - val_loss: 19.1940\n",
            "Epoch 59/1000\n",
            " - 0s - loss: 22.7309 - val_loss: 18.5086\n",
            "Epoch 60/1000\n",
            " - 0s - loss: 22.1668 - val_loss: 18.2719\n",
            "Epoch 61/1000\n",
            " - 0s - loss: 21.6750 - val_loss: 17.8176\n",
            "Epoch 62/1000\n",
            " - 0s - loss: 21.4736 - val_loss: 17.9452\n",
            "Epoch 63/1000\n",
            " - 0s - loss: 20.9224 - val_loss: 17.1957\n",
            "Epoch 64/1000\n",
            " - 0s - loss: 20.4695 - val_loss: 16.9735\n",
            "Epoch 65/1000\n",
            " - 0s - loss: 19.8276 - val_loss: 16.6898\n",
            "Epoch 66/1000\n",
            " - 0s - loss: 19.4749 - val_loss: 16.3737\n",
            "Epoch 67/1000\n",
            " - 0s - loss: 19.4077 - val_loss: 15.9210\n",
            "Epoch 68/1000\n",
            " - 0s - loss: 18.8120 - val_loss: 16.0043\n",
            "Epoch 69/1000\n",
            " - 0s - loss: 18.5250 - val_loss: 15.5700\n",
            "Epoch 70/1000\n",
            " - 0s - loss: 18.3268 - val_loss: 15.9809\n",
            "Epoch 71/1000\n",
            " - 0s - loss: 18.0453 - val_loss: 14.4914\n",
            "Epoch 72/1000\n",
            " - 0s - loss: 17.4518 - val_loss: 14.2632\n",
            "Epoch 73/1000\n",
            " - 0s - loss: 16.7445 - val_loss: 13.8049\n",
            "Epoch 74/1000\n",
            " - 0s - loss: 16.5099 - val_loss: 14.1185\n",
            "Epoch 75/1000\n",
            " - 0s - loss: 16.1896 - val_loss: 13.3041\n",
            "Epoch 76/1000\n",
            " - 0s - loss: 15.5867 - val_loss: 12.8426\n",
            "Epoch 77/1000\n",
            " - 0s - loss: 15.4312 - val_loss: 13.5106\n",
            "Epoch 78/1000\n",
            " - 0s - loss: 15.1532 - val_loss: 12.5662\n",
            "Epoch 79/1000\n",
            " - 0s - loss: 14.6573 - val_loss: 12.2635\n",
            "Epoch 80/1000\n",
            " - 0s - loss: 15.4101 - val_loss: 11.7327\n",
            "Epoch 81/1000\n",
            " - 0s - loss: 14.0256 - val_loss: 11.4148\n",
            "Epoch 82/1000\n",
            " - 0s - loss: 13.5391 - val_loss: 11.0815\n",
            "Epoch 83/1000\n",
            " - 0s - loss: 13.6005 - val_loss: 11.1024\n",
            "Epoch 84/1000\n",
            " - 0s - loss: 12.9705 - val_loss: 10.5777\n",
            "Epoch 85/1000\n",
            " - 0s - loss: 12.6094 - val_loss: 10.3799\n",
            "Epoch 86/1000\n",
            " - 0s - loss: 12.5090 - val_loss: 10.1841\n",
            "Epoch 87/1000\n",
            " - 0s - loss: 12.0124 - val_loss: 9.8835\n",
            "Epoch 88/1000\n",
            " - 0s - loss: 11.6943 - val_loss: 9.4991\n",
            "Epoch 89/1000\n",
            " - 0s - loss: 11.4079 - val_loss: 9.3517\n",
            "Epoch 90/1000\n",
            " - 0s - loss: 11.1614 - val_loss: 8.9781\n",
            "Epoch 91/1000\n",
            " - 0s - loss: 10.9012 - val_loss: 8.7286\n",
            "Epoch 92/1000\n",
            " - 0s - loss: 10.6712 - val_loss: 8.4993\n",
            "Epoch 93/1000\n",
            " - 0s - loss: 10.4496 - val_loss: 8.2902\n",
            "Epoch 94/1000\n",
            " - 0s - loss: 10.0809 - val_loss: 8.3113\n",
            "Epoch 95/1000\n",
            " - 0s - loss: 9.9247 - val_loss: 8.0182\n",
            "Epoch 96/1000\n",
            " - 0s - loss: 9.7441 - val_loss: 7.7011\n",
            "Epoch 97/1000\n",
            " - 0s - loss: 9.3609 - val_loss: 7.7742\n",
            "Epoch 98/1000\n",
            " - 0s - loss: 9.2990 - val_loss: 7.2647\n",
            "Epoch 99/1000\n",
            " - 0s - loss: 8.9324 - val_loss: 7.2338\n",
            "Epoch 100/1000\n",
            " - 0s - loss: 8.8769 - val_loss: 7.2957\n",
            "Epoch 101/1000\n",
            " - 0s - loss: 9.0655 - val_loss: 7.7520\n",
            "Epoch 102/1000\n",
            " - 0s - loss: 8.3830 - val_loss: 6.9537\n",
            "Epoch 103/1000\n",
            " - 0s - loss: 8.0002 - val_loss: 6.7180\n",
            "Epoch 104/1000\n",
            " - 0s - loss: 8.1727 - val_loss: 6.8566\n",
            "Epoch 105/1000\n",
            " - 0s - loss: 7.9533 - val_loss: 6.1972\n",
            "Epoch 106/1000\n",
            " - 0s - loss: 7.5415 - val_loss: 5.8474\n",
            "Epoch 107/1000\n",
            " - 0s - loss: 7.3075 - val_loss: 5.7992\n",
            "Epoch 108/1000\n",
            " - 0s - loss: 7.3305 - val_loss: 5.6013\n",
            "Epoch 109/1000\n",
            " - 0s - loss: 7.1838 - val_loss: 5.4194\n",
            "Epoch 110/1000\n",
            " - 0s - loss: 6.9283 - val_loss: 5.5326\n",
            "Epoch 111/1000\n",
            " - 0s - loss: 6.5672 - val_loss: 5.1619\n",
            "Epoch 112/1000\n",
            " - 0s - loss: 6.4142 - val_loss: 5.0602\n",
            "Epoch 113/1000\n",
            " - 0s - loss: 6.3135 - val_loss: 5.0435\n",
            "Epoch 114/1000\n",
            " - 0s - loss: 6.3265 - val_loss: 5.4606\n",
            "Epoch 115/1000\n",
            " - 0s - loss: 6.0402 - val_loss: 4.7053\n",
            "Epoch 116/1000\n",
            " - 0s - loss: 5.8793 - val_loss: 4.5823\n",
            "Epoch 117/1000\n",
            " - 0s - loss: 5.7727 - val_loss: 4.5336\n",
            "Epoch 118/1000\n",
            " - 0s - loss: 5.7794 - val_loss: 4.9033\n",
            "Epoch 119/1000\n",
            " - 0s - loss: 5.9445 - val_loss: 4.3111\n",
            "Epoch 120/1000\n",
            " - 0s - loss: 5.3856 - val_loss: 4.2282\n",
            "Epoch 121/1000\n",
            " - 0s - loss: 5.2866 - val_loss: 4.1229\n",
            "Epoch 122/1000\n",
            " - 0s - loss: 5.5240 - val_loss: 4.3111\n",
            "Epoch 123/1000\n",
            " - 0s - loss: 5.2312 - val_loss: 4.1978\n",
            "Epoch 124/1000\n",
            " - 0s - loss: 5.1639 - val_loss: 3.9364\n",
            "Epoch 125/1000\n",
            " - 0s - loss: 4.8909 - val_loss: 3.8133\n",
            "Epoch 126/1000\n",
            " - 0s - loss: 4.9323 - val_loss: 3.7530\n",
            "Epoch 127/1000\n",
            " - 0s - loss: 4.7309 - val_loss: 3.8857\n",
            "Epoch 128/1000\n",
            " - 0s - loss: 4.7563 - val_loss: 3.7851\n",
            "Epoch 129/1000\n",
            " - 0s - loss: 4.6896 - val_loss: 3.9776\n",
            "Epoch 130/1000\n",
            " - 0s - loss: 4.7191 - val_loss: 3.7336\n",
            "Epoch 131/1000\n",
            " - 0s - loss: 4.6644 - val_loss: 3.5123\n",
            "Epoch 132/1000\n",
            " - 0s - loss: 4.5702 - val_loss: 3.4019\n",
            "Epoch 133/1000\n",
            " - 0s - loss: 4.5653 - val_loss: 3.3682\n",
            "Epoch 134/1000\n",
            " - 0s - loss: 4.2657 - val_loss: 3.2938\n",
            "Epoch 135/1000\n",
            " - 0s - loss: 4.1583 - val_loss: 3.2527\n",
            "Epoch 136/1000\n",
            " - 0s - loss: 4.1682 - val_loss: 3.2208\n",
            "Epoch 137/1000\n",
            " - 0s - loss: 4.1556 - val_loss: 3.1973\n",
            "Epoch 138/1000\n",
            " - 0s - loss: 4.0070 - val_loss: 3.2074\n",
            "Epoch 139/1000\n",
            " - 0s - loss: 4.0517 - val_loss: 3.4864\n",
            "Epoch 140/1000\n",
            " - 0s - loss: 4.1955 - val_loss: 3.1283\n",
            "Epoch 141/1000\n",
            " - 0s - loss: 4.1821 - val_loss: 3.0296\n",
            "Epoch 142/1000\n",
            " - 0s - loss: 3.9060 - val_loss: 3.0084\n",
            "Epoch 143/1000\n",
            " - 0s - loss: 3.7849 - val_loss: 3.1803\n",
            "Epoch 144/1000\n",
            " - 0s - loss: 3.7381 - val_loss: 3.2577\n",
            "Epoch 145/1000\n",
            " - 0s - loss: 3.7440 - val_loss: 3.0657\n",
            "Epoch 146/1000\n",
            " - 0s - loss: 3.6921 - val_loss: 3.1311\n",
            "Epoch 147/1000\n",
            " - 0s - loss: 3.6735 - val_loss: 2.8554\n",
            "Epoch 148/1000\n",
            " - 0s - loss: 3.6051 - val_loss: 3.2587\n",
            "Epoch 149/1000\n",
            " - 0s - loss: 4.1095 - val_loss: 2.9254\n",
            "Epoch 150/1000\n",
            " - 0s - loss: 3.5541 - val_loss: 2.8289\n",
            "Epoch 151/1000\n",
            " - 0s - loss: 3.5039 - val_loss: 2.8443\n",
            "Epoch 152/1000\n",
            " - 0s - loss: 3.4237 - val_loss: 2.7388\n",
            "Epoch 153/1000\n",
            " - 0s - loss: 3.4014 - val_loss: 2.8661\n",
            "Epoch 154/1000\n",
            " - 0s - loss: 3.4292 - val_loss: 2.8101\n",
            "Epoch 155/1000\n",
            " - 0s - loss: 3.4366 - val_loss: 2.6731\n",
            "Epoch 156/1000\n",
            " - 0s - loss: 3.6097 - val_loss: 3.1757\n",
            "Epoch 157/1000\n",
            " - 0s - loss: 3.9262 - val_loss: 3.9707\n",
            "Epoch 158/1000\n",
            " - 0s - loss: 3.6306 - val_loss: 2.9521\n",
            "Epoch 159/1000\n",
            " - 0s - loss: 3.2164 - val_loss: 2.6122\n",
            "Epoch 160/1000\n",
            " - 0s - loss: 3.2167 - val_loss: 2.5840\n",
            "Epoch 161/1000\n",
            " - 0s - loss: 3.5136 - val_loss: 3.4631\n",
            "Epoch 162/1000\n",
            " - 0s - loss: 3.6687 - val_loss: 4.4988\n",
            "Epoch 163/1000\n",
            " - 0s - loss: 3.6582 - val_loss: 3.7087\n",
            "Epoch 164/1000\n",
            " - 0s - loss: 3.4894 - val_loss: 2.5319\n",
            "Epoch 165/1000\n",
            " - 0s - loss: 3.2990 - val_loss: 2.7427\n",
            "Epoch 166/1000\n",
            " - 0s - loss: 3.0813 - val_loss: 2.6182\n",
            "Epoch 167/1000\n",
            " - 0s - loss: 3.0677 - val_loss: 2.5380\n",
            "Epoch 168/1000\n",
            " - 0s - loss: 3.0308 - val_loss: 2.5668\n",
            "Epoch 169/1000\n",
            " - 0s - loss: 3.1624 - val_loss: 2.4543\n",
            "Epoch 170/1000\n",
            " - 0s - loss: 3.0487 - val_loss: 2.4439\n",
            "Epoch 171/1000\n",
            " - 0s - loss: 3.1184 - val_loss: 2.7205\n",
            "Epoch 172/1000\n",
            " - 0s - loss: 3.0983 - val_loss: 2.4641\n",
            "Epoch 173/1000\n",
            " - 0s - loss: 3.1191 - val_loss: 2.7176\n",
            "Epoch 174/1000\n",
            " - 0s - loss: 3.0967 - val_loss: 2.4885\n",
            "Epoch 175/1000\n",
            " - 0s - loss: 3.0033 - val_loss: 2.3767\n",
            "Epoch 176/1000\n",
            " - 0s - loss: 2.9707 - val_loss: 2.6500\n",
            "Epoch 177/1000\n",
            " - 0s - loss: 2.9486 - val_loss: 2.5037\n",
            "Epoch 178/1000\n",
            " - 0s - loss: 3.0731 - val_loss: 2.4157\n",
            "Epoch 179/1000\n",
            " - 0s - loss: 2.8518 - val_loss: 2.4005\n",
            "Epoch 180/1000\n",
            " - 0s - loss: 2.8415 - val_loss: 2.6287\n",
            "Epoch 00180: early stopping\n"
          ],
          "name": "stdout"
        },
        {
          "output_type": "execute_result",
          "data": {
            "text/plain": [
              "<keras.callbacks.callbacks.History at 0x7efc18244400>"
            ]
          },
          "metadata": {
            "tags": []
          },
          "execution_count": 41
        }
      ]
    },
    {
      "cell_type": "markdown",
      "metadata": {
        "id": "pU4XUyCetHxt",
        "colab_type": "text"
      },
      "source": [
        "##Mean Square Error y Root Mean Square Error\n",
        "$ \\text{MSE} = \\frac{1}{n} \\sum_{i=1}^n \\left(\\hat{y}_i - y_i\\right)^2 $\n",
        "\n",
        "\n",
        "$ \\text{RMSE} = \\sqrt{\\frac{1}{n} \\sum_{i=1}^n \\left(\\hat{y}_i - y_i\\right)^2} $"
      ]
    },
    {
      "cell_type": "code",
      "metadata": {
        "id": "VoKU7l5ytDcn",
        "colab_type": "code",
        "colab": {
          "base_uri": "https://localhost:8080/",
          "height": 34
        },
        "outputId": "98de5e7c-7feb-4555-a131-ed1aba357dc0"
      },
      "source": [
        "# Predicciones\n",
        "pred = model.predict(x_test)\n",
        "\n",
        "# Midiendo el MSE\n",
        "score = metrics.mean_squared_error(pred,y_test)\n",
        "print(\"Final score (MSE): {}\".format(score))"
      ],
      "execution_count": 42,
      "outputs": [
        {
          "output_type": "stream",
          "text": [
            "Final score (MSE): 2.62872314453125\n"
          ],
          "name": "stdout"
        }
      ]
    },
    {
      "cell_type": "code",
      "metadata": {
        "id": "w5A0emkMtUtj",
        "colab_type": "code",
        "colab": {
          "base_uri": "https://localhost:8080/",
          "height": 34
        },
        "outputId": "b2ac59aa-f0e7-409c-feaf-12bb36a5c88b"
      },
      "source": [
        "#midiendo el RMSE\n",
        "score = np.sqrt(metrics.mean_squared_error(pred,y_test))\n",
        "print(\"Final score (RMSE): {}\".format(score))"
      ],
      "execution_count": 43,
      "outputs": [
        {
          "output_type": "stream",
          "text": [
            "Final score (RMSE): 1.6213337182998657\n"
          ],
          "name": "stdout"
        }
      ]
    },
    {
      "cell_type": "markdown",
      "metadata": {
        "id": "h4pk6eeNttJh",
        "colab_type": "text"
      },
      "source": [
        "#Entrenamiento con cross validation\n",
        "La validación cruzada usa varios modelos para generar predicciones de registros en todo el conjunto de datos"
      ]
    },
    {
      "cell_type": "code",
      "metadata": {
        "id": "WrUUtMyxueO0",
        "colab_type": "code",
        "colab": {
          "base_uri": "https://localhost:8080/",
          "height": 701
        },
        "outputId": "1ad151e4-315b-49fc-e712-7a59b7bfef2a"
      },
      "source": [
        "from IPython.display import Image\n",
        "Image(filename='CV.PNG')"
      ],
      "execution_count": 46,
      "outputs": [
        {
          "output_type": "execute_result",
          "data": {
            "image/png": "[encoded data removed]",
            "text/plain": [
              "<IPython.core.display.Image object>"
            ]
          },
          "metadata": {
            "tags": []
          },
          "execution_count": 46
        }
      ]
    },
    {
      "cell_type": "code",
      "metadata": {
        "id": "dwiYoBbCuybL",
        "colab_type": "code",
        "colab": {}
      },
      "source": [
        "df = pd.read_csv('auto-mpg.csv', na_values=['NA','?'])\n",
        "write_df = 'auto-mpg-salida.csv'"
      ],
      "execution_count": 0,
      "outputs": []
    },
    {
      "cell_type": "code",
      "metadata": {
        "id": "3oAbw1_CvZeZ",
        "colab_type": "code",
        "colab": {}
      },
      "source": [
        "#mezclando los datos\n",
        "np.random.seed(42)\n",
        "df = df.reindex(np.random.permutation(df.index))\n",
        "df.reset_index(inplace=True,drop=True)"
      ],
      "execution_count": 0,
      "outputs": []
    },
    {
      "cell_type": "code",
      "metadata": {
        "id": "C0ceq1R1v5dm",
        "colab_type": "code",
        "colab": {}
      },
      "source": [
        "#preproceso\n",
        "cars = df['name']\n",
        "df.drop('name',1,inplace=True)\n",
        "missing_median(df, 'horsepower')\n",
        "\n",
        "# Encode para una matriz 2D \n",
        "x,y = to_xy(df,'mpg')"
      ],
      "execution_count": 0,
      "outputs": []
    },
    {
      "cell_type": "code",
      "metadata": {
        "id": "ZE4Dj9kiwEz8",
        "colab_type": "code",
        "colab": {
          "base_uri": "https://localhost:8080/",
          "height": 272
        },
        "outputId": "9f74c7dd-eb4c-4a2a-bcce-5244d2092a79"
      },
      "source": [
        "#Crosvalidation\n",
        "from scipy.stats import zscore\n",
        "from sklearn.model_selection import KFold\n",
        "\n",
        "kf = KFold(5)    \n",
        "oos_y = []\n",
        "oos_pred = []\n",
        "fold = 0\n",
        "\n",
        "# Entrenamiento\n",
        "for train, test in kf.split(x):\n",
        "    fold += 1\n",
        "    print(\"Fold #{}\".format(fold))\n",
        "        \n",
        "    x_train = x[train]\n",
        "    y_train = y[train]\n",
        "    x_test = x[test]\n",
        "    y_test = y[test]\n",
        "    \n",
        "    model = Sequential()\n",
        "    model.add(Dense(20, input_dim = x.shape[1], activation = 'relu'))\n",
        "    model.add(Dense(1, kernel_initializer = 'normal'))\n",
        "    model.compile(loss = 'mean_squared_error', optimizer = 'adam')\n",
        "    \n",
        "    monitor = EarlyStopping(monitor = 'val_loss', min_delta = 1e-3, patience = 5, verbose = 1, mode = 'auto')\n",
        "    model.fit(x_train, y_train,validation_data = (x_test,y_test), callbacks = [monitor], verbose = 0, epochs = 1000)\n",
        "    \n",
        "    pred = model.predict(x_test)\n",
        "    \n",
        "    oos_y.append(y_test)\n",
        "    oos_pred.append(pred)        \n",
        "\n",
        "    # Midiendo el RMSE por Fold\n",
        "    score = np.sqrt(metrics.mean_squared_error(pred,y_test))\n",
        "    print(\"Fold score (RMSE): {}\".format(score))"
      ],
      "execution_count": 50,
      "outputs": [
        {
          "output_type": "stream",
          "text": [
            "Fold #1\n",
            "Epoch 00147: early stopping\n",
            "Fold score (RMSE): 2.93414568901062\n",
            "Fold #2\n",
            "Epoch 00249: early stopping\n",
            "Fold score (RMSE): 2.5303118228912354\n",
            "Fold #3\n",
            "Epoch 00228: early stopping\n",
            "Fold score (RMSE): 2.59059476852417\n",
            "Fold #4\n",
            "Epoch 00049: early stopping\n",
            "Fold score (RMSE): 6.421060085296631\n",
            "Fold #5\n",
            "Epoch 00209: early stopping\n",
            "Fold score (RMSE): 1.724068284034729\n"
          ],
          "name": "stdout"
        }
      ]
    },
    {
      "cell_type": "code",
      "metadata": {
        "id": "RUifwGnzxSvc",
        "colab_type": "code",
        "colab": {
          "base_uri": "https://localhost:8080/",
          "height": 34
        },
        "outputId": "35840281-49e7-4467-a75f-874e89e3134c"
      },
      "source": [
        "# Crea l lista de predicciones y calcula el error.\n",
        "oos_y = np.concatenate(oos_y)\n",
        "oos_pred = np.concatenate(oos_pred)\n",
        "score = np.sqrt(metrics.mean_squared_error(oos_pred,oos_y))\n",
        "print(\"Final Score (RMSE): {}\".format(score))    \n",
        "    \n",
        "# Graba las predicciones\n",
        "oos_y = pd.DataFrame(oos_y)\n",
        "oos_pred = pd.DataFrame(oos_pred)\n",
        "oosDF = pd.concat( [df, oos_y, oos_pred],axis=1 )\n",
        "oosDF.to_csv(write_df, index=False)"
      ],
      "execution_count": 51,
      "outputs": [
        {
          "output_type": "stream",
          "text": [
            "Final Score (RMSE): 3.624948740005493\n"
          ],
          "name": "stdout"
        }
      ]
    },
    {
      "cell_type": "code",
      "metadata": {
        "id": "BXOKWsw7xxyi",
        "colab_type": "code",
        "colab": {}
      },
      "source": [
        ""
      ],
      "execution_count": 0,
      "outputs": []
    }
  ]
}